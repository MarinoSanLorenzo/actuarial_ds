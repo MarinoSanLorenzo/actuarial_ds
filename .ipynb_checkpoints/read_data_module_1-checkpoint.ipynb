{
 "cells": [
  {
   "cell_type": "markdown",
   "metadata": {
    "id": "OuFGpaxfPTH-"
   },
   "source": [
    "## **Getting started**\n",
    "\n",
    "### With Google Colab\n",
    "This is a notebook to explore the Google Colaboratory facilities. Colaboratory, or \"Colab\" for short, allows you to write and execute Python in your browser. Having a [Google account](https://support.google.com/accounts/answer/27441?hl=en) you should be able to open the notebook **and** to run the python code cells. \n",
    "\n",
    "To execute the code in a code cell, select it with a click and then either press the play button to the left of the code, or use the keyboard shortcut \"Command/Ctrl+Enter\". To edit the code, just click the cell and start editing. Watch [Introduction to Colab](https://www.youtube.com/watch?v=inN8seMm7UI) to learn more, or just get started below!\n",
    "\n",
    "### With Jupyter notebooks \n",
    "Alternatively, after downloading and installing the Anaconda distribution, you can open this notebook as a Jupyter notebook and run the code cell. Hereto you go to Anaconda on your machine and then launch Jupyter notebook (alternatively you go to Anaconda > Anaconda Navigator and then you launch Jupyter notebook). Open the read_data_module_1.ipynb notebook and get started."
   ]
  },
  {
   "cell_type": "markdown",
   "metadata": {
    "id": "jvmeep_oQZ1j"
   },
   "source": [
    "### Import the Ames housing data set"
   ]
  },
  {
   "cell_type": "code",
   "execution_count": null,
   "metadata": {
    "id": "JjtlVR44nMaO"
   },
   "outputs": [],
   "source": [
    "import pandas as pd\n",
    "ames_python = pd.read_csv(\"https://katrienantonio.github.io/hands-on-machine-learning-R-module-1/data/ames_python.csv\")"
   ]
  },
  {
   "cell_type": "code",
   "execution_count": null,
   "metadata": {
    "colab": {
     "base_uri": "https://localhost:8080/"
    },
    "id": "K8vL1AEzeLGN",
    "outputId": "ab438c12-81dd-4574-e225-8f0a9eaba844"
   },
   "outputs": [
    {
     "data": {
      "text/plain": [
       "<bound method NDFrame.head of       Unnamed: 0                          MS_SubClass  ...  Longitude   Latitude\n",
       "0              1  One_Story_1946_and_Newer_All_Styles  ... -93.619754  42.054035\n",
       "1              2  One_Story_1946_and_Newer_All_Styles  ... -93.619756  42.053014\n",
       "2              3  One_Story_1946_and_Newer_All_Styles  ... -93.619387  42.052659\n",
       "3              4  One_Story_1946_and_Newer_All_Styles  ... -93.617320  42.051245\n",
       "4              5             Two_Story_1946_and_Newer  ... -93.638933  42.060899\n",
       "...          ...                                  ...  ...        ...        ...\n",
       "2925        2926                  Split_or_Multilevel  ... -93.604776  41.988964\n",
       "2926        2927  One_Story_1946_and_Newer_All_Styles  ... -93.602680  41.988314\n",
       "2927        2928                          Split_Foyer  ... -93.606847  41.986510\n",
       "2928        2929  One_Story_1946_and_Newer_All_Styles  ... -93.600190  41.990921\n",
       "2929        2930             Two_Story_1946_and_Newer  ... -93.599996  41.989265\n",
       "\n",
       "[2930 rows x 82 columns]>"
      ]
     },
     "execution_count": 2,
     "metadata": {},
     "output_type": "execute_result"
    }
   ],
   "source": [
    "ames_python.head"
   ]
  },
  {
   "cell_type": "code",
   "execution_count": null,
   "metadata": {
    "colab": {
     "base_uri": "https://localhost:8080/"
    },
    "id": "DsT71ZGzjXzZ",
    "outputId": "cdc16302-4a39-41f8-d26d-5745b4807a75"
   },
   "outputs": [
    {
     "data": {
      "text/plain": [
       "(2930, 82)"
      ]
     },
     "execution_count": 18,
     "metadata": {},
     "output_type": "execute_result"
    }
   ],
   "source": [
    "ames_python.shape"
   ]
  },
  {
   "cell_type": "markdown",
   "metadata": {
    "id": "SkJqhbUKQg1b"
   },
   "source": [
    "### Import the MTPL data set"
   ]
  },
  {
   "cell_type": "code",
   "execution_count": null,
   "metadata": {
    "id": "7C-5qltAeRCx"
   },
   "outputs": [],
   "source": [
    "import pandas as pd\n",
    "mtpl_python = pd.read_csv(\"https://katrienantonio.github.io/hands-on-machine-learning-R-module-1/data/PC_data.txt\", delimiter = \"\\t\")"
   ]
  },
  {
   "cell_type": "code",
   "execution_count": null,
   "metadata": {
    "colab": {
     "base_uri": "https://localhost:8080/"
    },
    "id": "_gWFwSfCetHb",
    "outputId": "774f692c-05ae-4f76-e2ef-841c75f65240"
   },
   "outputs": [
    {
     "data": {
      "text/plain": [
       "<bound method NDFrame.head of             ID  NCLAIMS        AMOUNT  ...      TOWN      LONG        LAT\n",
       "0            1        1   1618.001036  ...   BRUSSEL  4.355223  50.845386\n",
       "1            2        0      0.000000  ...   BRUSSEL  4.355223  50.845386\n",
       "2            3        0      0.000000  ...   BRUSSEL  4.355223  50.845386\n",
       "3            4        0      0.000000  ...   BRUSSEL  4.355223  50.845386\n",
       "4            5        1    155.974606  ...   BRUSSEL  4.355223  50.845386\n",
       "...        ...      ...           ...  ...       ...       ...        ...\n",
       "163226  163227        0      0.000000  ...  MALDEGEM  3.421256  51.199975\n",
       "163227  163228        0      0.000000  ...  MALDEGEM  3.421256  51.199975\n",
       "163228  163229        0      0.000000  ...  MALDEGEM  3.421256  51.199975\n",
       "163229  163230        0      0.000000  ...  MALDEGEM  3.421256  51.199975\n",
       "163230  163231        2  13818.229594  ...  MALDEGEM  3.421256  51.199975\n",
       "\n",
       "[163231 rows x 18 columns]>"
      ]
     },
     "execution_count": 13,
     "metadata": {},
     "output_type": "execute_result"
    }
   ],
   "source": [
    "mtpl_python.head"
   ]
  },
  {
   "cell_type": "code",
   "execution_count": null,
   "metadata": {
    "colab": {
     "base_uri": "https://localhost:8080/"
    },
    "id": "Hp0hlZ_dii5Q",
    "outputId": "953b5b92-7c31-4cc3-e36a-30e127e373ab"
   },
   "outputs": [
    {
     "data": {
      "text/plain": [
       "<bound method NDFrame.head of             ID  NCLAIMS        AMOUNT  ...      TOWN      LONG        LAT\n",
       "0            1        1   1618.001036  ...   BRUSSEL  4.355223  50.845386\n",
       "1            2        0      0.000000  ...   BRUSSEL  4.355223  50.845386\n",
       "2            3        0      0.000000  ...   BRUSSEL  4.355223  50.845386\n",
       "3            4        0      0.000000  ...   BRUSSEL  4.355223  50.845386\n",
       "4            5        1    155.974606  ...   BRUSSEL  4.355223  50.845386\n",
       "...        ...      ...           ...  ...       ...       ...        ...\n",
       "163226  163227        0      0.000000  ...  MALDEGEM  3.421256  51.199975\n",
       "163227  163228        0      0.000000  ...  MALDEGEM  3.421256  51.199975\n",
       "163228  163229        0      0.000000  ...  MALDEGEM  3.421256  51.199975\n",
       "163229  163230        0      0.000000  ...  MALDEGEM  3.421256  51.199975\n",
       "163230  163231        2  13818.229594  ...  MALDEGEM  3.421256  51.199975\n",
       "\n",
       "[163231 rows x 18 columns]>"
      ]
     },
     "execution_count": 15,
     "metadata": {},
     "output_type": "execute_result"
    }
   ],
   "source": [
    "mtpl_python_alt = pd.read_csv(\"https://katrienantonio.github.io/hands-on-machine-learning-R-module-1/data/PC_data.txt\", sep = '\\t', header = 0)\n",
    "mtpl_python_alt.head"
   ]
  },
  {
   "cell_type": "code",
   "execution_count": null,
   "metadata": {
    "colab": {
     "base_uri": "https://localhost:8080/"
    },
    "id": "GZ2PDZzYi5Gh",
    "outputId": "13f01565-f2c1-4ea4-b389-f703205022a1"
   },
   "outputs": [
    {
     "data": {
      "text/plain": [
       "Index(['ID', 'NCLAIMS', 'AMOUNT', 'AVG', 'EXP', 'COVERAGE', 'FUEL', 'USE',\n",
       "       'FLEET', 'SEX', 'AGEPH', 'BM', 'AGEC', 'POWER', 'PC', 'TOWN', 'LONG',\n",
       "       'LAT'],\n",
       "      dtype='object')"
      ]
     },
     "execution_count": 16,
     "metadata": {},
     "output_type": "execute_result"
    }
   ],
   "source": [
    "mtpl_python.columns"
   ]
  },
  {
   "cell_type": "code",
   "execution_count": null,
   "metadata": {
    "colab": {
     "base_uri": "https://localhost:8080/"
    },
    "id": "aDIzUBE7jfty",
    "outputId": "7a1e8374-a85c-473e-fece-5c11a32dc317"
   },
   "outputs": [
    {
     "data": {
      "text/plain": [
       "(163231, 18)"
      ]
     },
     "execution_count": 20,
     "metadata": {},
     "output_type": "execute_result"
    }
   ],
   "source": [
    "mtpl_python.shape"
   ]
  },
  {
   "cell_type": "code",
   "execution_count": null,
   "metadata": {
    "colab": {
     "base_uri": "https://localhost:8080/"
    },
    "id": "8oKNWaVui81t",
    "outputId": "fc2ab30e-e203-4cd0-9078-ad4d8c311a3e"
   },
   "outputs": [
    {
     "data": {
      "text/plain": [
       "Index(['ID', 'NCLAIMS', 'AMOUNT', 'AVG', 'EXP', 'COVERAGE', 'FUEL', 'USE',\n",
       "       'FLEET', 'SEX', 'AGEPH', 'BM', 'AGEC', 'POWER', 'PC', 'TOWN', 'LONG',\n",
       "       'LAT'],\n",
       "      dtype='object')"
      ]
     },
     "execution_count": 17,
     "metadata": {},
     "output_type": "execute_result"
    }
   ],
   "source": [
    "mtpl_python_alt.columns"
   ]
  },
  {
   "cell_type": "code",
   "execution_count": null,
   "metadata": {
    "colab": {
     "base_uri": "https://localhost:8080/"
    },
    "id": "rA-4zXBijbX3",
    "outputId": "52c51f08-52fb-4892-ae5f-f697d223d202"
   },
   "outputs": [
    {
     "data": {
      "text/plain": [
       "(163231, 18)"
      ]
     },
     "execution_count": 19,
     "metadata": {},
     "output_type": "execute_result"
    }
   ],
   "source": [
    "mtpl_python_alt.shape"
   ]
  }
 ],
 "metadata": {
  "colab": {
   "collapsed_sections": [],
   "name": "read_data_module_1.ipynb",
   "provenance": []
  },
  "kernelspec": {
   "display_name": "Python 3 (ipykernel)",
   "language": "python",
   "name": "python3"
  },
  "language_info": {
   "codemirror_mode": {
    "name": "ipython",
    "version": 3
   },
   "file_extension": ".py",
   "mimetype": "text/x-python",
   "name": "python",
   "nbconvert_exporter": "python",
   "pygments_lexer": "ipython3",
   "version": "3.9.7"
  }
 },
 "nbformat": 4,
 "nbformat_minor": 1
}
