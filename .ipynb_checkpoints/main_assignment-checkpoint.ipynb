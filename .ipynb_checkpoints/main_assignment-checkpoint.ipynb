{
 "cells": [
  {
   "cell_type": "markdown",
   "id": "1602c57a",
   "metadata": {},
   "source": [
    "<center> <h1> <span style=\"color:black\"> IABE Data Science Certificate - Module 1 - Assignment  </h1> </center> \n",
    "<center> <h2> <span style=\"color:red\"> GLM Frequency and Severity </h1> </center>\n",
    "<center> <h3> <span style=\"color:black\"> Trainee name: Marino San Lorenzo </h1> </center>"
   ]
  },
  {
   "cell_type": "markdown",
   "id": "032ec530",
   "metadata": {},
   "source": [
    "# Agenda\n",
    "* [Chapter 1 - Data Exploration](#one)\n",
    "    + [1.1 univariate analysis of numerical data](#one-one)\n",
    "    + [1.2 univariate analysis of categorical data](#one-two)\n",
    "    + [1.3 bivariate analysis of numerical data](#one-three)\n",
    "    + [1.4 bivariate analysis of categorical data](#one-four)\n",
    "* [Chapter 2 - Feature Engineering](#two)\n",
    "    + [2.1 Processing with Binning continuous variables](#two-one)\n",
    "        + [2.1.1 Dummy Coding with reference class](#two-one-one)\n",
    "* [Chapter 3 - Modelling](#three)\n",
    "    + [3.1 GLM Frequency](#three-one)\n",
    "    + [3.2 GLM Severity](#three-two)\n",
    "    + [3.3 Elastic Net (lasso) ](#three-three)\n",
    "        + [3.3.1 Lasso Frequency](#three-three-one)\n",
    "        + [3.3.2 Lasso Severity](#three-three-two)\n",
    "\n",
    "\n"
   ]
  },
  {
   "cell_type": "code",
   "execution_count": 1,
   "id": "e6f1eedf",
   "metadata": {},
   "outputs": [],
   "source": [
    "import numpy as np\n",
    "import pandas as pd\n",
    "from src.constants import Constants, params\n",
    "\n",
    "from src.styling import *\n",
    "from src.utils import *\n",
    "from src.plots import *\n",
    "import seaborn as sns\n",
    "import matplotlib.pyplot as plt\n",
    "from IPython.core.interactiveshell import InteractiveShell\n",
    "import warnings\n",
    "from sklearn.model_selection import train_test_split\n",
    "import statsmodels.api as sm\n",
    "import statsmodels.formula.api as smf\n",
    "from tqdm import tqdm\n",
    "from sklearn.metrics import mean_poisson_deviance, mean_gamma_deviance\n",
    "from collections import defaultdict"
   ]
  },
  {
   "cell_type": "code",
   "execution_count": 2,
   "id": "1b2cc1ad",
   "metadata": {},
   "outputs": [],
   "source": [
    "warnings.filterwarnings(\"ignore\")\n",
    "pd.set_option('display.max_colwidth', 1000)\n",
    "pd.set_option('display.float_format','{:,.2f}'.format)"
   ]
  },
  {
   "cell_type": "code",
   "execution_count": 3,
   "id": "27162118",
   "metadata": {},
   "outputs": [
    {
     "data": {
      "text/html": [
       "<div>\n",
       "<style scoped>\n",
       "    .dataframe tbody tr th:only-of-type {\n",
       "        vertical-align: middle;\n",
       "    }\n",
       "\n",
       "    .dataframe tbody tr th {\n",
       "        vertical-align: top;\n",
       "    }\n",
       "\n",
       "    .dataframe thead th {\n",
       "        text-align: right;\n",
       "    }\n",
       "</style>\n",
       "<table border=\"1\" class=\"dataframe\">\n",
       "  <thead>\n",
       "    <tr style=\"text-align: right;\">\n",
       "      <th></th>\n",
       "      <th>AGEPH</th>\n",
       "      <th>CODPOSS</th>\n",
       "      <th>duree</th>\n",
       "      <th>lnexpo</th>\n",
       "      <th>nbrtotc</th>\n",
       "      <th>nbrtotan</th>\n",
       "      <th>chargtot</th>\n",
       "      <th>agecar</th>\n",
       "      <th>sexp</th>\n",
       "      <th>fuelc</th>\n",
       "      <th>split</th>\n",
       "      <th>usec</th>\n",
       "      <th>fleetc</th>\n",
       "      <th>sportc</th>\n",
       "      <th>coverp</th>\n",
       "      <th>powerc</th>\n",
       "    </tr>\n",
       "  </thead>\n",
       "  <tbody>\n",
       "    <tr>\n",
       "      <th>0</th>\n",
       "      <td>64</td>\n",
       "      <td>1000</td>\n",
       "      <td>1.00</td>\n",
       "      <td>0.00</td>\n",
       "      <td>0</td>\n",
       "      <td>0.00</td>\n",
       "      <td>0.00</td>\n",
       "      <td>2-5</td>\n",
       "      <td>Female</td>\n",
       "      <td>Petrol</td>\n",
       "      <td>Once</td>\n",
       "      <td>Private</td>\n",
       "      <td>No</td>\n",
       "      <td>No</td>\n",
       "      <td>MTPL+</td>\n",
       "      <td>66-110</td>\n",
       "    </tr>\n",
       "    <tr>\n",
       "      <th>1</th>\n",
       "      <td>28</td>\n",
       "      <td>1000</td>\n",
       "      <td>0.05</td>\n",
       "      <td>-3.07</td>\n",
       "      <td>1</td>\n",
       "      <td>21.47</td>\n",
       "      <td>155.97</td>\n",
       "      <td>6-10</td>\n",
       "      <td>Female</td>\n",
       "      <td>Petrol</td>\n",
       "      <td>Twice</td>\n",
       "      <td>Private</td>\n",
       "      <td>No</td>\n",
       "      <td>No</td>\n",
       "      <td>MTPL</td>\n",
       "      <td>66-110</td>\n",
       "    </tr>\n",
       "    <tr>\n",
       "      <th>2</th>\n",
       "      <td>58</td>\n",
       "      <td>1000</td>\n",
       "      <td>0.40</td>\n",
       "      <td>-0.91</td>\n",
       "      <td>0</td>\n",
       "      <td>0.00</td>\n",
       "      <td>0.00</td>\n",
       "      <td>&gt;10</td>\n",
       "      <td>Female</td>\n",
       "      <td>Petrol</td>\n",
       "      <td>Thrice</td>\n",
       "      <td>Private</td>\n",
       "      <td>No</td>\n",
       "      <td>No</td>\n",
       "      <td>MTPL</td>\n",
       "      <td>&lt;66</td>\n",
       "    </tr>\n",
       "    <tr>\n",
       "      <th>3</th>\n",
       "      <td>37</td>\n",
       "      <td>1030</td>\n",
       "      <td>0.17</td>\n",
       "      <td>-1.77</td>\n",
       "      <td>0</td>\n",
       "      <td>0.00</td>\n",
       "      <td>0.00</td>\n",
       "      <td>2-5</td>\n",
       "      <td>Female</td>\n",
       "      <td>Petrol</td>\n",
       "      <td>Once</td>\n",
       "      <td>Professional</td>\n",
       "      <td>No</td>\n",
       "      <td>No</td>\n",
       "      <td>MTPL+++</td>\n",
       "      <td>66-110</td>\n",
       "    </tr>\n",
       "    <tr>\n",
       "      <th>4</th>\n",
       "      <td>29</td>\n",
       "      <td>1030</td>\n",
       "      <td>1.00</td>\n",
       "      <td>0.00</td>\n",
       "      <td>0</td>\n",
       "      <td>0.00</td>\n",
       "      <td>0.00</td>\n",
       "      <td>6-10</td>\n",
       "      <td>Female</td>\n",
       "      <td>Petrol</td>\n",
       "      <td>Once</td>\n",
       "      <td>Private</td>\n",
       "      <td>No</td>\n",
       "      <td>No</td>\n",
       "      <td>MTPL+</td>\n",
       "      <td>&lt;66</td>\n",
       "    </tr>\n",
       "  </tbody>\n",
       "</table>\n",
       "</div>"
      ],
      "text/plain": [
       "   AGEPH  CODPOSS  duree  lnexpo  nbrtotc  nbrtotan  chargtot agecar    sexp  \\\n",
       "0     64     1000   1.00    0.00        0      0.00      0.00    2-5  Female   \n",
       "1     28     1000   0.05   -3.07        1     21.47    155.97   6-10  Female   \n",
       "2     58     1000   0.40   -0.91        0      0.00      0.00    >10  Female   \n",
       "3     37     1030   0.17   -1.77        0      0.00      0.00    2-5  Female   \n",
       "4     29     1030   1.00    0.00        0      0.00      0.00   6-10  Female   \n",
       "\n",
       "    fuelc   split          usec fleetc sportc   coverp  powerc  \n",
       "0  Petrol    Once       Private     No     No    MTPL+  66-110  \n",
       "1  Petrol   Twice       Private     No     No     MTPL  66-110  \n",
       "2  Petrol  Thrice       Private     No     No     MTPL     <66  \n",
       "3  Petrol    Once  Professional     No     No  MTPL+++  66-110  \n",
       "4  Petrol    Once       Private     No     No    MTPL+     <66  "
      ]
     },
     "execution_count": 3,
     "metadata": {},
     "output_type": "execute_result"
    }
   ],
   "source": [
    "df = pd.read_csv(params.get(Constants.URL_LINK_TO_DATA), delimiter = \",\")\n",
    "df.head()"
   ]
  },
  {
   "cell_type": "markdown",
   "id": "8d3f942e",
   "metadata": {},
   "source": [
    "# 1. Data Exploration <a name=\"one\"></a>"
   ]
  },
  {
   "cell_type": "code",
   "execution_count": 4,
   "id": "7751580a",
   "metadata": {},
   "outputs": [
    {
     "name": "stdout",
     "output_type": "stream",
     "text": [
      "<class 'pandas.core.frame.DataFrame'>\n",
      "RangeIndex: 163657 entries, 0 to 163656\n",
      "Data columns (total 16 columns):\n",
      " #   Column    Non-Null Count   Dtype  \n",
      "---  ------    --------------   -----  \n",
      " 0   AGEPH     163657 non-null  int64  \n",
      " 1   CODPOSS   163657 non-null  int64  \n",
      " 2   duree     163657 non-null  float64\n",
      " 3   lnexpo    163657 non-null  float64\n",
      " 4   nbrtotc   163657 non-null  int64  \n",
      " 5   nbrtotan  163657 non-null  float64\n",
      " 6   chargtot  163657 non-null  float64\n",
      " 7   agecar    163657 non-null  object \n",
      " 8   sexp      163657 non-null  object \n",
      " 9   fuelc     163657 non-null  object \n",
      " 10  split     163657 non-null  object \n",
      " 11  usec      163657 non-null  object \n",
      " 12  fleetc    163657 non-null  object \n",
      " 13  sportc    163657 non-null  object \n",
      " 14  coverp    163657 non-null  object \n",
      " 15  powerc    163657 non-null  object \n",
      "dtypes: float64(4), int64(3), object(9)\n",
      "memory usage: 20.0+ MB\n"
     ]
    }
   ],
   "source": [
    "df.info()"
   ]
  },
  {
   "cell_type": "code",
   "execution_count": 5,
   "id": "e7109a53",
   "metadata": {},
   "outputs": [
    {
     "data": {
      "text/html": [
       "<div>\n",
       "<style scoped>\n",
       "    .dataframe tbody tr th:only-of-type {\n",
       "        vertical-align: middle;\n",
       "    }\n",
       "\n",
       "    .dataframe tbody tr th {\n",
       "        vertical-align: top;\n",
       "    }\n",
       "\n",
       "    .dataframe thead th {\n",
       "        text-align: right;\n",
       "    }\n",
       "</style>\n",
       "<table border=\"1\" class=\"dataframe\">\n",
       "  <thead>\n",
       "    <tr style=\"text-align: right;\">\n",
       "      <th></th>\n",
       "      <th>AGEPH</th>\n",
       "      <th>CODPOSS</th>\n",
       "      <th>duree</th>\n",
       "      <th>lnexpo</th>\n",
       "      <th>nbrtotc</th>\n",
       "      <th>nbrtotan</th>\n",
       "      <th>chargtot</th>\n",
       "    </tr>\n",
       "  </thead>\n",
       "  <tbody>\n",
       "    <tr>\n",
       "      <th>count</th>\n",
       "      <td>163,657.00</td>\n",
       "      <td>163,657.00</td>\n",
       "      <td>163,657.00</td>\n",
       "      <td>163,657.00</td>\n",
       "      <td>163,657.00</td>\n",
       "      <td>163,657.00</td>\n",
       "      <td>163,657.00</td>\n",
       "    </tr>\n",
       "    <tr>\n",
       "      <th>mean</th>\n",
       "      <td>47.00</td>\n",
       "      <td>5,270.91</td>\n",
       "      <td>0.89</td>\n",
       "      <td>-0.21</td>\n",
       "      <td>0.12</td>\n",
       "      <td>0.16</td>\n",
       "      <td>201.10</td>\n",
       "    </tr>\n",
       "    <tr>\n",
       "      <th>std</th>\n",
       "      <td>14.83</td>\n",
       "      <td>2,687.63</td>\n",
       "      <td>0.24</td>\n",
       "      <td>0.59</td>\n",
       "      <td>0.37</td>\n",
       "      <td>0.98</td>\n",
       "      <td>5,885.39</td>\n",
       "    </tr>\n",
       "    <tr>\n",
       "      <th>min</th>\n",
       "      <td>17.00</td>\n",
       "      <td>1,000.00</td>\n",
       "      <td>0.00</td>\n",
       "      <td>-5.90</td>\n",
       "      <td>0.00</td>\n",
       "      <td>0.00</td>\n",
       "      <td>0.00</td>\n",
       "    </tr>\n",
       "    <tr>\n",
       "      <th>25%</th>\n",
       "      <td>35.00</td>\n",
       "      <td>2,900.00</td>\n",
       "      <td>1.00</td>\n",
       "      <td>0.00</td>\n",
       "      <td>0.00</td>\n",
       "      <td>0.00</td>\n",
       "      <td>0.00</td>\n",
       "    </tr>\n",
       "    <tr>\n",
       "      <th>50%</th>\n",
       "      <td>46.00</td>\n",
       "      <td>5,030.00</td>\n",
       "      <td>1.00</td>\n",
       "      <td>0.00</td>\n",
       "      <td>0.00</td>\n",
       "      <td>0.00</td>\n",
       "      <td>0.00</td>\n",
       "    </tr>\n",
       "    <tr>\n",
       "      <th>75%</th>\n",
       "      <td>58.00</td>\n",
       "      <td>7,500.00</td>\n",
       "      <td>1.00</td>\n",
       "      <td>0.00</td>\n",
       "      <td>0.00</td>\n",
       "      <td>0.00</td>\n",
       "      <td>0.00</td>\n",
       "    </tr>\n",
       "    <tr>\n",
       "      <th>max</th>\n",
       "      <td>95.00</td>\n",
       "      <td>9,990.00</td>\n",
       "      <td>1.01</td>\n",
       "      <td>0.01</td>\n",
       "      <td>5.00</td>\n",
       "      <td>182.50</td>\n",
       "      <td>1,989,567.90</td>\n",
       "    </tr>\n",
       "  </tbody>\n",
       "</table>\n",
       "</div>"
      ],
      "text/plain": [
       "           AGEPH    CODPOSS      duree     lnexpo    nbrtotc   nbrtotan  \\\n",
       "count 163,657.00 163,657.00 163,657.00 163,657.00 163,657.00 163,657.00   \n",
       "mean       47.00   5,270.91       0.89      -0.21       0.12       0.16   \n",
       "std        14.83   2,687.63       0.24       0.59       0.37       0.98   \n",
       "min        17.00   1,000.00       0.00      -5.90       0.00       0.00   \n",
       "25%        35.00   2,900.00       1.00       0.00       0.00       0.00   \n",
       "50%        46.00   5,030.00       1.00       0.00       0.00       0.00   \n",
       "75%        58.00   7,500.00       1.00       0.00       0.00       0.00   \n",
       "max        95.00   9,990.00       1.01       0.01       5.00     182.50   \n",
       "\n",
       "          chargtot  \n",
       "count   163,657.00  \n",
       "mean        201.10  \n",
       "std       5,885.39  \n",
       "min           0.00  \n",
       "25%           0.00  \n",
       "50%           0.00  \n",
       "75%           0.00  \n",
       "max   1,989,567.90  "
      ]
     },
     "execution_count": 5,
     "metadata": {},
     "output_type": "execute_result"
    }
   ],
   "source": [
    "summary = df.describe()\n",
    "summary.style.applymap(highlight_col, subset=pd.IndexSlice[['mean', 'max'], [params.get(Constants.NB_CLAIMS)]])\n",
    "summary"
   ]
  },
  {
   "cell_type": "code",
   "execution_count": 6,
   "id": "e9400118",
   "metadata": {},
   "outputs": [],
   "source": [
    "# CODPOSS should be a categorical variable as it stands for the postal code in Belgium\n",
    "df['CODPOSS'] = df.CODPOSS.astype('str')"
   ]
  },
  {
   "cell_type": "code",
   "execution_count": 7,
   "id": "9155da2d",
   "metadata": {},
   "outputs": [],
   "source": [
    "# we want to cap the maximum number of years a policyholder has with an insurer \n",
    "max_nb_anciennete = params.get(Constants.MAX_NB_ANCIENNETE)\n",
    "df['nbrtotan'] = np.select([df.nbrtotan > max_nb_anciennete, df.nbrtotan <= max_nb_anciennete], [max_nb_anciennete, df.nbrtotan ])"
   ]
  },
  {
   "cell_type": "code",
   "execution_count": 8,
   "id": "51bdac0e",
   "metadata": {},
   "outputs": [
    {
     "data": {
      "text/plain": [
       "15011   82.00\n",
       "28398   82.00\n",
       "46731   82.00\n",
       "90348   82.00\n",
       "Name: nbrtotan, dtype: float64"
      ]
     },
     "execution_count": 8,
     "metadata": {},
     "output_type": "execute_result"
    }
   ],
   "source": [
    "df.nbrtotan[df.nbrtotan==max_nb_anciennete]"
   ]
  },
  {
   "cell_type": "code",
   "execution_count": 9,
   "id": "70436623",
   "metadata": {},
   "outputs": [],
   "source": [
    "# we want to cap the maximum claim amount\n",
    "max_claim_amount = params.get(Constants.MAX_CLAIM_AMOUNT)\n",
    "df['chargtot'] = np.select([df.chargtot > max_claim_amount, df.chargtot <= max_claim_amount], [max_claim_amount, df.chargtot])"
   ]
  },
  {
   "cell_type": "code",
   "execution_count": 10,
   "id": "c5c4f9ed",
   "metadata": {},
   "outputs": [
    {
     "data": {
      "text/plain": [
       "11748   500,000.00\n",
       "Name: chargtot, dtype: float64"
      ]
     },
     "execution_count": 10,
     "metadata": {},
     "output_type": "execute_result"
    }
   ],
   "source": [
    "df.chargtot[df.chargtot==max_claim_amount]"
   ]
  },
  {
   "cell_type": "code",
   "execution_count": 11,
   "id": "3763edd0",
   "metadata": {},
   "outputs": [
    {
     "data": {
      "text/html": [
       "<div>\n",
       "<style scoped>\n",
       "    .dataframe tbody tr th:only-of-type {\n",
       "        vertical-align: middle;\n",
       "    }\n",
       "\n",
       "    .dataframe tbody tr th {\n",
       "        vertical-align: top;\n",
       "    }\n",
       "\n",
       "    .dataframe thead th {\n",
       "        text-align: right;\n",
       "    }\n",
       "</style>\n",
       "<table border=\"1\" class=\"dataframe\">\n",
       "  <thead>\n",
       "    <tr style=\"text-align: right;\">\n",
       "      <th></th>\n",
       "      <th>nb_unique_categories</th>\n",
       "      <th>distribution</th>\n",
       "    </tr>\n",
       "  </thead>\n",
       "  <tbody>\n",
       "    <tr>\n",
       "      <th>CODPOSS</th>\n",
       "      <td>583</td>\n",
       "      <td>{'6000': '3.08%', '2000': '2.86%', '9000': '2.14%', '4000': '1.61%', '7100': '1.39%', '7000': '1.25%', '7500': '0.97%', '5000': '0.94%', '3000': '0.89%', '8000': '0.88%', '4100': '0.85%', '2800': '0.82%', '8400': '0.77%', '1000': '0.72%', '8500': '0.72%', '6200': '0.71%', '9300': '0.71%', '7060': '0.70%', '6180': '0.69%', '4040': '0.65%', '7800': '0.65%', '9100': '0.64%', '1070': '0.64%', '7330': '0.63%', '7130': '0.63%', '1030': '0.57%', '9600': '0.57%', '1800': '0.56%', '1480': '0.56%', '8800': '0.55%', '8930': '0.55%', '4800': '0.53%', '7700': '0.52%', '1180': '0.51%', '7370': '0.51%', '5300': '0.50%', '8940': '0.50%', '7300': '0.48%', '7860': '0.47%', '1420': '0.46%', '1080': '0.45%', '2830': '0.44%', '5060': '0.44%', '6790': '0.43%', '6220': '0.43%', '3600': '0.43%', '2880': '0.42%', '7340': '0.41%', '3630': '0.41%', '8790': '0.41%', '3700': '0.40%', '4400': '0.40%', '1050': '0.39%', '4630': '0.39%', '4680': '0.39%', '4430': '0.38%', '3300': '0.38%', '3500': '0.38%', '7080': '...</td>\n",
       "    </tr>\n",
       "    <tr>\n",
       "      <th>agecar</th>\n",
       "      <td>4</td>\n",
       "      <td>{'6-10': '41.03%', '2-5': '31.50%', '&gt;10': '22.72%', '0-1': '4.75%'}</td>\n",
       "    </tr>\n",
       "    <tr>\n",
       "      <th>sexp</th>\n",
       "      <td>2</td>\n",
       "      <td>{'Male': '73.59%', 'Female': '26.41%'}</td>\n",
       "    </tr>\n",
       "    <tr>\n",
       "      <th>fuelc</th>\n",
       "      <td>2</td>\n",
       "      <td>{'Petrol': '69.18%', 'Gasoil': '30.82%'}</td>\n",
       "    </tr>\n",
       "    <tr>\n",
       "      <th>split</th>\n",
       "      <td>4</td>\n",
       "      <td>{'Once': '49.79%', 'Twice': '28.08%', 'Monthly': '14.42%', 'Thrice': '7.71%'}</td>\n",
       "    </tr>\n",
       "    <tr>\n",
       "      <th>usec</th>\n",
       "      <td>2</td>\n",
       "      <td>{'Private': '95.11%', 'Professional': '4.89%'}</td>\n",
       "    </tr>\n",
       "    <tr>\n",
       "      <th>fleetc</th>\n",
       "      <td>2</td>\n",
       "      <td>{'No': '96.80%', 'Yes': '3.20%'}</td>\n",
       "    </tr>\n",
       "    <tr>\n",
       "      <th>sportc</th>\n",
       "      <td>2</td>\n",
       "      <td>{'No': '99.08%', 'Yes': '0.92%'}</td>\n",
       "    </tr>\n",
       "    <tr>\n",
       "      <th>coverp</th>\n",
       "      <td>3</td>\n",
       "      <td>{'MTPL': '58.30%', 'MTPL+': '28.15%', 'MTPL+++': '13.55%'}</td>\n",
       "    </tr>\n",
       "    <tr>\n",
       "      <th>powerc</th>\n",
       "      <td>3</td>\n",
       "      <td>{'&lt;66': '73.21%', '66-110': '25.78%', '&gt;110': '1.01%'}</td>\n",
       "    </tr>\n",
       "  </tbody>\n",
       "</table>\n",
       "</div>"
      ],
      "text/plain": [
       "         nb_unique_categories  \\\n",
       "CODPOSS                   583   \n",
       "agecar                      4   \n",
       "sexp                        2   \n",
       "fuelc                       2   \n",
       "split                       4   \n",
       "usec                        2   \n",
       "fleetc                      2   \n",
       "sportc                      2   \n",
       "coverp                      3   \n",
       "powerc                      3   \n",
       "\n",
       "                                                                                                                                                                                                                                                                                                                                                                                                                                                                                                                                                                                                                                                                                                                                                                                                                                                                                                                                                                                                                                    distribution  \n",
       "CODPOSS  {'6000': '3.08%', '2000': '2.86%', '9000': '2.14%', '4000': '1.61%', '7100': '1.39%', '7000': '1.25%', '7500': '0.97%', '5000': '0.94%', '3000': '0.89%', '8000': '0.88%', '4100': '0.85%', '2800': '0.82%', '8400': '0.77%', '1000': '0.72%', '8500': '0.72%', '6200': '0.71%', '9300': '0.71%', '7060': '0.70%', '6180': '0.69%', '4040': '0.65%', '7800': '0.65%', '9100': '0.64%', '1070': '0.64%', '7330': '0.63%', '7130': '0.63%', '1030': '0.57%', '9600': '0.57%', '1800': '0.56%', '1480': '0.56%', '8800': '0.55%', '8930': '0.55%', '4800': '0.53%', '7700': '0.52%', '1180': '0.51%', '7370': '0.51%', '5300': '0.50%', '8940': '0.50%', '7300': '0.48%', '7860': '0.47%', '1420': '0.46%', '1080': '0.45%', '2830': '0.44%', '5060': '0.44%', '6790': '0.43%', '6220': '0.43%', '3600': '0.43%', '2880': '0.42%', '7340': '0.41%', '3630': '0.41%', '8790': '0.41%', '3700': '0.40%', '4400': '0.40%', '1050': '0.39%', '4630': '0.39%', '4680': '0.39%', '4430': '0.38%', '3300': '0.38%', '3500': '0.38%', '7080': '...  \n",
       "agecar                                                                                                                                                                                                                                                                                                                                                                                                                                                                                                                                                                                                                                                                                                                                                                                                                                                                                                                                                                      {'6-10': '41.03%', '2-5': '31.50%', '>10': '22.72%', '0-1': '4.75%'}  \n",
       "sexp                                                                                                                                                                                                                                                                                                                                                                                                                                                                                                                                                                                                                                                                                                                                                                                                                                                                                                                                                                                                      {'Male': '73.59%', 'Female': '26.41%'}  \n",
       "fuelc                                                                                                                                                                                                                                                                                                                                                                                                                                                                                                                                                                                                                                                                                                                                                                                                                                                                                                                                                                                                   {'Petrol': '69.18%', 'Gasoil': '30.82%'}  \n",
       "split                                                                                                                                                                                                                                                                                                                                                                                                                                                                                                                                                                                                                                                                                                                                                                                                                                                                                                                                                              {'Once': '49.79%', 'Twice': '28.08%', 'Monthly': '14.42%', 'Thrice': '7.71%'}  \n",
       "usec                                                                                                                                                                                                                                                                                                                                                                                                                                                                                                                                                                                                                                                                                                                                                                                                                                                                                                                                                                                              {'Private': '95.11%', 'Professional': '4.89%'}  \n",
       "fleetc                                                                                                                                                                                                                                                                                                                                                                                                                                                                                                                                                                                                                                                                                                                                                                                                                                                                                                                                                                                                          {'No': '96.80%', 'Yes': '3.20%'}  \n",
       "sportc                                                                                                                                                                                                                                                                                                                                                                                                                                                                                                                                                                                                                                                                                                                                                                                                                                                                                                                                                                                                          {'No': '99.08%', 'Yes': '0.92%'}  \n",
       "coverp                                                                                                                                                                                                                                                                                                                                                                                                                                                                                                                                                                                                                                                                                                                                                                                                                                                                                                                                                                                {'MTPL': '58.30%', 'MTPL+': '28.15%', 'MTPL+++': '13.55%'}  \n",
       "powerc                                                                                                                                                                                                                                                                                                                                                                                                                                                                                                                                                                                                                                                                                                                                                                                                                                                                                                                                                                                    {'<66': '73.21%', '66-110': '25.78%', '>110': '1.01%'}  "
      ]
     },
     "execution_count": 11,
     "metadata": {},
     "output_type": "execute_result"
    }
   ],
   "source": [
    "# check how many categories for categorical variables\n",
    "info_categories = get_distribution_info_for_categorical_variables(df)\n",
    "info_categories"
   ]
  },
  {
   "cell_type": "markdown",
   "id": "75306911",
   "metadata": {},
   "source": [
    "We notice that the CODPOSS displays a huge number of categories. Later on, we will proceed to mean-hot feature engineering to reduce the dimensionality of this variable."
   ]
  },
  {
   "cell_type": "markdown",
   "id": "2878432a",
   "metadata": {},
   "source": [
    "## 1.1 univariate analysis of numerical data <a name=\"one-one\"></a>"
   ]
  },
  {
   "cell_type": "code",
   "execution_count": 12,
   "id": "349697e9",
   "metadata": {},
   "outputs": [
    {
     "data": {
      "text/plain": [
       "['AGEPH', 'duree', 'lnexpo', 'nbrtotc', 'nbrtotan', 'chargtot']"
      ]
     },
     "execution_count": 12,
     "metadata": {},
     "output_type": "execute_result"
    }
   ],
   "source": [
    "numerical_variables = list(df.select_dtypes(exclude=['object']).columns)\n",
    "numerical_variables"
   ]
  },
  {
   "cell_type": "code",
   "execution_count": 13,
   "id": "de5c64e6",
   "metadata": {},
   "outputs": [
    {
     "data": {
      "image/png": "[encoded data removed]",
      "text/plain": [
       "<Figure size 432x288 with 1 Axes>"
      ]
     },
     "metadata": {
      "needs_background": "light"
     },
     "output_type": "display_data"
    },
    {
     "data": {
      "image/png": "[encoded data removed]",
      "text/plain": [
       "<Figure size 432x288 with 1 Axes>"
      ]
     },
     "metadata": {
      "needs_background": "light"
     },
     "output_type": "display_data"
    },
    {
     "data": {
      "image/png": "[encoded data removed]",
      "text/plain": [
       "<Figure size 432x288 with 1 Axes>"
      ]
     },
     "metadata": {
      "needs_background": "light"
     },
     "output_type": "display_data"
    },
    {
     "data": {
      "image/png": "[encoded data removed]",
      "text/plain": [
       "<Figure size 432x288 with 1 Axes>"
      ]
     },
     "metadata": {
      "needs_background": "light"
     },
     "output_type": "display_data"
    },
    {
     "data": {
      "image/png": "[encoded data removed]",
      "text/plain": [
       "<Figure size 432x288 with 1 Axes>"
      ]
     },
     "metadata": {
      "needs_background": "light"
     },
     "output_type": "display_data"
    }
   ],
   "source": [
    "plot_univariate_numerical_variables_distribution(df, numerical_variables, params)"
   ]
  },
  {
   "cell_type": "code",
   "execution_count": 14,
   "id": "cbce0cd1",
   "metadata": {},
   "outputs": [
    {
     "data": {
      "text/html": [
       "<style type=\"text/css\">\n",
       "#T_fef3e_row0_col0, #T_fef3e_row1_col1, #T_fef3e_row2_col2, #T_fef3e_row3_col3, #T_fef3e_row4_col4, #T_fef3e_row5_col5 {\n",
       "  background-color: #b40426;\n",
       "  color: #f1f1f1;\n",
       "}\n",
       "#T_fef3e_row0_col1 {\n",
       "  background-color: #6f92f3;\n",
       "  color: #f1f1f1;\n",
       "}\n",
       "#T_fef3e_row0_col2 {\n",
       "  background-color: #6a8bef;\n",
       "  color: #f1f1f1;\n",
       "}\n",
       "#T_fef3e_row0_col3, #T_fef3e_row0_col5, #T_fef3e_row2_col4, #T_fef3e_row3_col0, #T_fef3e_row4_col1, #T_fef3e_row4_col2 {\n",
       "  background-color: #3b4cc0;\n",
       "  color: #f1f1f1;\n",
       "}\n",
       "#T_fef3e_row0_col4 {\n",
       "  background-color: #455cce;\n",
       "  color: #f1f1f1;\n",
       "}\n",
       "#T_fef3e_row1_col0 {\n",
       "  background-color: #6c8ff1;\n",
       "  color: #f1f1f1;\n",
       "}\n",
       "#T_fef3e_row1_col2, #T_fef3e_row2_col1 {\n",
       "  background-color: #d0473d;\n",
       "  color: #f1f1f1;\n",
       "}\n",
       "#T_fef3e_row1_col3 {\n",
       "  background-color: #5e7de7;\n",
       "  color: #f1f1f1;\n",
       "}\n",
       "#T_fef3e_row1_col4 {\n",
       "  background-color: #3c4ec2;\n",
       "  color: #f1f1f1;\n",
       "}\n",
       "#T_fef3e_row1_col5, #T_fef3e_row2_col5 {\n",
       "  background-color: #3f53c6;\n",
       "  color: #f1f1f1;\n",
       "}\n",
       "#T_fef3e_row2_col0 {\n",
       "  background-color: #6687ed;\n",
       "  color: #f1f1f1;\n",
       "}\n",
       "#T_fef3e_row2_col3, #T_fef3e_row3_col1 {\n",
       "  background-color: #5f7fe8;\n",
       "  color: #f1f1f1;\n",
       "}\n",
       "#T_fef3e_row3_col2, #T_fef3e_row4_col5 {\n",
       "  background-color: #6384eb;\n",
       "  color: #f1f1f1;\n",
       "}\n",
       "#T_fef3e_row3_col4 {\n",
       "  background-color: #f2cab5;\n",
       "  color: #000000;\n",
       "}\n",
       "#T_fef3e_row3_col5 {\n",
       "  background-color: #7396f5;\n",
       "  color: #f1f1f1;\n",
       "}\n",
       "#T_fef3e_row4_col0 {\n",
       "  background-color: #4055c8;\n",
       "  color: #f1f1f1;\n",
       "}\n",
       "#T_fef3e_row4_col3 {\n",
       "  background-color: #f1ccb8;\n",
       "  color: #000000;\n",
       "}\n",
       "#T_fef3e_row5_col0 {\n",
       "  background-color: #4961d2;\n",
       "  color: #f1f1f1;\n",
       "}\n",
       "#T_fef3e_row5_col1 {\n",
       "  background-color: #506bda;\n",
       "  color: #f1f1f1;\n",
       "}\n",
       "#T_fef3e_row5_col2 {\n",
       "  background-color: #536edd;\n",
       "  color: #f1f1f1;\n",
       "}\n",
       "#T_fef3e_row5_col3 {\n",
       "  background-color: #81a4fb;\n",
       "  color: #f1f1f1;\n",
       "}\n",
       "#T_fef3e_row5_col4 {\n",
       "  background-color: #7699f6;\n",
       "  color: #f1f1f1;\n",
       "}\n",
       "</style>\n",
       "<table id=\"T_fef3e_\">\n",
       "  <thead>\n",
       "    <tr>\n",
       "      <th class=\"blank level0\" >&nbsp;</th>\n",
       "      <th class=\"col_heading level0 col0\" >AGEPH</th>\n",
       "      <th class=\"col_heading level0 col1\" >duree</th>\n",
       "      <th class=\"col_heading level0 col2\" >lnexpo</th>\n",
       "      <th class=\"col_heading level0 col3\" >nbrtotc</th>\n",
       "      <th class=\"col_heading level0 col4\" >nbrtotan</th>\n",
       "      <th class=\"col_heading level0 col5\" >chargtot</th>\n",
       "    </tr>\n",
       "  </thead>\n",
       "  <tbody>\n",
       "    <tr>\n",
       "      <th id=\"T_fef3e_level0_row0\" class=\"row_heading level0 row0\" >AGEPH</th>\n",
       "      <td id=\"T_fef3e_row0_col0\" class=\"data row0 col0\" >1.000000</td>\n",
       "      <td id=\"T_fef3e_row0_col1\" class=\"data row0 col1\" >0.099901</td>\n",
       "      <td id=\"T_fef3e_row0_col2\" class=\"data row0 col2\" >0.078857</td>\n",
       "      <td id=\"T_fef3e_row0_col3\" class=\"data row0 col3\" >-0.069035</td>\n",
       "      <td id=\"T_fef3e_row0_col4\" class=\"data row0 col4\" >-0.046285</td>\n",
       "      <td id=\"T_fef3e_row0_col5\" class=\"data row0 col5\" >-0.016983</td>\n",
       "    </tr>\n",
       "    <tr>\n",
       "      <th id=\"T_fef3e_level0_row1\" class=\"row_heading level0 row1\" >duree</th>\n",
       "      <td id=\"T_fef3e_row1_col0\" class=\"data row1 col0\" >0.099901</td>\n",
       "      <td id=\"T_fef3e_row1_col1\" class=\"data row1 col1\" >1.000000</td>\n",
       "      <td id=\"T_fef3e_row1_col2\" class=\"data row1 col2\" >0.913371</td>\n",
       "      <td id=\"T_fef3e_row1_col3\" class=\"data row1 col3\" >0.052203</td>\n",
       "      <td id=\"T_fef3e_row1_col4\" class=\"data row1 col4\" >-0.076801</td>\n",
       "      <td id=\"T_fef3e_row1_col5\" class=\"data row1 col5\" >0.000247</td>\n",
       "    </tr>\n",
       "    <tr>\n",
       "      <th id=\"T_fef3e_level0_row2\" class=\"row_heading level0 row2\" >lnexpo</th>\n",
       "      <td id=\"T_fef3e_row2_col0\" class=\"data row2 col0\" >0.078857</td>\n",
       "      <td id=\"T_fef3e_row2_col1\" class=\"data row2 col1\" >0.913371</td>\n",
       "      <td id=\"T_fef3e_row2_col2\" class=\"data row2 col2\" >1.000000</td>\n",
       "      <td id=\"T_fef3e_row2_col3\" class=\"data row2 col3\" >0.056768</td>\n",
       "      <td id=\"T_fef3e_row2_col4\" class=\"data row2 col4\" >-0.085214</td>\n",
       "      <td id=\"T_fef3e_row2_col5\" class=\"data row2 col5\" >0.002479</td>\n",
       "    </tr>\n",
       "    <tr>\n",
       "      <th id=\"T_fef3e_level0_row3\" class=\"row_heading level0 row3\" >nbrtotc</th>\n",
       "      <td id=\"T_fef3e_row3_col0\" class=\"data row3 col0\" >-0.069035</td>\n",
       "      <td id=\"T_fef3e_row3_col1\" class=\"data row3 col1\" >0.052203</td>\n",
       "      <td id=\"T_fef3e_row3_col2\" class=\"data row3 col2\" >0.056768</td>\n",
       "      <td id=\"T_fef3e_row3_col3\" class=\"data row3 col3\" >1.000000</td>\n",
       "      <td id=\"T_fef3e_row3_col4\" class=\"data row3 col4\" >0.569537</td>\n",
       "      <td id=\"T_fef3e_row3_col5\" class=\"data row3 col5\" >0.164385</td>\n",
       "    </tr>\n",
       "    <tr>\n",
       "      <th id=\"T_fef3e_level0_row4\" class=\"row_heading level0 row4\" >nbrtotan</th>\n",
       "      <td id=\"T_fef3e_row4_col0\" class=\"data row4 col0\" >-0.046285</td>\n",
       "      <td id=\"T_fef3e_row4_col1\" class=\"data row4 col1\" >-0.076801</td>\n",
       "      <td id=\"T_fef3e_row4_col2\" class=\"data row4 col2\" >-0.085214</td>\n",
       "      <td id=\"T_fef3e_row4_col3\" class=\"data row4 col3\" >0.569537</td>\n",
       "      <td id=\"T_fef3e_row4_col4\" class=\"data row4 col4\" >1.000000</td>\n",
       "      <td id=\"T_fef3e_row4_col5\" class=\"data row4 col5\" >0.117699</td>\n",
       "    </tr>\n",
       "    <tr>\n",
       "      <th id=\"T_fef3e_level0_row5\" class=\"row_heading level0 row5\" >chargtot</th>\n",
       "      <td id=\"T_fef3e_row5_col0\" class=\"data row5 col0\" >-0.016983</td>\n",
       "      <td id=\"T_fef3e_row5_col1\" class=\"data row5 col1\" >0.000247</td>\n",
       "      <td id=\"T_fef3e_row5_col2\" class=\"data row5 col2\" >0.002479</td>\n",
       "      <td id=\"T_fef3e_row5_col3\" class=\"data row5 col3\" >0.164385</td>\n",
       "      <td id=\"T_fef3e_row5_col4\" class=\"data row5 col4\" >0.117699</td>\n",
       "      <td id=\"T_fef3e_row5_col5\" class=\"data row5 col5\" >1.000000</td>\n",
       "    </tr>\n",
       "  </tbody>\n",
       "</table>\n"
      ],
      "text/plain": [
       "<pandas.io.formats.style.Styler at 0x129ce78b0>"
      ]
     },
     "execution_count": 14,
     "metadata": {},
     "output_type": "execute_result"
    }
   ],
   "source": [
    "corr = df.corr()\n",
    "corr.style.background_gradient(cmap='coolwarm')"
   ]
  },
  {
   "cell_type": "markdown",
   "id": "8083642c",
   "metadata": {},
   "source": [
    "We notice that `nbrtotc` and `nbrtotan` are highly correlated (the same goes for `duree` and `lnexpo`)"
   ]
  },
  {
   "cell_type": "markdown",
   "id": "7ec53432",
   "metadata": {},
   "source": [
    "## 1.2 univariate analysis of categorical data <a name=\"one-two\"></a>"
   ]
  },
  {
   "cell_type": "code",
   "execution_count": 15,
   "id": "5058b2a1",
   "metadata": {},
   "outputs": [
    {
     "data": {
      "text/plain": [
       "['CODPOSS',\n",
       " 'agecar',\n",
       " 'sexp',\n",
       " 'fuelc',\n",
       " 'split',\n",
       " 'usec',\n",
       " 'fleetc',\n",
       " 'sportc',\n",
       " 'coverp',\n",
       " 'powerc']"
      ]
     },
     "execution_count": 15,
     "metadata": {},
     "output_type": "execute_result"
    }
   ],
   "source": [
    "categorical_variables = list(df.select_dtypes(include=['object']).columns)\n",
    "categorical_variables"
   ]
  },
  {
   "cell_type": "code",
   "execution_count": 16,
   "id": "6407157e",
   "metadata": {},
   "outputs": [
    {
     "data": {
      "image/png": "[encoded data removed]",
      "text/plain": [
       "<Figure size 432x288 with 1 Axes>"
      ]
     },
     "metadata": {
      "needs_background": "light"
     },
     "output_type": "display_data"
    },
    {
     "data": {
      "image/png": "[encoded data removed]",
      "text/plain": [
       "<Figure size 432x288 with 1 Axes>"
      ]
     },
     "metadata": {
      "needs_background": "light"
     },
     "output_type": "display_data"
    },
    {
     "data": {
      "image/png": "[encoded data removed]",
      "text/plain": [
       "<Figure size 432x288 with 1 Axes>"
      ]
     },
     "metadata": {
      "needs_background": "light"
     },
     "output_type": "display_data"
    },
    {
     "data": {
      "image/png": "[encoded data removed]",
      "text/plain": [
       "<Figure size 432x288 with 1 Axes>"
      ]
     },
     "metadata": {
      "needs_background": "light"
     },
     "output_type": "display_data"
    },
    {
     "data": {
      "image/png": "[encoded data removed]",
      "text/plain": [
       "<Figure size 432x288 with 1 Axes>"
      ]
     },
     "metadata": {
      "needs_background": "light"
     },
     "output_type": "display_data"
    },
    {
     "data": {
      "image/png": "[encoded data removed]",
      "text/plain": [
       "<Figure size 432x288 with 1 Axes>"
      ]
     },
     "metadata": {
      "needs_background": "light"
     },
     "output_type": "display_data"
    },
    {
     "data": {
      "image/png": "[encoded data removed]",
      "text/plain": [
       "<Figure size 432x288 with 1 Axes>"
      ]
     },
     "metadata": {
      "needs_background": "light"
     },
     "output_type": "display_data"
    },
    {
     "data": {
      "image/png": "[encoded data removed]",
      "text/plain": [
       "<Figure size 432x288 with 1 Axes>"
      ]
     },
     "metadata": {
      "needs_background": "light"
     },
     "output_type": "display_data"
    },
    {
     "data": {
      "image/png": "[encoded data removed]",
      "text/plain": [
       "<Figure size 432x288 with 1 Axes>"
      ]
     },
     "metadata": {
      "needs_background": "light"
     },
     "output_type": "display_data"
    },
    {
     "data": {
      "image/png": "[encoded data removed]",
      "text/plain": [
       "<Figure size 432x288 with 1 Axes>"
      ]
     },
     "metadata": {
      "needs_background": "light"
     },
     "output_type": "display_data"
    }
   ],
   "source": [
    "plot_univariate_categorical_variables_distribution(df, categorical_variables, params)"
   ]
  },
  {
   "cell_type": "markdown",
   "id": "6592e370",
   "metadata": {},
   "source": [
    "## 1.3 bivariate analysis of numerical data <a name=\"one-three\"></a>"
   ]
  },
  {
   "cell_type": "code",
   "execution_count": 17,
   "id": "b926049f",
   "metadata": {},
   "outputs": [],
   "source": [
    "nb_claims_name, claim_amount_name = params.get(Constants.NB_CLAIMS), params.get(Constants.CLAIM_AMOUNT)\n",
    "claim_frequency_name = params.get(Constants.CLAIM_FREQUENCY)"
   ]
  },
  {
   "cell_type": "code",
   "execution_count": 18,
   "id": "6d7b43c5",
   "metadata": {},
   "outputs": [],
   "source": [
    "exposure_name = params.get(Constants.EXPOSURE_NAME)"
   ]
  },
  {
   "cell_type": "code",
   "execution_count": 19,
   "id": "b84ffcfc",
   "metadata": {},
   "outputs": [],
   "source": [
    "df[claim_frequency_name] = df[nb_claims_name]/df[exposure_name]"
   ]
  },
  {
   "cell_type": "code",
   "execution_count": 20,
   "id": "38576f8d",
   "metadata": {},
   "outputs": [
    {
     "data": {
      "text/html": [
       "<div>\n",
       "<style scoped>\n",
       "    .dataframe tbody tr th:only-of-type {\n",
       "        vertical-align: middle;\n",
       "    }\n",
       "\n",
       "    .dataframe tbody tr th {\n",
       "        vertical-align: top;\n",
       "    }\n",
       "\n",
       "    .dataframe thead th {\n",
       "        text-align: right;\n",
       "    }\n",
       "</style>\n",
       "<table border=\"1\" class=\"dataframe\">\n",
       "  <thead>\n",
       "    <tr style=\"text-align: right;\">\n",
       "      <th></th>\n",
       "      <th>claim_frequency</th>\n",
       "      <th>duree</th>\n",
       "      <th>nbrtotc</th>\n",
       "    </tr>\n",
       "  </thead>\n",
       "  <tbody>\n",
       "    <tr>\n",
       "      <th>count</th>\n",
       "      <td>163,657.00</td>\n",
       "      <td>163,657.00</td>\n",
       "      <td>163,657.00</td>\n",
       "    </tr>\n",
       "    <tr>\n",
       "      <th>mean</th>\n",
       "      <td>0.16</td>\n",
       "      <td>0.89</td>\n",
       "      <td>0.12</td>\n",
       "    </tr>\n",
       "    <tr>\n",
       "      <th>std</th>\n",
       "      <td>0.98</td>\n",
       "      <td>0.24</td>\n",
       "      <td>0.37</td>\n",
       "    </tr>\n",
       "    <tr>\n",
       "      <th>min</th>\n",
       "      <td>0.00</td>\n",
       "      <td>0.00</td>\n",
       "      <td>0.00</td>\n",
       "    </tr>\n",
       "    <tr>\n",
       "      <th>25%</th>\n",
       "      <td>0.00</td>\n",
       "      <td>1.00</td>\n",
       "      <td>0.00</td>\n",
       "    </tr>\n",
       "    <tr>\n",
       "      <th>50%</th>\n",
       "      <td>0.00</td>\n",
       "      <td>1.00</td>\n",
       "      <td>0.00</td>\n",
       "    </tr>\n",
       "    <tr>\n",
       "      <th>75%</th>\n",
       "      <td>0.00</td>\n",
       "      <td>1.00</td>\n",
       "      <td>0.00</td>\n",
       "    </tr>\n",
       "    <tr>\n",
       "      <th>max</th>\n",
       "      <td>182.50</td>\n",
       "      <td>1.01</td>\n",
       "      <td>5.00</td>\n",
       "    </tr>\n",
       "  </tbody>\n",
       "</table>\n",
       "</div>"
      ],
      "text/plain": [
       "       claim_frequency      duree    nbrtotc\n",
       "count       163,657.00 163,657.00 163,657.00\n",
       "mean              0.16       0.89       0.12\n",
       "std               0.98       0.24       0.37\n",
       "min               0.00       0.00       0.00\n",
       "25%               0.00       1.00       0.00\n",
       "50%               0.00       1.00       0.00\n",
       "75%               0.00       1.00       0.00\n",
       "max             182.50       1.01       5.00"
      ]
     },
     "execution_count": 20,
     "metadata": {},
     "output_type": "execute_result"
    }
   ],
   "source": [
    "df[[claim_frequency_name, exposure_name, nb_claims_name]].describe()"
   ]
  },
  {
   "cell_type": "code",
   "execution_count": 21,
   "id": "bf1891d2",
   "metadata": {},
   "outputs": [
    {
     "data": {
      "text/html": [
       "<div>\n",
       "<style scoped>\n",
       "    .dataframe tbody tr th:only-of-type {\n",
       "        vertical-align: middle;\n",
       "    }\n",
       "\n",
       "    .dataframe tbody tr th {\n",
       "        vertical-align: top;\n",
       "    }\n",
       "\n",
       "    .dataframe thead th {\n",
       "        text-align: right;\n",
       "    }\n",
       "</style>\n",
       "<table border=\"1\" class=\"dataframe\">\n",
       "  <thead>\n",
       "    <tr style=\"text-align: right;\">\n",
       "      <th></th>\n",
       "      <th>nb_claims</th>\n",
       "      <th>exposure</th>\n",
       "      <th>frequency</th>\n",
       "    </tr>\n",
       "    <tr>\n",
       "      <th>nbrtotc</th>\n",
       "      <th></th>\n",
       "      <th></th>\n",
       "      <th></th>\n",
       "    </tr>\n",
       "  </thead>\n",
       "  <tbody>\n",
       "    <tr>\n",
       "      <th>0</th>\n",
       "      <td>145312</td>\n",
       "      <td>128,595.95</td>\n",
       "      <td>0.00</td>\n",
       "    </tr>\n",
       "    <tr>\n",
       "      <th>1</th>\n",
       "      <td>16602</td>\n",
       "      <td>15,410.32</td>\n",
       "      <td>1.29</td>\n",
       "    </tr>\n",
       "    <tr>\n",
       "      <th>2</th>\n",
       "      <td>1562</td>\n",
       "      <td>1,447.30</td>\n",
       "      <td>2.35</td>\n",
       "    </tr>\n",
       "    <tr>\n",
       "      <th>3</th>\n",
       "      <td>162</td>\n",
       "      <td>150.45</td>\n",
       "      <td>3.40</td>\n",
       "    </tr>\n",
       "    <tr>\n",
       "      <th>4</th>\n",
       "      <td>17</td>\n",
       "      <td>14.33</td>\n",
       "      <td>5.12</td>\n",
       "    </tr>\n",
       "    <tr>\n",
       "      <th>5</th>\n",
       "      <td>2</td>\n",
       "      <td>1.38</td>\n",
       "      <td>7.70</td>\n",
       "    </tr>\n",
       "  </tbody>\n",
       "</table>\n",
       "</div>"
      ],
      "text/plain": [
       "         nb_claims   exposure  frequency\n",
       "nbrtotc                                 \n",
       "0           145312 128,595.95       0.00\n",
       "1            16602  15,410.32       1.29\n",
       "2             1562   1,447.30       2.35\n",
       "3              162     150.45       3.40\n",
       "4               17      14.33       5.12\n",
       "5                2       1.38       7.70"
      ]
     },
     "execution_count": 21,
     "metadata": {},
     "output_type": "execute_result"
    }
   ],
   "source": [
    "df.groupby(nb_claims_name)[nb_claims_name, exposure_name, claim_frequency_name].agg(nb_claims=(nb_claims_name, 'count'),\\\n",
    "                                                                                    exposure=(exposure_name, 'sum'),\\\n",
    "                                                                                    frequency=(claim_frequency_name, 'mean'))"
   ]
  },
  {
   "cell_type": "code",
   "execution_count": 22,
   "id": "6d758cd1",
   "metadata": {},
   "outputs": [
    {
     "data": {
      "image/png": "[encoded data removed]",
      "text/plain": [
       "<Figure size 432x288 with 1 Axes>"
      ]
     },
     "metadata": {
      "needs_background": "light"
     },
     "output_type": "display_data"
    }
   ],
   "source": [
    "plot_avg_target_per_numerical_bin(df, ['AGEPH'], params, target=claim_frequency_name)"
   ]
  },
  {
   "cell_type": "markdown",
   "id": "1d345293",
   "metadata": {},
   "source": [
    "**Some observations:**\n",
    "\n",
    "- The variable `AGEPH` is almost monotonically decreasing, we observe a small bump between 41 and 55 yo."
   ]
  },
  {
   "cell_type": "code",
   "execution_count": 23,
   "id": "a9918126",
   "metadata": {},
   "outputs": [
    {
     "data": {
      "text/html": [
       "<div>\n",
       "<style scoped>\n",
       "    .dataframe tbody tr th:only-of-type {\n",
       "        vertical-align: middle;\n",
       "    }\n",
       "\n",
       "    .dataframe tbody tr th {\n",
       "        vertical-align: top;\n",
       "    }\n",
       "\n",
       "    .dataframe thead th {\n",
       "        text-align: right;\n",
       "    }\n",
       "</style>\n",
       "<table border=\"1\" class=\"dataframe\">\n",
       "  <thead>\n",
       "    <tr style=\"text-align: right;\">\n",
       "      <th></th>\n",
       "      <th>nbrtotc</th>\n",
       "      <th>chargtot</th>\n",
       "    </tr>\n",
       "    <tr>\n",
       "      <th>AGEPH_bin_quantile_based</th>\n",
       "      <th></th>\n",
       "      <th></th>\n",
       "    </tr>\n",
       "  </thead>\n",
       "  <tbody>\n",
       "    <tr>\n",
       "      <th>(16.0, 28.0]</th>\n",
       "      <td>0.19</td>\n",
       "      <td>364.28</td>\n",
       "    </tr>\n",
       "    <tr>\n",
       "      <th>(28.0, 33.0]</th>\n",
       "      <td>0.14</td>\n",
       "      <td>242.43</td>\n",
       "    </tr>\n",
       "    <tr>\n",
       "      <th>(33.0, 37.0]</th>\n",
       "      <td>0.13</td>\n",
       "      <td>159.98</td>\n",
       "    </tr>\n",
       "    <tr>\n",
       "      <th>(37.0, 41.0]</th>\n",
       "      <td>0.12</td>\n",
       "      <td>200.21</td>\n",
       "    </tr>\n",
       "    <tr>\n",
       "      <th>(41.0, 46.0]</th>\n",
       "      <td>0.12</td>\n",
       "      <td>222.06</td>\n",
       "    </tr>\n",
       "    <tr>\n",
       "      <th>(46.0, 50.0]</th>\n",
       "      <td>0.12</td>\n",
       "      <td>182.90</td>\n",
       "    </tr>\n",
       "    <tr>\n",
       "      <th>(50.0, 55.0]</th>\n",
       "      <td>0.11</td>\n",
       "      <td>148.41</td>\n",
       "    </tr>\n",
       "    <tr>\n",
       "      <th>(55.0, 61.0]</th>\n",
       "      <td>0.10</td>\n",
       "      <td>120.31</td>\n",
       "    </tr>\n",
       "    <tr>\n",
       "      <th>(61.0, 68.0]</th>\n",
       "      <td>0.09</td>\n",
       "      <td>112.86</td>\n",
       "    </tr>\n",
       "    <tr>\n",
       "      <th>(68.0, 95.0]</th>\n",
       "      <td>0.09</td>\n",
       "      <td>131.56</td>\n",
       "    </tr>\n",
       "  </tbody>\n",
       "</table>\n",
       "</div>"
      ],
      "text/plain": [
       "                          nbrtotc  chargtot\n",
       "AGEPH_bin_quantile_based                   \n",
       "(16.0, 28.0]                 0.19    364.28\n",
       "(28.0, 33.0]                 0.14    242.43\n",
       "(33.0, 37.0]                 0.13    159.98\n",
       "(37.0, 41.0]                 0.12    200.21\n",
       "(41.0, 46.0]                 0.12    222.06\n",
       "(46.0, 50.0]                 0.12    182.90\n",
       "(50.0, 55.0]                 0.11    148.41\n",
       "(55.0, 61.0]                 0.10    120.31\n",
       "(61.0, 68.0]                 0.09    112.86\n",
       "(68.0, 95.0]                 0.09    131.56"
      ]
     },
     "execution_count": 23,
     "metadata": {},
     "output_type": "execute_result"
    }
   ],
   "source": [
    "get_avg_target_per_numerical_bin(df, 'AGEPH', [nb_claims_name, claim_amount_name])"
   ]
  },
  {
   "cell_type": "markdown",
   "id": "59a9c837",
   "metadata": {},
   "source": [
    "## 1.4 bivariate analysis of categorical data <a name=\"one-four\"></a>"
   ]
  },
  {
   "cell_type": "code",
   "execution_count": 24,
   "id": "c207afcc",
   "metadata": {},
   "outputs": [
    {
     "data": {
      "image/png": "[encoded data removed]",
      "text/plain": [
       "<Figure size 432x288 with 1 Axes>"
      ]
     },
     "metadata": {
      "needs_background": "light"
     },
     "output_type": "display_data"
    },
    {
     "data": {
      "image/png": "[encoded data removed]",
      "text/plain": [
       "<Figure size 432x288 with 1 Axes>"
      ]
     },
     "metadata": {
      "needs_background": "light"
     },
     "output_type": "display_data"
    },
    {
     "data": {
      "image/png": "[encoded data removed]",
      "text/plain": [
       "<Figure size 432x288 with 1 Axes>"
      ]
     },
     "metadata": {
      "needs_background": "light"
     },
     "output_type": "display_data"
    },
    {
     "data": {
      "image/png": "[encoded data removed]",
      "text/plain": [
       "<Figure size 432x288 with 1 Axes>"
      ]
     },
     "metadata": {
      "needs_background": "light"
     },
     "output_type": "display_data"
    },
    {
     "data": {
      "image/png": "[encoded data removed]",
      "text/plain": [
       "<Figure size 432x288 with 1 Axes>"
      ]
     },
     "metadata": {
      "needs_background": "light"
     },
     "output_type": "display_data"
    },
    {
     "data": {
      "image/png": "[encoded data removed]",
      "text/plain": [
       "<Figure size 432x288 with 1 Axes>"
      ]
     },
     "metadata": {
      "needs_background": "light"
     },
     "output_type": "display_data"
    },
    {
     "data": {
      "image/png": "[encoded data removed]",
      "text/plain": [
       "<Figure size 432x288 with 1 Axes>"
      ]
     },
     "metadata": {
      "needs_background": "light"
     },
     "output_type": "display_data"
    },
    {
     "data": {
      "image/png": "[encoded data removed]",
      "text/plain": [
       "<Figure size 432x288 with 1 Axes>"
      ]
     },
     "metadata": {
      "needs_background": "light"
     },
     "output_type": "display_data"
    },
    {
     "data": {
      "image/png": "[encoded data removed]",
      "text/plain": [
       "<Figure size 432x288 with 1 Axes>"
      ]
     },
     "metadata": {
      "needs_background": "light"
     },
     "output_type": "display_data"
    },
    {
     "data": {
      "image/png": "[encoded data removed]",
      "text/plain": [
       "<Figure size 432x288 with 1 Axes>"
      ]
     },
     "metadata": {
      "needs_background": "light"
     },
     "output_type": "display_data"
    }
   ],
   "source": [
    "plt_avg_target_per_category(df, categorical_variables, params, target=claim_frequency_name)"
   ]
  },
  {
   "cell_type": "markdown",
   "id": "36be9af7",
   "metadata": {},
   "source": [
    "**Some observations:**\n",
    "\n",
    "- Difficult to interpret anything based on the `CODPOSS`, later on we will try to map this data to district information \n",
    "- `AGECAR`: it looks like it has a slight monotonic decreasing relationship between the claim frequency and `AGECAR`\n",
    "- `SEXP_female` is slightly riskier group than `SEXP_male` when took alone.\n",
    "- `FUELC_petrol` is slightly less risky group than `FUELC_gasoil` when took alone.\n",
    "- `SPLIT`: Policyholders who pay their coverage by Thrice are riskier tham the Once.\n",
    "- `USEC`: Professional and Private use do not seem to be significantly different.\n",
    "- `FLEETC`: The fleet group is less risky.\n",
    "- `SPORTC`: The sport group is riskier.\n",
    "- `COVERP`: difficult to draw any conclusions.\n",
    "- `POWERC`: It looks like the more power, the riskier although it is not absolutely clear."
   ]
  },
  {
   "cell_type": "code",
   "execution_count": 25,
   "id": "dc6729b1",
   "metadata": {},
   "outputs": [
    {
     "name": "stdout",
     "output_type": "stream",
     "text": [
      "         claim_frequency  nbrtotc  chargtot\n",
      "CODPOSS                                    \n",
      "6637                0.33     0.30     46.71\n",
      "1210                0.45     0.29    285.30\n",
      "1040                0.34     0.25    453.85\n",
      "3040                0.37     0.25    333.48\n",
      "3790                0.32     0.25    240.45\n",
      "...                  ...      ...       ...\n",
      "6887                0.00     0.00      0.00\n",
      "6890                0.00     0.00      0.00\n",
      "6970                0.00     0.00      0.00\n",
      "8920                0.00     0.00      0.00\n",
      "8957                0.00     0.00      0.00\n",
      "\n",
      "[583 rows x 3 columns]\n",
      "----------------------------------------------------------------------------------------------------\n",
      "        claim_frequency  nbrtotc  chargtot\n",
      "agecar                                    \n",
      "0-1                0.19     0.14    254.40\n",
      ">10                0.18     0.13    201.37\n",
      "6-10               0.16     0.13    197.88\n",
      "2-5                0.14     0.12    168.18\n",
      "----------------------------------------------------------------------------------------------------\n",
      "        claim_frequency  nbrtotc  chargtot\n",
      "sexp                                      \n",
      "Female             0.17     0.13    216.66\n",
      "Male               0.15     0.12    183.15\n",
      "----------------------------------------------------------------------------------------------------\n",
      "        claim_frequency  nbrtotc  chargtot\n",
      "fuelc                                     \n",
      "Gasoil             0.18     0.14    199.98\n",
      "Petrol             0.15     0.12    188.44\n",
      "----------------------------------------------------------------------------------------------------\n",
      "         claim_frequency  nbrtotc  chargtot\n",
      "split                                      \n",
      "Thrice              0.24     0.17    275.78\n",
      "Twice               0.16     0.13    176.21\n",
      "Monthly             0.20     0.13    216.16\n",
      "Once                0.13     0.11    180.93\n",
      "----------------------------------------------------------------------------------------------------\n",
      "              claim_frequency  nbrtotc  chargtot\n",
      "usec                                            \n",
      "Professional             0.16     0.12    180.63\n",
      "Private                  0.16     0.12    192.58\n",
      "----------------------------------------------------------------------------------------------------\n",
      "        claim_frequency  nbrtotc  chargtot\n",
      "fleetc                                    \n",
      "No                 0.16     0.12    193.89\n",
      "Yes                0.12     0.11    134.55\n",
      "----------------------------------------------------------------------------------------------------\n",
      "        claim_frequency  nbrtotc  chargtot\n",
      "sportc                                    \n",
      "Yes                0.21     0.15    236.33\n",
      "No                 0.16     0.12    191.59\n",
      "----------------------------------------------------------------------------------------------------\n",
      "         claim_frequency  nbrtotc  chargtot\n",
      "coverp                                     \n",
      "MTPL                0.17     0.13    205.67\n",
      "MTPL+++             0.14     0.12    222.38\n",
      "MTPL+               0.14     0.12    149.05\n",
      "----------------------------------------------------------------------------------------------------\n",
      "        claim_frequency  nbrtotc  chargtot\n",
      "powerc                                    \n",
      ">110               0.17     0.14    323.30\n",
      "66-110             0.16     0.13    214.53\n",
      "<66                0.16     0.12    182.24\n",
      "----------------------------------------------------------------------------------------------------\n"
     ]
    }
   ],
   "source": [
    "for cat_var in categorical_variables:\n",
    "    print(df.groupby(cat_var)[[claim_frequency_name,nb_claims_name, claim_amount_name]].mean().sort_values(by=[nb_claims_name, claim_amount_name], ascending=False))\n",
    "    print('-'*100)"
   ]
  },
  {
   "cell_type": "code",
   "execution_count": 26,
   "id": "18f33059",
   "metadata": {},
   "outputs": [
    {
     "data": {
      "text/html": [
       "<div>\n",
       "<style scoped>\n",
       "    .dataframe tbody tr th:only-of-type {\n",
       "        vertical-align: middle;\n",
       "    }\n",
       "\n",
       "    .dataframe tbody tr th {\n",
       "        vertical-align: top;\n",
       "    }\n",
       "\n",
       "    .dataframe thead th {\n",
       "        text-align: right;\n",
       "    }\n",
       "</style>\n",
       "<table border=\"1\" class=\"dataframe\">\n",
       "  <thead>\n",
       "    <tr style=\"text-align: right;\">\n",
       "      <th></th>\n",
       "      <th>Code</th>\n",
       "      <th>Localite</th>\n",
       "      <th>Longitude</th>\n",
       "      <th>Latitude</th>\n",
       "      <th>Coordonnees</th>\n",
       "      <th>Geom</th>\n",
       "    </tr>\n",
       "  </thead>\n",
       "  <tbody>\n",
       "    <tr>\n",
       "      <th>0</th>\n",
       "      <td>1050</td>\n",
       "      <td>Ixelles</td>\n",
       "      <td>4.38</td>\n",
       "      <td>50.82</td>\n",
       "      <td>50.8222854,4.3815707</td>\n",
       "      <td>NaN</td>\n",
       "    </tr>\n",
       "    <tr>\n",
       "      <th>1</th>\n",
       "      <td>1081</td>\n",
       "      <td>Koekelberg</td>\n",
       "      <td>4.33</td>\n",
       "      <td>50.86</td>\n",
       "      <td>50.8622633,4.3257084</td>\n",
       "      <td>NaN</td>\n",
       "    </tr>\n",
       "    <tr>\n",
       "      <th>2</th>\n",
       "      <td>1130</td>\n",
       "      <td>Haren</td>\n",
       "      <td>4.41</td>\n",
       "      <td>50.89</td>\n",
       "      <td>50.8919661,4.41257087324</td>\n",
       "      <td>NaN</td>\n",
       "    </tr>\n",
       "  </tbody>\n",
       "</table>\n",
       "</div>"
      ],
      "text/plain": [
       "   Code    Localite  Longitude  Latitude               Coordonnees  Geom\n",
       "0  1050     Ixelles       4.38     50.82      50.8222854,4.3815707   NaN\n",
       "1  1081  Koekelberg       4.33     50.86      50.8622633,4.3257084   NaN\n",
       "2  1130       Haren       4.41     50.89  50.8919661,4.41257087324   NaN"
      ]
     },
     "execution_count": 26,
     "metadata": {},
     "output_type": "execute_result"
    }
   ],
   "source": [
    "# processing postcode data\n",
    "postcode_mapping = pd.read_csv(params.get(Constants.LINK_TO_POSTAL_CODE_MAPPING), delimiter=';')\n",
    "postcode_mapping.head(3)"
   ]
  },
  {
   "cell_type": "code",
   "execution_count": 27,
   "id": "fb89f248",
   "metadata": {},
   "outputs": [],
   "source": [
    "postcode_mapping['Code'] = postcode_mapping['Code'].astype('str')"
   ]
  },
  {
   "cell_type": "code",
   "execution_count": 28,
   "id": "e83096e2",
   "metadata": {},
   "outputs": [],
   "source": [
    "postcode_mapping_dic = {}\n",
    "for code, district in zip(postcode_mapping.Code, postcode_mapping.Localite):\n",
    "    if code not in postcode_mapping:\n",
    "        postcode_mapping_dic[code]= district"
   ]
  },
  {
   "cell_type": "code",
   "execution_count": 29,
   "id": "032b4e7f",
   "metadata": {},
   "outputs": [],
   "source": [
    "df['district'] = df.CODPOSS.replace(postcode_mapping_dic)"
   ]
  },
  {
   "cell_type": "code",
   "execution_count": 30,
   "id": "30c8af14",
   "metadata": {},
   "outputs": [],
   "source": [
    "avg_claim_per_district = df.groupby('district')[[claim_frequency_name,nb_claims_name, claim_amount_name]].mean().sort_values(by=[claim_frequency_name, claim_amount_name], ascending=False)"
   ]
  },
  {
   "cell_type": "code",
   "execution_count": 31,
   "id": "7f9a6bf3",
   "metadata": {},
   "outputs": [
    {
     "data": {
      "text/plain": [
       "Text(0, 0.5, 'claim frequency')"
      ]
     },
     "execution_count": 31,
     "metadata": {},
     "output_type": "execute_result"
    },
    {
     "data": {
      "image/png": "[encoded data removed]",
      "text/plain": [
       "<Figure size 432x288 with 1 Axes>"
      ]
     },
     "metadata": {
      "needs_background": "light"
     },
     "output_type": "display_data"
    }
   ],
   "source": [
    "avg_claim_per_district.head(20)[[claim_frequency_name, nb_claims_name]].plot.bar()\n",
    "plt.title('Top 20 highest frequency districts')\n",
    "plt.ylabel('claim frequency')"
   ]
  },
  {
   "cell_type": "markdown",
   "id": "8b17cf1f",
   "metadata": {},
   "source": [
    "A lot of riskier district are from **Bruxelles** (ex: Sint-Josse, Schaerbeek, Etterbeek, Saint-Gilles, Uccle, Molenbeek, Woluwe, Ixelles)"
   ]
  },
  {
   "cell_type": "code",
   "execution_count": 32,
   "id": "8c77e4aa",
   "metadata": {},
   "outputs": [
    {
     "data": {
      "text/plain": [
       "Text(0, 0.5, 'claim frequency')"
      ]
     },
     "execution_count": 32,
     "metadata": {},
     "output_type": "execute_result"
    },
    {
     "data": {
      "image/png": "[encoded data removed]",
      "text/plain": [
       "<Figure size 432x288 with 1 Axes>"
      ]
     },
     "metadata": {
      "needs_background": "light"
     },
     "output_type": "display_data"
    }
   ],
   "source": [
    "avg_claim_per_district.tail(20)[[claim_frequency_name, nb_claims_name]].plot.bar()\n",
    "plt.title('Top 20 lowest frequency districts')\n",
    "plt.ylabel('claim frequency')"
   ]
  },
  {
   "cell_type": "code",
   "execution_count": 33,
   "id": "00013038",
   "metadata": {},
   "outputs": [],
   "source": [
    "#TODO: check the interactions between variables (probably interaction between age and sex and other properties of the car)"
   ]
  },
  {
   "cell_type": "markdown",
   "id": "619cb815",
   "metadata": {},
   "source": [
    "# 2. Feature Engineering <a name=\"two\"></a>"
   ]
  },
  {
   "cell_type": "markdown",
   "id": "f95bd3b9",
   "metadata": {},
   "source": [
    "We decide to work only with categorical variables in order for faciliate the interpretation. "
   ]
  },
  {
   "cell_type": "code",
   "execution_count": 34,
   "id": "489de050",
   "metadata": {},
   "outputs": [],
   "source": [
    "for cat_var in categorical_variables:\n",
    "    df[cat_var] = pd.Categorical(df[cat_var])\n",
    "for num_var in numerical_variables:\n",
    "    df[num_var] = pd.to_numeric(df[num_var])"
   ]
  },
  {
   "cell_type": "code",
   "execution_count": 35,
   "id": "e4b2224e",
   "metadata": {},
   "outputs": [],
   "source": [
    "df, risk_group_mapping = apply_mean_hot_categorical_encoding(df, claim_frequency_name, 'district', nb_bin=3) #, risk_groups = ['A', 'B', 'C', 'D', 'E'])"
   ]
  },
  {
   "cell_type": "markdown",
   "id": "9a89366f",
   "metadata": {},
   "source": [
    "In order to reduce the dimensionality, we proceed to a **mean-hot categorical encoding**. Based on the claim frequency, we want create three categories *high*, *medium* and *low* risk groups."
   ]
  },
  {
   "cell_type": "code",
   "execution_count": 36,
   "id": "2c46b1f2",
   "metadata": {},
   "outputs": [
    {
     "name": "stdout",
     "output_type": "stream",
     "text": [
      "'s Gravenwezel ---> high\n",
      "Aalst ---> high\n",
      "Aartselaar ---> medium\n",
      "Aiseau ---> medium\n",
      "Alken ---> medium\n",
      "Alveringem ---> high\n",
      "Anderlecht ---> high\n",
      "Anderlues ---> medium\n",
      "Anloy ---> low\n",
      "Ans ---> medium\n",
      "Anthisnes ---> low\n",
      "Anthée ---> low\n",
      "Antoing ---> low\n",
      "Antwerpen ---> high\n",
      "Anvaing ---> high\n",
      "Arbrefontaine ---> medium\n",
      "Ardooie ---> medium\n",
      "Arendonk ---> low\n",
      "As ---> high\n",
      "Assenede ---> low\n",
      "Assent ---> medium\n"
     ]
    }
   ],
   "source": [
    "for i,(district, risk_group) in enumerate(risk_group_mapping.items()):\n",
    "    if i >20:\n",
    "        break\n",
    "    print(f'{district} ---> {risk_group}')\n",
    "        "
   ]
  },
  {
   "cell_type": "code",
   "execution_count": 37,
   "id": "21dfa2ef",
   "metadata": {},
   "outputs": [],
   "source": [
    "df = bin_numerical_variables(df, 'AGEPH', nb_bin=5)"
   ]
  },
  {
   "cell_type": "markdown",
   "id": "4fd8b023",
   "metadata": {},
   "source": []
  },
  {
   "cell_type": "code",
   "execution_count": 38,
   "id": "a9a030c2",
   "metadata": {},
   "outputs": [
    {
     "data": {
      "text/html": [
       "<div>\n",
       "<style scoped>\n",
       "    .dataframe tbody tr th:only-of-type {\n",
       "        vertical-align: middle;\n",
       "    }\n",
       "\n",
       "    .dataframe tbody tr th {\n",
       "        vertical-align: top;\n",
       "    }\n",
       "\n",
       "    .dataframe thead th {\n",
       "        text-align: right;\n",
       "    }\n",
       "</style>\n",
       "<table border=\"1\" class=\"dataframe\">\n",
       "  <thead>\n",
       "    <tr style=\"text-align: right;\">\n",
       "      <th></th>\n",
       "      <th>AGEPH</th>\n",
       "      <th>CODPOSS</th>\n",
       "      <th>duree</th>\n",
       "      <th>lnexpo</th>\n",
       "      <th>nbrtotc</th>\n",
       "      <th>nbrtotan</th>\n",
       "      <th>chargtot</th>\n",
       "      <th>agecar</th>\n",
       "      <th>sexp</th>\n",
       "      <th>fuelc</th>\n",
       "      <th>split</th>\n",
       "      <th>usec</th>\n",
       "      <th>fleetc</th>\n",
       "      <th>sportc</th>\n",
       "      <th>coverp</th>\n",
       "      <th>powerc</th>\n",
       "      <th>claim_frequency</th>\n",
       "      <th>district</th>\n",
       "      <th>district_risk_group</th>\n",
       "      <th>AGEPH_bin</th>\n",
       "    </tr>\n",
       "  </thead>\n",
       "  <tbody>\n",
       "    <tr>\n",
       "      <th>0</th>\n",
       "      <td>64</td>\n",
       "      <td>1000</td>\n",
       "      <td>1.00</td>\n",
       "      <td>0.00</td>\n",
       "      <td>0</td>\n",
       "      <td>0.00</td>\n",
       "      <td>0.00</td>\n",
       "      <td>2-5</td>\n",
       "      <td>Female</td>\n",
       "      <td>Petrol</td>\n",
       "      <td>Once</td>\n",
       "      <td>Private</td>\n",
       "      <td>No</td>\n",
       "      <td>No</td>\n",
       "      <td>MTPL+</td>\n",
       "      <td>66-110</td>\n",
       "      <td>0.00</td>\n",
       "      <td>Bruxelles</td>\n",
       "      <td>high</td>\n",
       "      <td>(61.0, 95.0]</td>\n",
       "    </tr>\n",
       "    <tr>\n",
       "      <th>1</th>\n",
       "      <td>28</td>\n",
       "      <td>1000</td>\n",
       "      <td>0.05</td>\n",
       "      <td>-3.07</td>\n",
       "      <td>1</td>\n",
       "      <td>21.47</td>\n",
       "      <td>155.97</td>\n",
       "      <td>6-10</td>\n",
       "      <td>Female</td>\n",
       "      <td>Petrol</td>\n",
       "      <td>Twice</td>\n",
       "      <td>Private</td>\n",
       "      <td>No</td>\n",
       "      <td>No</td>\n",
       "      <td>MTPL</td>\n",
       "      <td>66-110</td>\n",
       "      <td>21.47</td>\n",
       "      <td>Bruxelles</td>\n",
       "      <td>high</td>\n",
       "      <td>(16.999, 33.0]</td>\n",
       "    </tr>\n",
       "    <tr>\n",
       "      <th>2</th>\n",
       "      <td>58</td>\n",
       "      <td>1000</td>\n",
       "      <td>0.40</td>\n",
       "      <td>-0.91</td>\n",
       "      <td>0</td>\n",
       "      <td>0.00</td>\n",
       "      <td>0.00</td>\n",
       "      <td>&gt;10</td>\n",
       "      <td>Female</td>\n",
       "      <td>Petrol</td>\n",
       "      <td>Thrice</td>\n",
       "      <td>Private</td>\n",
       "      <td>No</td>\n",
       "      <td>No</td>\n",
       "      <td>MTPL</td>\n",
       "      <td>&lt;66</td>\n",
       "      <td>0.00</td>\n",
       "      <td>Bruxelles</td>\n",
       "      <td>high</td>\n",
       "      <td>(50.0, 61.0]</td>\n",
       "    </tr>\n",
       "    <tr>\n",
       "      <th>3</th>\n",
       "      <td>37</td>\n",
       "      <td>1030</td>\n",
       "      <td>0.17</td>\n",
       "      <td>-1.77</td>\n",
       "      <td>0</td>\n",
       "      <td>0.00</td>\n",
       "      <td>0.00</td>\n",
       "      <td>2-5</td>\n",
       "      <td>Female</td>\n",
       "      <td>Petrol</td>\n",
       "      <td>Once</td>\n",
       "      <td>Professional</td>\n",
       "      <td>No</td>\n",
       "      <td>No</td>\n",
       "      <td>MTPL+++</td>\n",
       "      <td>66-110</td>\n",
       "      <td>0.00</td>\n",
       "      <td>Schaerbeek</td>\n",
       "      <td>high</td>\n",
       "      <td>(33.0, 41.0]</td>\n",
       "    </tr>\n",
       "    <tr>\n",
       "      <th>4</th>\n",
       "      <td>29</td>\n",
       "      <td>1030</td>\n",
       "      <td>1.00</td>\n",
       "      <td>0.00</td>\n",
       "      <td>0</td>\n",
       "      <td>0.00</td>\n",
       "      <td>0.00</td>\n",
       "      <td>6-10</td>\n",
       "      <td>Female</td>\n",
       "      <td>Petrol</td>\n",
       "      <td>Once</td>\n",
       "      <td>Private</td>\n",
       "      <td>No</td>\n",
       "      <td>No</td>\n",
       "      <td>MTPL+</td>\n",
       "      <td>&lt;66</td>\n",
       "      <td>0.00</td>\n",
       "      <td>Schaerbeek</td>\n",
       "      <td>high</td>\n",
       "      <td>(16.999, 33.0]</td>\n",
       "    </tr>\n",
       "  </tbody>\n",
       "</table>\n",
       "</div>"
      ],
      "text/plain": [
       "   AGEPH CODPOSS  duree  lnexpo  nbrtotc  nbrtotan  chargtot agecar    sexp  \\\n",
       "0     64    1000   1.00    0.00        0      0.00      0.00    2-5  Female   \n",
       "1     28    1000   0.05   -3.07        1     21.47    155.97   6-10  Female   \n",
       "2     58    1000   0.40   -0.91        0      0.00      0.00    >10  Female   \n",
       "3     37    1030   0.17   -1.77        0      0.00      0.00    2-5  Female   \n",
       "4     29    1030   1.00    0.00        0      0.00      0.00   6-10  Female   \n",
       "\n",
       "    fuelc   split          usec fleetc sportc   coverp  powerc  \\\n",
       "0  Petrol    Once       Private     No     No    MTPL+  66-110   \n",
       "1  Petrol   Twice       Private     No     No     MTPL  66-110   \n",
       "2  Petrol  Thrice       Private     No     No     MTPL     <66   \n",
       "3  Petrol    Once  Professional     No     No  MTPL+++  66-110   \n",
       "4  Petrol    Once       Private     No     No    MTPL+     <66   \n",
       "\n",
       "   claim_frequency    district district_risk_group       AGEPH_bin  \n",
       "0             0.00   Bruxelles                high    (61.0, 95.0]  \n",
       "1            21.47   Bruxelles                high  (16.999, 33.0]  \n",
       "2             0.00   Bruxelles                high    (50.0, 61.0]  \n",
       "3             0.00  Schaerbeek                high    (33.0, 41.0]  \n",
       "4             0.00  Schaerbeek                high  (16.999, 33.0]  "
      ]
     },
     "execution_count": 38,
     "metadata": {},
     "output_type": "execute_result"
    }
   ],
   "source": [
    "df.head()"
   ]
  },
  {
   "cell_type": "code",
   "execution_count": 39,
   "id": "f785bcde",
   "metadata": {},
   "outputs": [
    {
     "data": {
      "text/plain": [
       "AGEPH                     int64\n",
       "CODPOSS                category\n",
       "duree                   float64\n",
       "lnexpo                  float64\n",
       "nbrtotc                   int64\n",
       "nbrtotan                float64\n",
       "chargtot                float64\n",
       "agecar                 category\n",
       "sexp                   category\n",
       "fuelc                  category\n",
       "split                  category\n",
       "usec                   category\n",
       "fleetc                 category\n",
       "sportc                 category\n",
       "coverp                 category\n",
       "powerc                 category\n",
       "claim_frequency         float64\n",
       "district                 object\n",
       "district_risk_group    category\n",
       "AGEPH_bin              category\n",
       "dtype: object"
      ]
     },
     "execution_count": 39,
     "metadata": {},
     "output_type": "execute_result"
    }
   ],
   "source": [
    "df.dtypes"
   ]
  },
  {
   "cell_type": "markdown",
   "id": "583c73c6",
   "metadata": {},
   "source": [
    "## 2.1 Processing with Binning continuous variables <a name=\"two-one\"></a>"
   ]
  },
  {
   "cell_type": "code",
   "execution_count": 40,
   "id": "0ebed6ca",
   "metadata": {},
   "outputs": [],
   "source": [
    "test_size, random_state = params.get(Constants.TEST_SIZE), params.get(Constants.RANDOM_STATE)"
   ]
  },
  {
   "cell_type": "code",
   "execution_count": 41,
   "id": "04c5058e",
   "metadata": {},
   "outputs": [],
   "source": [
    "df_cp = df.copy()"
   ]
  },
  {
   "cell_type": "code",
   "execution_count": 42,
   "id": "9603ed10",
   "metadata": {},
   "outputs": [
    {
     "data": {
      "text/plain": [
       "Index(['AGEPH', 'CODPOSS', 'duree', 'lnexpo', 'nbrtotc', 'nbrtotan',\n",
       "       'chargtot', 'agecar', 'sexp', 'fuelc', 'split', 'usec', 'fleetc',\n",
       "       'sportc', 'coverp', 'powerc', 'claim_frequency', 'district',\n",
       "       'district_risk_group', 'AGEPH_bin'],\n",
       "      dtype='object')"
      ]
     },
     "execution_count": 42,
     "metadata": {},
     "output_type": "execute_result"
    }
   ],
   "source": [
    "df.columns"
   ]
  },
  {
   "cell_type": "code",
   "execution_count": 43,
   "id": "a4d1f4ed",
   "metadata": {},
   "outputs": [],
   "source": [
    "#nb_claims, claim_amount, claim_frequency = df[nb_claims_name], df[claim_amount_name], df[claim_frequency_name]\n",
    "#exposure = df[exposure_name]"
   ]
  },
  {
   "cell_type": "code",
   "execution_count": 44,
   "id": "a26b83b6",
   "metadata": {},
   "outputs": [],
   "source": [
    "non_predictor_variables = [\n",
    "                         #claim_amount_name, \\\n",
    "                           claim_frequency_name, \\\n",
    "                      #     nb_claims_name,\n",
    "                           'nbrtotan',\n",
    "                           'district',\n",
    "                           'CODPOSS',\n",
    "                            'AGEPH',\n",
    "                           *params.get(Constants.VARIABLES_TO_EXCLUDE)]"
   ]
  },
  {
   "cell_type": "code",
   "execution_count": 45,
   "id": "47630b6b",
   "metadata": {},
   "outputs": [],
   "source": [
    "df_step1 =df.drop(columns=non_predictor_variables)"
   ]
  },
  {
   "cell_type": "code",
   "execution_count": 46,
   "id": "a719b6a2",
   "metadata": {},
   "outputs": [
    {
     "data": {
      "text/plain": [
       "Index(['duree', 'nbrtotc', 'chargtot', 'agecar', 'sexp', 'fuelc', 'split',\n",
       "       'usec', 'fleetc', 'sportc', 'coverp', 'powerc', 'district_risk_group',\n",
       "       'AGEPH_bin'],\n",
       "      dtype='object')"
      ]
     },
     "execution_count": 46,
     "metadata": {},
     "output_type": "execute_result"
    }
   ],
   "source": [
    "df_step1.columns"
   ]
  },
  {
   "cell_type": "code",
   "execution_count": 47,
   "id": "b9f84893",
   "metadata": {},
   "outputs": [
    {
     "data": {
      "text/plain": [
       "duree                   float64\n",
       "nbrtotc                   int64\n",
       "chargtot                float64\n",
       "agecar                 category\n",
       "sexp                   category\n",
       "fuelc                  category\n",
       "split                  category\n",
       "usec                   category\n",
       "fleetc                 category\n",
       "sportc                 category\n",
       "coverp                 category\n",
       "powerc                 category\n",
       "district_risk_group    category\n",
       "AGEPH_bin              category\n",
       "dtype: object"
      ]
     },
     "execution_count": 47,
     "metadata": {},
     "output_type": "execute_result"
    }
   ],
   "source": [
    "df_step1.dtypes"
   ]
  },
  {
   "cell_type": "code",
   "execution_count": 48,
   "id": "f0c564fa",
   "metadata": {},
   "outputs": [
    {
     "data": {
      "text/html": [
       "<div>\n",
       "<style scoped>\n",
       "    .dataframe tbody tr th:only-of-type {\n",
       "        vertical-align: middle;\n",
       "    }\n",
       "\n",
       "    .dataframe tbody tr th {\n",
       "        vertical-align: top;\n",
       "    }\n",
       "\n",
       "    .dataframe thead th {\n",
       "        text-align: right;\n",
       "    }\n",
       "</style>\n",
       "<table border=\"1\" class=\"dataframe\">\n",
       "  <thead>\n",
       "    <tr style=\"text-align: right;\">\n",
       "      <th></th>\n",
       "      <th>nb_unique_categories</th>\n",
       "      <th>distribution</th>\n",
       "    </tr>\n",
       "  </thead>\n",
       "  <tbody>\n",
       "    <tr>\n",
       "      <th>agecar</th>\n",
       "      <td>4</td>\n",
       "      <td>{'6-10': '41.03%', '2-5': '31.50%', '&gt;10': '22.72%', '0-1': '4.75%'}</td>\n",
       "    </tr>\n",
       "    <tr>\n",
       "      <th>sexp</th>\n",
       "      <td>2</td>\n",
       "      <td>{'Male': '73.59%', 'Female': '26.41%'}</td>\n",
       "    </tr>\n",
       "    <tr>\n",
       "      <th>fuelc</th>\n",
       "      <td>2</td>\n",
       "      <td>{'Petrol': '69.18%', 'Gasoil': '30.82%'}</td>\n",
       "    </tr>\n",
       "    <tr>\n",
       "      <th>split</th>\n",
       "      <td>4</td>\n",
       "      <td>{'Once': '49.79%', 'Twice': '28.08%', 'Monthly': '14.42%', 'Thrice': '7.71%'}</td>\n",
       "    </tr>\n",
       "    <tr>\n",
       "      <th>usec</th>\n",
       "      <td>2</td>\n",
       "      <td>{'Private': '95.11%', 'Professional': '4.89%'}</td>\n",
       "    </tr>\n",
       "    <tr>\n",
       "      <th>fleetc</th>\n",
       "      <td>2</td>\n",
       "      <td>{'No': '96.80%', 'Yes': '3.20%'}</td>\n",
       "    </tr>\n",
       "    <tr>\n",
       "      <th>sportc</th>\n",
       "      <td>2</td>\n",
       "      <td>{'No': '99.08%', 'Yes': '0.92%'}</td>\n",
       "    </tr>\n",
       "    <tr>\n",
       "      <th>coverp</th>\n",
       "      <td>3</td>\n",
       "      <td>{'MTPL': '58.30%', 'MTPL+': '28.15%', 'MTPL+++': '13.55%'}</td>\n",
       "    </tr>\n",
       "    <tr>\n",
       "      <th>powerc</th>\n",
       "      <td>3</td>\n",
       "      <td>{'&lt;66': '73.21%', '66-110': '25.78%', '&gt;110': '1.01%'}</td>\n",
       "    </tr>\n",
       "    <tr>\n",
       "      <th>district_risk_group</th>\n",
       "      <td>3</td>\n",
       "      <td>{'high': '45.56%', 'medium': '35.31%', 'low': '19.13%'}</td>\n",
       "    </tr>\n",
       "    <tr>\n",
       "      <th>AGEPH_bin</th>\n",
       "      <td>5</td>\n",
       "      <td>{'(16.999, 33.0]': '21.56%', '(41.0, 50.0]': '21.29%', '(61.0, 95.0]': '19.62%', '(50.0, 61.0]': '18.80%', '(33.0, 41.0]': '18.73%'}</td>\n",
       "    </tr>\n",
       "  </tbody>\n",
       "</table>\n",
       "</div>"
      ],
      "text/plain": [
       "                     nb_unique_categories  \\\n",
       "agecar                                  4   \n",
       "sexp                                    2   \n",
       "fuelc                                   2   \n",
       "split                                   4   \n",
       "usec                                    2   \n",
       "fleetc                                  2   \n",
       "sportc                                  2   \n",
       "coverp                                  3   \n",
       "powerc                                  3   \n",
       "district_risk_group                     3   \n",
       "AGEPH_bin                               5   \n",
       "\n",
       "                                                                                                                                             distribution  \n",
       "agecar                                                                               {'6-10': '41.03%', '2-5': '31.50%', '>10': '22.72%', '0-1': '4.75%'}  \n",
       "sexp                                                                                                               {'Male': '73.59%', 'Female': '26.41%'}  \n",
       "fuelc                                                                                                            {'Petrol': '69.18%', 'Gasoil': '30.82%'}  \n",
       "split                                                                       {'Once': '49.79%', 'Twice': '28.08%', 'Monthly': '14.42%', 'Thrice': '7.71%'}  \n",
       "usec                                                                                                       {'Private': '95.11%', 'Professional': '4.89%'}  \n",
       "fleetc                                                                                                                   {'No': '96.80%', 'Yes': '3.20%'}  \n",
       "sportc                                                                                                                   {'No': '99.08%', 'Yes': '0.92%'}  \n",
       "coverp                                                                                         {'MTPL': '58.30%', 'MTPL+': '28.15%', 'MTPL+++': '13.55%'}  \n",
       "powerc                                                                                             {'<66': '73.21%', '66-110': '25.78%', '>110': '1.01%'}  \n",
       "district_risk_group                                                                               {'high': '45.56%', 'medium': '35.31%', 'low': '19.13%'}  \n",
       "AGEPH_bin            {'(16.999, 33.0]': '21.56%', '(41.0, 50.0]': '21.29%', '(61.0, 95.0]': '19.62%', '(50.0, 61.0]': '18.80%', '(33.0, 41.0]': '18.73%'}  "
      ]
     },
     "execution_count": 48,
     "metadata": {},
     "output_type": "execute_result"
    }
   ],
   "source": [
    "get_distribution_info_for_categorical_variables(df_step1)"
   ]
  },
  {
   "cell_type": "code",
   "execution_count": 49,
   "id": "3f7860a3",
   "metadata": {},
   "outputs": [
    {
     "data": {
      "text/html": [
       "<div>\n",
       "<style scoped>\n",
       "    .dataframe tbody tr th:only-of-type {\n",
       "        vertical-align: middle;\n",
       "    }\n",
       "\n",
       "    .dataframe tbody tr th {\n",
       "        vertical-align: top;\n",
       "    }\n",
       "\n",
       "    .dataframe thead th {\n",
       "        text-align: right;\n",
       "    }\n",
       "</style>\n",
       "<table border=\"1\" class=\"dataframe\">\n",
       "  <thead>\n",
       "    <tr style=\"text-align: right;\">\n",
       "      <th></th>\n",
       "      <th>duree</th>\n",
       "      <th>nbrtotc</th>\n",
       "      <th>chargtot</th>\n",
       "      <th>agecar</th>\n",
       "      <th>sexp</th>\n",
       "      <th>fuelc</th>\n",
       "      <th>split</th>\n",
       "      <th>usec</th>\n",
       "      <th>fleetc</th>\n",
       "      <th>sportc</th>\n",
       "      <th>coverp</th>\n",
       "      <th>powerc</th>\n",
       "      <th>district_risk_group</th>\n",
       "      <th>AGEPH_bin</th>\n",
       "    </tr>\n",
       "  </thead>\n",
       "  <tbody>\n",
       "    <tr>\n",
       "      <th>0</th>\n",
       "      <td>1.00</td>\n",
       "      <td>0</td>\n",
       "      <td>0.00</td>\n",
       "      <td>2-5</td>\n",
       "      <td>Female</td>\n",
       "      <td>Petrol</td>\n",
       "      <td>Once</td>\n",
       "      <td>Private</td>\n",
       "      <td>No</td>\n",
       "      <td>No</td>\n",
       "      <td>MTPL+</td>\n",
       "      <td>66-110</td>\n",
       "      <td>high</td>\n",
       "      <td>(61.0, 95.0]</td>\n",
       "    </tr>\n",
       "    <tr>\n",
       "      <th>1</th>\n",
       "      <td>0.05</td>\n",
       "      <td>1</td>\n",
       "      <td>155.97</td>\n",
       "      <td>6-10</td>\n",
       "      <td>Female</td>\n",
       "      <td>Petrol</td>\n",
       "      <td>Twice</td>\n",
       "      <td>Private</td>\n",
       "      <td>No</td>\n",
       "      <td>No</td>\n",
       "      <td>MTPL</td>\n",
       "      <td>66-110</td>\n",
       "      <td>high</td>\n",
       "      <td>(16.999, 33.0]</td>\n",
       "    </tr>\n",
       "    <tr>\n",
       "      <th>2</th>\n",
       "      <td>0.40</td>\n",
       "      <td>0</td>\n",
       "      <td>0.00</td>\n",
       "      <td>&gt;10</td>\n",
       "      <td>Female</td>\n",
       "      <td>Petrol</td>\n",
       "      <td>Thrice</td>\n",
       "      <td>Private</td>\n",
       "      <td>No</td>\n",
       "      <td>No</td>\n",
       "      <td>MTPL</td>\n",
       "      <td>&lt;66</td>\n",
       "      <td>high</td>\n",
       "      <td>(50.0, 61.0]</td>\n",
       "    </tr>\n",
       "    <tr>\n",
       "      <th>3</th>\n",
       "      <td>0.17</td>\n",
       "      <td>0</td>\n",
       "      <td>0.00</td>\n",
       "      <td>2-5</td>\n",
       "      <td>Female</td>\n",
       "      <td>Petrol</td>\n",
       "      <td>Once</td>\n",
       "      <td>Professional</td>\n",
       "      <td>No</td>\n",
       "      <td>No</td>\n",
       "      <td>MTPL+++</td>\n",
       "      <td>66-110</td>\n",
       "      <td>high</td>\n",
       "      <td>(33.0, 41.0]</td>\n",
       "    </tr>\n",
       "    <tr>\n",
       "      <th>4</th>\n",
       "      <td>1.00</td>\n",
       "      <td>0</td>\n",
       "      <td>0.00</td>\n",
       "      <td>6-10</td>\n",
       "      <td>Female</td>\n",
       "      <td>Petrol</td>\n",
       "      <td>Once</td>\n",
       "      <td>Private</td>\n",
       "      <td>No</td>\n",
       "      <td>No</td>\n",
       "      <td>MTPL+</td>\n",
       "      <td>&lt;66</td>\n",
       "      <td>high</td>\n",
       "      <td>(16.999, 33.0]</td>\n",
       "    </tr>\n",
       "    <tr>\n",
       "      <th>...</th>\n",
       "      <td>...</td>\n",
       "      <td>...</td>\n",
       "      <td>...</td>\n",
       "      <td>...</td>\n",
       "      <td>...</td>\n",
       "      <td>...</td>\n",
       "      <td>...</td>\n",
       "      <td>...</td>\n",
       "      <td>...</td>\n",
       "      <td>...</td>\n",
       "      <td>...</td>\n",
       "      <td>...</td>\n",
       "      <td>...</td>\n",
       "      <td>...</td>\n",
       "    </tr>\n",
       "    <tr>\n",
       "      <th>163652</th>\n",
       "      <td>1.00</td>\n",
       "      <td>0</td>\n",
       "      <td>0.00</td>\n",
       "      <td>2-5</td>\n",
       "      <td>Male</td>\n",
       "      <td>Petrol</td>\n",
       "      <td>Once</td>\n",
       "      <td>Private</td>\n",
       "      <td>No</td>\n",
       "      <td>No</td>\n",
       "      <td>MTPL+</td>\n",
       "      <td>&lt;66</td>\n",
       "      <td>low</td>\n",
       "      <td>(41.0, 50.0]</td>\n",
       "    </tr>\n",
       "    <tr>\n",
       "      <th>163653</th>\n",
       "      <td>1.00</td>\n",
       "      <td>0</td>\n",
       "      <td>0.00</td>\n",
       "      <td>6-10</td>\n",
       "      <td>Male</td>\n",
       "      <td>Petrol</td>\n",
       "      <td>Once</td>\n",
       "      <td>Private</td>\n",
       "      <td>No</td>\n",
       "      <td>No</td>\n",
       "      <td>MTPL</td>\n",
       "      <td>&lt;66</td>\n",
       "      <td>low</td>\n",
       "      <td>(61.0, 95.0]</td>\n",
       "    </tr>\n",
       "    <tr>\n",
       "      <th>163654</th>\n",
       "      <td>1.00</td>\n",
       "      <td>0</td>\n",
       "      <td>0.00</td>\n",
       "      <td>2-5</td>\n",
       "      <td>Male</td>\n",
       "      <td>Petrol</td>\n",
       "      <td>Twice</td>\n",
       "      <td>Private</td>\n",
       "      <td>No</td>\n",
       "      <td>No</td>\n",
       "      <td>MTPL</td>\n",
       "      <td>&lt;66</td>\n",
       "      <td>low</td>\n",
       "      <td>(61.0, 95.0]</td>\n",
       "    </tr>\n",
       "    <tr>\n",
       "      <th>163655</th>\n",
       "      <td>1.00</td>\n",
       "      <td>1</td>\n",
       "      <td>3,177.99</td>\n",
       "      <td>&gt;10</td>\n",
       "      <td>Male</td>\n",
       "      <td>Petrol</td>\n",
       "      <td>Once</td>\n",
       "      <td>Private</td>\n",
       "      <td>Yes</td>\n",
       "      <td>No</td>\n",
       "      <td>MTPL</td>\n",
       "      <td>&lt;66</td>\n",
       "      <td>low</td>\n",
       "      <td>(50.0, 61.0]</td>\n",
       "    </tr>\n",
       "    <tr>\n",
       "      <th>163656</th>\n",
       "      <td>1.00</td>\n",
       "      <td>2</td>\n",
       "      <td>13,818.23</td>\n",
       "      <td>2-5</td>\n",
       "      <td>Male</td>\n",
       "      <td>Petrol</td>\n",
       "      <td>Once</td>\n",
       "      <td>Private</td>\n",
       "      <td>No</td>\n",
       "      <td>No</td>\n",
       "      <td>MTPL+++</td>\n",
       "      <td>&lt;66</td>\n",
       "      <td>high</td>\n",
       "      <td>(16.999, 33.0]</td>\n",
       "    </tr>\n",
       "  </tbody>\n",
       "</table>\n",
       "<p>163657 rows × 14 columns</p>\n",
       "</div>"
      ],
      "text/plain": [
       "        duree  nbrtotc  chargtot agecar    sexp   fuelc   split          usec  \\\n",
       "0        1.00        0      0.00    2-5  Female  Petrol    Once       Private   \n",
       "1        0.05        1    155.97   6-10  Female  Petrol   Twice       Private   \n",
       "2        0.40        0      0.00    >10  Female  Petrol  Thrice       Private   \n",
       "3        0.17        0      0.00    2-5  Female  Petrol    Once  Professional   \n",
       "4        1.00        0      0.00   6-10  Female  Petrol    Once       Private   \n",
       "...       ...      ...       ...    ...     ...     ...     ...           ...   \n",
       "163652   1.00        0      0.00    2-5    Male  Petrol    Once       Private   \n",
       "163653   1.00        0      0.00   6-10    Male  Petrol    Once       Private   \n",
       "163654   1.00        0      0.00    2-5    Male  Petrol   Twice       Private   \n",
       "163655   1.00        1  3,177.99    >10    Male  Petrol    Once       Private   \n",
       "163656   1.00        2 13,818.23    2-5    Male  Petrol    Once       Private   \n",
       "\n",
       "       fleetc sportc   coverp  powerc district_risk_group       AGEPH_bin  \n",
       "0          No     No    MTPL+  66-110                high    (61.0, 95.0]  \n",
       "1          No     No     MTPL  66-110                high  (16.999, 33.0]  \n",
       "2          No     No     MTPL     <66                high    (50.0, 61.0]  \n",
       "3          No     No  MTPL+++  66-110                high    (33.0, 41.0]  \n",
       "4          No     No    MTPL+     <66                high  (16.999, 33.0]  \n",
       "...       ...    ...      ...     ...                 ...             ...  \n",
       "163652     No     No    MTPL+     <66                 low    (41.0, 50.0]  \n",
       "163653     No     No     MTPL     <66                 low    (61.0, 95.0]  \n",
       "163654     No     No     MTPL     <66                 low    (61.0, 95.0]  \n",
       "163655    Yes     No     MTPL     <66                 low    (50.0, 61.0]  \n",
       "163656     No     No  MTPL+++     <66                high  (16.999, 33.0]  \n",
       "\n",
       "[163657 rows x 14 columns]"
      ]
     },
     "execution_count": 49,
     "metadata": {},
     "output_type": "execute_result"
    }
   ],
   "source": [
    "df_step1"
   ]
  },
  {
   "cell_type": "markdown",
   "id": "6250dbdd",
   "metadata": {},
   "source": [
    "### 2.1.1 Dummy Coding with reference class <a name=\"two-one-one\"></a>"
   ]
  },
  {
   "cell_type": "code",
   "execution_count": 50,
   "id": "b64c3be1",
   "metadata": {},
   "outputs": [],
   "source": [
    "df_step1_dummy = pd.get_dummies(df_step1)"
   ]
  },
  {
   "cell_type": "code",
   "execution_count": 51,
   "id": "00045736",
   "metadata": {},
   "outputs": [
    {
     "data": {
      "text/plain": [
       "(163657, 35)"
      ]
     },
     "execution_count": 51,
     "metadata": {},
     "output_type": "execute_result"
    }
   ],
   "source": [
    "df_step1_dummy.shape"
   ]
  },
  {
   "cell_type": "code",
   "execution_count": 52,
   "id": "5ac9d29f",
   "metadata": {},
   "outputs": [
    {
     "name": "stdout",
     "output_type": "stream",
     "text": [
      "The reference class of agecar is 2-5\n",
      "The reference class of sexp is Male\n",
      "The reference class of fuelc is Petrol\n",
      "The reference class of split is Once\n",
      "The reference class of usec is Private\n",
      "The reference class of fleetc is Yes\n",
      "The reference class of sportc is No\n",
      "The reference class of coverp is MTPL+\n",
      "The reference class of powerc is <66\n",
      "The reference class of district_risk_group is low\n",
      "The reference class of AGEPH_bin is (61.0, 95.0]\n"
     ]
    }
   ],
   "source": [
    "reference_class_lst = get_reference_classes(df_step1, nb_claims_name, exposure_name)"
   ]
  },
  {
   "cell_type": "markdown",
   "id": "04ea8164",
   "metadata": {},
   "source": [
    "The policyholder belonging to all those classes is the less risky"
   ]
  },
  {
   "cell_type": "code",
   "execution_count": 53,
   "id": "48545550",
   "metadata": {},
   "outputs": [
    {
     "data": {
      "text/plain": [
       "['agecar_2-5',\n",
       " 'sexp_Male',\n",
       " 'fuelc_Petrol',\n",
       " 'split_Once',\n",
       " 'usec_Private',\n",
       " 'fleetc_Yes',\n",
       " 'sportc_No',\n",
       " 'coverp_MTPL+',\n",
       " 'powerc_<66',\n",
       " 'district_risk_group_low',\n",
       " 'AGEPH_bin_(61.0, 95.0]']"
      ]
     },
     "execution_count": 53,
     "metadata": {},
     "output_type": "execute_result"
    }
   ],
   "source": [
    "reference_class_lst"
   ]
  },
  {
   "cell_type": "code",
   "execution_count": 54,
   "id": "1faa0806",
   "metadata": {},
   "outputs": [
    {
     "data": {
      "text/html": [
       "<div>\n",
       "<style scoped>\n",
       "    .dataframe tbody tr th:only-of-type {\n",
       "        vertical-align: middle;\n",
       "    }\n",
       "\n",
       "    .dataframe tbody tr th {\n",
       "        vertical-align: top;\n",
       "    }\n",
       "\n",
       "    .dataframe thead th {\n",
       "        text-align: right;\n",
       "    }\n",
       "</style>\n",
       "<table border=\"1\" class=\"dataframe\">\n",
       "  <thead>\n",
       "    <tr style=\"text-align: right;\">\n",
       "      <th></th>\n",
       "      <th>duree</th>\n",
       "      <th>nbrtotc</th>\n",
       "      <th>chargtot</th>\n",
       "      <th>agecar_0-1</th>\n",
       "      <th>agecar_2-5</th>\n",
       "      <th>agecar_6-10</th>\n",
       "      <th>agecar_&gt;10</th>\n",
       "      <th>sexp_Female</th>\n",
       "      <th>sexp_Male</th>\n",
       "      <th>fuelc_Gasoil</th>\n",
       "      <th>...</th>\n",
       "      <th>powerc_&lt;66</th>\n",
       "      <th>powerc_&gt;110</th>\n",
       "      <th>district_risk_group_high</th>\n",
       "      <th>district_risk_group_low</th>\n",
       "      <th>district_risk_group_medium</th>\n",
       "      <th>AGEPH_bin_(16.999, 33.0]</th>\n",
       "      <th>AGEPH_bin_(33.0, 41.0]</th>\n",
       "      <th>AGEPH_bin_(41.0, 50.0]</th>\n",
       "      <th>AGEPH_bin_(50.0, 61.0]</th>\n",
       "      <th>AGEPH_bin_(61.0, 95.0]</th>\n",
       "    </tr>\n",
       "  </thead>\n",
       "  <tbody>\n",
       "    <tr>\n",
       "      <th>0</th>\n",
       "      <td>1.00</td>\n",
       "      <td>0</td>\n",
       "      <td>0.00</td>\n",
       "      <td>0</td>\n",
       "      <td>1</td>\n",
       "      <td>0</td>\n",
       "      <td>0</td>\n",
       "      <td>1</td>\n",
       "      <td>0</td>\n",
       "      <td>0</td>\n",
       "      <td>...</td>\n",
       "      <td>0</td>\n",
       "      <td>0</td>\n",
       "      <td>1</td>\n",
       "      <td>0</td>\n",
       "      <td>0</td>\n",
       "      <td>0</td>\n",
       "      <td>0</td>\n",
       "      <td>0</td>\n",
       "      <td>0</td>\n",
       "      <td>1</td>\n",
       "    </tr>\n",
       "    <tr>\n",
       "      <th>1</th>\n",
       "      <td>0.05</td>\n",
       "      <td>1</td>\n",
       "      <td>155.97</td>\n",
       "      <td>0</td>\n",
       "      <td>0</td>\n",
       "      <td>1</td>\n",
       "      <td>0</td>\n",
       "      <td>1</td>\n",
       "      <td>0</td>\n",
       "      <td>0</td>\n",
       "      <td>...</td>\n",
       "      <td>0</td>\n",
       "      <td>0</td>\n",
       "      <td>1</td>\n",
       "      <td>0</td>\n",
       "      <td>0</td>\n",
       "      <td>1</td>\n",
       "      <td>0</td>\n",
       "      <td>0</td>\n",
       "      <td>0</td>\n",
       "      <td>0</td>\n",
       "    </tr>\n",
       "    <tr>\n",
       "      <th>2</th>\n",
       "      <td>0.40</td>\n",
       "      <td>0</td>\n",
       "      <td>0.00</td>\n",
       "      <td>0</td>\n",
       "      <td>0</td>\n",
       "      <td>0</td>\n",
       "      <td>1</td>\n",
       "      <td>1</td>\n",
       "      <td>0</td>\n",
       "      <td>0</td>\n",
       "      <td>...</td>\n",
       "      <td>1</td>\n",
       "      <td>0</td>\n",
       "      <td>1</td>\n",
       "      <td>0</td>\n",
       "      <td>0</td>\n",
       "      <td>0</td>\n",
       "      <td>0</td>\n",
       "      <td>0</td>\n",
       "      <td>1</td>\n",
       "      <td>0</td>\n",
       "    </tr>\n",
       "  </tbody>\n",
       "</table>\n",
       "<p>3 rows × 35 columns</p>\n",
       "</div>"
      ],
      "text/plain": [
       "   duree  nbrtotc  chargtot  agecar_0-1  agecar_2-5  agecar_6-10  agecar_>10  \\\n",
       "0   1.00        0      0.00           0           1            0           0   \n",
       "1   0.05        1    155.97           0           0            1           0   \n",
       "2   0.40        0      0.00           0           0            0           1   \n",
       "\n",
       "   sexp_Female  sexp_Male  fuelc_Gasoil  ...  powerc_<66  powerc_>110  \\\n",
       "0            1          0             0  ...           0            0   \n",
       "1            1          0             0  ...           0            0   \n",
       "2            1          0             0  ...           1            0   \n",
       "\n",
       "   district_risk_group_high  district_risk_group_low  \\\n",
       "0                         1                        0   \n",
       "1                         1                        0   \n",
       "2                         1                        0   \n",
       "\n",
       "   district_risk_group_medium  AGEPH_bin_(16.999, 33.0]  \\\n",
       "0                           0                         0   \n",
       "1                           0                         1   \n",
       "2                           0                         0   \n",
       "\n",
       "   AGEPH_bin_(33.0, 41.0]  AGEPH_bin_(41.0, 50.0]  AGEPH_bin_(50.0, 61.0]  \\\n",
       "0                       0                       0                       0   \n",
       "1                       0                       0                       0   \n",
       "2                       0                       0                       1   \n",
       "\n",
       "   AGEPH_bin_(61.0, 95.0]  \n",
       "0                       1  \n",
       "1                       0  \n",
       "2                       0  \n",
       "\n",
       "[3 rows x 35 columns]"
      ]
     },
     "execution_count": 54,
     "metadata": {},
     "output_type": "execute_result"
    }
   ],
   "source": [
    "df_step1_dummy.head(3)"
   ]
  },
  {
   "cell_type": "code",
   "execution_count": 55,
   "id": "59d58a78",
   "metadata": {},
   "outputs": [],
   "source": [
    "DATASET = df_step1_dummy.drop(columns=reference_class_lst)"
   ]
  },
  {
   "cell_type": "code",
   "execution_count": 56,
   "id": "b939edef",
   "metadata": {},
   "outputs": [
    {
     "data": {
      "text/plain": [
       "True"
      ]
     },
     "execution_count": 56,
     "metadata": {},
     "output_type": "execute_result"
    }
   ],
   "source": [
    "DATASET.shape == (df_step1_dummy.shape[0], df_step1_dummy.shape[1] -len(reference_class_lst))"
   ]
  },
  {
   "cell_type": "code",
   "execution_count": 57,
   "id": "09bbc076",
   "metadata": {},
   "outputs": [],
   "source": [
    "DATASET.rename(columns=params.get(Constants.RENAMING_DUMMY_CODING_MAPPING), inplace=True)"
   ]
  },
  {
   "cell_type": "code",
   "execution_count": 58,
   "id": "803b1989",
   "metadata": {},
   "outputs": [
    {
     "data": {
      "text/html": [
       "<div>\n",
       "<style scoped>\n",
       "    .dataframe tbody tr th:only-of-type {\n",
       "        vertical-align: middle;\n",
       "    }\n",
       "\n",
       "    .dataframe tbody tr th {\n",
       "        vertical-align: top;\n",
       "    }\n",
       "\n",
       "    .dataframe thead th {\n",
       "        text-align: right;\n",
       "    }\n",
       "</style>\n",
       "<table border=\"1\" class=\"dataframe\">\n",
       "  <thead>\n",
       "    <tr style=\"text-align: right;\">\n",
       "      <th></th>\n",
       "      <th>duree</th>\n",
       "      <th>nbrtotc</th>\n",
       "      <th>chargtot</th>\n",
       "      <th>agecar_zero_one</th>\n",
       "      <th>agecar_six_ten</th>\n",
       "      <th>agecar_higher_ten</th>\n",
       "      <th>sexp_Female</th>\n",
       "      <th>fuelc_Gasoil</th>\n",
       "      <th>split_Monthly</th>\n",
       "      <th>split_Thrice</th>\n",
       "      <th>...</th>\n",
       "      <th>coverp_MTPL</th>\n",
       "      <th>coverp_MTPLplusplusplus</th>\n",
       "      <th>powerc_sixtysix_onehundredten</th>\n",
       "      <th>powerc_higher_onehundredten</th>\n",
       "      <th>district_risk_group_high</th>\n",
       "      <th>district_risk_group_medium</th>\n",
       "      <th>AGEPH_bin_seventeen_thirtythree</th>\n",
       "      <th>AGEPH_bin_thirtythree_forty_one</th>\n",
       "      <th>AGEPH_bin_forty_one_fifty</th>\n",
       "      <th>AGEPH_bin_fifty_sixty_one</th>\n",
       "    </tr>\n",
       "  </thead>\n",
       "  <tbody>\n",
       "    <tr>\n",
       "      <th>0</th>\n",
       "      <td>1.00</td>\n",
       "      <td>0</td>\n",
       "      <td>0.00</td>\n",
       "      <td>0</td>\n",
       "      <td>0</td>\n",
       "      <td>0</td>\n",
       "      <td>1</td>\n",
       "      <td>0</td>\n",
       "      <td>0</td>\n",
       "      <td>0</td>\n",
       "      <td>...</td>\n",
       "      <td>0</td>\n",
       "      <td>0</td>\n",
       "      <td>1</td>\n",
       "      <td>0</td>\n",
       "      <td>1</td>\n",
       "      <td>0</td>\n",
       "      <td>0</td>\n",
       "      <td>0</td>\n",
       "      <td>0</td>\n",
       "      <td>0</td>\n",
       "    </tr>\n",
       "    <tr>\n",
       "      <th>1</th>\n",
       "      <td>0.05</td>\n",
       "      <td>1</td>\n",
       "      <td>155.97</td>\n",
       "      <td>0</td>\n",
       "      <td>1</td>\n",
       "      <td>0</td>\n",
       "      <td>1</td>\n",
       "      <td>0</td>\n",
       "      <td>0</td>\n",
       "      <td>0</td>\n",
       "      <td>...</td>\n",
       "      <td>1</td>\n",
       "      <td>0</td>\n",
       "      <td>1</td>\n",
       "      <td>0</td>\n",
       "      <td>1</td>\n",
       "      <td>0</td>\n",
       "      <td>1</td>\n",
       "      <td>0</td>\n",
       "      <td>0</td>\n",
       "      <td>0</td>\n",
       "    </tr>\n",
       "    <tr>\n",
       "      <th>2</th>\n",
       "      <td>0.40</td>\n",
       "      <td>0</td>\n",
       "      <td>0.00</td>\n",
       "      <td>0</td>\n",
       "      <td>0</td>\n",
       "      <td>1</td>\n",
       "      <td>1</td>\n",
       "      <td>0</td>\n",
       "      <td>0</td>\n",
       "      <td>1</td>\n",
       "      <td>...</td>\n",
       "      <td>1</td>\n",
       "      <td>0</td>\n",
       "      <td>0</td>\n",
       "      <td>0</td>\n",
       "      <td>1</td>\n",
       "      <td>0</td>\n",
       "      <td>0</td>\n",
       "      <td>0</td>\n",
       "      <td>0</td>\n",
       "      <td>1</td>\n",
       "    </tr>\n",
       "  </tbody>\n",
       "</table>\n",
       "<p>3 rows × 24 columns</p>\n",
       "</div>"
      ],
      "text/plain": [
       "   duree  nbrtotc  chargtot  agecar_zero_one  agecar_six_ten  \\\n",
       "0   1.00        0      0.00                0               0   \n",
       "1   0.05        1    155.97                0               1   \n",
       "2   0.40        0      0.00                0               0   \n",
       "\n",
       "   agecar_higher_ten  sexp_Female  fuelc_Gasoil  split_Monthly  split_Thrice  \\\n",
       "0                  0            1             0              0             0   \n",
       "1                  0            1             0              0             0   \n",
       "2                  1            1             0              0             1   \n",
       "\n",
       "   ...  coverp_MTPL  coverp_MTPLplusplusplus  powerc_sixtysix_onehundredten  \\\n",
       "0  ...            0                        0                              1   \n",
       "1  ...            1                        0                              1   \n",
       "2  ...            1                        0                              0   \n",
       "\n",
       "   powerc_higher_onehundredten  district_risk_group_high  \\\n",
       "0                            0                         1   \n",
       "1                            0                         1   \n",
       "2                            0                         1   \n",
       "\n",
       "   district_risk_group_medium  AGEPH_bin_seventeen_thirtythree  \\\n",
       "0                           0                                0   \n",
       "1                           0                                1   \n",
       "2                           0                                0   \n",
       "\n",
       "   AGEPH_bin_thirtythree_forty_one  AGEPH_bin_forty_one_fifty  \\\n",
       "0                                0                          0   \n",
       "1                                0                          0   \n",
       "2                                0                          0   \n",
       "\n",
       "   AGEPH_bin_fifty_sixty_one  \n",
       "0                          0  \n",
       "1                          0  \n",
       "2                          1  \n",
       "\n",
       "[3 rows x 24 columns]"
      ]
     },
     "execution_count": 58,
     "metadata": {},
     "output_type": "execute_result"
    }
   ],
   "source": [
    "DATASET.head(3)"
   ]
  },
  {
   "cell_type": "code",
   "execution_count": 59,
   "id": "8bb6eff0",
   "metadata": {},
   "outputs": [],
   "source": [
    "nb_claims, claim_amount = DATASET[nb_claims_name], DATASET[claim_amount_name]\n",
    "X = DATASET.drop(columns=[nb_claims_name, claim_amount_name])"
   ]
  },
  {
   "cell_type": "code",
   "execution_count": 60,
   "id": "47d73d82",
   "metadata": {},
   "outputs": [],
   "source": [
    "X_train, X_test, y_train, y_test = train_test_split(X,nb_claims,test_size=test_size, random_state=random_state, stratify=nb_claims)\n",
    "X_train_sev, X_test_sev, y_train_sev, y_test_sev = train_test_split(X,nb_claims,test_size=test_size, random_state=random_state, stratify=nb_claims)\n"
   ]
  },
  {
   "cell_type": "markdown",
   "id": "5fbb5db6",
   "metadata": {},
   "source": [
    "# 3. Modelling <a name=\"three\"></a>"
   ]
  },
  {
   "cell_type": "markdown",
   "id": "a2828dce",
   "metadata": {},
   "source": [
    "## 3.1 GLM frequency <a name=\"three-one\"></a>"
   ]
  },
  {
   "cell_type": "markdown",
   "id": "528e32ef",
   "metadata": {},
   "source": [
    "We first calibrate the following GLM\n",
    "\n",
    "$$N_i \\sim \\text{POI}(\\mu_i)$$\n",
    "\n",
    "where $$\\mu_i = d_i \\exp{(\\beta \\mathbb{I}(X_i))}$$\n",
    "and $d_i$ is the exposure for record $i$."
   ]
  },
  {
   "cell_type": "code",
   "execution_count": 61,
   "id": "b6a211e0",
   "metadata": {},
   "outputs": [
    {
     "data": {
      "text/plain": [
       "'nbrtotc ~ agecar_zero_one + agecar_six_ten + agecar_higher_ten + sexp_Female + fuelc_Gasoil + split_Monthly + split_Thrice + split_Twice + usec_Professional + fleetc_No + sportc_Yes + coverp_MTPL + coverp_MTPLplusplusplus + powerc_sixtysix_onehundredten + powerc_higher_onehundredten + district_risk_group_high + district_risk_group_medium + AGEPH_bin_seventeen_thirtythree + AGEPH_bin_thirtythree_forty_one + AGEPH_bin_forty_one_fifty + AGEPH_bin_fifty_sixty_one'"
      ]
     },
     "execution_count": 61,
     "metadata": {},
     "output_type": "execute_result"
    }
   ],
   "source": [
    "formula_freq = f'{nb_claims_name} ~ ' + ' + '.join( [c for c in X.columns if c!= exposure_name])\n",
    "formula_freq"
   ]
  },
  {
   "cell_type": "code",
   "execution_count": 62,
   "id": "d9ddda18",
   "metadata": {},
   "outputs": [],
   "source": [
    "freq_glm = smf.glm(formula=formula_freq,\n",
    "                   data=DATASET, \n",
    "                   exposure=DATASET[exposure_name],\n",
    "                   family = sm.families.Poisson(link=sm.families.links.log())\n",
    "                  ).fit()"
   ]
  },
  {
   "cell_type": "code",
   "execution_count": 63,
   "id": "206cc650",
   "metadata": {},
   "outputs": [
    {
     "name": "stdout",
     "output_type": "stream",
     "text": [
      "                 Generalized Linear Model Regression Results                  \n",
      "==============================================================================\n",
      "Dep. Variable:                nbrtotc   No. Observations:               163657\n",
      "Model:                            GLM   Df Residuals:                   163635\n",
      "Model Family:                 Poisson   Df Model:                           21\n",
      "Link Function:                    log   Scale:                          1.0000\n",
      "Method:                          IRLS   Log-Likelihood:                -62725.\n",
      "Date:                Thu, 10 Mar 2022   Deviance:                       87617.\n",
      "Time:                        23:45:45   Pearson chi2:                 1.90e+05\n",
      "No. Iterations:                     6   Pseudo R-squ. (CS):            0.01553\n",
      "Covariance Type:            nonrobust                                         \n",
      "===================================================================================================\n",
      "                                      coef    std err          z      P>|z|      [0.025      0.975]\n",
      "---------------------------------------------------------------------------------------------------\n",
      "Intercept                          -3.0442      0.052    -58.701      0.000      -3.146      -2.943\n",
      "agecar_zero_one                     0.2431      0.033      7.382      0.000       0.179       0.308\n",
      "agecar_six_ten                      0.0570      0.018      3.158      0.002       0.022       0.092\n",
      "agecar_higher_ten                   0.0688      0.022      3.168      0.002       0.026       0.111\n",
      "sexp_Female                         0.0459      0.016      2.845      0.004       0.014       0.078\n",
      "fuelc_Gasoil                        0.1863      0.015     12.080      0.000       0.156       0.217\n",
      "split_Monthly                       0.3358      0.021     15.636      0.000       0.294       0.378\n",
      "split_Thrice                        0.3777      0.024     15.495      0.000       0.330       0.426\n",
      "split_Twice                         0.1575      0.017      9.321      0.000       0.124       0.191\n",
      "usec_Professional                   0.0307      0.033      0.928      0.353      -0.034       0.095\n",
      "fleetc_No                           0.0874      0.043      2.017      0.044       0.002       0.172\n",
      "sportc_Yes                          0.0778      0.071      1.104      0.270      -0.060       0.216\n",
      "coverp_MTPL                         0.1442      0.017      8.361      0.000       0.110       0.178\n",
      "coverp_MTPLplusplusplus            -0.0122      0.025     -0.482      0.630      -0.062       0.037\n",
      "powerc_sixtysix_onehundredten       0.0896      0.017      5.316      0.000       0.057       0.123\n",
      "powerc_higher_onehundredten         0.2536      0.070      3.601      0.000       0.116       0.392\n",
      "district_risk_group_high            0.5438      0.022     25.197      0.000       0.502       0.586\n",
      "district_risk_group_medium          0.2975      0.023     13.040      0.000       0.253       0.342\n",
      "AGEPH_bin_seventeen_thirtythree     0.5534      0.023     23.633      0.000       0.508       0.599\n",
      "AGEPH_bin_thirtythree_forty_one     0.2498      0.025      9.918      0.000       0.200       0.299\n",
      "AGEPH_bin_forty_one_fifty           0.2275      0.024      9.292      0.000       0.179       0.275\n",
      "AGEPH_bin_fifty_sixty_one           0.1197      0.026      4.687      0.000       0.070       0.170\n",
      "===================================================================================================\n"
     ]
    }
   ],
   "source": [
    "print(freq_glm.summary())"
   ]
  },
  {
   "cell_type": "markdown",
   "id": "eeb6ac1b",
   "metadata": {},
   "source": [
    "We want to re-run the model by removing stepwise the feature with the highest p-value until we have only features with p-values lower than 0.05"
   ]
  },
  {
   "cell_type": "code",
   "execution_count": 64,
   "id": "c716f670",
   "metadata": {},
   "outputs": [
    {
     "name": "stdout",
     "output_type": "stream",
     "text": [
      "The feature coverp_MTPLplusplusplus is removed because it exhibited a p-value of 0.629676967182329>0.05\n",
      "The feature usec_Professional is removed because it exhibited a p-value of 0.36860373195274676>0.05\n",
      "The feature sportc_Yes is removed because it exhibited a p-value of 0.27298046041444946>0.05\n"
     ]
    }
   ],
   "source": [
    "freq_glm_backward = run_glm_backward_selection(DATASET,\n",
    "                                               X, \n",
    "                                               params, \n",
    "                                               nb_claims_name, \n",
    "                                               has_exposure=True,\n",
    "                                               family=sm.families.Poisson(link=sm.families.links.log()))"
   ]
  },
  {
   "cell_type": "code",
   "execution_count": 65,
   "id": "a17cef41",
   "metadata": {},
   "outputs": [
    {
     "name": "stdout",
     "output_type": "stream",
     "text": [
      "                 Generalized Linear Model Regression Results                  \n",
      "==============================================================================\n",
      "Dep. Variable:                nbrtotc   No. Observations:               163657\n",
      "Model:                            GLM   Df Residuals:                   163638\n",
      "Model Family:                 Poisson   Df Model:                           18\n",
      "Link Function:                    log   Scale:                          1.0000\n",
      "Method:                          IRLS   Log-Likelihood:                -62726.\n",
      "Date:                Thu, 10 Mar 2022   Deviance:                       87619.\n",
      "Time:                        23:45:49   Pearson chi2:                 1.90e+05\n",
      "No. Iterations:                     6   Pseudo R-squ. (CS):            0.01552\n",
      "Covariance Type:            nonrobust                                         \n",
      "===================================================================================================\n",
      "                                      coef    std err          z      P>|z|      [0.025      0.975]\n",
      "---------------------------------------------------------------------------------------------------\n",
      "Intercept                          -3.0450      0.051    -60.229      0.000      -3.144      -2.946\n",
      "agecar_zero_one                     0.2403      0.033      7.361      0.000       0.176       0.304\n",
      "agecar_six_ten                      0.0593      0.018      3.367      0.001       0.025       0.094\n",
      "agecar_higher_ten                   0.0705      0.021      3.278      0.001       0.028       0.113\n",
      "sexp_Female                         0.0455      0.016      2.818      0.005       0.014       0.077\n",
      "fuelc_Gasoil                        0.1863      0.015     12.129      0.000       0.156       0.216\n",
      "split_Monthly                       0.3340      0.021     15.617      0.000       0.292       0.376\n",
      "split_Thrice                        0.3780      0.024     15.508      0.000       0.330       0.426\n",
      "split_Twice                         0.1574      0.017      9.329      0.000       0.124       0.191\n",
      "fleetc_No                           0.0850      0.043      1.969      0.049       0.000       0.170\n",
      "coverp_MTPL                         0.1470      0.016      9.213      0.000       0.116       0.178\n",
      "powerc_sixtysix_onehundredten       0.0926      0.017      5.571      0.000       0.060       0.125\n",
      "powerc_higher_onehundredten         0.2792      0.067      4.168      0.000       0.148       0.410\n",
      "district_risk_group_high            0.5438      0.022     25.199      0.000       0.502       0.586\n",
      "district_risk_group_medium          0.2974      0.023     13.040      0.000       0.253       0.342\n",
      "AGEPH_bin_seventeen_thirtythree     0.5542      0.023     23.706      0.000       0.508       0.600\n",
      "AGEPH_bin_thirtythree_forty_one     0.2503      0.025      9.942      0.000       0.201       0.300\n",
      "AGEPH_bin_forty_one_fifty           0.2278      0.024      9.309      0.000       0.180       0.276\n",
      "AGEPH_bin_fifty_sixty_one           0.1202      0.026      4.708      0.000       0.070       0.170\n",
      "===================================================================================================\n"
     ]
    }
   ],
   "source": [
    "print(freq_glm_backward.summary())"
   ]
  },
  {
   "cell_type": "code",
   "execution_count": 66,
   "id": "cdd74dde",
   "metadata": {},
   "outputs": [
    {
     "data": {
      "text/plain": [
       "Intercept                         -60.23\n",
       "agecar_zero_one                     7.36\n",
       "agecar_six_ten                      3.37\n",
       "agecar_higher_ten                   3.28\n",
       "sexp_Female                         2.82\n",
       "fuelc_Gasoil                       12.13\n",
       "split_Monthly                      15.62\n",
       "split_Thrice                       15.51\n",
       "split_Twice                         9.33\n",
       "fleetc_No                           1.97\n",
       "coverp_MTPL                         9.21\n",
       "powerc_sixtysix_onehundredten       5.57\n",
       "powerc_higher_onehundredten         4.17\n",
       "district_risk_group_high           25.20\n",
       "district_risk_group_medium         13.04\n",
       "AGEPH_bin_seventeen_thirtythree    23.71\n",
       "AGEPH_bin_thirtythree_forty_one     9.94\n",
       "AGEPH_bin_forty_one_fifty           9.31\n",
       "AGEPH_bin_fifty_sixty_one           4.71\n",
       "dtype: float64"
      ]
     },
     "execution_count": 66,
     "metadata": {},
     "output_type": "execute_result"
    }
   ],
   "source": [
    "freq_glm_backward.tvalues"
   ]
  },
  {
   "cell_type": "code",
   "execution_count": 67,
   "id": "770f1141",
   "metadata": {},
   "outputs": [
    {
     "data": {
      "text/html": [
       "<div>\n",
       "<style scoped>\n",
       "    .dataframe tbody tr th:only-of-type {\n",
       "        vertical-align: middle;\n",
       "    }\n",
       "\n",
       "    .dataframe tbody tr th {\n",
       "        vertical-align: top;\n",
       "    }\n",
       "\n",
       "    .dataframe thead th {\n",
       "        text-align: right;\n",
       "    }\n",
       "</style>\n",
       "<table border=\"1\" class=\"dataframe\">\n",
       "  <thead>\n",
       "    <tr style=\"text-align: right;\">\n",
       "      <th></th>\n",
       "      <th>tvalues</th>\n",
       "    </tr>\n",
       "  </thead>\n",
       "  <tbody>\n",
       "    <tr>\n",
       "      <th>district_risk_group_high</th>\n",
       "      <td>25.20</td>\n",
       "    </tr>\n",
       "    <tr>\n",
       "      <th>AGEPH_bin_seventeen_thirtythree</th>\n",
       "      <td>23.71</td>\n",
       "    </tr>\n",
       "    <tr>\n",
       "      <th>split_Monthly</th>\n",
       "      <td>15.62</td>\n",
       "    </tr>\n",
       "    <tr>\n",
       "      <th>split_Thrice</th>\n",
       "      <td>15.51</td>\n",
       "    </tr>\n",
       "    <tr>\n",
       "      <th>district_risk_group_medium</th>\n",
       "      <td>13.04</td>\n",
       "    </tr>\n",
       "    <tr>\n",
       "      <th>fuelc_Gasoil</th>\n",
       "      <td>12.13</td>\n",
       "    </tr>\n",
       "    <tr>\n",
       "      <th>AGEPH_bin_thirtythree_forty_one</th>\n",
       "      <td>9.94</td>\n",
       "    </tr>\n",
       "    <tr>\n",
       "      <th>split_Twice</th>\n",
       "      <td>9.33</td>\n",
       "    </tr>\n",
       "    <tr>\n",
       "      <th>AGEPH_bin_forty_one_fifty</th>\n",
       "      <td>9.31</td>\n",
       "    </tr>\n",
       "    <tr>\n",
       "      <th>coverp_MTPL</th>\n",
       "      <td>9.21</td>\n",
       "    </tr>\n",
       "    <tr>\n",
       "      <th>agecar_zero_one</th>\n",
       "      <td>7.36</td>\n",
       "    </tr>\n",
       "    <tr>\n",
       "      <th>powerc_sixtysix_onehundredten</th>\n",
       "      <td>5.57</td>\n",
       "    </tr>\n",
       "    <tr>\n",
       "      <th>AGEPH_bin_fifty_sixty_one</th>\n",
       "      <td>4.71</td>\n",
       "    </tr>\n",
       "    <tr>\n",
       "      <th>powerc_higher_onehundredten</th>\n",
       "      <td>4.17</td>\n",
       "    </tr>\n",
       "    <tr>\n",
       "      <th>agecar_six_ten</th>\n",
       "      <td>3.37</td>\n",
       "    </tr>\n",
       "    <tr>\n",
       "      <th>agecar_higher_ten</th>\n",
       "      <td>3.28</td>\n",
       "    </tr>\n",
       "    <tr>\n",
       "      <th>sexp_Female</th>\n",
       "      <td>2.82</td>\n",
       "    </tr>\n",
       "    <tr>\n",
       "      <th>fleetc_No</th>\n",
       "      <td>1.97</td>\n",
       "    </tr>\n",
       "    <tr>\n",
       "      <th>Intercept</th>\n",
       "      <td>-60.23</td>\n",
       "    </tr>\n",
       "  </tbody>\n",
       "</table>\n",
       "</div>"
      ],
      "text/plain": [
       "                                 tvalues\n",
       "district_risk_group_high           25.20\n",
       "AGEPH_bin_seventeen_thirtythree    23.71\n",
       "split_Monthly                      15.62\n",
       "split_Thrice                       15.51\n",
       "district_risk_group_medium         13.04\n",
       "fuelc_Gasoil                       12.13\n",
       "AGEPH_bin_thirtythree_forty_one     9.94\n",
       "split_Twice                         9.33\n",
       "AGEPH_bin_forty_one_fifty           9.31\n",
       "coverp_MTPL                         9.21\n",
       "agecar_zero_one                     7.36\n",
       "powerc_sixtysix_onehundredten       5.57\n",
       "AGEPH_bin_fifty_sixty_one           4.71\n",
       "powerc_higher_onehundredten         4.17\n",
       "agecar_six_ten                      3.37\n",
       "agecar_higher_ten                   3.28\n",
       "sexp_Female                         2.82\n",
       "fleetc_No                           1.97\n",
       "Intercept                         -60.23"
      ]
     },
     "execution_count": 67,
     "metadata": {},
     "output_type": "execute_result"
    }
   ],
   "source": [
    "risk_factors_freq = pd.DataFrame(freq_glm_backward.tvalues.sort_values(ascending=False), columns=['tvalues'])\n",
    "risk_factors_freq"
   ]
  },
  {
   "cell_type": "code",
   "execution_count": 68,
   "id": "db25a5a0",
   "metadata": {},
   "outputs": [
    {
     "data": {
      "text/plain": [
       "<AxesSubplot:>"
      ]
     },
     "execution_count": 68,
     "metadata": {},
     "output_type": "execute_result"
    },
    {
     "data": {
      "image/png": "[encoded data removed]",
      "text/plain": [
       "<Figure size 432x288 with 1 Axes>"
      ]
     },
     "metadata": {
      "needs_background": "light"
     },
     "output_type": "display_data"
    }
   ],
   "source": [
    "risk_factors_freq.drop(index='Intercept').plot.bar()"
   ]
  },
  {
   "cell_type": "markdown",
   "id": "e54a2189",
   "metadata": {},
   "source": [
    "*** Observations: ***\n",
    "`AGEPH_bin_seventeen_thirtythree` and `district_risk_group_high` are the two most important risk factors"
   ]
  },
  {
   "cell_type": "markdown",
   "id": "84475f1b",
   "metadata": {},
   "source": [
    "## 3.2 GLM severity <a name=\"three-two\"></a>"
   ]
  },
  {
   "cell_type": "code",
   "execution_count": 69,
   "id": "936041fa",
   "metadata": {},
   "outputs": [],
   "source": [
    "DATASET_SEVERITY = DATASET.query(f'{claim_amount_name}>0')"
   ]
  },
  {
   "cell_type": "code",
   "execution_count": 70,
   "id": "f462af71",
   "metadata": {},
   "outputs": [
    {
     "data": {
      "text/plain": [
       "Int64Index([     1,     12,     15,     20,     22,     23,     27,     28,\n",
       "                29,     31,\n",
       "            ...\n",
       "            163569, 163579, 163599, 163603, 163610, 163624, 163636, 163642,\n",
       "            163655, 163656],\n",
       "           dtype='int64', length=18345)"
      ]
     },
     "execution_count": 70,
     "metadata": {},
     "output_type": "execute_result"
    }
   ],
   "source": [
    "DATASET_SEVERITY.index"
   ]
  },
  {
   "cell_type": "code",
   "execution_count": 71,
   "id": "cfeb849e",
   "metadata": {},
   "outputs": [],
   "source": [
    "X_SEVERITY = X.loc[DATASET_SEVERITY.index, :]"
   ]
  },
  {
   "cell_type": "code",
   "execution_count": 72,
   "id": "61139808",
   "metadata": {},
   "outputs": [
    {
     "data": {
      "text/plain": [
       "'chargtot ~ agecar_zero_one + agecar_six_ten + agecar_higher_ten + sexp_Female + fuelc_Gasoil + split_Monthly + split_Thrice + split_Twice + usec_Professional + fleetc_No + sportc_Yes + coverp_MTPL + coverp_MTPLplusplusplus + powerc_sixtysix_onehundredten + powerc_higher_onehundredten + district_risk_group_high + district_risk_group_medium + AGEPH_bin_seventeen_thirtythree + AGEPH_bin_thirtythree_forty_one + AGEPH_bin_forty_one_fifty + AGEPH_bin_fifty_sixty_one'"
      ]
     },
     "execution_count": 72,
     "metadata": {},
     "output_type": "execute_result"
    }
   ],
   "source": [
    "formula_sev = f'{claim_amount_name} ~ ' + ' + '.join( [c for c in X.columns if c!= exposure_name])\n",
    "formula_sev"
   ]
  },
  {
   "cell_type": "code",
   "execution_count": 73,
   "id": "f649dc26",
   "metadata": {},
   "outputs": [],
   "source": [
    "sev_glm = smf.glm(formula=formula_sev,\n",
    "                   data=DATASET_SEVERITY, \n",
    "                   #exposure=DATASET_SEVERITY[exposure_name],\n",
    "                   family = sm.families.Gamma(link=sm.families.links.log())\n",
    "                  ).fit()"
   ]
  },
  {
   "cell_type": "code",
   "execution_count": 74,
   "id": "f58696e9",
   "metadata": {},
   "outputs": [
    {
     "name": "stdout",
     "output_type": "stream",
     "text": [
      "                 Generalized Linear Model Regression Results                  \n",
      "==============================================================================\n",
      "Dep. Variable:               chargtot   No. Observations:                18345\n",
      "Model:                            GLM   Df Residuals:                    18323\n",
      "Model Family:                   Gamma   Df Model:                           21\n",
      "Link Function:                    log   Scale:                          26.463\n",
      "Method:                          IRLS   Log-Likelihood:            -1.7706e+05\n",
      "Date:                Thu, 10 Mar 2022   Deviance:                       44894.\n",
      "Time:                        23:45:49   Pearson chi2:                 4.85e+05\n",
      "No. Iterations:                    21   Pseudo R-squ. (CS):           0.002550\n",
      "Covariance Type:            nonrobust                                         \n",
      "===================================================================================================\n",
      "                                      coef    std err          z      P>|z|      [0.025      0.975]\n",
      "---------------------------------------------------------------------------------------------------\n",
      "Intercept                           6.7352      0.275     24.526      0.000       6.197       7.273\n",
      "agecar_zero_one                     0.1917      0.178      1.074      0.283      -0.158       0.542\n",
      "agecar_six_ten                      0.1369      0.097      1.408      0.159      -0.054       0.328\n",
      "agecar_higher_ten                   0.1883      0.118      1.601      0.109      -0.042       0.419\n",
      "sexp_Female                         0.0824      0.087      0.947      0.344      -0.088       0.253\n",
      "fuelc_Gasoil                       -0.0837      0.083     -1.004      0.316      -0.247       0.080\n",
      "split_Monthly                      -0.0298      0.116     -0.256      0.798      -0.258       0.198\n",
      "split_Thrice                       -0.0753      0.134     -0.561      0.575      -0.338       0.188\n",
      "split_Twice                        -0.2388      0.092     -2.608      0.009      -0.418      -0.059\n",
      "usec_Professional                   0.0291      0.179      0.162      0.871      -0.322       0.381\n",
      "fleetc_No                           0.1908      0.232      0.821      0.412      -0.265       0.646\n",
      "sportc_Yes                         -0.2050      0.380     -0.539      0.590      -0.950       0.540\n",
      "coverp_MTPL                         0.1567      0.094      1.674      0.094      -0.027       0.340\n",
      "coverp_MTPLplusplusplus             0.3360      0.135      2.489      0.013       0.071       0.601\n",
      "powerc_sixtysix_onehundredten       0.1087      0.091      1.192      0.233      -0.070       0.288\n",
      "powerc_higher_onehundredten         0.4561      0.382      1.193      0.233      -0.293       1.205\n",
      "district_risk_group_high            0.1054      0.116      0.911      0.362      -0.121       0.332\n",
      "district_risk_group_medium          0.2439      0.122      2.000      0.045       0.005       0.483\n",
      "AGEPH_bin_seventeen_thirtythree     0.3708      0.126      2.940      0.003       0.124       0.618\n",
      "AGEPH_bin_thirtythree_forty_one     0.0841      0.135      0.622      0.534      -0.181       0.349\n",
      "AGEPH_bin_forty_one_fifty           0.2259      0.131      1.720      0.086      -0.032       0.483\n",
      "AGEPH_bin_fifty_sixty_one          -0.0416      0.137     -0.304      0.761      -0.310       0.227\n",
      "===================================================================================================\n"
     ]
    }
   ],
   "source": [
    "print(sev_glm.summary())"
   ]
  },
  {
   "cell_type": "code",
   "execution_count": 75,
   "id": "07c72fa8",
   "metadata": {},
   "outputs": [
    {
     "name": "stdout",
     "output_type": "stream",
     "text": [
      "The feature usec_Professional is removed because it exhibited a p-value of 0.8709576828127871>0.05\n",
      "The feature split_Monthly is removed because it exhibited a p-value of 0.7942661581677387>0.05\n",
      "The feature AGEPH_bin_fifty_sixty_one is removed because it exhibited a p-value of 0.7587268678996486>0.05\n",
      "The feature sportc_Yes is removed because it exhibited a p-value of 0.5906311776055847>0.05\n",
      "The feature split_Thrice is removed because it exhibited a p-value of 0.558226974567843>0.05\n",
      "The feature fleetc_No is removed because it exhibited a p-value of 0.4348205763152262>0.05\n",
      "The feature district_risk_group_high is removed because it exhibited a p-value of 0.3785729046811456>0.05\n",
      "The feature sexp_Female is removed because it exhibited a p-value of 0.3495519082456413>0.05\n",
      "The feature agecar_zero_one is removed because it exhibited a p-value of 0.3154729797935798>0.05\n",
      "The feature powerc_higher_onehundredten is removed because it exhibited a p-value of 0.3137684583832022>0.05\n",
      "The feature powerc_sixtysix_onehundredten is removed because it exhibited a p-value of 0.33334933943276046>0.05\n",
      "The feature agecar_six_ten is removed because it exhibited a p-value of 0.2994484775907056>0.05\n",
      "The feature agecar_higher_ten is removed because it exhibited a p-value of 0.500228187242103>0.05\n",
      "The feature AGEPH_bin_thirtythree_forty_one is removed because it exhibited a p-value of 0.27228466169600984>0.05\n",
      "The feature fuelc_Gasoil is removed because it exhibited a p-value of 0.14749492235423262>0.05\n",
      "The feature district_risk_group_medium is removed because it exhibited a p-value of 0.06412392832596496>0.05\n"
     ]
    }
   ],
   "source": [
    "sev_glm_backward = run_glm_backward_selection(DATASET_SEVERITY,\n",
    "                                               X_SEVERITY, \n",
    "                                               params, \n",
    "                                               claim_amount_name, \n",
    "                                               has_exposure=False,\n",
    "                                               family=sm.families.Gamma(link=sm.families.links.log()))"
   ]
  },
  {
   "cell_type": "code",
   "execution_count": 76,
   "id": "66124239",
   "metadata": {},
   "outputs": [
    {
     "name": "stdout",
     "output_type": "stream",
     "text": [
      "                 Generalized Linear Model Regression Results                  \n",
      "==============================================================================\n",
      "Dep. Variable:               chargtot   No. Observations:                18345\n",
      "Model:                            GLM   Df Residuals:                    18339\n",
      "Model Family:                   Gamma   Df Model:                            5\n",
      "Link Function:                    log   Scale:                          31.388\n",
      "Method:                          IRLS   Log-Likelihood:            -1.7975e+05\n",
      "Date:                Thu, 10 Mar 2022   Deviance:                       45301.\n",
      "Time:                        23:45:52   Pearson chi2:                 5.76e+05\n",
      "No. Iterations:                    13   Pseudo R-squ. (CS):           0.001444\n",
      "Covariance Type:            nonrobust                                         \n",
      "===================================================================================================\n",
      "                                      coef    std err          z      P>|z|      [0.025      0.975]\n",
      "---------------------------------------------------------------------------------------------------\n",
      "Intercept                           7.1794      0.093     77.322      0.000       6.997       7.361\n",
      "split_Twice                        -0.2235      0.091     -2.465      0.014      -0.401      -0.046\n",
      "coverp_MTPL                         0.2042      0.097      2.112      0.035       0.015       0.394\n",
      "coverp_MTPLplusplusplus             0.3261      0.139      2.353      0.019       0.054       0.598\n",
      "AGEPH_bin_seventeen_thirtythree     0.3419      0.097      3.507      0.000       0.151       0.533\n",
      "AGEPH_bin_forty_one_fifty           0.2264      0.108      2.106      0.035       0.016       0.437\n",
      "===================================================================================================\n"
     ]
    }
   ],
   "source": [
    "print(sev_glm_backward.summary())"
   ]
  },
  {
   "cell_type": "markdown",
   "id": "9333aabc",
   "metadata": {},
   "source": [
    "The two variables `AGEPH_bin_seventeen_thirtythree` and `powerc_sixtysix_onehundredten` make the severity increase"
   ]
  },
  {
   "cell_type": "markdown",
   "id": "b100f8e1",
   "metadata": {},
   "source": [
    "## 3.3 Elastic Net (Lasso) <a name=\"three-three\"></a>"
   ]
  },
  {
   "cell_type": "markdown",
   "id": "62ec7964",
   "metadata": {},
   "source": [
    "{statsmodels} and {statsmodels.formula.api} allow to fit GLMs with an elastic net penalty. The following penalized loss function is then minimized:\n",
    "$$-\\frac{1}{n}\\log \\mathcal{L}(\\beta_0,\\mathbf{\\beta}; \\mathbf{X},y) + \\alpha \\cdot \\left( \\lambda ||\\mathbf{\\beta}||_1 + \\frac{1-\\lambda}{2}||\\mathbf{\\beta}||_2^2 \\right),$$\n",
    "where $\\alpha$ is the penalty weight and $\\lambda$ determines the weight of the $\\ell_1$ versus $\\ell_2$ norm. More details are [here](https://www.statsmodels.org/dev/generated/statsmodels.genmod.generalized_linear_model.GLM.fit_regularized.html).\n"
   ]
  },
  {
   "cell_type": "markdown",
   "id": "52437f10",
   "metadata": {},
   "source": [
    "### 3.3.1 LASSO Frequency <a name=\"three-three-one\"></a>"
   ]
  },
  {
   "cell_type": "code",
   "execution_count": 77,
   "id": "593b6ee6",
   "metadata": {},
   "outputs": [],
   "source": [
    "formula_freq\n",
    "loss_function = mean_poisson_deviance\n",
    "hyperparams_space = {'alpha': np.arange(0.001,1.05, 0.05),\n",
    "                     'L1_wt': np.arange(0.001,1.05, 0.05),\n",
    "                     'formula':[formula_freq],\n",
    "                     'data':[None],\n",
    "                     'exposure':[DATASET[params.get(Constants.EXPOSURE_NAME)]],\n",
    "                     'family':[sm.families.Poisson(link=sm.families.links.log())]}\n",
    "params_to_record = ['alpha', 'L1_wt']"
   ]
  },
  {
   "cell_type": "code",
   "execution_count": 78,
   "id": "2508e6c3",
   "metadata": {},
   "outputs": [],
   "source": [
    "cv_results = run_hyperopt(df=DATASET,\n",
    "                              hyperparams_space=hyperparams_space,\n",
    "                              model_fit_func=fit_regularized_model,\n",
    "                              loss_function=mean_poisson_deviance,\n",
    "                              params_to_record=params_to_record,\n",
    "                              exposure_name = params.get(Constants.EXPOSURE_NAME),\n",
    "                              target_name=params.get(Constants.NB_CLAIMS),\n",
    "                              limit_time=600,\n",
    "                              is_debug=False)"
   ]
  },
  {
   "cell_type": "code",
   "execution_count": 79,
   "id": "b48469c1",
   "metadata": {},
   "outputs": [
    {
     "data": {
      "text/html": [
       "<style type=\"text/css\">\n",
       "#T_0e054_row0_col1 {\n",
       "  background-color: #00441b;\n",
       "  color: #f1f1f1;\n",
       "}\n",
       "#T_0e054_row1_col1, #T_0e054_row11_col1 {\n",
       "  background-color: #cbeac4;\n",
       "  color: #000000;\n",
       "}\n",
       "#T_0e054_row2_col1 {\n",
       "  background-color: #94d390;\n",
       "  color: #000000;\n",
       "}\n",
       "#T_0e054_row3_col1 {\n",
       "  background-color: #72c375;\n",
       "  color: #000000;\n",
       "}\n",
       "#T_0e054_row4_col1 {\n",
       "  background-color: #80ca80;\n",
       "  color: #000000;\n",
       "}\n",
       "#T_0e054_row5_col1, #T_0e054_row7_col1 {\n",
       "  background-color: #ecf8e8;\n",
       "  color: #000000;\n",
       "}\n",
       "#T_0e054_row6_col1 {\n",
       "  background-color: #7dc87e;\n",
       "  color: #000000;\n",
       "}\n",
       "#T_0e054_row8_col1, #T_0e054_row10_col1 {\n",
       "  background-color: #f6fcf4;\n",
       "  color: #000000;\n",
       "}\n",
       "#T_0e054_row9_col1, #T_0e054_row13_col1 {\n",
       "  background-color: #e4f5df;\n",
       "  color: #000000;\n",
       "}\n",
       "#T_0e054_row12_col1 {\n",
       "  background-color: #bae3b3;\n",
       "  color: #000000;\n",
       "}\n",
       "#T_0e054_row14_col1 {\n",
       "  background-color: #def2d9;\n",
       "  color: #000000;\n",
       "}\n",
       "#T_0e054_row15_col1 {\n",
       "  background-color: #ceecc8;\n",
       "  color: #000000;\n",
       "}\n",
       "#T_0e054_row16_col1 {\n",
       "  background-color: #a5db9f;\n",
       "  color: #000000;\n",
       "}\n",
       "#T_0e054_row17_col1 {\n",
       "  background-color: #f7fcf5;\n",
       "  color: #000000;\n",
       "}\n",
       "#T_0e054_row18_col1 {\n",
       "  background-color: #aadda4;\n",
       "  color: #000000;\n",
       "}\n",
       "#T_0e054_row19_col1 {\n",
       "  background-color: #eff9ec;\n",
       "  color: #000000;\n",
       "}\n",
       "#T_0e054_row20_col1 {\n",
       "  background-color: #6bc072;\n",
       "  color: #000000;\n",
       "}\n",
       "#T_0e054_row21_col1 {\n",
       "  background-color: #81ca81;\n",
       "  color: #000000;\n",
       "}\n",
       "#T_0e054_row22_col1 {\n",
       "  background-color: #39a257;\n",
       "  color: #f1f1f1;\n",
       "}\n",
       "</style>\n",
       "<table id=\"T_0e054_\">\n",
       "  <thead>\n",
       "    <tr>\n",
       "      <th class=\"blank level0\" >&nbsp;</th>\n",
       "      <th class=\"col_heading level0 col0\" >cv_mean_loss</th>\n",
       "      <th class=\"col_heading level0 col1\" >cv_std_loss</th>\n",
       "      <th class=\"col_heading level0 col2\" >alpha</th>\n",
       "      <th class=\"col_heading level0 col3\" >L1_wt</th>\n",
       "    </tr>\n",
       "  </thead>\n",
       "  <tbody>\n",
       "    <tr>\n",
       "      <th id=\"T_0e054_level0_row0\" class=\"row_heading level0 row0\" >0</th>\n",
       "      <td id=\"T_0e054_row0_col0\" class=\"data row0 col0\" >0.545722</td>\n",
       "      <td id=\"T_0e054_row0_col1\" class=\"data row0 col1\" >0.004607</td>\n",
       "      <td id=\"T_0e054_row0_col2\" class=\"data row0 col2\" >0.001000</td>\n",
       "      <td id=\"T_0e054_row0_col3\" class=\"data row0 col3\" >0.101000</td>\n",
       "    </tr>\n",
       "    <tr>\n",
       "      <th id=\"T_0e054_level0_row1\" class=\"row_heading level0 row1\" >15</th>\n",
       "      <td id=\"T_0e054_row1_col0\" class=\"data row1 col0\" >0.585332</td>\n",
       "      <td id=\"T_0e054_row1_col1\" class=\"data row1 col1\" >0.001992</td>\n",
       "      <td id=\"T_0e054_row1_col2\" class=\"data row1 col2\" >0.051000</td>\n",
       "      <td id=\"T_0e054_row1_col3\" class=\"data row1 col3\" >0.851000</td>\n",
       "    </tr>\n",
       "    <tr>\n",
       "      <th id=\"T_0e054_level0_row2\" class=\"row_heading level0 row2\" >3</th>\n",
       "      <td id=\"T_0e054_row2_col0\" class=\"data row2 col0\" >0.585495</td>\n",
       "      <td id=\"T_0e054_row2_col1\" class=\"data row2 col1\" >0.002590</td>\n",
       "      <td id=\"T_0e054_row2_col2\" class=\"data row2 col2\" >0.051000</td>\n",
       "      <td id=\"T_0e054_row2_col3\" class=\"data row2 col3\" >0.601000</td>\n",
       "    </tr>\n",
       "    <tr>\n",
       "      <th id=\"T_0e054_level0_row3\" class=\"row_heading level0 row3\" >10</th>\n",
       "      <td id=\"T_0e054_row3_col0\" class=\"data row3 col0\" >0.598622</td>\n",
       "      <td id=\"T_0e054_row3_col1\" class=\"data row3 col1\" >0.002914</td>\n",
       "      <td id=\"T_0e054_row3_col2\" class=\"data row3 col2\" >0.101000</td>\n",
       "      <td id=\"T_0e054_row3_col3\" class=\"data row3 col3\" >0.001000</td>\n",
       "    </tr>\n",
       "    <tr>\n",
       "      <th id=\"T_0e054_level0_row4\" class=\"row_heading level0 row4\" >4</th>\n",
       "      <td id=\"T_0e054_row4_col0\" class=\"data row4 col0\" >0.618010</td>\n",
       "      <td id=\"T_0e054_row4_col1\" class=\"data row4 col1\" >0.002779</td>\n",
       "      <td id=\"T_0e054_row4_col2\" class=\"data row4 col2\" >0.101000</td>\n",
       "      <td id=\"T_0e054_row4_col3\" class=\"data row4 col3\" >0.301000</td>\n",
       "    </tr>\n",
       "    <tr>\n",
       "      <th id=\"T_0e054_level0_row5\" class=\"row_heading level0 row5\" >22</th>\n",
       "      <td id=\"T_0e054_row5_col0\" class=\"data row5 col0\" >0.804853</td>\n",
       "      <td id=\"T_0e054_row5_col1\" class=\"data row5 col1\" >0.001443</td>\n",
       "      <td id=\"T_0e054_row5_col2\" class=\"data row5 col2\" >0.351000</td>\n",
       "      <td id=\"T_0e054_row5_col3\" class=\"data row5 col3\" >0.301000</td>\n",
       "    </tr>\n",
       "    <tr>\n",
       "      <th id=\"T_0e054_level0_row6\" class=\"row_heading level0 row6\" >5</th>\n",
       "      <td id=\"T_0e054_row6_col0\" class=\"data row6 col0\" >0.805805</td>\n",
       "      <td id=\"T_0e054_row6_col1\" class=\"data row6 col1\" >0.002812</td>\n",
       "      <td id=\"T_0e054_row6_col2\" class=\"data row6 col2\" >0.401000</td>\n",
       "      <td id=\"T_0e054_row6_col3\" class=\"data row6 col3\" >0.201000</td>\n",
       "    </tr>\n",
       "    <tr>\n",
       "      <th id=\"T_0e054_level0_row7\" class=\"row_heading level0 row7\" >14</th>\n",
       "      <td id=\"T_0e054_row7_col0\" class=\"data row7 col0\" >0.809525</td>\n",
       "      <td id=\"T_0e054_row7_col1\" class=\"data row7 col1\" >0.001458</td>\n",
       "      <td id=\"T_0e054_row7_col2\" class=\"data row7 col2\" >0.301000</td>\n",
       "      <td id=\"T_0e054_row7_col3\" class=\"data row7 col3\" >0.501000</td>\n",
       "    </tr>\n",
       "    <tr>\n",
       "      <th id=\"T_0e054_level0_row8\" class=\"row_heading level0 row8\" >2</th>\n",
       "      <td id=\"T_0e054_row8_col0\" class=\"data row8 col0\" >0.811012</td>\n",
       "      <td id=\"T_0e054_row8_col1\" class=\"data row8 col1\" >0.001218</td>\n",
       "      <td id=\"T_0e054_row8_col2\" class=\"data row8 col2\" >0.601000</td>\n",
       "      <td id=\"T_0e054_row8_col3\" class=\"data row8 col3\" >0.051000</td>\n",
       "    </tr>\n",
       "    <tr>\n",
       "      <th id=\"T_0e054_level0_row9\" class=\"row_heading level0 row9\" >17</th>\n",
       "      <td id=\"T_0e054_row9_col0\" class=\"data row9 col0\" >0.872537</td>\n",
       "      <td id=\"T_0e054_row9_col1\" class=\"data row9 col1\" >0.001638</td>\n",
       "      <td id=\"T_0e054_row9_col2\" class=\"data row9 col2\" >0.401000</td>\n",
       "      <td id=\"T_0e054_row9_col3\" class=\"data row9 col3\" >0.401000</td>\n",
       "    </tr>\n",
       "    <tr>\n",
       "      <th id=\"T_0e054_level0_row10\" class=\"row_heading level0 row10\" >16</th>\n",
       "      <td id=\"T_0e054_row10_col0\" class=\"data row10 col0\" >0.883697</td>\n",
       "      <td id=\"T_0e054_row10_col1\" class=\"data row10 col1\" >0.001221</td>\n",
       "      <td id=\"T_0e054_row10_col2\" class=\"data row10 col2\" >0.351000</td>\n",
       "      <td id=\"T_0e054_row10_col3\" class=\"data row10 col3\" >0.601000</td>\n",
       "    </tr>\n",
       "    <tr>\n",
       "      <th id=\"T_0e054_level0_row11\" class=\"row_heading level0 row11\" >12</th>\n",
       "      <td id=\"T_0e054_row11_col0\" class=\"data row11 col0\" >0.930237</td>\n",
       "      <td id=\"T_0e054_row11_col1\" class=\"data row11 col1\" >0.001989</td>\n",
       "      <td id=\"T_0e054_row11_col2\" class=\"data row11 col2\" >0.451000</td>\n",
       "      <td id=\"T_0e054_row11_col3\" class=\"data row11 col3\" >0.451000</td>\n",
       "    </tr>\n",
       "    <tr>\n",
       "      <th id=\"T_0e054_level0_row12\" class=\"row_heading level0 row12\" >20</th>\n",
       "      <td id=\"T_0e054_row12_col0\" class=\"data row12 col0\" >0.976669</td>\n",
       "      <td id=\"T_0e054_row12_col1\" class=\"data row12 col1\" >0.002195</td>\n",
       "      <td id=\"T_0e054_row12_col2\" class=\"data row12 col2\" >0.601000</td>\n",
       "      <td id=\"T_0e054_row12_col3\" class=\"data row12 col3\" >0.301000</td>\n",
       "    </tr>\n",
       "    <tr>\n",
       "      <th id=\"T_0e054_level0_row13\" class=\"row_heading level0 row13\" >9</th>\n",
       "      <td id=\"T_0e054_row13_col0\" class=\"data row13 col0\" >1.006477</td>\n",
       "      <td id=\"T_0e054_row13_col1\" class=\"data row13 col1\" >0.001640</td>\n",
       "      <td id=\"T_0e054_row13_col2\" class=\"data row13 col2\" >0.701000</td>\n",
       "      <td id=\"T_0e054_row13_col3\" class=\"data row13 col3\" >0.251000</td>\n",
       "    </tr>\n",
       "    <tr>\n",
       "      <th id=\"T_0e054_level0_row14\" class=\"row_heading level0 row14\" >6</th>\n",
       "      <td id=\"T_0e054_row14_col0\" class=\"data row14 col0\" >1.035877</td>\n",
       "      <td id=\"T_0e054_row14_col1\" class=\"data row14 col1\" >0.001716</td>\n",
       "      <td id=\"T_0e054_row14_col2\" class=\"data row14 col2\" >0.651000</td>\n",
       "      <td id=\"T_0e054_row14_col3\" class=\"data row14 col3\" >0.351000</td>\n",
       "    </tr>\n",
       "    <tr>\n",
       "      <th id=\"T_0e054_level0_row15\" class=\"row_heading level0 row15\" >21</th>\n",
       "      <td id=\"T_0e054_row15_col0\" class=\"data row15 col0\" >1.042607</td>\n",
       "      <td id=\"T_0e054_row15_col1\" class=\"data row15 col1\" >0.001938</td>\n",
       "      <td id=\"T_0e054_row15_col2\" class=\"data row15 col2\" >0.501000</td>\n",
       "      <td id=\"T_0e054_row15_col3\" class=\"data row15 col3\" >0.601000</td>\n",
       "    </tr>\n",
       "    <tr>\n",
       "      <th id=\"T_0e054_level0_row16\" class=\"row_heading level0 row16\" >13</th>\n",
       "      <td id=\"T_0e054_row16_col0\" class=\"data row16 col0\" >1.064341</td>\n",
       "      <td id=\"T_0e054_row16_col1\" class=\"data row16 col1\" >0.002425</td>\n",
       "      <td id=\"T_0e054_row16_col2\" class=\"data row16 col2\" >0.651000</td>\n",
       "      <td id=\"T_0e054_row16_col3\" class=\"data row16 col3\" >0.401000</td>\n",
       "    </tr>\n",
       "    <tr>\n",
       "      <th id=\"T_0e054_level0_row17\" class=\"row_heading level0 row17\" >11</th>\n",
       "      <td id=\"T_0e054_row17_col0\" class=\"data row17 col0\" >1.237894</td>\n",
       "      <td id=\"T_0e054_row17_col1\" class=\"data row17 col1\" >0.001187</td>\n",
       "      <td id=\"T_0e054_row17_col2\" class=\"data row17 col2\" >0.651000</td>\n",
       "      <td id=\"T_0e054_row17_col3\" class=\"data row17 col3\" >0.651000</td>\n",
       "    </tr>\n",
       "    <tr>\n",
       "      <th id=\"T_0e054_level0_row18\" class=\"row_heading level0 row18\" >8</th>\n",
       "      <td id=\"T_0e054_row18_col0\" class=\"data row18 col0\" >1.250563</td>\n",
       "      <td id=\"T_0e054_row18_col1\" class=\"data row18 col1\" >0.002368</td>\n",
       "      <td id=\"T_0e054_row18_col2\" class=\"data row18 col2\" >0.501000</td>\n",
       "      <td id=\"T_0e054_row18_col3\" class=\"data row18 col3\" >0.951000</td>\n",
       "    </tr>\n",
       "    <tr>\n",
       "      <th id=\"T_0e054_level0_row19\" class=\"row_heading level0 row19\" >1</th>\n",
       "      <td id=\"T_0e054_row19_col0\" class=\"data row19 col0\" >1.295668</td>\n",
       "      <td id=\"T_0e054_row19_col1\" class=\"data row19 col1\" >0.001382</td>\n",
       "      <td id=\"T_0e054_row19_col2\" class=\"data row19 col2\" >0.851000</td>\n",
       "      <td id=\"T_0e054_row19_col3\" class=\"data row19 col3\" >0.501000</td>\n",
       "    </tr>\n",
       "    <tr>\n",
       "      <th id=\"T_0e054_level0_row20\" class=\"row_heading level0 row20\" >19</th>\n",
       "      <td id=\"T_0e054_row20_col0\" class=\"data row20 col0\" >1.442038</td>\n",
       "      <td id=\"T_0e054_row20_col1\" class=\"data row20 col1\" >0.002975</td>\n",
       "      <td id=\"T_0e054_row20_col2\" class=\"data row20 col2\" >0.701000</td>\n",
       "      <td id=\"T_0e054_row20_col3\" class=\"data row20 col3\" >0.801000</td>\n",
       "    </tr>\n",
       "    <tr>\n",
       "      <th id=\"T_0e054_level0_row21\" class=\"row_heading level0 row21\" >18</th>\n",
       "      <td id=\"T_0e054_row21_col0\" class=\"data row21 col0\" >1.459152</td>\n",
       "      <td id=\"T_0e054_row21_col1\" class=\"data row21 col1\" >0.002768</td>\n",
       "      <td id=\"T_0e054_row21_col2\" class=\"data row21 col2\" >0.851000</td>\n",
       "      <td id=\"T_0e054_row21_col3\" class=\"data row21 col3\" >0.651000</td>\n",
       "    </tr>\n",
       "    <tr>\n",
       "      <th id=\"T_0e054_level0_row22\" class=\"row_heading level0 row22\" >7</th>\n",
       "      <td id=\"T_0e054_row22_col0\" class=\"data row22 col0\" >1.786376</td>\n",
       "      <td id=\"T_0e054_row22_col1\" class=\"data row22 col1\" >0.003432</td>\n",
       "      <td id=\"T_0e054_row22_col2\" class=\"data row22 col2\" >0.851000</td>\n",
       "      <td id=\"T_0e054_row22_col3\" class=\"data row22 col3\" >0.951000</td>\n",
       "    </tr>\n",
       "  </tbody>\n",
       "</table>\n"
      ],
      "text/plain": [
       "<pandas.io.formats.style.Styler at 0x12dc5a4f0>"
      ]
     },
     "execution_count": 79,
     "metadata": {},
     "output_type": "execute_result"
    }
   ],
   "source": [
    "cv_results.sort_values(by=['cv_mean_loss', 'cv_std_loss']\n",
    "                      ).loc[:, ['cv_mean_loss', 'cv_std_loss'] + \\\n",
    "                            params_to_record].style.background_gradient(\\\n",
    "    axis=0, cmap= 'Greens', subset=['cv_std_loss'])"
   ]
  },
  {
   "cell_type": "code",
   "execution_count": 80,
   "id": "275775c7",
   "metadata": {},
   "outputs": [
    {
     "name": "stderr",
     "output_type": "stream",
     "text": [
      "100%|██████████████████████████████████████████████████████████████████████████████████████████████████████████████████████████████████████████| 10/10 [01:18<00:00,  7.84s/it]\n"
     ]
    }
   ],
   "source": [
    "reg_results, deviances = run_hyperparameter_search_regularized_model(formula_freq,\n",
    "                                  DATASET, \n",
    "                                  DATASET[exposure_name],\n",
    "                                  sm.families.Poisson(link=sm.families.links.log()),\n",
    "                                  alpha_range=list(np.arange(0,0.1, 0.01)),\n",
    "                                  L1_wt=1,\n",
    "                                  target=nb_claims_name,\n",
    "                                  loss_function=mean_poisson_deviance)"
   ]
  },
  {
   "cell_type": "code",
   "execution_count": 81,
   "id": "88ec925b",
   "metadata": {},
   "outputs": [
    {
     "data": {
      "text/html": [
       "<div>\n",
       "<style scoped>\n",
       "    .dataframe tbody tr th:only-of-type {\n",
       "        vertical-align: middle;\n",
       "    }\n",
       "\n",
       "    .dataframe tbody tr th {\n",
       "        vertical-align: top;\n",
       "    }\n",
       "\n",
       "    .dataframe thead th {\n",
       "        text-align: right;\n",
       "    }\n",
       "</style>\n",
       "<table border=\"1\" class=\"dataframe\">\n",
       "  <thead>\n",
       "    <tr style=\"text-align: right;\">\n",
       "      <th></th>\n",
       "      <th>Intercept</th>\n",
       "      <th>agecar_zero_one</th>\n",
       "      <th>agecar_six_ten</th>\n",
       "      <th>agecar_higher_ten</th>\n",
       "      <th>sexp_Female</th>\n",
       "      <th>fuelc_Gasoil</th>\n",
       "      <th>split_Monthly</th>\n",
       "      <th>split_Thrice</th>\n",
       "      <th>split_Twice</th>\n",
       "      <th>usec_Professional</th>\n",
       "      <th>...</th>\n",
       "      <th>coverp_MTPL</th>\n",
       "      <th>coverp_MTPLplusplusplus</th>\n",
       "      <th>powerc_sixtysix_onehundredten</th>\n",
       "      <th>powerc_higher_onehundredten</th>\n",
       "      <th>district_risk_group_high</th>\n",
       "      <th>district_risk_group_medium</th>\n",
       "      <th>AGEPH_bin_seventeen_thirtythree</th>\n",
       "      <th>AGEPH_bin_thirtythree_forty_one</th>\n",
       "      <th>AGEPH_bin_forty_one_fifty</th>\n",
       "      <th>AGEPH_bin_fifty_sixty_one</th>\n",
       "    </tr>\n",
       "  </thead>\n",
       "  <tbody>\n",
       "    <tr>\n",
       "      <th>0.00</th>\n",
       "      <td>-2.65</td>\n",
       "      <td>0.25</td>\n",
       "      <td>0.06</td>\n",
       "      <td>0.07</td>\n",
       "      <td>0.05</td>\n",
       "      <td>0.19</td>\n",
       "      <td>0.36</td>\n",
       "      <td>0.40</td>\n",
       "      <td>0.17</td>\n",
       "      <td>0.02</td>\n",
       "      <td>...</td>\n",
       "      <td>0.12</td>\n",
       "      <td>-0.05</td>\n",
       "      <td>0.08</td>\n",
       "      <td>0.25</td>\n",
       "      <td>0.46</td>\n",
       "      <td>0.22</td>\n",
       "      <td>0.46</td>\n",
       "      <td>0.15</td>\n",
       "      <td>0.13</td>\n",
       "      <td>0.03</td>\n",
       "    </tr>\n",
       "    <tr>\n",
       "      <th>0.01</th>\n",
       "      <td>-1.89</td>\n",
       "      <td>0.00</td>\n",
       "      <td>0.00</td>\n",
       "      <td>0.00</td>\n",
       "      <td>0.00</td>\n",
       "      <td>0.00</td>\n",
       "      <td>0.00</td>\n",
       "      <td>0.00</td>\n",
       "      <td>0.00</td>\n",
       "      <td>0.00</td>\n",
       "      <td>...</td>\n",
       "      <td>0.00</td>\n",
       "      <td>0.00</td>\n",
       "      <td>0.00</td>\n",
       "      <td>0.00</td>\n",
       "      <td>0.00</td>\n",
       "      <td>0.00</td>\n",
       "      <td>0.00</td>\n",
       "      <td>0.00</td>\n",
       "      <td>0.00</td>\n",
       "      <td>0.00</td>\n",
       "    </tr>\n",
       "    <tr>\n",
       "      <th>0.02</th>\n",
       "      <td>-1.82</td>\n",
       "      <td>0.00</td>\n",
       "      <td>0.00</td>\n",
       "      <td>0.00</td>\n",
       "      <td>0.00</td>\n",
       "      <td>0.00</td>\n",
       "      <td>0.00</td>\n",
       "      <td>0.00</td>\n",
       "      <td>0.00</td>\n",
       "      <td>0.00</td>\n",
       "      <td>...</td>\n",
       "      <td>0.00</td>\n",
       "      <td>0.00</td>\n",
       "      <td>0.00</td>\n",
       "      <td>0.00</td>\n",
       "      <td>0.00</td>\n",
       "      <td>0.00</td>\n",
       "      <td>0.00</td>\n",
       "      <td>0.00</td>\n",
       "      <td>0.00</td>\n",
       "      <td>0.00</td>\n",
       "    </tr>\n",
       "    <tr>\n",
       "      <th>0.03</th>\n",
       "      <td>-1.75</td>\n",
       "      <td>0.00</td>\n",
       "      <td>0.00</td>\n",
       "      <td>0.00</td>\n",
       "      <td>0.00</td>\n",
       "      <td>0.00</td>\n",
       "      <td>0.00</td>\n",
       "      <td>0.00</td>\n",
       "      <td>0.00</td>\n",
       "      <td>0.00</td>\n",
       "      <td>...</td>\n",
       "      <td>0.00</td>\n",
       "      <td>0.00</td>\n",
       "      <td>0.00</td>\n",
       "      <td>0.00</td>\n",
       "      <td>0.00</td>\n",
       "      <td>0.00</td>\n",
       "      <td>0.00</td>\n",
       "      <td>0.00</td>\n",
       "      <td>0.00</td>\n",
       "      <td>0.00</td>\n",
       "    </tr>\n",
       "    <tr>\n",
       "      <th>0.04</th>\n",
       "      <td>-1.69</td>\n",
       "      <td>0.00</td>\n",
       "      <td>0.00</td>\n",
       "      <td>0.00</td>\n",
       "      <td>0.00</td>\n",
       "      <td>0.00</td>\n",
       "      <td>0.00</td>\n",
       "      <td>0.00</td>\n",
       "      <td>0.00</td>\n",
       "      <td>0.00</td>\n",
       "      <td>...</td>\n",
       "      <td>0.00</td>\n",
       "      <td>0.00</td>\n",
       "      <td>0.00</td>\n",
       "      <td>0.00</td>\n",
       "      <td>0.00</td>\n",
       "      <td>0.00</td>\n",
       "      <td>0.00</td>\n",
       "      <td>0.00</td>\n",
       "      <td>0.00</td>\n",
       "      <td>0.00</td>\n",
       "    </tr>\n",
       "    <tr>\n",
       "      <th>0.05</th>\n",
       "      <td>-1.63</td>\n",
       "      <td>0.00</td>\n",
       "      <td>0.00</td>\n",
       "      <td>0.00</td>\n",
       "      <td>0.00</td>\n",
       "      <td>0.00</td>\n",
       "      <td>0.00</td>\n",
       "      <td>0.00</td>\n",
       "      <td>0.00</td>\n",
       "      <td>0.00</td>\n",
       "      <td>...</td>\n",
       "      <td>0.00</td>\n",
       "      <td>0.00</td>\n",
       "      <td>0.00</td>\n",
       "      <td>0.00</td>\n",
       "      <td>0.00</td>\n",
       "      <td>0.00</td>\n",
       "      <td>0.00</td>\n",
       "      <td>0.00</td>\n",
       "      <td>0.00</td>\n",
       "      <td>0.00</td>\n",
       "    </tr>\n",
       "    <tr>\n",
       "      <th>0.06</th>\n",
       "      <td>-1.58</td>\n",
       "      <td>0.00</td>\n",
       "      <td>0.00</td>\n",
       "      <td>0.00</td>\n",
       "      <td>0.00</td>\n",
       "      <td>0.00</td>\n",
       "      <td>0.00</td>\n",
       "      <td>0.00</td>\n",
       "      <td>0.00</td>\n",
       "      <td>0.00</td>\n",
       "      <td>...</td>\n",
       "      <td>0.00</td>\n",
       "      <td>0.00</td>\n",
       "      <td>0.00</td>\n",
       "      <td>0.00</td>\n",
       "      <td>0.00</td>\n",
       "      <td>0.00</td>\n",
       "      <td>0.00</td>\n",
       "      <td>0.00</td>\n",
       "      <td>0.00</td>\n",
       "      <td>0.00</td>\n",
       "    </tr>\n",
       "    <tr>\n",
       "      <th>0.07</th>\n",
       "      <td>-1.52</td>\n",
       "      <td>0.00</td>\n",
       "      <td>0.00</td>\n",
       "      <td>0.00</td>\n",
       "      <td>0.00</td>\n",
       "      <td>0.00</td>\n",
       "      <td>0.00</td>\n",
       "      <td>0.00</td>\n",
       "      <td>0.00</td>\n",
       "      <td>0.00</td>\n",
       "      <td>...</td>\n",
       "      <td>0.00</td>\n",
       "      <td>0.00</td>\n",
       "      <td>0.00</td>\n",
       "      <td>0.00</td>\n",
       "      <td>0.00</td>\n",
       "      <td>0.00</td>\n",
       "      <td>0.00</td>\n",
       "      <td>0.00</td>\n",
       "      <td>0.00</td>\n",
       "      <td>0.00</td>\n",
       "    </tr>\n",
       "    <tr>\n",
       "      <th>0.08</th>\n",
       "      <td>-1.47</td>\n",
       "      <td>0.00</td>\n",
       "      <td>0.00</td>\n",
       "      <td>0.00</td>\n",
       "      <td>0.00</td>\n",
       "      <td>0.00</td>\n",
       "      <td>0.00</td>\n",
       "      <td>0.00</td>\n",
       "      <td>0.00</td>\n",
       "      <td>0.00</td>\n",
       "      <td>...</td>\n",
       "      <td>0.00</td>\n",
       "      <td>0.00</td>\n",
       "      <td>0.00</td>\n",
       "      <td>0.00</td>\n",
       "      <td>0.00</td>\n",
       "      <td>0.00</td>\n",
       "      <td>0.00</td>\n",
       "      <td>0.00</td>\n",
       "      <td>0.00</td>\n",
       "      <td>0.00</td>\n",
       "    </tr>\n",
       "    <tr>\n",
       "      <th>0.09</th>\n",
       "      <td>-1.43</td>\n",
       "      <td>0.00</td>\n",
       "      <td>0.00</td>\n",
       "      <td>0.00</td>\n",
       "      <td>0.00</td>\n",
       "      <td>0.00</td>\n",
       "      <td>0.00</td>\n",
       "      <td>0.00</td>\n",
       "      <td>0.00</td>\n",
       "      <td>0.00</td>\n",
       "      <td>...</td>\n",
       "      <td>0.00</td>\n",
       "      <td>0.00</td>\n",
       "      <td>0.00</td>\n",
       "      <td>0.00</td>\n",
       "      <td>0.00</td>\n",
       "      <td>0.00</td>\n",
       "      <td>0.00</td>\n",
       "      <td>0.00</td>\n",
       "      <td>0.00</td>\n",
       "      <td>0.00</td>\n",
       "    </tr>\n",
       "  </tbody>\n",
       "</table>\n",
       "<p>10 rows × 22 columns</p>\n",
       "</div>"
      ],
      "text/plain": [
       "      Intercept  agecar_zero_one  agecar_six_ten  agecar_higher_ten  \\\n",
       "0.00      -2.65             0.25            0.06               0.07   \n",
       "0.01      -1.89             0.00            0.00               0.00   \n",
       "0.02      -1.82             0.00            0.00               0.00   \n",
       "0.03      -1.75             0.00            0.00               0.00   \n",
       "0.04      -1.69             0.00            0.00               0.00   \n",
       "0.05      -1.63             0.00            0.00               0.00   \n",
       "0.06      -1.58             0.00            0.00               0.00   \n",
       "0.07      -1.52             0.00            0.00               0.00   \n",
       "0.08      -1.47             0.00            0.00               0.00   \n",
       "0.09      -1.43             0.00            0.00               0.00   \n",
       "\n",
       "      sexp_Female  fuelc_Gasoil  split_Monthly  split_Thrice  split_Twice  \\\n",
       "0.00         0.05          0.19           0.36          0.40         0.17   \n",
       "0.01         0.00          0.00           0.00          0.00         0.00   \n",
       "0.02         0.00          0.00           0.00          0.00         0.00   \n",
       "0.03         0.00          0.00           0.00          0.00         0.00   \n",
       "0.04         0.00          0.00           0.00          0.00         0.00   \n",
       "0.05         0.00          0.00           0.00          0.00         0.00   \n",
       "0.06         0.00          0.00           0.00          0.00         0.00   \n",
       "0.07         0.00          0.00           0.00          0.00         0.00   \n",
       "0.08         0.00          0.00           0.00          0.00         0.00   \n",
       "0.09         0.00          0.00           0.00          0.00         0.00   \n",
       "\n",
       "      usec_Professional  ...  coverp_MTPL  coverp_MTPLplusplusplus  \\\n",
       "0.00               0.02  ...         0.12                    -0.05   \n",
       "0.01               0.00  ...         0.00                     0.00   \n",
       "0.02               0.00  ...         0.00                     0.00   \n",
       "0.03               0.00  ...         0.00                     0.00   \n",
       "0.04               0.00  ...         0.00                     0.00   \n",
       "0.05               0.00  ...         0.00                     0.00   \n",
       "0.06               0.00  ...         0.00                     0.00   \n",
       "0.07               0.00  ...         0.00                     0.00   \n",
       "0.08               0.00  ...         0.00                     0.00   \n",
       "0.09               0.00  ...         0.00                     0.00   \n",
       "\n",
       "      powerc_sixtysix_onehundredten  powerc_higher_onehundredten  \\\n",
       "0.00                           0.08                         0.25   \n",
       "0.01                           0.00                         0.00   \n",
       "0.02                           0.00                         0.00   \n",
       "0.03                           0.00                         0.00   \n",
       "0.04                           0.00                         0.00   \n",
       "0.05                           0.00                         0.00   \n",
       "0.06                           0.00                         0.00   \n",
       "0.07                           0.00                         0.00   \n",
       "0.08                           0.00                         0.00   \n",
       "0.09                           0.00                         0.00   \n",
       "\n",
       "      district_risk_group_high  district_risk_group_medium  \\\n",
       "0.00                      0.46                        0.22   \n",
       "0.01                      0.00                        0.00   \n",
       "0.02                      0.00                        0.00   \n",
       "0.03                      0.00                        0.00   \n",
       "0.04                      0.00                        0.00   \n",
       "0.05                      0.00                        0.00   \n",
       "0.06                      0.00                        0.00   \n",
       "0.07                      0.00                        0.00   \n",
       "0.08                      0.00                        0.00   \n",
       "0.09                      0.00                        0.00   \n",
       "\n",
       "      AGEPH_bin_seventeen_thirtythree  AGEPH_bin_thirtythree_forty_one  \\\n",
       "0.00                             0.46                             0.15   \n",
       "0.01                             0.00                             0.00   \n",
       "0.02                             0.00                             0.00   \n",
       "0.03                             0.00                             0.00   \n",
       "0.04                             0.00                             0.00   \n",
       "0.05                             0.00                             0.00   \n",
       "0.06                             0.00                             0.00   \n",
       "0.07                             0.00                             0.00   \n",
       "0.08                             0.00                             0.00   \n",
       "0.09                             0.00                             0.00   \n",
       "\n",
       "      AGEPH_bin_forty_one_fifty  AGEPH_bin_fifty_sixty_one  \n",
       "0.00                       0.13                       0.03  \n",
       "0.01                       0.00                       0.00  \n",
       "0.02                       0.00                       0.00  \n",
       "0.03                       0.00                       0.00  \n",
       "0.04                       0.00                       0.00  \n",
       "0.05                       0.00                       0.00  \n",
       "0.06                       0.00                       0.00  \n",
       "0.07                       0.00                       0.00  \n",
       "0.08                       0.00                       0.00  \n",
       "0.09                       0.00                       0.00  \n",
       "\n",
       "[10 rows x 22 columns]"
      ]
     },
     "execution_count": 81,
     "metadata": {},
     "output_type": "execute_result"
    }
   ],
   "source": [
    "reg_results"
   ]
  },
  {
   "cell_type": "code",
   "execution_count": 82,
   "id": "f79ffdd3",
   "metadata": {},
   "outputs": [
    {
     "data": {
      "image/png": "[encoded data removed]",
      "text/plain": [
       "<Figure size 432x288 with 1 Axes>"
      ]
     },
     "metadata": {
      "needs_background": "light"
     },
     "output_type": "display_data"
    }
   ],
   "source": [
    "plot_params_vs_alpha(reg_results)"
   ]
  },
  {
   "cell_type": "code",
   "execution_count": 83,
   "id": "22ac8224",
   "metadata": {},
   "outputs": [
    {
     "data": {
      "image/png": "[encoded data removed]",
      "text/plain": [
       "<Figure size 432x288 with 1 Axes>"
      ]
     },
     "metadata": {
      "needs_background": "light"
     },
     "output_type": "display_data"
    }
   ],
   "source": [
    "plot_params_vs_alpha(reg_results.loc[0:0.005, :])"
   ]
  },
  {
   "cell_type": "code",
   "execution_count": 84,
   "id": "e5a6c746",
   "metadata": {},
   "outputs": [
    {
     "data": {
      "image/png": "[encoded data removed]",
      "text/plain": [
       "<Figure size 432x288 with 1 Axes>"
      ]
     },
     "metadata": {
      "needs_background": "light"
     },
     "output_type": "display_data"
    }
   ],
   "source": [
    "plot_params_vs_alpha(reg_results.loc[0:0.005, ['district_risk_group_high', 'AGEPH_bin_seventeen_thirtythree', 'Intercept']])\n"
   ]
  },
  {
   "cell_type": "markdown",
   "id": "5d1cbf4b",
   "metadata": {},
   "source": [
    "*** Observations: ***\n",
    "- `district_risk_group_high`\n",
    "- `AGEPH_bin_seventeen_thirtythree`\n",
    "- `Intercept`\\\n",
    "variables are the features whose coefficients resist the most to the regularization and converge less rapidly to zero"
   ]
  },
  {
   "cell_type": "code",
   "execution_count": 85,
   "id": "dabe56c8",
   "metadata": {},
   "outputs": [
    {
     "data": {
      "text/html": [
       "<div>\n",
       "<style scoped>\n",
       "    .dataframe tbody tr th:only-of-type {\n",
       "        vertical-align: middle;\n",
       "    }\n",
       "\n",
       "    .dataframe tbody tr th {\n",
       "        vertical-align: top;\n",
       "    }\n",
       "\n",
       "    .dataframe thead th {\n",
       "        text-align: right;\n",
       "    }\n",
       "</style>\n",
       "<table border=\"1\" class=\"dataframe\">\n",
       "  <thead>\n",
       "    <tr style=\"text-align: right;\">\n",
       "      <th></th>\n",
       "      <th>deviance</th>\n",
       "      <th>alpha</th>\n",
       "      <th>L1_wt</th>\n",
       "    </tr>\n",
       "  </thead>\n",
       "  <tbody>\n",
       "    <tr>\n",
       "      <th>0</th>\n",
       "      <td>0.54</td>\n",
       "      <td>0.00</td>\n",
       "      <td>1</td>\n",
       "    </tr>\n",
       "  </tbody>\n",
       "</table>\n",
       "</div>"
      ],
      "text/plain": [
       "   deviance  alpha  L1_wt\n",
       "0      0.54   0.00      1"
      ]
     },
     "execution_count": 85,
     "metadata": {},
     "output_type": "execute_result"
    }
   ],
   "source": [
    "deviances_df = pd.DataFrame(deviances)\n",
    "deviances_df.query(f'deviance=={deviances_df.deviance.min()}')"
   ]
  },
  {
   "cell_type": "markdown",
   "id": "96d33a34",
   "metadata": {},
   "source": [
    "We see that the regularisation did not add any value, a way to improve the results will be to take a smaller alpha step or to optimize over `L1_wt` as well"
   ]
  },
  {
   "cell_type": "markdown",
   "id": "c9ae225c",
   "metadata": {},
   "source": [
    "### 3.3.2 LASSO Severity <a name=\"three-three-two\"></a>"
   ]
  },
  {
   "cell_type": "code",
   "execution_count": 86,
   "id": "99d00146",
   "metadata": {},
   "outputs": [
    {
     "name": "stderr",
     "output_type": "stream",
     "text": [
      "100%|████████████████████████████████████████████████████████████████████████████████████████████████████████████████████████████████████████| 100/100 [04:33<00:00,  2.74s/it]\n"
     ]
    }
   ],
   "source": [
    "reg_results_sev, deviances_sev = run_hyperparameter_search_regularized_model(formula_sev,\n",
    "                                  DATASET_SEVERITY, \n",
    "                                  DATASET_SEVERITY[exposure_name],\n",
    "                                  sm.families.Gamma(link=sm.families.links.log()),\n",
    "                                  alpha_range=list(np.arange(0,0.1, 0.001)),\n",
    "                                  L1_wt=1,\n",
    "                                  target=claim_amount_name,\n",
    "                                  loss_function=mean_gamma_deviance)"
   ]
  },
  {
   "cell_type": "code",
   "execution_count": 87,
   "id": "48646f6f",
   "metadata": {},
   "outputs": [
    {
     "data": {
      "image/png": "[encoded data removed]",
      "text/plain": [
       "<Figure size 432x288 with 1 Axes>"
      ]
     },
     "metadata": {
      "needs_background": "light"
     },
     "output_type": "display_data"
    }
   ],
   "source": [
    "plot_params_vs_alpha(reg_results_sev)"
   ]
  },
  {
   "cell_type": "markdown",
   "id": "bb7b1108",
   "metadata": {},
   "source": [
    "#TODO:should perform an hyperparameter search not only on alpha but also on L1_wt for the elastic search"
   ]
  },
  {
   "cell_type": "code",
   "execution_count": 88,
   "id": "2d5ae9e0",
   "metadata": {},
   "outputs": [
    {
     "data": {
      "image/png": "[encoded data removed]",
      "text/plain": [
       "<Figure size 432x288 with 1 Axes>"
      ]
     },
     "metadata": {
      "needs_background": "light"
     },
     "output_type": "display_data"
    }
   ],
   "source": [
    "plot_params_vs_alpha(reg_results_sev.loc[0:0.005,:])"
   ]
  },
  {
   "cell_type": "code",
   "execution_count": 89,
   "id": "c53ff048",
   "metadata": {},
   "outputs": [
    {
     "data": {
      "text/html": [
       "<div>\n",
       "<style scoped>\n",
       "    .dataframe tbody tr th:only-of-type {\n",
       "        vertical-align: middle;\n",
       "    }\n",
       "\n",
       "    .dataframe tbody tr th {\n",
       "        vertical-align: top;\n",
       "    }\n",
       "\n",
       "    .dataframe thead th {\n",
       "        text-align: right;\n",
       "    }\n",
       "</style>\n",
       "<table border=\"1\" class=\"dataframe\">\n",
       "  <thead>\n",
       "    <tr style=\"text-align: right;\">\n",
       "      <th></th>\n",
       "      <th>deviance</th>\n",
       "      <th>alpha</th>\n",
       "      <th>L1_wt</th>\n",
       "    </tr>\n",
       "  </thead>\n",
       "  <tbody>\n",
       "    <tr>\n",
       "      <th>0</th>\n",
       "      <td>0.54</td>\n",
       "      <td>0.00</td>\n",
       "      <td>1</td>\n",
       "    </tr>\n",
       "  </tbody>\n",
       "</table>\n",
       "</div>"
      ],
      "text/plain": [
       "   deviance  alpha  L1_wt\n",
       "0      0.54   0.00      1"
      ]
     },
     "execution_count": 89,
     "metadata": {},
     "output_type": "execute_result"
    }
   ],
   "source": [
    "deviances_df_sev = pd.DataFrame(deviances)\n",
    "deviances_df_sev.query(f'deviance=={deviances_df_sev.deviance.min()}')"
   ]
  },
  {
   "cell_type": "markdown",
   "id": "d0992c57",
   "metadata": {},
   "source": [
    "# 4. Conclusion\n",
    "\n",
    "*** Frequency ***\n",
    "- `AGEPH`: this continuous variables was binned\n",
    "    - Policyholder are really at risk if he/she has between 17 and 33 yo\n",
    "    - Policyholder are less at risk if he/she has between 61 and 95 yo\n",
    "    - the GLM and its regularized version showed consistent results\n",
    "- `CODPOSS`/`district_risk_group`: this continuous variable was binned into three risk groups based on mean claim frequency\n",
    "    - Unsurprisingly, lower_district_group is less at risk and high_district_group\n",
    "*** Severity ***\n",
    "\n",
    " - `AGEPH` The Policyholder aged between 17 and 33 increases significantly the severity \\\n",
    " - `powerc` between 66 and 110 increases significantly the severity\n",
    " \n",
    " *** Ways of improvments ***:\n",
    " \n",
    " - We did not aim at improving the performance of the model but only to understand the risk factors.\n",
    "     - We could have tried keeping the continuous variables as such\n",
    "     - We could have tried to proceed to model assessment on train/validation/test set for hyperparameter search\n",
    " - We could have tried to look for interactions between variables\n",
    " - We kept the same reference class for both `nb_claims` and `claim_amount`, we could have used distinct ones\n",
    " - We could have infer other variables if provided with better geo-mapping\n",
    " - An hyperparameter search for smaller alpha and the elastic net $\\lambda $ parameter could have been performed...\n",
    " - A Pipeline could have been built to avoid data leakage\n",
    "\n",
    "\n"
   ]
  },
  {
   "cell_type": "code",
   "execution_count": null,
   "id": "932b2051",
   "metadata": {},
   "outputs": [],
   "source": []
  }
 ],
 "metadata": {
  "kernelspec": {
   "display_name": "Python 3 (ipykernel)",
   "language": "python",
   "name": "python3"
  },
  "language_info": {
   "codemirror_mode": {
    "name": "ipython",
    "version": 3
   },
   "file_extension": ".py",
   "mimetype": "text/x-python",
   "name": "python",
   "nbconvert_exporter": "python",
   "pygments_lexer": "ipython3",
   "version": "3.9.7"
  }
 },
 "nbformat": 4,
 "nbformat_minor": 5
}
