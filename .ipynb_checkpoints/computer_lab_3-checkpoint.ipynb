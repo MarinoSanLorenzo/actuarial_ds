{
 "cells": [
  {
   "cell_type": "markdown",
   "metadata": {
    "id": "Q5NmxNrTZkAG"
   },
   "source": [
    "<center> <h1> <span style=\"color:black\"> IABE Data Science Certificate - Module 1 - Computer lab 3  </h1> </center> \n",
    "<center> <h2> <span style=\"color:red\"> Programming : refinements of GLMs + regularized regression models </h1> </center>"
   ]
  },
  {
   "cell_type": "markdown",
   "metadata": {
    "id": "M1YEjmm9lqJS"
   },
   "source": [
    "# Agenda\n",
    "* [Chapter 1 - Import of libraries and datasets](#one)\n",
    "    + [1.1 Libraries](#one-one)\n",
    "    + [1.2 Data sets](#one-two)\n",
    "* [Chapter 2 - Exploratory data analysis](#two)\n",
    "    + [2.1 Visualizing the distribution of the target variable](#two-one)\n",
    "    + [2.2 Visualizing the distribution of the features paying attention to \n",
    "    risk factors of different types](#two-two)\n",
    "    + [2.3 Visualizing the empirical distribution of the target as a function of one of the features: a marginal analysis](#two-three)\n",
    "* [Chapter 3 - More on fitting GLMs with {statsmodels} and {statsmodels.formula.api}](#three)\n",
    "    + [3.1 A frequency and a severity GLM with only a factor variable](#three-one)\n",
    "    + [3.2 A GLM with a continuous covariate](#three-two)\n",
    "    + [3.3 A GLM with a binned continuous covariate](#three-three)\n",
    "    + [3.4 A frequency GLM with multiple types of features](#three-four)\n",
    "* [Chapter 4 - Regularized (G)LMs with {statsmodels} and {scikit-learn}](#four)\n",
    "    + [4.1 A regularized Poisson model with {statsmodels}](#four-one)\n",
    "    + [4.2 A regularized linear regression model with {scikit-learn}](#four-two)\n",
    "    + [4.3 Avoiding data leakage with pipelines](#four-three)\n"
   ]
  },
  {
   "cell_type": "markdown",
   "metadata": {
    "id": "_jT6T4kbZ8Pl"
   },
   "source": [
    "# Chapter 1 - Import of libraries and datasets <a name=\"one\"></a>"
   ]
  },
  {
   "cell_type": "markdown",
   "metadata": {
    "id": "Kv13FN5ZauVW"
   },
   "source": [
    "## 1.1 Libraries <a name=\"one-one\"></a>"
   ]
  },
  {
   "cell_type": "code",
   "execution_count": 1,
   "metadata": {
    "id": "DKXUBH1cF1mg"
   },
   "outputs": [
    {
     "ename": "ModuleNotFoundError",
     "evalue": "No module named 'statsmodels'",
     "output_type": "error",
     "traceback": [
      "\u001b[0;31m---------------------------------------------------------------------------\u001b[0m",
      "\u001b[0;31mModuleNotFoundError\u001b[0m                       Traceback (most recent call last)",
      "\u001b[0;32m/var/folders/yw/njskz_3948q27w2qvnstq1700000gn/T/ipykernel_1023/2122575012.py\u001b[0m in \u001b[0;36m<module>\u001b[0;34m\u001b[0m\n\u001b[1;32m      4\u001b[0m \u001b[0;32mimport\u001b[0m \u001b[0mmatplotlib\u001b[0m\u001b[0;34m.\u001b[0m\u001b[0mpyplot\u001b[0m \u001b[0;32mas\u001b[0m \u001b[0mplt\u001b[0m\u001b[0;34m\u001b[0m\u001b[0;34m\u001b[0m\u001b[0m\n\u001b[1;32m      5\u001b[0m \u001b[0;32mimport\u001b[0m \u001b[0mseaborn\u001b[0m \u001b[0;32mas\u001b[0m \u001b[0msns\u001b[0m\u001b[0;34m\u001b[0m\u001b[0;34m\u001b[0m\u001b[0m\n\u001b[0;32m----> 6\u001b[0;31m \u001b[0;32mimport\u001b[0m \u001b[0mstatsmodels\u001b[0m\u001b[0;34m.\u001b[0m\u001b[0mapi\u001b[0m \u001b[0;32mas\u001b[0m \u001b[0msm\u001b[0m\u001b[0;34m\u001b[0m\u001b[0;34m\u001b[0m\u001b[0m\n\u001b[0m\u001b[1;32m      7\u001b[0m \u001b[0;32mimport\u001b[0m \u001b[0mstatsmodels\u001b[0m\u001b[0;34m.\u001b[0m\u001b[0mformula\u001b[0m\u001b[0;34m.\u001b[0m\u001b[0mapi\u001b[0m \u001b[0;32mas\u001b[0m \u001b[0msmf\u001b[0m\u001b[0;34m\u001b[0m\u001b[0;34m\u001b[0m\u001b[0m\n",
      "\u001b[0;31mModuleNotFoundError\u001b[0m: No module named 'statsmodels'"
     ]
    }
   ],
   "source": [
    "import random\n",
    "import numpy as np \n",
    "import pandas as pd \n",
    "import matplotlib.pyplot as plt\n",
    "import seaborn as sns\n",
    "import statsmodels.api as sm\n",
    "import statsmodels.formula.api as smf"
   ]
  },
  {
   "cell_type": "markdown",
   "metadata": {
    "id": "LOTTZBufH5l3"
   },
   "source": [
    "## 1.2 Load the data sets <a name=\"one-two\"></a>"
   ]
  },
  {
   "cell_type": "markdown",
   "metadata": {
    "id": "TPMeyDoBmVUJ"
   },
   "source": [
    "### 1.2.1 MTPL data"
   ]
  },
  {
   "cell_type": "code",
   "execution_count": null,
   "metadata": {
    "id": "7C-5qltAeRCx"
   },
   "outputs": [],
   "source": [
    "mtpl_orig = pd.read_csv(\"https://katrienantonio.github.io/hands-on-machine-learning-R-module-1/data/PC_data.txt\", delimiter = \"\\t\")"
   ]
  },
  {
   "cell_type": "code",
   "execution_count": null,
   "metadata": {
    "colab": {
     "base_uri": "https://localhost:8080/",
     "height": 204
    },
    "id": "pgcMmWwpIjY5",
    "outputId": "f06b8cab-9f74-4177-cd6b-8b66ddbe943e"
   },
   "outputs": [],
   "source": [
    "mtpl_orig.head()"
   ]
  },
  {
   "cell_type": "markdown",
   "metadata": {
    "id": "Sob2WzsuhN96"
   },
   "source": [
    "As before, after reading the original data set we start with some data preparation steps: change upper to lower case in the variable names and rename `EXP` to `expo` to refer to the exposure measure."
   ]
  },
  {
   "cell_type": "code",
   "execution_count": null,
   "metadata": {
    "colab": {
     "base_uri": "https://localhost:8080/",
     "height": 204
    },
    "id": "vxEWn4h0Izmo",
    "outputId": "f88593bb-e2dc-46f4-fe95-8310b0f1e8d4"
   },
   "outputs": [],
   "source": [
    "mtpl = mtpl_orig\n",
    "mtpl.columns = mtpl_orig.columns.str.lower()\n",
    "mtpl = mtpl.rename(columns= {'exp': 'expo'})\n",
    "mtpl.head()"
   ]
  },
  {
   "cell_type": "code",
   "execution_count": null,
   "metadata": {
    "colab": {
     "base_uri": "https://localhost:8080/"
    },
    "id": "suTtbSw6JAmO",
    "outputId": "f9adb4d7-e15d-44ff-a4b6-65bbe68c7cff"
   },
   "outputs": [],
   "source": [
    "mtpl.shape"
   ]
  },
  {
   "cell_type": "markdown",
   "metadata": {
    "id": "cGnNfiIWmkYx"
   },
   "source": [
    "### 1.2.1 Ames housing data"
   ]
  },
  {
   "cell_type": "markdown",
   "metadata": {
    "id": "ufOTuLcgz5P-"
   },
   "source": [
    "Later on in today's computer lab we demonstrate regularized linear regression on the Ames housing data set. "
   ]
  },
  {
   "cell_type": "code",
   "execution_count": null,
   "metadata": {
    "id": "yrJjhOsfzUjX"
   },
   "outputs": [],
   "source": [
    "ames_orig = pd.read_csv(\"https://katrienantonio.github.io/hands-on-machine-learning-R-module-1/data/ames_python.csv\")"
   ]
  },
  {
   "cell_type": "code",
   "execution_count": null,
   "metadata": {
    "colab": {
     "base_uri": "https://localhost:8080/"
    },
    "id": "JNu1_yvNziYF",
    "outputId": "be9615ca-0c4a-47a9-c843-00f99cb8db6a"
   },
   "outputs": [],
   "source": [
    "ames_orig.shape"
   ]
  },
  {
   "cell_type": "code",
   "execution_count": null,
   "metadata": {
    "colab": {
     "base_uri": "https://localhost:8080/",
     "height": 454
    },
    "id": "_kI599fBzlrq",
    "outputId": "273d2d53-f7c7-403e-f7b0-7c7f63538782"
   },
   "outputs": [],
   "source": [
    "ames_orig"
   ]
  },
  {
   "cell_type": "code",
   "execution_count": null,
   "metadata": {
    "colab": {
     "base_uri": "https://localhost:8080/"
    },
    "id": "v5NIF6FWzzee",
    "outputId": "8658c35e-0804-4aba-e948-de2f6cc92b31"
   },
   "outputs": [],
   "source": [
    "ames_orig.info()"
   ]
  },
  {
   "cell_type": "markdown",
   "metadata": {
    "id": "ZjEtOXqhJFni"
   },
   "source": [
    "# 2. Exploratory data analysis <a name=\"two\"></a>"
   ]
  },
  {
   "cell_type": "markdown",
   "metadata": {
    "id": "Ghm2Ijeahtkn"
   },
   "source": [
    "## 2.1 Some simple summary statistics <a name=\"two-one\"></a>"
   ]
  },
  {
   "cell_type": "markdown",
   "metadata": {
    "id": "Jv8rqQexnYOz"
   },
   "source": [
    "How would you calculate the empirical claim frequency per unit of exposure to risk? Like this ..."
   ]
  },
  {
   "cell_type": "code",
   "execution_count": null,
   "metadata": {
    "colab": {
     "base_uri": "https://localhost:8080/"
    },
    "id": "VrQ5HbBzJwg4",
    "outputId": "cb506988-da65-4af8-c983-24709e6f9605"
   },
   "outputs": [],
   "source": [
    "mtpl[\"nclaims\"].mean()"
   ]
  },
  {
   "cell_type": "markdown",
   "metadata": {
    "id": "w6ZtJd7jj-1m"
   },
   "source": [
    "... or rather like this:"
   ]
  },
  {
   "cell_type": "code",
   "execution_count": null,
   "metadata": {
    "colab": {
     "base_uri": "https://localhost:8080/"
    },
    "id": "Vhn8pGPgJN4k",
    "outputId": "8376dd23-bc45-44b6-c457-c99b69a39227"
   },
   "outputs": [],
   "source": [
    "mtpl.nclaims.sum()/mtpl.expo.sum()"
   ]
  },
  {
   "cell_type": "markdown",
   "metadata": {
    "id": "90PVqv9HnpF6"
   },
   "source": [
    "Let's inspect the empirical distribution of the number of claims reported"
   ]
  },
  {
   "cell_type": "code",
   "execution_count": null,
   "metadata": {
    "colab": {
     "base_uri": "https://localhost:8080/"
    },
    "id": "YslvYeByKRji",
    "outputId": "761ef642-c663-47aa-ff7e-f997eeb00949"
   },
   "outputs": [],
   "source": [
    "mtpl[\"nclaims\"].value_counts()"
   ]
  },
  {
   "cell_type": "markdown",
   "metadata": {
    "id": "0GQswbqgh2y6"
   },
   "source": [
    "## 2.2 Exploratory graphs <a name=\"two-two\"></a>"
   ]
  },
  {
   "cell_type": "markdown",
   "metadata": {
    "id": "iaKblsYItGG3"
   },
   "source": [
    "### 2.2.1 Visualizing the distribution of the target variable"
   ]
  },
  {
   "cell_type": "markdown",
   "metadata": {
    "id": "QKiViQxpoDLt"
   },
   "source": [
    "For `mtpl` we first construct a simple bar plot to picture the empirical distribution of the number of claims reported."
   ]
  },
  {
   "cell_type": "code",
   "execution_count": null,
   "metadata": {
    "colab": {
     "base_uri": "https://localhost:8080/",
     "height": 280
    },
    "id": "Ooyj4joUZvU4",
    "outputId": "95ec3375-1672-44b4-b935-8d79224900be"
   },
   "outputs": [],
   "source": [
    "mtpl[\"nclaims\"].value_counts().plot(kind = \"bar\")"
   ]
  },
  {
   "cell_type": "markdown",
   "metadata": {
    "id": "yVz34Ox6tVTg"
   },
   "source": [
    "We now show how to customize our plots. Below we specify the KU Leuven blue-green-ish for further use in our graphs."
   ]
  },
  {
   "cell_type": "code",
   "execution_count": null,
   "metadata": {
    "id": "kF9hwrU-L9f5"
   },
   "outputs": [],
   "source": [
    "KULbg =  \"#116E8A\""
   ]
  },
  {
   "cell_type": "code",
   "execution_count": null,
   "metadata": {
    "colab": {
     "base_uri": "https://localhost:8080/",
     "height": 266
    },
    "id": "NJo35S82qGyU",
    "outputId": "de6658c8-58c8-4c13-a091-374ac05a1a8b"
   },
   "outputs": [],
   "source": [
    "emp_freq = mtpl.groupby(\"nclaims\").agg(tot_obs = ('nclaims', 'count'), tot_expo = ('expo', 'sum'))\n",
    "emp_freq"
   ]
  },
  {
   "cell_type": "markdown",
   "metadata": {
    "id": "KBSR4QMkBqu_"
   },
   "source": [
    "Mind the difference between the above structure of `emp_freq` and the one below:"
   ]
  },
  {
   "cell_type": "code",
   "execution_count": null,
   "metadata": {
    "colab": {
     "base_uri": "https://localhost:8080/",
     "height": 235
    },
    "id": "tKQW8TLZspbY",
    "outputId": "2f7e5219-7385-404c-ca15-42adb86a81ee"
   },
   "outputs": [],
   "source": [
    "emp_freq.reset_index(inplace = True)\n",
    "emp_freq"
   ]
  },
  {
   "cell_type": "code",
   "execution_count": null,
   "metadata": {
    "colab": {
     "base_uri": "https://localhost:8080/",
     "height": 350
    },
    "id": "Rv95J7JCLter",
    "outputId": "75597507-eaa8-44c9-85de-6d0f4a9d16b0"
   },
   "outputs": [],
   "source": [
    "plt.figure(figsize = (10, 5))\n",
    "sns.barplot(data = emp_freq, x = \"nclaims\", y = \"tot_expo\", color = KULbg, alpha = 0.5, edgecolor = 'black', linewidth = 1)\n",
    "plt.ylabel(\"Abs freq (in exposure)\")\n",
    "plt.xlabel(\"nclaims\")\n",
    "plt.title('MTPL - number of claims')\n",
    "plt.show()"
   ]
  },
  {
   "cell_type": "markdown",
   "metadata": {
    "id": "guL0g5xomIsQ"
   },
   "source": [
    "Next to `nclaims`, we also explore the distribution of `avg`, the severity paid per reported claim."
   ]
  },
  {
   "cell_type": "code",
   "execution_count": null,
   "metadata": {
    "colab": {
     "base_uri": "https://localhost:8080/",
     "height": 334
    },
    "id": "wDEKlwBSTUk-",
    "outputId": "3dd7946a-cdef-423e-8dfb-45927a95f856"
   },
   "outputs": [],
   "source": [
    "plt.figure(figsize=(10,5));\n",
    "sns.histplot(data=mtpl, x= \"avg\", color=KULbg, alpha=0.5, bins=30, binrange=[0,20000])\n",
    "plt.xlabel(\"claim severity\")\n",
    "plt.show() "
   ]
  },
  {
   "cell_type": "markdown",
   "metadata": {
    "id": "piODx58m0RHb"
   },
   "source": [
    "With similar instructions we can inspect the distribution of `Sale_Price` in the Ames housing data set."
   ]
  },
  {
   "cell_type": "code",
   "execution_count": null,
   "metadata": {
    "colab": {
     "base_uri": "https://localhost:8080/",
     "height": 337
    },
    "id": "fpdfo-5V0Y4i",
    "outputId": "64867667-4e86-42e7-e4e7-538a6f8b0972"
   },
   "outputs": [],
   "source": [
    "plt.figure(figsize=(10,5));\n",
    "sns.histplot(data = ames_orig, x = \"Sale_Price\", color = KULbg, alpha = 0.5, bins = 30)\n",
    "plt.xlabel(\"Sale_Price\")\n",
    "plt.show() "
   ]
  },
  {
   "cell_type": "code",
   "execution_count": null,
   "metadata": {
    "id": "_F8-7T4x1smC"
   },
   "outputs": [],
   "source": [
    "ames_orig[\"log_Sale_Price\"] = np.log(ames_orig[\"Sale_Price\"])"
   ]
  },
  {
   "cell_type": "code",
   "execution_count": null,
   "metadata": {
    "colab": {
     "base_uri": "https://localhost:8080/",
     "height": 335
    },
    "id": "s7OTxWkw13nD",
    "outputId": "0e2e123d-8229-46f5-f656-19034c1aa735"
   },
   "outputs": [],
   "source": [
    "plt.figure(figsize=(10,5));\n",
    "sns.histplot(data = ames_orig, x = \"log_Sale_Price\", color = KULbg, alpha = 0.5, bins = 30)\n",
    "plt.xlabel(\"Sale_Price\")\n",
    "plt.show() "
   ]
  },
  {
   "cell_type": "markdown",
   "metadata": {
    "id": "M_I_FyGVdxsd"
   },
   "source": [
    "### 2.2.2 Visualizing the distribution of the features paying attention to risk factors of different types"
   ]
  },
  {
   "cell_type": "markdown",
   "metadata": {
    "id": "5t5IlYILlCwi"
   },
   "source": [
    "#### Changing the type of a variable"
   ]
  },
  {
   "cell_type": "markdown",
   "metadata": {
    "id": "aIEODzS6katm"
   },
   "source": [
    "We first inspect the type of each column in the `mtpl` data frame. What is the data type of `coverage` for instance?"
   ]
  },
  {
   "cell_type": "code",
   "execution_count": null,
   "metadata": {
    "colab": {
     "base_uri": "https://localhost:8080/"
    },
    "id": "exN3E-pVXFbA",
    "outputId": "4c8582df-87a5-4a3e-ecf3-e3eaa91fd33d"
   },
   "outputs": [],
   "source": [
    "mtpl.info()"
   ]
  },
  {
   "cell_type": "code",
   "execution_count": null,
   "metadata": {
    "colab": {
     "base_uri": "https://localhost:8080/"
    },
    "id": "fKxje6XVbkYw",
    "outputId": "a2f1e63c-b101-42fa-ee5f-17602b77c3c6"
   },
   "outputs": [],
   "source": [
    "mtpl.coverage"
   ]
  },
  {
   "cell_type": "markdown",
   "metadata": {
    "id": "LdqA_7gokrol"
   },
   "source": [
    "We transform the variables `coverage`, `fuel`, `use`, `fleet` and `sex` to type categorical for further use in data exploration and the predictive modeling steps. \n"
   ]
  },
  {
   "cell_type": "code",
   "execution_count": null,
   "metadata": {
    "id": "tsE5vM84rPqF"
   },
   "outputs": [],
   "source": [
    "for c in [\"coverage\", \"fuel\", \"use\", \"fleet\", \"sex\"]:\n",
    "    mtpl[c]=pd.Categorical(mtpl[c])    "
   ]
  },
  {
   "cell_type": "code",
   "execution_count": null,
   "metadata": {
    "colab": {
     "base_uri": "https://localhost:8080/"
    },
    "id": "S9CFbBY9bofW",
    "outputId": "15551bda-70dc-4878-c3d2-b91e92b3fa27"
   },
   "outputs": [],
   "source": [
    "mtpl.coverage"
   ]
  },
  {
   "cell_type": "code",
   "execution_count": null,
   "metadata": {
    "colab": {
     "base_uri": "https://localhost:8080/"
    },
    "id": "IA_Nj1m2bvi8",
    "outputId": "68b8b6ef-0a55-4ba5-9766-a7ef31857603"
   },
   "outputs": [],
   "source": [
    "mtpl.town"
   ]
  },
  {
   "cell_type": "code",
   "execution_count": null,
   "metadata": {
    "id": "gwi_CHgbYvzi"
   },
   "outputs": [],
   "source": [
    "mtpl[\"town\"] = mtpl[\"town\"].astype(\"string\")"
   ]
  },
  {
   "cell_type": "code",
   "execution_count": null,
   "metadata": {
    "colab": {
     "base_uri": "https://localhost:8080/"
    },
    "id": "Ei_beWElbyne",
    "outputId": "b51fc2aa-84b3-47fe-eaec-0b480500424b"
   },
   "outputs": [],
   "source": [
    "mtpl.town"
   ]
  },
  {
   "cell_type": "code",
   "execution_count": null,
   "metadata": {
    "colab": {
     "base_uri": "https://localhost:8080/"
    },
    "id": "K3ANW1-JYHb0",
    "outputId": "7bf879a2-7735-4bbe-9905-89a950ab30af"
   },
   "outputs": [],
   "source": [
    "mtpl.info()"
   ]
  },
  {
   "cell_type": "markdown",
   "metadata": {
    "id": "AfQYMW2tc14u"
   },
   "source": [
    "#### A type-specific exploratory analysis of the risk factors"
   ]
  },
  {
   "cell_type": "markdown",
   "metadata": {
    "id": "AtgVAFOKlld7"
   },
   "source": [
    "##### Exploring a factor variable"
   ]
  },
  {
   "cell_type": "code",
   "execution_count": null,
   "metadata": {
    "colab": {
     "base_uri": "https://localhost:8080/"
    },
    "id": "jFal8Vi-LWs2",
    "outputId": "bee4b06d-7756-40df-c454-6cf00a74abc4"
   },
   "outputs": [],
   "source": [
    "mtpl[\"sex\"].value_counts()"
   ]
  },
  {
   "cell_type": "code",
   "execution_count": null,
   "metadata": {
    "colab": {
     "base_uri": "https://localhost:8080/",
     "height": 308
    },
    "id": "UJPHXUWrhY0U",
    "outputId": "dbf0ef4b-9cb2-4a7c-8aa8-a83d6fb0f3b9"
   },
   "outputs": [],
   "source": [
    "mtpl[\"sex\"].value_counts().plot(kind = \"bar\")"
   ]
  },
  {
   "cell_type": "code",
   "execution_count": null,
   "metadata": {
    "colab": {
     "base_uri": "https://localhost:8080/"
    },
    "id": "-wWkvO8rJR1O",
    "outputId": "1bfdb5bb-b502-4b53-d3e7-c8b55907289d"
   },
   "outputs": [],
   "source": [
    "mtpl.groupby(\"sex\").agg({'nclaims':sum}).values / mtpl.groupby(\"sex\").agg({'expo':sum}).values"
   ]
  },
  {
   "cell_type": "code",
   "execution_count": null,
   "metadata": {
    "colab": {
     "base_uri": "https://localhost:8080/"
    },
    "id": "rLI0EsndhhZS",
    "outputId": "54c4c75b-773c-492f-da8a-0e362d767dea"
   },
   "outputs": [],
   "source": [
    "mtpl.groupby(\"sex\")[\"nclaims\"].sum() / mtpl.groupby(\"sex\")[\"expo\"].sum()"
   ]
  },
  {
   "cell_type": "code",
   "execution_count": null,
   "metadata": {
    "colab": {
     "base_uri": "https://localhost:8080/",
     "height": 304
    },
    "id": "OPCg-WJKKo8H",
    "outputId": "9df9ea26-cfce-42fa-e0f7-12ff85100d1a"
   },
   "outputs": [],
   "source": [
    "(mtpl.groupby(\"sex\")[\"nclaims\"].sum() / mtpl.groupby(\"sex\")[\"expo\"].sum()).plot(kind = \"bar\");"
   ]
  },
  {
   "cell_type": "markdown",
   "metadata": {
    "id": "JQpbT0Lch8CD"
   },
   "source": [
    "#### Exploring a continuous variable"
   ]
  },
  {
   "cell_type": "code",
   "execution_count": null,
   "metadata": {
    "colab": {
     "base_uri": "https://localhost:8080/",
     "height": 350
    },
    "id": "qy9f9qCqMLat",
    "outputId": "8caa2d8c-6ca8-42da-e20e-d2364b76309d"
   },
   "outputs": [],
   "source": [
    "plt.figure(figsize = (10, 5))\n",
    "sns.histplot(data = mtpl, x = \"ageph\", color = KULbg, binwidth = 2, alpha = 0.5)\n",
    "plt.ylabel(\"Absolute frequency\")\n",
    "plt.title('MTPL - age policyholder')\n",
    "plt.show()"
   ]
  },
  {
   "cell_type": "markdown",
   "metadata": {
    "id": "5cLRwpU5yFbi"
   },
   "source": [
    "### 2.2.3 Visualizing the empirical distribution of the target as a function of one of the features: a marginal analysis "
   ]
  },
  {
   "cell_type": "code",
   "execution_count": null,
   "metadata": {
    "colab": {
     "base_uri": "https://localhost:8080/",
     "height": 235
    },
    "id": "5jQ07-ceMjQw",
    "outputId": "cfa1c593-585a-4316-a5a8-a1b5aaf0b86d"
   },
   "outputs": [],
   "source": [
    "freq_by_age = mtpl.groupby(\"ageph\").agg(tot_claims = ('nclaims', 'sum'), tot_expo = ('expo', 'sum'))\n",
    "freq_by_age.head()"
   ]
  },
  {
   "cell_type": "code",
   "execution_count": null,
   "metadata": {
    "colab": {
     "base_uri": "https://localhost:8080/",
     "height": 204
    },
    "id": "e2uFVfolNY6m",
    "outputId": "9245d14b-647e-4bb8-ca5e-e50a109f6858"
   },
   "outputs": [],
   "source": [
    "freq_by_age.reset_index(inplace = True)\n",
    "freq_by_age[\"emp_freq\"] = freq_by_age[\"tot_claims\"] / freq_by_age[\"tot_expo\"]\n",
    "freq_by_age.head()"
   ]
  },
  {
   "cell_type": "code",
   "execution_count": null,
   "metadata": {
    "colab": {
     "base_uri": "https://localhost:8080/",
     "height": 458
    },
    "id": "RyEZCliVOmDJ",
    "outputId": "722c8d92-94c0-4d9d-a25f-815301616c1e"
   },
   "outputs": [],
   "source": [
    "plt.figure(figsize = (20, 7))\n",
    "sns.barplot(data = freq_by_age, x = \"ageph\", y = \"emp_freq\", color = KULbg, alpha = 0.5, edgecolor = 'black', linewidth = 1)\n",
    "plt.ylabel(\"Empirical claim frequency\")\n",
    "plt.title('MTPL - empirical claim freq per age policyholder')\n",
    "plt.show()"
   ]
  },
  {
   "cell_type": "code",
   "execution_count": null,
   "metadata": {
    "colab": {
     "base_uri": "https://localhost:8080/",
     "height": 204
    },
    "id": "xGHTDNTJSiRO",
    "outputId": "84b1c662-daa6-46b6-e38a-7c6031e9151f"
   },
   "outputs": [],
   "source": [
    "freq_by_bm = mtpl.groupby(\"bm\").agg(tot_claims = ('nclaims', 'sum'), tot_expo = ('expo', 'sum'))\n",
    "freq_by_bm.reset_index(inplace = True)\n",
    "freq_by_bm[\"emp_freq\"] = freq_by_bm[\"tot_claims\"] / freq_by_bm[\"tot_expo\"]\n",
    "freq_by_bm.head()"
   ]
  },
  {
   "cell_type": "code",
   "execution_count": null,
   "metadata": {
    "colab": {
     "base_uri": "https://localhost:8080/",
     "height": 458
    },
    "id": "LW6vJkGkSr0J",
    "outputId": "e9aabed2-224a-4df6-a321-e3828e64f672"
   },
   "outputs": [],
   "source": [
    "plt.figure(figsize = (15, 7))\n",
    "sns.barplot(data = freq_by_bm, x = \"bm\", y = \"emp_freq\", color = KULbg, alpha = 0.5, edgecolor = 'black', linewidth = 1)\n",
    "plt.ylabel(\"Empirical claim frequency\")\n",
    "plt.title('MTPL - empirical claim freq per level in the BM scale')\n",
    "plt.show()"
   ]
  },
  {
   "cell_type": "markdown",
   "metadata": {
    "id": "9T0yKKH8kw_p"
   },
   "source": [
    "# 3. More on fitting GLMs with {statsmodels} and the {statsmodels.formula.api} <a name=\"three\"></a>"
   ]
  },
  {
   "cell_type": "markdown",
   "metadata": {
    "id": "zowy7XnUnAdx"
   },
   "source": [
    "## 3.1 A frequency and severity GLM with only a factor variable <a name=\"three-one\"></a>"
   ]
  },
  {
   "cell_type": "markdown",
   "metadata": {
    "id": "MQZx35ByrNLP"
   },
   "source": [
    "### 3.1.1 Frequency GLM"
   ]
  },
  {
   "cell_type": "markdown",
   "metadata": {
    "id": "L81GDMSZnG1Y"
   },
   "source": [
    "We first calibrate the following GLM\n",
    "\n",
    "$$N_i \\sim \\text{POI}(\\mu_i)$$\n",
    "\n",
    "where $$\\mu_i = d_i \\exp{(\\beta_0 + \\beta_1 \\mathbb{I}(male_i))}$$\n",
    "and $d_i$ is the exposure for record $i$."
   ]
  },
  {
   "cell_type": "code",
   "execution_count": null,
   "metadata": {
    "colab": {
     "base_uri": "https://localhost:8080/"
    },
    "id": "hwX8694AU2C2",
    "outputId": "27838d6b-23f5-4350-b56d-de782fc6f74c"
   },
   "outputs": [],
   "source": [
    "freq_glm_sex = smf.glm(formula='nclaims ~ sex', data= mtpl, exposure = mtpl.expo, family = sm.families.Poisson(link=sm.families.links.log())).fit()\n",
    "print(freq_glm_sex.summary())"
   ]
  },
  {
   "cell_type": "code",
   "execution_count": null,
   "metadata": {
    "colab": {
     "base_uri": "https://localhost:8080/"
    },
    "id": "b8JBuDYTVMIK",
    "outputId": "44830ede-3b3a-4272-e16d-de34f8ee15b0"
   },
   "outputs": [],
   "source": [
    "print(freq_glm_sex.summary().tables[1])"
   ]
  },
  {
   "cell_type": "markdown",
   "metadata": {
    "id": "_nymdM0jpDoX"
   },
   "source": [
    "The fitted GLM is stored in `freq_glm_sex` and we now use this fitted model to predict the expected claim frequency for a specified risk profile. In the illustrations below we calculate these predictions for a male vs female driver, both with an exposure equal to 1. "
   ]
  },
  {
   "cell_type": "code",
   "execution_count": null,
   "metadata": {
    "colab": {
     "base_uri": "https://localhost:8080/"
    },
    "id": "kGBcbSxlaF8w",
    "outputId": "02dd1ab0-9ef1-4015-ca15-f39fda9e26cc"
   },
   "outputs": [],
   "source": [
    "male_driver = pd.DataFrame({'expo':[1], 'sex':['male']})\n",
    "print(male_driver)\n",
    "print(\"\")\n",
    "print(f\"Predicted annual claim frequency for a male driver: {freq_glm_sex.predict(male_driver)[0]}\")"
   ]
  },
  {
   "cell_type": "code",
   "execution_count": null,
   "metadata": {
    "colab": {
     "base_uri": "https://localhost:8080/"
    },
    "id": "Cf9b7QMiaRoK",
    "outputId": "6300b458-bd07-4e35-b24d-416acfabee7c"
   },
   "outputs": [],
   "source": [
    "female_driver= pd.DataFrame({'expo':[1], 'sex':['female']})\n",
    "print(female_driver)\n",
    "print(\"\")\n",
    "print(f\"Predicted annual claim frequency for a fermale driver: {freq_glm_sex.predict(female_driver)[0]}\")"
   ]
  },
  {
   "cell_type": "markdown",
   "metadata": {
    "id": "PzqCmmDHqvry"
   },
   "source": [
    "Let's explore the connection between these predicted expected claim frequencies and the calibrated GLM parameters in the GLM object `freq_glm_sex`. The `female_driver` risk profile has exposure equal to 1. Hence, $$\\log{\\hat{E}[Y]} = \\hat{\\beta}_0,$$ the calibrated intercept."
   ]
  },
  {
   "cell_type": "code",
   "execution_count": null,
   "metadata": {
    "colab": {
     "base_uri": "https://localhost:8080/"
    },
    "id": "KUyXOVf-an9W",
    "outputId": "b231843a-1f81-4e05-adac-fc7cd812b7e8"
   },
   "outputs": [],
   "source": [
    "np.log(freq_glm_sex.predict(female_driver))"
   ]
  },
  {
   "cell_type": "code",
   "execution_count": null,
   "metadata": {
    "colab": {
     "base_uri": "https://localhost:8080/"
    },
    "id": "K9VnEvHZakWc",
    "outputId": "fcf4021f-a322-4056-ed3f-d3e9376d5300"
   },
   "outputs": [],
   "source": [
    "np.log(freq_glm_sex.predict(male_driver))"
   ]
  },
  {
   "cell_type": "markdown",
   "metadata": {
    "id": "AMP3_KKnprJM"
   },
   "source": [
    "We now predict the average claim frequency per unit of exposure for every observation in the original `mtpl` data set. Notice that the `fittedvalues.values` argument of the fitted GLM takes the exposure into account. Hence, dividing the `fittedvalues.values` by the registered `expo` leads to the *yearly* expected claim frequency.   "
   ]
  },
  {
   "cell_type": "code",
   "execution_count": null,
   "metadata": {
    "colab": {
     "base_uri": "https://localhost:8080/",
     "height": 419
    },
    "id": "w_637a5XZqe1",
    "outputId": "bf246567-d34d-4e96-a234-5a93bd2c6e2b"
   },
   "outputs": [],
   "source": [
    "pd.DataFrame({'sex': mtpl.sex, 'fitted_values': freq_glm_sex.fittedvalues.values / mtpl.expo})"
   ]
  },
  {
   "cell_type": "markdown",
   "metadata": {
    "id": "loaAtctrrTqJ"
   },
   "source": [
    "### 3.1.2 Severity GLM"
   ]
  },
  {
   "cell_type": "code",
   "execution_count": null,
   "metadata": {
    "colab": {
     "base_uri": "https://localhost:8080/"
    },
    "id": "yFrnPupxgn1s",
    "outputId": "e78550de-14d7-4832-8b8f-6b2dc6da8740"
   },
   "outputs": [],
   "source": [
    "sev_glm_sex = smf.glm('avg ~ sex', data = mtpl, family = sm.families.Gamma(link=sm.families.links.log())).fit()\n",
    "print(sev_glm_sex.summary())"
   ]
  },
  {
   "cell_type": "markdown",
   "metadata": {
    "id": "_ccyI5KOpNMO"
   },
   "source": [
    "## 3.2 A GLM with a continuous covariate <a name=\"three-two\"></a>"
   ]
  },
  {
   "cell_type": "markdown",
   "metadata": {
    "id": "CDA6y9MCr6-m"
   },
   "source": [
    "We continue with the following GLM specification\n",
    "$$N_i \\sim \\text{POI}(\\mu_i)$$\n",
    "where \n",
    "$$\\mu_i = d_i \\exp{(\\beta_0 + \\beta_1 \\text{age}_i)},$$\n",
    "with $d_i$ the exposure of observation $i$ and $\\text{age}_i$ the observation's registered age."
   ]
  },
  {
   "cell_type": "code",
   "execution_count": null,
   "metadata": {
    "colab": {
     "base_uri": "https://localhost:8080/"
    },
    "id": "Nc3BU5wOhS8x",
    "outputId": "0593e8b6-427c-46b1-9172-369328e2ce4b"
   },
   "outputs": [],
   "source": [
    "freq_glm_age = smf.glm('nclaims ~ ageph', data = mtpl, exposure = mtpl.expo, family = sm.families.Poisson(link=sm.families.links.log())).fit()\n",
    "print(freq_glm_age.summary())"
   ]
  },
  {
   "cell_type": "markdown",
   "metadata": {
    "id": "0e_3A2srsj48"
   },
   "source": [
    "Using the fitted GLM model stored in `freq_glm_age` we now want to predict the yearly expected claim frequency for every possible `age` between the min and max `age` observed in the `mtpl` data set. Hereto, we first create a grid of age values with the `arange(.)` function in {NumPy}."
   ]
  },
  {
   "cell_type": "code",
   "execution_count": null,
   "metadata": {
    "colab": {
     "base_uri": "https://localhost:8080/"
    },
    "id": "L0Vx2h67hlnV",
    "outputId": "d7def694-4f86-489b-fa63-98125a722a77"
   },
   "outputs": [],
   "source": [
    "age = np.arange(min(mtpl.ageph), max(mtpl.ageph)+1)\n",
    "age"
   ]
  },
  {
   "cell_type": "markdown",
   "metadata": {
    "id": "LmD8KVT3tQGc"
   },
   "source": [
    "We specify `expo = 1` for each age value stored in the grid. We create a DataFrame `df` with variables `ageph` and `expo`.  "
   ]
  },
  {
   "cell_type": "code",
   "execution_count": null,
   "metadata": {
    "colab": {
     "base_uri": "https://localhost:8080/",
     "height": 419
    },
    "id": "R4NXhHSjhqRc",
    "outputId": "eb965312-8434-469b-c826-bd6171b50dc3"
   },
   "outputs": [],
   "source": [
    "expo = np.full(shape=age.size, fill_value=1)\n",
    "df = pd.DataFrame({'ageph': age, 'expo':expo})\n",
    "df"
   ]
  },
  {
   "cell_type": "markdown",
   "metadata": {
    "id": "V4iNKTu0t4AJ"
   },
   "source": [
    "We are now ready to use the `predict` functionality that comes with the fitted GLM object `freq_glm_age`. We predict the expected claim frequencies for the risk profiles stored in `df`. "
   ]
  },
  {
   "cell_type": "code",
   "execution_count": null,
   "metadata": {
    "colab": {
     "base_uri": "https://localhost:8080/"
    },
    "id": "YJcplcD6hy7U",
    "outputId": "9dace083-9cee-4cde-afd4-21905f70adc7"
   },
   "outputs": [],
   "source": [
    "pred_glm_age = freq_glm_age.predict(df)\n",
    "pred_glm_age"
   ]
  },
  {
   "cell_type": "code",
   "execution_count": null,
   "metadata": {
    "colab": {
     "base_uri": "https://localhost:8080/",
     "height": 419
    },
    "id": "cyA3rso6iRWA",
    "outputId": "c3fcd260-ca25-4e67-d853-ebeeb65f76dd"
   },
   "outputs": [],
   "source": [
    "df[\"pred\"] = pred_glm_age\n",
    "df"
   ]
  },
  {
   "cell_type": "markdown",
   "metadata": {
    "id": "eY1rZor6yVah"
   },
   "source": [
    "We visualize the predicted claim frequencies versus age of the policyholder."
   ]
  },
  {
   "cell_type": "code",
   "execution_count": null,
   "metadata": {
    "colab": {
     "base_uri": "https://localhost:8080/",
     "height": 334
    },
    "id": "551IvoyIiiho",
    "outputId": "80d16f04-3c92-45af-ba3d-7d2604143da7"
   },
   "outputs": [],
   "source": [
    "plt.figure(figsize=(10, 5))\n",
    "sns.lineplot(data=df, x=\"ageph\", y=\"pred\")\n",
    "plt.ylabel(\"Prediction\")\n",
    "plt.show()"
   ]
  },
  {
   "cell_type": "markdown",
   "metadata": {
    "id": "GygZhywHymw9"
   },
   "source": [
    "## 3.3 A GLM with a binned continuous variable <a name=\"three-three\"></a>"
   ]
  },
  {
   "cell_type": "markdown",
   "metadata": {
    "id": "0-3fvc1ey5aR"
   },
   "source": [
    "In pricing models we often bin a continuous variable so that a factor variable results. The resulting factor variable can then be used in a GLM. The advantage is that - with these factor variables - the resulting pricing model can be summarized in a tariff table, a table with the expected frequency, the expected severity or the technical premium (i.e. product of expected frequency and expected severity) per risk profile.  "
   ]
  },
  {
   "cell_type": "markdown",
   "metadata": {
    "id": "9u_dVZynzvHE"
   },
   "source": [
    "We demonstrate the use of `cut(.)` from the {pandas} library to bin the continuous variable `ageph`. Details about this function are [here](https://pandas.pydata.org/pandas-docs/stable/reference/api/pandas.cut.html)."
   ]
  },
  {
   "cell_type": "code",
   "execution_count": null,
   "metadata": {
    "colab": {
     "base_uri": "https://localhost:8080/"
    },
    "id": "mujDubfpi9Gl",
    "outputId": "c826fd75-9bae-411c-c021-24877351d0f5"
   },
   "outputs": [],
   "source": [
    "ageph_cat = pd.cut(mtpl.ageph, bins = 10, include_lowest = True)\n",
    "ageph_cat"
   ]
  },
  {
   "cell_type": "markdown",
   "metadata": {
    "id": "va9ewPVZ0GfJ"
   },
   "source": [
    "We add the resulting variable to the `mtpl` DataFrame."
   ]
  },
  {
   "cell_type": "code",
   "execution_count": null,
   "metadata": {
    "colab": {
     "base_uri": "https://localhost:8080/",
     "height": 419
    },
    "id": "HUzSxA4AdbKj",
    "outputId": "5ef2efab-a1d0-4e7f-89ab-c3dccb6e2f25"
   },
   "outputs": [],
   "source": [
    "ageph_cat= ageph_cat.rename(\"ageph_cat\")\n",
    "mtpl = pd.concat([mtpl, ageph_cat], axis = 1)\n",
    "mtpl"
   ]
  },
  {
   "cell_type": "markdown",
   "metadata": {
    "id": "gCQp6l8-0jEt"
   },
   "source": [
    "We are now ready to fit a Poisson GLM for `nclaims` with the binned age of the policyholder variable as covariate. We store the fitted GLM as `freq_glm_age_cat`."
   ]
  },
  {
   "cell_type": "code",
   "execution_count": null,
   "metadata": {
    "colab": {
     "base_uri": "https://localhost:8080/"
    },
    "id": "yu-a6O_CjWm2",
    "outputId": "d5b0ada5-a2b9-4c6b-c934-4e0c3201c366"
   },
   "outputs": [],
   "source": [
    "freq_glm_age_cat = smf.glm('nclaims ~ ageph_cat', data=mtpl, exposure=mtpl.expo, family=sm.families.Poisson(link=sm.families.links.log())).fit()\n",
    "print(freq_glm_age_cat.summary())"
   ]
  },
  {
   "cell_type": "markdown",
   "metadata": {
    "id": "KNm8cbHV03U0"
   },
   "source": [
    "As before, we aim to visualize the fitted age effect. Hereto, we start from the grid of age values stored in `age` and bin these age values using the bins created for `ageph_cat`.   "
   ]
  },
  {
   "cell_type": "code",
   "execution_count": null,
   "metadata": {
    "colab": {
     "base_uri": "https://localhost:8080/"
    },
    "id": "pTfA3urFjr0B",
    "outputId": "39efb3e4-fc1d-4861-8455-ffcd42dd57d3"
   },
   "outputs": [],
   "source": [
    "age_cat = pd.cut(age, bins = ageph_cat.cat.categories, include_lowest = True)\n",
    "age_cat"
   ]
  },
  {
   "cell_type": "markdown",
   "metadata": {
    "id": "z-ZJDQ_q1-w_"
   },
   "source": [
    "Next, we calculate the expected yearly claim frequency for each age value in the grid `age` using the GLM stored in `freq_glm_age_cat`. "
   ]
  },
  {
   "cell_type": "code",
   "execution_count": null,
   "metadata": {
    "colab": {
     "base_uri": "https://localhost:8080/",
     "height": 419
    },
    "id": "E_qoHZl8jw-A",
    "outputId": "31def6b2-b20a-46b8-ad94-8e0cade69b09"
   },
   "outputs": [],
   "source": [
    "df_cat = pd.DataFrame({'ageph':age, 'ageph_cat': age_cat, 'expo':expo})\n",
    "df_cat[\"pred\"] = freq_glm_age_cat.predict(df_cat)\n",
    "df_cat"
   ]
  },
  {
   "cell_type": "markdown",
   "metadata": {
    "id": "5f3U11__1lol"
   },
   "source": [
    "Finally, we visualize the age effect as calibrated with the `freq_glm_age_cat` object. "
   ]
  },
  {
   "cell_type": "code",
   "execution_count": null,
   "metadata": {
    "colab": {
     "base_uri": "https://localhost:8080/",
     "height": 334
    },
    "id": "KXCA_IaukOtG",
    "outputId": "4e9419a7-9176-4ce6-f820-f591410681a4"
   },
   "outputs": [],
   "source": [
    "plt.figure(figsize=(10,5));\n",
    "sns.lineplot(data = df_cat, x = \"ageph\", y = \"pred\")\n",
    "plt.ylabel(\"Prediction\")\n",
    "plt.show()"
   ]
  },
  {
   "cell_type": "markdown",
   "metadata": {
    "id": "ERyPN140to10"
   },
   "source": [
    "## 3.4 A frequency GLM with mulitple features of various types <a name=\"three-four\"></a>"
   ]
  },
  {
   "cell_type": "markdown",
   "metadata": {
    "id": "DKfvzQpQ293G"
   },
   "source": [
    "Building upon our explorations with simple GLMs in Sections 3.1 - 3.3, we are now ready to fit a GLM with multiple features included.  "
   ]
  },
  {
   "cell_type": "code",
   "execution_count": null,
   "metadata": {
    "colab": {
     "base_uri": "https://localhost:8080/"
    },
    "id": "lKBHciSbttDn",
    "outputId": "6d0ba1f3-0656-480e-9426-9e529eae093e"
   },
   "outputs": [],
   "source": [
    "freq_glm_cont = smf.glm('nclaims ~ coverage + fuel + use + fleet + sex + ageph + bm + power + agec', data = mtpl, exposure = mtpl.expo, family = sm.families.Poisson(link=sm.families.links.log())).fit()\n",
    "print(freq_glm_cont.summary())"
   ]
  },
  {
   "cell_type": "markdown",
   "metadata": {
    "id": "c2bnyr7b3RvV"
   },
   "source": [
    "We bin the continuous variables `age`, `bm` and `power` using some prespecified bins. The paper [A data driven binning strategy for the construction of insurance tariff classes](https://papers.ssrn.com/sol3/papers.cfm?abstract_id=3052174) by Henckaerts et al. (2018) outlines a data driven strategy to find a suitable binning of the continuous risk factors."
   ]
  },
  {
   "cell_type": "code",
   "execution_count": null,
   "metadata": {
    "id": "NkcTgI_IttAg"
   },
   "outputs": [],
   "source": [
    "mtpl['ageph_cat'] = pd.cut(mtpl.ageph, bins = [18,26,29,33,51,56,61,73,95], right = False, include_lowest = True)\n",
    "mtpl['bm_cat'] = pd.cut(mtpl.bm, bins = [0,1,2,3,7,9,11,22], right = False, include_lowest = True)\n",
    "mtpl['power_cat'] = pd.cut(mtpl.power, bins = [10,36,46,75,243], right = False, include_lowest = True)"
   ]
  },
  {
   "cell_type": "markdown",
   "metadata": {
    "id": "Vs3ZiCSX3d2k"
   },
   "source": [
    "We fit a Poisson GLM for `nclaims` using multiple covariates, all of type factor. We store the resulting GLM fit in `freq_glm_cat`."
   ]
  },
  {
   "cell_type": "code",
   "execution_count": null,
   "metadata": {
    "colab": {
     "base_uri": "https://localhost:8080/"
    },
    "id": "pViO7QVOts9O",
    "outputId": "bbc73edd-1222-4bad-b7a5-5dddaf4198b6"
   },
   "outputs": [],
   "source": [
    "freq_glm_cat = smf.glm('nclaims ~ coverage + fuel + ageph_cat + bm_cat + power_cat', data = mtpl, exposure = mtpl.expo, family = sm.families.Poisson(link=sm.families.links.log())).fit()\n",
    "print(freq_glm_cat.summary())"
   ]
  },
  {
   "cell_type": "markdown",
   "metadata": {
    "id": "QI2h1bTX3v5g"
   },
   "source": [
    "Finally, we demonstrate how to change the reference level of a factor variable, when dummy coding is used.  "
   ]
  },
  {
   "cell_type": "code",
   "execution_count": null,
   "metadata": {
    "colab": {
     "base_uri": "https://localhost:8080/"
    },
    "id": "0GodGdpyts58",
    "outputId": "901b3944-b147-4287-9132-1c947cf4daec"
   },
   "outputs": [],
   "source": [
    "freq_glm_cat_ref = smf.glm('nclaims ~ C(coverage, Treatment(reference=\"TPL\")) + C(fuel, Treatment(reference=\"gasoline\")) + ageph_cat + bm_cat + power_cat', data = mtpl, exposure = mtpl.expo, family = sm.families.Poisson(link=sm.families.links.log())).fit()\n",
    "print(freq_glm_cat_ref.summary())"
   ]
  },
  {
   "cell_type": "code",
   "execution_count": null,
   "metadata": {
    "colab": {
     "base_uri": "https://localhost:8080/",
     "height": 359
    },
    "id": "UKfgFDTKts2w",
    "outputId": "a838d8cb-f740-4f8d-b534-ab39f2e37bb2"
   },
   "outputs": [],
   "source": [
    "mtpl[\"pred_cont\"] = freq_glm_cont.predict(mtpl)\n",
    "mtpl[\"pred_cat\"] = freq_glm_cat.predict(mtpl)\n",
    "mtpl.head(10)"
   ]
  },
  {
   "cell_type": "markdown",
   "metadata": {
    "id": "V0Usu-bJ4Y7b"
   },
   "source": [
    "We quickly scan and compare the predictions obtained with the `freq_glm_cont` GLM on the one hand and the `freq_glm_cat` GLM on the other hand. We calculate the predicted values for every record in the `mtpl` data set."
   ]
  },
  {
   "cell_type": "code",
   "execution_count": null,
   "metadata": {
    "colab": {
     "base_uri": "https://localhost:8080/",
     "height": 441
    },
    "id": "hLSzuwOatszr",
    "outputId": "0de4db40-2360-41a6-ac4c-26bba9b15ec7"
   },
   "outputs": [],
   "source": [
    "sns.jointplot(data = mtpl, x = \"pred_cont\", y = \"pred_cat\", kind = \"reg\", joint_kws = {\"scatter_kws\":dict(alpha=0.1)});"
   ]
  },
  {
   "cell_type": "code",
   "execution_count": null,
   "metadata": {
    "colab": {
     "base_uri": "https://localhost:8080/",
     "height": 340
    },
    "id": "o6CCO06qLI-s",
    "outputId": "82ecb9cf-580f-4b6e-c3ce-f4e5b11f359c"
   },
   "outputs": [],
   "source": [
    "mtpl = mtpl.drop(['pred_cont', 'pred_cat'], axis=1)\n",
    "mtpl"
   ]
  },
  {
   "cell_type": "markdown",
   "metadata": {
    "id": "XluDbH9Mrhyi"
   },
   "source": [
    "# 4. Regularized (G)LMs with {statsmodels} and {scikit-learn} <a name=\"four\"></a>"
   ]
  },
  {
   "cell_type": "markdown",
   "metadata": {
    "id": "KGD5CN_P5KiI"
   },
   "source": [
    "## 4.1 A regularized Poisson model with {statsmodels} <a name=\"four-one\"></a>\n",
    "\n"
   ]
  },
  {
   "cell_type": "markdown",
   "metadata": {
    "id": "nHiMWigJENZg"
   },
   "source": [
    "{statsmodels} and {statsmodels.formula.api} allow to fit GLMs with an elastic net penalty. The following penalized loss function is then minimized:\n",
    "$$-\\frac{1}{n}\\log \\mathcal{L}(\\beta_0,\\mathbf{\\beta}; \\mathbf{X},y) + \\alpha \\cdot \\left( \\lambda ||\\mathbf{\\beta}||_1 + \\frac{1-\\lambda}{2}||\\mathbf{\\beta}||_2^2 \\right),$$\n",
    "where $\\alpha$ is the penalty weight and $\\lambda$ determines the weight of the $\\ell_1$ versus $\\ell_2$ norm. More details are [here](https://www.statsmodels.org/dev/generated/statsmodels.genmod.generalized_linear_model.GLM.fit_regularized.html).\n"
   ]
  },
  {
   "cell_type": "markdown",
   "metadata": {
    "id": "bI1mYr4VGy1G"
   },
   "source": [
    "The code below then fits a first example of a Poisson GLM for `nclaims` with a lasso penalty."
   ]
  },
  {
   "cell_type": "markdown",
   "metadata": {
    "id": "PEewqzQSNoUR"
   },
   "source": [
    "When using factor variables with more than two levels in a regularized regression model, it is recommended to use one-hot encoding. As such, one let's the model freely decide which levels should be grouped."
   ]
  },
  {
   "cell_type": "code",
   "execution_count": null,
   "metadata": {
    "colab": {
     "base_uri": "https://localhost:8080/",
     "height": 419
    },
    "id": "uowQU3cDJNVi",
    "outputId": "455a1d20-75ee-4124-f917-5dac78bf9aa9"
   },
   "outputs": [],
   "source": [
    "cov_dum = pd.get_dummies(mtpl.coverage)\n",
    "mtpl = pd.concat([mtpl, cov_dum], axis = 1)\n",
    "mtpl"
   ]
  },
  {
   "cell_type": "markdown",
   "metadata": {
    "id": "m7DL_UjYN6VY"
   },
   "source": [
    "Moreover, continuous features should be standardized before including them in the regularized model fit."
   ]
  },
  {
   "cell_type": "code",
   "execution_count": null,
   "metadata": {
    "id": "7XMasXjzOGU3"
   },
   "outputs": [],
   "source": [
    "from sklearn.preprocessing import StandardScaler"
   ]
  },
  {
   "cell_type": "code",
   "execution_count": null,
   "metadata": {
    "id": "yGQv3MfDOJp9"
   },
   "outputs": [],
   "source": [
    "scaler = StandardScaler()"
   ]
  },
  {
   "cell_type": "code",
   "execution_count": null,
   "metadata": {
    "id": "Jf8UMYqnONN2"
   },
   "outputs": [],
   "source": [
    "cols_to_scale = ['ageph', 'bm', 'power', 'agec']\n",
    "\n",
    "# create and fit scaler\n",
    "scaler = StandardScaler()\n",
    "scaler.fit(mtpl[cols_to_scale])\n",
    "\n",
    "# scale selected data\n",
    "mtpl[['ageph_stand', 'bm_stand', 'power_stand', 'agec_stand']] = scaler.transform(mtpl[cols_to_scale])"
   ]
  },
  {
   "cell_type": "code",
   "execution_count": null,
   "metadata": {
    "colab": {
     "base_uri": "https://localhost:8080/"
    },
    "id": "aBw2OCCLQFi-",
    "outputId": "13740a4c-e0f6-43a5-cc35-4c6386b6610f"
   },
   "outputs": [],
   "source": [
    "mtpl.ageph_stand.mean()"
   ]
  },
  {
   "cell_type": "code",
   "execution_count": null,
   "metadata": {
    "colab": {
     "base_uri": "https://localhost:8080/"
    },
    "id": "R2riIwP1QglS",
    "outputId": "97506548-f608-4bf6-94b1-b14aad8bd76e"
   },
   "outputs": [],
   "source": [
    "mtpl.ageph_stand.var()"
   ]
  },
  {
   "cell_type": "code",
   "execution_count": null,
   "metadata": {
    "colab": {
     "base_uri": "https://localhost:8080/",
     "height": 419
    },
    "id": "P_JlQAeNQnKC",
    "outputId": "2502b432-a648-4b77-8bcd-e2f7969bd596"
   },
   "outputs": [],
   "source": [
    "mtpl"
   ]
  },
  {
   "cell_type": "code",
   "execution_count": null,
   "metadata": {
    "id": "9Me_NpKTJpby"
   },
   "outputs": [],
   "source": [
    "freq_glm_reg = smf.glm('nclaims ~ FO + PO + TPL + fuel + sex + fleet + use + ageph_stand + bm_stand + power_stand + agec_stand',\n",
    "                       data=mtpl, exposure=mtpl.expo, family=sm.families.Poisson(link=sm.families.links.log())).fit_regularized(method='elastic_net', alpha = 0.001, L1_wt = 1)"
   ]
  },
  {
   "cell_type": "code",
   "execution_count": null,
   "metadata": {
    "colab": {
     "base_uri": "https://localhost:8080/"
    },
    "id": "iZezC0zyJ-xt",
    "outputId": "e61daae0-825b-4177-dc7e-5f6aeff0b100"
   },
   "outputs": [],
   "source": [
    "freq_glm_reg.params"
   ]
  },
  {
   "cell_type": "markdown",
   "metadata": {
    "id": "R5Ph9gLEHgod"
   },
   "source": [
    "We now explore the effect of the penalty weight $\\alpha$:"
   ]
  },
  {
   "cell_type": "code",
   "execution_count": null,
   "metadata": {
    "colab": {
     "base_uri": "https://localhost:8080/"
    },
    "id": "gmJrColArzew",
    "outputId": "bdf7d9f1-8200-449a-877a-1e29d59aa46d"
   },
   "outputs": [],
   "source": [
    "alpha_grid = [0.1, 0.01, 0.001, 0.0001]\n",
    "coef_list = []\n",
    "for alpha in alpha_grid:\n",
    "  print(f\"Busy with alpha:{alpha}\")\n",
    "  glm_reg_fit = smf.glm('nclaims ~ FO + PO + TPL + fuel + sex + fleet + use + ageph_stand + bm_stand + power_stand + agec_stand',\n",
    "                        data=mtpl, exposure=mtpl.expo, family=sm.families.Poisson(link=sm.families.links.log())).fit_regularized(method='elastic_net', alpha = alpha, L1_wt = 1)\n",
    "  coef_list.append(glm_reg_fit.params)                      \n",
    "pd_coef = pd.concat(coef_list, axis = 1)"
   ]
  },
  {
   "cell_type": "code",
   "execution_count": null,
   "metadata": {
    "colab": {
     "base_uri": "https://localhost:8080/",
     "height": 421
    },
    "id": "OLrvQoyVrzYi",
    "outputId": "9799e6f1-f278-4d56-d477-227f9b8be060"
   },
   "outputs": [],
   "source": [
    "pd_coef.columns = alpha_grid\n",
    "pd_coef"
   ]
  },
  {
   "cell_type": "markdown",
   "metadata": {
    "id": "eCzLQ0HNbZ1A"
   },
   "source": [
    "## 4.2 A regularized linear regression model with {scikit-learn} <a name=\"four-two\"></a>\n"
   ]
  },
  {
   "cell_type": "markdown",
   "metadata": {
    "id": "o47yysjR5u8N"
   },
   "source": [
    "We demonstrate the use of regularized regression within {scikit-learn} on the Ames housing data set."
   ]
  },
  {
   "cell_type": "code",
   "execution_count": null,
   "metadata": {
    "colab": {
     "base_uri": "https://localhost:8080/"
    },
    "id": "RbOHb_gcXqoW",
    "outputId": "544efdd5-81df-495f-b27b-b1863dd2d8e6"
   },
   "outputs": [],
   "source": [
    "ames_orig.info()"
   ]
  },
  {
   "cell_type": "markdown",
   "metadata": {
    "id": "5x7vMRvOX6DT"
   },
   "source": [
    "In the below demonstration of ridge and lasso linear regression, we focus on the numeric features in the Ames housing data set."
   ]
  },
  {
   "cell_type": "markdown",
   "metadata": {
    "id": "RQGav77lZuL_"
   },
   "source": [
    "### Some data preperation steps"
   ]
  },
  {
   "cell_type": "code",
   "execution_count": null,
   "metadata": {
    "id": "Zso1d-_72hs7"
   },
   "outputs": [],
   "source": [
    "ames_num = ames_orig[ames_orig.columns[ames_orig.dtypes != 'object'].values].drop(columns = ['Unnamed: 0'])"
   ]
  },
  {
   "cell_type": "code",
   "execution_count": null,
   "metadata": {
    "colab": {
     "base_uri": "https://localhost:8080/"
    },
    "id": "YaNpjUERffeV",
    "outputId": "6602d4a2-eaad-4e57-b0e0-dbcf59028920"
   },
   "outputs": [],
   "source": [
    "ames_num.info()"
   ]
  },
  {
   "cell_type": "markdown",
   "metadata": {
    "id": "lJtvrZzyYIP_"
   },
   "source": [
    "Recall our earlier explorations of the empirical distribution of the target variable `Sale_Price`: a log transformation helps to obtain a more symmetric distribution of the outcome."
   ]
  },
  {
   "cell_type": "code",
   "execution_count": null,
   "metadata": {
    "colab": {
     "base_uri": "https://localhost:8080/",
     "height": 265
    },
    "id": "fWXSDQSryB0I",
    "outputId": "310c6686-a12f-4127-df50-351f49db145c"
   },
   "outputs": [],
   "source": [
    "plt.hist(np.log(ames_num[\"Sale_Price\"]), bins = 25, color = KULbg, alpha = 0.5);"
   ]
  },
  {
   "cell_type": "markdown",
   "metadata": {
    "id": "mrycZ4WrYf4y"
   },
   "source": [
    "We store the outcome variable (log-transformed) in `ames_y` and the input features in `ames_X`. Note: make sure the target variables (and its log transformation, if attached to `ames_orig`, are droppped when creating `ames_X`."
   ]
  },
  {
   "cell_type": "code",
   "execution_count": null,
   "metadata": {
    "colab": {
     "base_uri": "https://localhost:8080/"
    },
    "id": "XbZq9PWYhZCG",
    "outputId": "8b4d1076-bbc1-4758-e1d1-95da39a4281c"
   },
   "outputs": [],
   "source": [
    "ames_X = ames_num.drop(columns = [\"Sale_Price\", \"log_Sale_Price\"])\n",
    "print(ames_X.shape)\n",
    "ames_y = np.log(ames_num[\"Sale_Price\"])\n",
    "print(ames_y.shape)"
   ]
  },
  {
   "cell_type": "markdown",
   "metadata": {
    "id": "uNv1zAtdYwbL"
   },
   "source": [
    "We divide the data into a test and train data set."
   ]
  },
  {
   "cell_type": "code",
   "execution_count": null,
   "metadata": {
    "id": "OPzARES_ffX6"
   },
   "outputs": [],
   "source": [
    "from sklearn.model_selection import train_test_split\n",
    "\n",
    "np.random.seed(123)\n",
    "\n",
    "X_train, X_test, y_train, y_test = train_test_split(ames_X, ames_y, test_size = 0.3, stratify=pd.cut(ames_y,\n",
    "                                                                                                  bins=np.linspace(ames_y.min(),ames_y.max(), 20),\n",
    "                                                                                                  include_lowest=True))"
   ]
  },
  {
   "cell_type": "code",
   "execution_count": null,
   "metadata": {
    "colab": {
     "base_uri": "https://localhost:8080/"
    },
    "id": "2e85LPnWffRQ",
    "outputId": "77c52ced-3671-4825-fc42-6f33b465453f"
   },
   "outputs": [],
   "source": [
    "print(X_train.shape)\n",
    "print(X_test.shape)\n",
    "print(y_train.shape)\n",
    "print(y_test.shape)"
   ]
  },
  {
   "cell_type": "markdown",
   "metadata": {
    "id": "h11rm1VaY_Z3"
   },
   "source": [
    "It is preferred to fit regularized regression models with covariates on the same scale. Hence, we fit the standardization constants on `X_train`, then apply these to transform both `X_train` and `X_test`. "
   ]
  },
  {
   "cell_type": "code",
   "execution_count": null,
   "metadata": {
    "id": "JH79w-PRwZzN"
   },
   "outputs": [],
   "source": [
    "from sklearn.preprocessing import StandardScaler\n",
    "\n",
    "ss = StandardScaler()\n",
    "Z_train = ss.fit_transform(X_train)\n",
    "Z_test = ss.transform(X_test)"
   ]
  },
  {
   "cell_type": "markdown",
   "metadata": {
    "id": "39d7EGeSZz7a"
   },
   "source": [
    "### Fitting a linear regression model without regularization"
   ]
  },
  {
   "cell_type": "markdown",
   "metadata": {
    "id": "8A_mgAuhZdLk"
   },
   "source": [
    "We are now ready to fit a linear regression on `y_train`, using the standardized input features stored in `Z_train`."
   ]
  },
  {
   "cell_type": "code",
   "execution_count": null,
   "metadata": {
    "colab": {
     "base_uri": "https://localhost:8080/"
    },
    "id": "SGexaQm0ffK2",
    "outputId": "0edabf6d-26af-49ee-a79f-55f57cbf295b"
   },
   "outputs": [],
   "source": [
    "from sklearn.linear_model import LinearRegression\n",
    "\n",
    "linear_mod = LinearRegression()\n",
    "linear_mod.fit(Z_train, y_train)"
   ]
  },
  {
   "cell_type": "code",
   "execution_count": null,
   "metadata": {
    "colab": {
     "base_uri": "https://localhost:8080/"
    },
    "id": "o6tVZHIAffD5",
    "outputId": "e1aa4d90-b246-44cc-873c-2395325e371f"
   },
   "outputs": [],
   "source": [
    "linear_mod.coef_"
   ]
  },
  {
   "cell_type": "markdown",
   "metadata": {
    "id": "N_coI7TkZ8dR"
   },
   "source": [
    "### Fitting a ridge regression model with $\\ell_2$ penalty on the regression parameters"
   ]
  },
  {
   "cell_type": "code",
   "execution_count": null,
   "metadata": {
    "colab": {
     "base_uri": "https://localhost:8080/"
    },
    "id": "zk5DkJb4vsi7",
    "outputId": "3d9e6de7-f2aa-460b-9421-a722e2527c18"
   },
   "outputs": [],
   "source": [
    "from sklearn.linear_model import Ridge\n",
    "\n",
    "ridge_mod = Ridge(alpha = 0.5)\n",
    "ridge_mod.fit(Z_train, y_train)"
   ]
  },
  {
   "cell_type": "code",
   "execution_count": null,
   "metadata": {
    "colab": {
     "base_uri": "https://localhost:8080/"
    },
    "id": "EBpL1o-Uwu11",
    "outputId": "98c4b2c7-7c1d-4f4b-adba-cd4bc65eb722"
   },
   "outputs": [],
   "source": [
    "ridge_mod.coef_"
   ]
  },
  {
   "cell_type": "markdown",
   "metadata": {
    "id": "hDrpjv8QaJzv"
   },
   "source": [
    "### Fitting a lasso regression model with $\\ell_1$ penalty on the regression parameters"
   ]
  },
  {
   "cell_type": "code",
   "execution_count": null,
   "metadata": {
    "colab": {
     "base_uri": "https://localhost:8080/"
    },
    "id": "ATtXDiRbv4Dp",
    "outputId": "ca732afb-b685-4b1d-dd4d-07340e583f87"
   },
   "outputs": [],
   "source": [
    "from sklearn.linear_model import Lasso\n",
    "\n",
    "lasso_mod = Lasso(alpha = 0.05)\n",
    "lasso_mod.fit(Z_train, y_train)"
   ]
  },
  {
   "cell_type": "code",
   "execution_count": null,
   "metadata": {
    "colab": {
     "base_uri": "https://localhost:8080/"
    },
    "id": "CUehlCEXv374",
    "outputId": "18506d4a-74ed-42eb-fac8-54bd0cf79af5"
   },
   "outputs": [],
   "source": [
    "lasso_mod.coef_"
   ]
  },
  {
   "cell_type": "code",
   "execution_count": null,
   "metadata": {
    "colab": {
     "base_uri": "https://localhost:8080/",
     "height": 1000
    },
    "id": "X8jqV38_fe9o",
    "outputId": "5af2d83a-93b8-4184-da01-2beddec26841"
   },
   "outputs": [],
   "source": [
    "pd.DataFrame({\"Variables\" : X_train.columns, \"Linear coef\":linear_mod.coef_, \"Ridge coef\":ridge_mod.coef_, \"Lasso coef\":lasso_mod.coef_})"
   ]
  },
  {
   "cell_type": "markdown",
   "metadata": {
    "id": "dOO_K-LVac2z"
   },
   "source": [
    "### Choosing the lasso penalty weight via 5-fold cross validation"
   ]
  },
  {
   "cell_type": "code",
   "execution_count": null,
   "metadata": {
    "colab": {
     "base_uri": "https://localhost:8080/"
    },
    "id": "q580xVCGfezq",
    "outputId": "8042a174-73d9-4f95-dfe0-4f4333f53904"
   },
   "outputs": [],
   "source": [
    "from sklearn.linear_model import LassoCV\n",
    "\n",
    "cv_lasso = LassoCV(cv = 5, random_state = 0)\n",
    "cv_lasso.fit(Z_train, y_train)"
   ]
  },
  {
   "cell_type": "code",
   "execution_count": null,
   "metadata": {
    "colab": {
     "base_uri": "https://localhost:8080/"
    },
    "id": "odX9KcGB0GYH",
    "outputId": "7ddd362c-b6ba-41ad-e020-921756c806ba"
   },
   "outputs": [],
   "source": [
    "cv_lasso.alphas_"
   ]
  },
  {
   "cell_type": "code",
   "execution_count": null,
   "metadata": {
    "colab": {
     "base_uri": "https://localhost:8080/"
    },
    "id": "iv5fQWcN0j9I",
    "outputId": "7c174a59-bb54-45db-f37b-9561be7390ba"
   },
   "outputs": [],
   "source": [
    "cv_lasso.mse_path_"
   ]
  },
  {
   "cell_type": "code",
   "execution_count": null,
   "metadata": {
    "colab": {
     "base_uri": "https://localhost:8080/"
    },
    "id": "ZGalf2UplnAk",
    "outputId": "b5f07513-f675-44a7-e73f-583edd9a4212"
   },
   "outputs": [],
   "source": [
    "cv_lasso.alpha_"
   ]
  },
  {
   "cell_type": "code",
   "execution_count": null,
   "metadata": {
    "colab": {
     "base_uri": "https://localhost:8080/",
     "height": 385
    },
    "id": "2KuijMT4lm6l",
    "outputId": "3961b31b-034a-40b1-a178-e1dae34c9aca"
   },
   "outputs": [],
   "source": [
    "plt.figure(figsize=(15, 5), constrained_layout=True)\n",
    "plt.semilogx(cv_lasso.alphas_, cv_lasso.mse_path_, ':')\n",
    "plt.semilogx(cv_lasso.alphas_, cv_lasso.mse_path_.mean(axis=-1), 'k',\n",
    "             label='Average across the folds', linewidth=2)\n",
    "plt.axvline(cv_lasso.alpha_, linestyle='--', color='k',\n",
    "            label='alpha: CV estimate')\n",
    "plt.legend()\n",
    "plt.xlabel(r'$\\alpha$')\n",
    "plt.ylabel('Mean square prediction error')\n",
    "plt.show(block=False)"
   ]
  },
  {
   "cell_type": "code",
   "execution_count": null,
   "metadata": {
    "colab": {
     "base_uri": "https://localhost:8080/"
    },
    "id": "wTyoRI14bbuJ",
    "outputId": "ad0d48d4-6844-4dea-824c-579061d711a2"
   },
   "outputs": [],
   "source": [
    "lasso_mod_opt = Lasso(alpha = cv_lasso.alpha_)\n",
    "lasso_mod_opt.fit(Z_train, y_train)\n",
    "lasso_mod_opt.coef_"
   ]
  },
  {
   "cell_type": "markdown",
   "metadata": {
    "id": "J4jo_DAya68g"
   },
   "source": [
    "As a final step, we compare the predictive performance on the test data, using the four calibrated models."
   ]
  },
  {
   "cell_type": "code",
   "execution_count": null,
   "metadata": {
    "id": "WIJJYQmbj8CX"
   },
   "outputs": [],
   "source": [
    "from sklearn.metrics import mean_squared_error\n",
    "\n",
    "def evaluate_model(model, X_data, y_data):\n",
    "  y_pred = model.predict(X_data)\n",
    "  return(mean_squared_error(y_data, y_pred))"
   ]
  },
  {
   "cell_type": "code",
   "execution_count": null,
   "metadata": {
    "colab": {
     "base_uri": "https://localhost:8080/"
    },
    "id": "8y4_Q2vyj77M",
    "outputId": "38f07c9e-4fa8-4f87-9d0c-9a997b892758"
   },
   "outputs": [],
   "source": [
    "print(\"Evaluation on train data\")\n",
    "print(f\"Linear model:{evaluate_model(linear_mod, Z_train, y_train)}\")\n",
    "print(f\"Ridge model:{evaluate_model(ridge_mod, Z_train, y_train)}\")\n",
    "print(f\"Lasso model:{evaluate_model(lasso_mod, Z_train, y_train)}\")\n",
    "print(f\"Lasso CV model:{evaluate_model(cv_lasso, Z_train, y_train)}\")"
   ]
  },
  {
   "cell_type": "code",
   "execution_count": null,
   "metadata": {
    "colab": {
     "base_uri": "https://localhost:8080/"
    },
    "id": "Vx0IE49Ij7pD",
    "outputId": "340cd56e-79e9-4f4c-c6f0-8ae2e6acf771"
   },
   "outputs": [],
   "source": [
    "print(\"Evaluation on test data\")\n",
    "print(f\"Linear model:{evaluate_model(linear_mod, Z_test, y_test)}\")\n",
    "print(f\"Ridge model:{evaluate_model(ridge_mod, Z_test, y_test)}\")\n",
    "print(f\"Lasso model:{evaluate_model(lasso_mod, Z_test, y_test)}\")\n",
    "print(f\"Lasso CV model:{evaluate_model(cv_lasso, Z_test, y_test)}\")"
   ]
  },
  {
   "cell_type": "markdown",
   "metadata": {
    "id": "GoCNF0HOj4KK"
   },
   "source": [
    "## 4.3 Avoiding data leakage with pipelines <a name=\"four-three\"></a>"
   ]
  },
  {
   "cell_type": "code",
   "execution_count": null,
   "metadata": {
    "colab": {
     "base_uri": "https://localhost:8080/"
    },
    "id": "n4Xcq89jtNzT",
    "outputId": "6abe936a-23d2-4788-ac3e-5d7c7c147fd1"
   },
   "outputs": [],
   "source": [
    "from sklearn.pipeline import Pipeline\n",
    "from sklearn.model_selection import GridSearchCV\n",
    "\n",
    "lasso_pipe = Pipeline([('scaler', StandardScaler()),\n",
    "                       ('lasso',  Lasso(random_state = 0))])\n",
    "\n",
    "grid_search = GridSearchCV(lasso_pipe, param_grid={'lasso__alpha':cv_lasso.alphas_},\n",
    "                           scoring=\"neg_mean_squared_error\", cv=5, verbose=0)\n",
    "grid_search.fit(X_train, y_train)"
   ]
  },
  {
   "cell_type": "code",
   "execution_count": null,
   "metadata": {
    "colab": {
     "base_uri": "https://localhost:8080/"
    },
    "id": "QtpbjDV4uIEn",
    "outputId": "34bb6e5d-d502-4eab-e693-5408e6f8ea94"
   },
   "outputs": [],
   "source": [
    "lasso_optimal = grid_search.best_estimator_\n",
    "lasso_optimal.fit(X_train, y_train)"
   ]
  },
  {
   "cell_type": "code",
   "execution_count": null,
   "metadata": {
    "colab": {
     "base_uri": "https://localhost:8080/"
    },
    "id": "b1tw2_-7p-3j",
    "outputId": "e8ac6395-d4aa-42e8-e072-63badae75556"
   },
   "outputs": [],
   "source": [
    "lasso_optimal.predict(X_train)"
   ]
  },
  {
   "cell_type": "code",
   "execution_count": null,
   "metadata": {
    "colab": {
     "base_uri": "https://localhost:8080/"
    },
    "id": "0z1TrX_P0Pl_",
    "outputId": "8b617a67-0c95-46c9-c9a9-e1bcecb892d1"
   },
   "outputs": [],
   "source": [
    "print(f\"Train performance: {evaluate_model(lasso_optimal, X_train, y_train)}\")\n",
    "print(f\"Test performance: {evaluate_model(lasso_optimal, X_test, y_test)}\")"
   ]
  }
 ],
 "metadata": {
  "colab": {
   "collapsed_sections": [],
   "name": "computer_lab_3.ipynb",
   "provenance": [],
   "toc_visible": true
  },
  "kernelspec": {
   "display_name": "Python 3 (ipykernel)",
   "language": "python",
   "name": "python3"
  },
  "language_info": {
   "codemirror_mode": {
    "name": "ipython",
    "version": 3
   },
   "file_extension": ".py",
   "mimetype": "text/x-python",
   "name": "python",
   "nbconvert_exporter": "python",
   "pygments_lexer": "ipython3",
   "version": "3.9.7"
  }
 },
 "nbformat": 4,
 "nbformat_minor": 1
}
