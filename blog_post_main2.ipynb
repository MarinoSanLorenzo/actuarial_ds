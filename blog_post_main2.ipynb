{
 "cells": [
  {
   "cell_type": "markdown",
   "id": "1602c57a",
   "metadata": {},
   "source": [
    "<center> <h1> <span style=\"color:black\"> Machine Learning in Actuarials </h1> </center> \n",
    "<center> <h2> <span style=\"color:red\"> GLM Frequency and Severity </h1> </center>\n",
    "<center> <h3> <span style=\"color:black\"> Author: Marino San Lorenzo </h1> </center>"
   ]
  },
  {
   "cell_type": "markdown",
   "id": "032ec530",
   "metadata": {},
   "source": [
    "# Agenda\n",
    "* [Chapter 1 - Data Exploration](#one)\n",
    "    + [1.1 univariate analysis of numerical data](#one-one)\n",
    "    + [1.2 univariate analysis of categorical data](#one-two)\n",
    "    + [1.3 bivariate analysis of numerical data](#one-three)\n",
    "    + [1.4 bivariate analysis of categorical data](#one-four)\n",
    "* [Chapter 2 - Feature Engineering](#two)\n",
    "    + [2.1 Processing with Binning continuous variables](#two-one)\n",
    "        + [2.1.1 Dummy Coding with reference class](#two-one-one)\n",
    "* [Chapter 3 - Modelling](#three)\n",
    "    + [3.1 Regression Trees](#three-one)\n",
    "    + [3.2 Random Forest](#three-two)\n",
    "    + [3.3 Gradient Boosting ](#three-three)"
   ]
  },
  {
   "cell_type": "code",
   "execution_count": 1,
   "id": "e6f1eedf",
   "metadata": {},
   "outputs": [],
   "source": [
    "import numpy as np\n",
    "import pandas as pd\n",
    "import seaborn as sns\n",
    "from src.constants import Constants, params\n",
    "\n",
    "from src.styling import *\n",
    "from src.utils import *\n",
    "from src.plots import *\n",
    "import seaborn as sns\n",
    "import matplotlib.pyplot as plt\n",
    "from IPython.core.interactiveshell import InteractiveShell\n",
    "import warnings\n",
    "from sklearn.model_selection import train_test_split\n",
    "import statsmodels.api as sm\n",
    "import statsmodels.formula.api as smf\n",
    "from tqdm import tqdm\n",
    "from sklearn.metrics import mean_poisson_deviance, mean_gamma_deviance\n",
    "from collections import defaultdict\n",
    "from matplotlib import cm\n",
    "import plotly.graph_objects as go\n",
    "from sklearn.tree import DecisionTreeRegressor\n",
    "from sklearn import tree\n",
    "from dtreeviz.trees import dtreeviz\n",
    "from sklearn.model_selection import GridSearchCV, RandomizedSearchCV"
   ]
  },
  {
   "cell_type": "code",
   "execution_count": 2,
   "id": "1b2cc1ad",
   "metadata": {},
   "outputs": [],
   "source": [
    "warnings.filterwarnings(\"ignore\")\n",
    "pd.set_option('display.max_colwidth', 1000)\n",
    "pd.set_option('display.float_format','{:,.2f}'.format)"
   ]
  },
  {
   "cell_type": "code",
   "execution_count": 3,
   "id": "a054b4c4",
   "metadata": {},
   "outputs": [],
   "source": [
    "test_size, random_state = params.get(Constants.TEST_SIZE), params.get(Constants.RANDOM_STATE)\n",
    "nb_claims_name, claim_amount_name = params.get(Constants.NB_CLAIMS), params.get(Constants.CLAIM_AMOUNT)\n",
    "claim_frequency_name = params.get(Constants.CLAIM_FREQUENCY)\n",
    "exposure_name = params.get(Constants.EXPOSURE_NAME)"
   ]
  },
  {
   "cell_type": "code",
   "execution_count": 4,
   "id": "27162118",
   "metadata": {},
   "outputs": [
    {
     "data": {
      "text/html": [
       "<div>\n",
       "<style scoped>\n",
       "    .dataframe tbody tr th:only-of-type {\n",
       "        vertical-align: middle;\n",
       "    }\n",
       "\n",
       "    .dataframe tbody tr th {\n",
       "        vertical-align: top;\n",
       "    }\n",
       "\n",
       "    .dataframe thead th {\n",
       "        text-align: right;\n",
       "    }\n",
       "</style>\n",
       "<table border=\"1\" class=\"dataframe\">\n",
       "  <thead>\n",
       "    <tr style=\"text-align: right;\">\n",
       "      <th></th>\n",
       "      <th>AGEPH</th>\n",
       "      <th>CODPOSS</th>\n",
       "      <th>duree</th>\n",
       "      <th>lnexpo</th>\n",
       "      <th>nbrtotc</th>\n",
       "      <th>nbrtotan</th>\n",
       "      <th>chargtot</th>\n",
       "      <th>agecar</th>\n",
       "      <th>sexp</th>\n",
       "      <th>fuelc</th>\n",
       "      <th>split</th>\n",
       "      <th>usec</th>\n",
       "      <th>fleetc</th>\n",
       "      <th>sportc</th>\n",
       "      <th>coverp</th>\n",
       "      <th>powerc</th>\n",
       "    </tr>\n",
       "  </thead>\n",
       "  <tbody>\n",
       "    <tr>\n",
       "      <th>0</th>\n",
       "      <td>64</td>\n",
       "      <td>1000</td>\n",
       "      <td>1.00</td>\n",
       "      <td>0.00</td>\n",
       "      <td>0</td>\n",
       "      <td>0.00</td>\n",
       "      <td>0.00</td>\n",
       "      <td>2-5</td>\n",
       "      <td>Female</td>\n",
       "      <td>Petrol</td>\n",
       "      <td>Once</td>\n",
       "      <td>Private</td>\n",
       "      <td>No</td>\n",
       "      <td>No</td>\n",
       "      <td>MTPL+</td>\n",
       "      <td>66-110</td>\n",
       "    </tr>\n",
       "    <tr>\n",
       "      <th>1</th>\n",
       "      <td>28</td>\n",
       "      <td>1000</td>\n",
       "      <td>0.05</td>\n",
       "      <td>-3.07</td>\n",
       "      <td>1</td>\n",
       "      <td>21.47</td>\n",
       "      <td>155.97</td>\n",
       "      <td>6-10</td>\n",
       "      <td>Female</td>\n",
       "      <td>Petrol</td>\n",
       "      <td>Twice</td>\n",
       "      <td>Private</td>\n",
       "      <td>No</td>\n",
       "      <td>No</td>\n",
       "      <td>MTPL</td>\n",
       "      <td>66-110</td>\n",
       "    </tr>\n",
       "    <tr>\n",
       "      <th>2</th>\n",
       "      <td>58</td>\n",
       "      <td>1000</td>\n",
       "      <td>0.40</td>\n",
       "      <td>-0.91</td>\n",
       "      <td>0</td>\n",
       "      <td>0.00</td>\n",
       "      <td>0.00</td>\n",
       "      <td>&gt;10</td>\n",
       "      <td>Female</td>\n",
       "      <td>Petrol</td>\n",
       "      <td>Thrice</td>\n",
       "      <td>Private</td>\n",
       "      <td>No</td>\n",
       "      <td>No</td>\n",
       "      <td>MTPL</td>\n",
       "      <td>&lt;66</td>\n",
       "    </tr>\n",
       "    <tr>\n",
       "      <th>3</th>\n",
       "      <td>37</td>\n",
       "      <td>1030</td>\n",
       "      <td>0.17</td>\n",
       "      <td>-1.77</td>\n",
       "      <td>0</td>\n",
       "      <td>0.00</td>\n",
       "      <td>0.00</td>\n",
       "      <td>2-5</td>\n",
       "      <td>Female</td>\n",
       "      <td>Petrol</td>\n",
       "      <td>Once</td>\n",
       "      <td>Professional</td>\n",
       "      <td>No</td>\n",
       "      <td>No</td>\n",
       "      <td>MTPL+++</td>\n",
       "      <td>66-110</td>\n",
       "    </tr>\n",
       "    <tr>\n",
       "      <th>4</th>\n",
       "      <td>29</td>\n",
       "      <td>1030</td>\n",
       "      <td>1.00</td>\n",
       "      <td>0.00</td>\n",
       "      <td>0</td>\n",
       "      <td>0.00</td>\n",
       "      <td>0.00</td>\n",
       "      <td>6-10</td>\n",
       "      <td>Female</td>\n",
       "      <td>Petrol</td>\n",
       "      <td>Once</td>\n",
       "      <td>Private</td>\n",
       "      <td>No</td>\n",
       "      <td>No</td>\n",
       "      <td>MTPL+</td>\n",
       "      <td>&lt;66</td>\n",
       "    </tr>\n",
       "  </tbody>\n",
       "</table>\n",
       "</div>"
      ],
      "text/plain": [
       "   AGEPH  CODPOSS  duree  lnexpo  nbrtotc  nbrtotan  chargtot agecar    sexp  \\\n",
       "0     64     1000   1.00    0.00        0      0.00      0.00    2-5  Female   \n",
       "1     28     1000   0.05   -3.07        1     21.47    155.97   6-10  Female   \n",
       "2     58     1000   0.40   -0.91        0      0.00      0.00    >10  Female   \n",
       "3     37     1030   0.17   -1.77        0      0.00      0.00    2-5  Female   \n",
       "4     29     1030   1.00    0.00        0      0.00      0.00   6-10  Female   \n",
       "\n",
       "    fuelc   split          usec fleetc sportc   coverp  powerc  \n",
       "0  Petrol    Once       Private     No     No    MTPL+  66-110  \n",
       "1  Petrol   Twice       Private     No     No     MTPL  66-110  \n",
       "2  Petrol  Thrice       Private     No     No     MTPL     <66  \n",
       "3  Petrol    Once  Professional     No     No  MTPL+++  66-110  \n",
       "4  Petrol    Once       Private     No     No    MTPL+     <66  "
      ]
     },
     "execution_count": 4,
     "metadata": {},
     "output_type": "execute_result"
    }
   ],
   "source": [
    "df = pd.read_csv(params.get(Constants.URL_LINK_TO_DATA), delimiter = \",\")\n",
    "df.head()"
   ]
  },
  {
   "cell_type": "markdown",
   "id": "8d3f942e",
   "metadata": {},
   "source": [
    "# 1. Data Exploration <a name=\"one\"></a>"
   ]
  },
  {
   "cell_type": "code",
   "execution_count": 5,
   "id": "7751580a",
   "metadata": {},
   "outputs": [
    {
     "name": "stdout",
     "output_type": "stream",
     "text": [
      "<class 'pandas.core.frame.DataFrame'>\n",
      "RangeIndex: 163657 entries, 0 to 163656\n",
      "Data columns (total 16 columns):\n",
      " #   Column    Non-Null Count   Dtype  \n",
      "---  ------    --------------   -----  \n",
      " 0   AGEPH     163657 non-null  int64  \n",
      " 1   CODPOSS   163657 non-null  int64  \n",
      " 2   duree     163657 non-null  float64\n",
      " 3   lnexpo    163657 non-null  float64\n",
      " 4   nbrtotc   163657 non-null  int64  \n",
      " 5   nbrtotan  163657 non-null  float64\n",
      " 6   chargtot  163657 non-null  float64\n",
      " 7   agecar    163657 non-null  object \n",
      " 8   sexp      163657 non-null  object \n",
      " 9   fuelc     163657 non-null  object \n",
      " 10  split     163657 non-null  object \n",
      " 11  usec      163657 non-null  object \n",
      " 12  fleetc    163657 non-null  object \n",
      " 13  sportc    163657 non-null  object \n",
      " 14  coverp    163657 non-null  object \n",
      " 15  powerc    163657 non-null  object \n",
      "dtypes: float64(4), int64(3), object(9)\n",
      "memory usage: 20.0+ MB\n"
     ]
    }
   ],
   "source": [
    "df.info()"
   ]
  },
  {
   "cell_type": "code",
   "execution_count": 6,
   "id": "e7109a53",
   "metadata": {},
   "outputs": [
    {
     "data": {
      "text/html": [
       "<div>\n",
       "<style scoped>\n",
       "    .dataframe tbody tr th:only-of-type {\n",
       "        vertical-align: middle;\n",
       "    }\n",
       "\n",
       "    .dataframe tbody tr th {\n",
       "        vertical-align: top;\n",
       "    }\n",
       "\n",
       "    .dataframe thead th {\n",
       "        text-align: right;\n",
       "    }\n",
       "</style>\n",
       "<table border=\"1\" class=\"dataframe\">\n",
       "  <thead>\n",
       "    <tr style=\"text-align: right;\">\n",
       "      <th></th>\n",
       "      <th>AGEPH</th>\n",
       "      <th>CODPOSS</th>\n",
       "      <th>duree</th>\n",
       "      <th>lnexpo</th>\n",
       "      <th>nbrtotc</th>\n",
       "      <th>nbrtotan</th>\n",
       "      <th>chargtot</th>\n",
       "    </tr>\n",
       "  </thead>\n",
       "  <tbody>\n",
       "    <tr>\n",
       "      <th>count</th>\n",
       "      <td>163,657.00</td>\n",
       "      <td>163,657.00</td>\n",
       "      <td>163,657.00</td>\n",
       "      <td>163,657.00</td>\n",
       "      <td>163,657.00</td>\n",
       "      <td>163,657.00</td>\n",
       "      <td>163,657.00</td>\n",
       "    </tr>\n",
       "    <tr>\n",
       "      <th>mean</th>\n",
       "      <td>47.00</td>\n",
       "      <td>5,270.91</td>\n",
       "      <td>0.89</td>\n",
       "      <td>-0.21</td>\n",
       "      <td>0.12</td>\n",
       "      <td>0.16</td>\n",
       "      <td>201.10</td>\n",
       "    </tr>\n",
       "    <tr>\n",
       "      <th>std</th>\n",
       "      <td>14.83</td>\n",
       "      <td>2,687.63</td>\n",
       "      <td>0.24</td>\n",
       "      <td>0.59</td>\n",
       "      <td>0.37</td>\n",
       "      <td>0.98</td>\n",
       "      <td>5,885.39</td>\n",
       "    </tr>\n",
       "    <tr>\n",
       "      <th>min</th>\n",
       "      <td>17.00</td>\n",
       "      <td>1,000.00</td>\n",
       "      <td>0.00</td>\n",
       "      <td>-5.90</td>\n",
       "      <td>0.00</td>\n",
       "      <td>0.00</td>\n",
       "      <td>0.00</td>\n",
       "    </tr>\n",
       "    <tr>\n",
       "      <th>25%</th>\n",
       "      <td>35.00</td>\n",
       "      <td>2,900.00</td>\n",
       "      <td>1.00</td>\n",
       "      <td>0.00</td>\n",
       "      <td>0.00</td>\n",
       "      <td>0.00</td>\n",
       "      <td>0.00</td>\n",
       "    </tr>\n",
       "    <tr>\n",
       "      <th>50%</th>\n",
       "      <td>46.00</td>\n",
       "      <td>5,030.00</td>\n",
       "      <td>1.00</td>\n",
       "      <td>0.00</td>\n",
       "      <td>0.00</td>\n",
       "      <td>0.00</td>\n",
       "      <td>0.00</td>\n",
       "    </tr>\n",
       "    <tr>\n",
       "      <th>75%</th>\n",
       "      <td>58.00</td>\n",
       "      <td>7,500.00</td>\n",
       "      <td>1.00</td>\n",
       "      <td>0.00</td>\n",
       "      <td>0.00</td>\n",
       "      <td>0.00</td>\n",
       "      <td>0.00</td>\n",
       "    </tr>\n",
       "    <tr>\n",
       "      <th>max</th>\n",
       "      <td>95.00</td>\n",
       "      <td>9,990.00</td>\n",
       "      <td>1.01</td>\n",
       "      <td>0.01</td>\n",
       "      <td>5.00</td>\n",
       "      <td>182.50</td>\n",
       "      <td>1,989,567.90</td>\n",
       "    </tr>\n",
       "  </tbody>\n",
       "</table>\n",
       "</div>"
      ],
      "text/plain": [
       "           AGEPH    CODPOSS      duree     lnexpo    nbrtotc   nbrtotan  \\\n",
       "count 163,657.00 163,657.00 163,657.00 163,657.00 163,657.00 163,657.00   \n",
       "mean       47.00   5,270.91       0.89      -0.21       0.12       0.16   \n",
       "std        14.83   2,687.63       0.24       0.59       0.37       0.98   \n",
       "min        17.00   1,000.00       0.00      -5.90       0.00       0.00   \n",
       "25%        35.00   2,900.00       1.00       0.00       0.00       0.00   \n",
       "50%        46.00   5,030.00       1.00       0.00       0.00       0.00   \n",
       "75%        58.00   7,500.00       1.00       0.00       0.00       0.00   \n",
       "max        95.00   9,990.00       1.01       0.01       5.00     182.50   \n",
       "\n",
       "          chargtot  \n",
       "count   163,657.00  \n",
       "mean        201.10  \n",
       "std       5,885.39  \n",
       "min           0.00  \n",
       "25%           0.00  \n",
       "50%           0.00  \n",
       "75%           0.00  \n",
       "max   1,989,567.90  "
      ]
     },
     "execution_count": 6,
     "metadata": {},
     "output_type": "execute_result"
    }
   ],
   "source": [
    "summary = df.describe()\n",
    "summary.style.applymap(highlight_col, subset=pd.IndexSlice[['mean', 'max'], [params.get(Constants.NB_CLAIMS)]])\n",
    "summary"
   ]
  },
  {
   "cell_type": "code",
   "execution_count": 7,
   "id": "e8ddef55",
   "metadata": {},
   "outputs": [
    {
     "data": {
      "text/plain": [
       "(0, 50000]          18305\n",
       "(50000, 100000]        23\n",
       "(100000, 500000]       16\n",
       "Name: chargtot, dtype: int64"
      ]
     },
     "execution_count": 7,
     "metadata": {},
     "output_type": "execute_result"
    }
   ],
   "source": [
    "pd.cut(df.chargtot, bins= [0, 50_000, 100_000, 500_000]).value_counts()"
   ]
  },
  {
   "cell_type": "code",
   "execution_count": 8,
   "id": "e9400118",
   "metadata": {},
   "outputs": [],
   "source": [
    "# CODPOSS should be a categorical variable as it stands for the postal code in Belgium\n",
    "df['CODPOSS'] = df.CODPOSS.astype('str')"
   ]
  },
  {
   "cell_type": "code",
   "execution_count": 9,
   "id": "0c14c48f",
   "metadata": {},
   "outputs": [
    {
     "data": {
      "text/html": [
       "<div>\n",
       "<style scoped>\n",
       "    .dataframe tbody tr th:only-of-type {\n",
       "        vertical-align: middle;\n",
       "    }\n",
       "\n",
       "    .dataframe tbody tr th {\n",
       "        vertical-align: top;\n",
       "    }\n",
       "\n",
       "    .dataframe thead th {\n",
       "        text-align: right;\n",
       "    }\n",
       "</style>\n",
       "<table border=\"1\" class=\"dataframe\">\n",
       "  <thead>\n",
       "    <tr style=\"text-align: right;\">\n",
       "      <th></th>\n",
       "      <th>duree</th>\n",
       "      <th>nbrtotc</th>\n",
       "      <th>chargtot</th>\n",
       "    </tr>\n",
       "  </thead>\n",
       "  <tbody>\n",
       "    <tr>\n",
       "      <th>count</th>\n",
       "      <td>163,657.00</td>\n",
       "      <td>163,657.00</td>\n",
       "      <td>163,657.00</td>\n",
       "    </tr>\n",
       "    <tr>\n",
       "      <th>mean</th>\n",
       "      <td>0.89</td>\n",
       "      <td>0.12</td>\n",
       "      <td>201.10</td>\n",
       "    </tr>\n",
       "    <tr>\n",
       "      <th>std</th>\n",
       "      <td>0.24</td>\n",
       "      <td>0.37</td>\n",
       "      <td>5,885.39</td>\n",
       "    </tr>\n",
       "    <tr>\n",
       "      <th>min</th>\n",
       "      <td>0.00</td>\n",
       "      <td>0.00</td>\n",
       "      <td>0.00</td>\n",
       "    </tr>\n",
       "    <tr>\n",
       "      <th>25%</th>\n",
       "      <td>1.00</td>\n",
       "      <td>0.00</td>\n",
       "      <td>0.00</td>\n",
       "    </tr>\n",
       "    <tr>\n",
       "      <th>50%</th>\n",
       "      <td>1.00</td>\n",
       "      <td>0.00</td>\n",
       "      <td>0.00</td>\n",
       "    </tr>\n",
       "    <tr>\n",
       "      <th>75%</th>\n",
       "      <td>1.00</td>\n",
       "      <td>0.00</td>\n",
       "      <td>0.00</td>\n",
       "    </tr>\n",
       "    <tr>\n",
       "      <th>max</th>\n",
       "      <td>1.01</td>\n",
       "      <td>5.00</td>\n",
       "      <td>1,989,567.90</td>\n",
       "    </tr>\n",
       "  </tbody>\n",
       "</table>\n",
       "</div>"
      ],
      "text/plain": [
       "           duree    nbrtotc     chargtot\n",
       "count 163,657.00 163,657.00   163,657.00\n",
       "mean        0.89       0.12       201.10\n",
       "std         0.24       0.37     5,885.39\n",
       "min         0.00       0.00         0.00\n",
       "25%         1.00       0.00         0.00\n",
       "50%         1.00       0.00         0.00\n",
       "75%         1.00       0.00         0.00\n",
       "max         1.01       5.00 1,989,567.90"
      ]
     },
     "execution_count": 9,
     "metadata": {},
     "output_type": "execute_result"
    }
   ],
   "source": [
    "df[[exposure_name, nb_claims_name, claim_amount_name]].describe()"
   ]
  },
  {
   "cell_type": "code",
   "execution_count": 10,
   "id": "70436623",
   "metadata": {},
   "outputs": [],
   "source": [
    "# we want to cap the maximum claim amount\n",
    "max_claim_amount = params.get(Constants.MAX_CLAIM_AMOUNT)\n",
    "df['chargtot'] = np.select([df.chargtot > max_claim_amount, df.chargtot <= max_claim_amount], [max_claim_amount, df.chargtot])"
   ]
  },
  {
   "cell_type": "code",
   "execution_count": 11,
   "id": "dd4db020",
   "metadata": {},
   "outputs": [
    {
     "data": {
      "text/html": [
       "<div>\n",
       "<style scoped>\n",
       "    .dataframe tbody tr th:only-of-type {\n",
       "        vertical-align: middle;\n",
       "    }\n",
       "\n",
       "    .dataframe tbody tr th {\n",
       "        vertical-align: top;\n",
       "    }\n",
       "\n",
       "    .dataframe thead th {\n",
       "        text-align: right;\n",
       "    }\n",
       "</style>\n",
       "<table border=\"1\" class=\"dataframe\">\n",
       "  <thead>\n",
       "    <tr style=\"text-align: right;\">\n",
       "      <th></th>\n",
       "      <th>duree</th>\n",
       "      <th>nbrtotc</th>\n",
       "      <th>chargtot</th>\n",
       "    </tr>\n",
       "  </thead>\n",
       "  <tbody>\n",
       "    <tr>\n",
       "      <th>count</th>\n",
       "      <td>163,657.00</td>\n",
       "      <td>163,657.00</td>\n",
       "      <td>163,657.00</td>\n",
       "    </tr>\n",
       "    <tr>\n",
       "      <th>mean</th>\n",
       "      <td>0.89</td>\n",
       "      <td>0.12</td>\n",
       "      <td>192.00</td>\n",
       "    </tr>\n",
       "    <tr>\n",
       "      <th>std</th>\n",
       "      <td>0.24</td>\n",
       "      <td>0.37</td>\n",
       "      <td>3,461.47</td>\n",
       "    </tr>\n",
       "    <tr>\n",
       "      <th>min</th>\n",
       "      <td>0.00</td>\n",
       "      <td>0.00</td>\n",
       "      <td>0.00</td>\n",
       "    </tr>\n",
       "    <tr>\n",
       "      <th>25%</th>\n",
       "      <td>1.00</td>\n",
       "      <td>0.00</td>\n",
       "      <td>0.00</td>\n",
       "    </tr>\n",
       "    <tr>\n",
       "      <th>50%</th>\n",
       "      <td>1.00</td>\n",
       "      <td>0.00</td>\n",
       "      <td>0.00</td>\n",
       "    </tr>\n",
       "    <tr>\n",
       "      <th>75%</th>\n",
       "      <td>1.00</td>\n",
       "      <td>0.00</td>\n",
       "      <td>0.00</td>\n",
       "    </tr>\n",
       "    <tr>\n",
       "      <th>max</th>\n",
       "      <td>1.01</td>\n",
       "      <td>5.00</td>\n",
       "      <td>500,000.00</td>\n",
       "    </tr>\n",
       "  </tbody>\n",
       "</table>\n",
       "</div>"
      ],
      "text/plain": [
       "           duree    nbrtotc   chargtot\n",
       "count 163,657.00 163,657.00 163,657.00\n",
       "mean        0.89       0.12     192.00\n",
       "std         0.24       0.37   3,461.47\n",
       "min         0.00       0.00       0.00\n",
       "25%         1.00       0.00       0.00\n",
       "50%         1.00       0.00       0.00\n",
       "75%         1.00       0.00       0.00\n",
       "max         1.01       5.00 500,000.00"
      ]
     },
     "execution_count": 11,
     "metadata": {},
     "output_type": "execute_result"
    }
   ],
   "source": [
    "df[[ exposure_name, nb_claims_name, claim_amount_name]].describe()"
   ]
  },
  {
   "cell_type": "code",
   "execution_count": 12,
   "id": "c5c4f9ed",
   "metadata": {},
   "outputs": [
    {
     "data": {
      "text/plain": [
       "11748   500,000.00\n",
       "Name: chargtot, dtype: float64"
      ]
     },
     "execution_count": 12,
     "metadata": {},
     "output_type": "execute_result"
    }
   ],
   "source": [
    "df.chargtot[df.chargtot==max_claim_amount]"
   ]
  },
  {
   "cell_type": "code",
   "execution_count": 13,
   "id": "3763edd0",
   "metadata": {},
   "outputs": [
    {
     "data": {
      "text/html": [
       "<div>\n",
       "<style scoped>\n",
       "    .dataframe tbody tr th:only-of-type {\n",
       "        vertical-align: middle;\n",
       "    }\n",
       "\n",
       "    .dataframe tbody tr th {\n",
       "        vertical-align: top;\n",
       "    }\n",
       "\n",
       "    .dataframe thead th {\n",
       "        text-align: right;\n",
       "    }\n",
       "</style>\n",
       "<table border=\"1\" class=\"dataframe\">\n",
       "  <thead>\n",
       "    <tr style=\"text-align: right;\">\n",
       "      <th></th>\n",
       "      <th>nb_unique_categories</th>\n",
       "      <th>distribution</th>\n",
       "    </tr>\n",
       "  </thead>\n",
       "  <tbody>\n",
       "    <tr>\n",
       "      <th>CODPOSS</th>\n",
       "      <td>583</td>\n",
       "      <td>{'6000': '3.08%', '2000': '2.86%', '9000': '2.14%', '4000': '1.61%', '7100': '1.39%', '7000': '1.25%', '7500': '0.97%', '5000': '0.94%', '3000': '0.89%', '8000': '0.88%', '4100': '0.85%', '2800': '0.82%', '8400': '0.77%', '1000': '0.72%', '8500': '0.72%', '6200': '0.71%', '9300': '0.71%', '7060': '0.70%', '6180': '0.69%', '4040': '0.65%', '7800': '0.65%', '9100': '0.64%', '1070': '0.64%', '7330': '0.63%', '7130': '0.63%', '1030': '0.57%', '9600': '0.57%', '1800': '0.56%', '1480': '0.56%', '8800': '0.55%', '8930': '0.55%', '4800': '0.53%', '7700': '0.52%', '1180': '0.51%', '7370': '0.51%', '5300': '0.50%', '8940': '0.50%', '7300': '0.48%', '7860': '0.47%', '1420': '0.46%', '1080': '0.45%', '2830': '0.44%', '5060': '0.44%', '6790': '0.43%', '6220': '0.43%', '3600': '0.43%', '2880': '0.42%', '7340': '0.41%', '3630': '0.41%', '8790': '0.41%', '3700': '0.40%', '4400': '0.40%', '1050': '0.39%', '4630': '0.39%', '4680': '0.39%', '4430': '0.38%', '3300': '0.38%', '3500': '0.38%', '7080': '...</td>\n",
       "    </tr>\n",
       "    <tr>\n",
       "      <th>agecar</th>\n",
       "      <td>4</td>\n",
       "      <td>{'6-10': '41.03%', '2-5': '31.50%', '&gt;10': '22.72%', '0-1': '4.75%'}</td>\n",
       "    </tr>\n",
       "    <tr>\n",
       "      <th>sexp</th>\n",
       "      <td>2</td>\n",
       "      <td>{'Male': '73.59%', 'Female': '26.41%'}</td>\n",
       "    </tr>\n",
       "    <tr>\n",
       "      <th>fuelc</th>\n",
       "      <td>2</td>\n",
       "      <td>{'Petrol': '69.18%', 'Gasoil': '30.82%'}</td>\n",
       "    </tr>\n",
       "    <tr>\n",
       "      <th>split</th>\n",
       "      <td>4</td>\n",
       "      <td>{'Once': '49.79%', 'Twice': '28.08%', 'Monthly': '14.42%', 'Thrice': '7.71%'}</td>\n",
       "    </tr>\n",
       "    <tr>\n",
       "      <th>usec</th>\n",
       "      <td>2</td>\n",
       "      <td>{'Private': '95.11%', 'Professional': '4.89%'}</td>\n",
       "    </tr>\n",
       "    <tr>\n",
       "      <th>fleetc</th>\n",
       "      <td>2</td>\n",
       "      <td>{'No': '96.80%', 'Yes': '3.20%'}</td>\n",
       "    </tr>\n",
       "    <tr>\n",
       "      <th>sportc</th>\n",
       "      <td>2</td>\n",
       "      <td>{'No': '99.08%', 'Yes': '0.92%'}</td>\n",
       "    </tr>\n",
       "    <tr>\n",
       "      <th>coverp</th>\n",
       "      <td>3</td>\n",
       "      <td>{'MTPL': '58.30%', 'MTPL+': '28.15%', 'MTPL+++': '13.55%'}</td>\n",
       "    </tr>\n",
       "    <tr>\n",
       "      <th>powerc</th>\n",
       "      <td>3</td>\n",
       "      <td>{'&lt;66': '73.21%', '66-110': '25.78%', '&gt;110': '1.01%'}</td>\n",
       "    </tr>\n",
       "  </tbody>\n",
       "</table>\n",
       "</div>"
      ],
      "text/plain": [
       "         nb_unique_categories  \\\n",
       "CODPOSS                   583   \n",
       "agecar                      4   \n",
       "sexp                        2   \n",
       "fuelc                       2   \n",
       "split                       4   \n",
       "usec                        2   \n",
       "fleetc                      2   \n",
       "sportc                      2   \n",
       "coverp                      3   \n",
       "powerc                      3   \n",
       "\n",
       "                                                                                                                                                                                                                                                                                                                                                                                                                                                                                                                                                                                                                                                                                                                                                                                                                                                                                                                                                                                                                                    distribution  \n",
       "CODPOSS  {'6000': '3.08%', '2000': '2.86%', '9000': '2.14%', '4000': '1.61%', '7100': '1.39%', '7000': '1.25%', '7500': '0.97%', '5000': '0.94%', '3000': '0.89%', '8000': '0.88%', '4100': '0.85%', '2800': '0.82%', '8400': '0.77%', '1000': '0.72%', '8500': '0.72%', '6200': '0.71%', '9300': '0.71%', '7060': '0.70%', '6180': '0.69%', '4040': '0.65%', '7800': '0.65%', '9100': '0.64%', '1070': '0.64%', '7330': '0.63%', '7130': '0.63%', '1030': '0.57%', '9600': '0.57%', '1800': '0.56%', '1480': '0.56%', '8800': '0.55%', '8930': '0.55%', '4800': '0.53%', '7700': '0.52%', '1180': '0.51%', '7370': '0.51%', '5300': '0.50%', '8940': '0.50%', '7300': '0.48%', '7860': '0.47%', '1420': '0.46%', '1080': '0.45%', '2830': '0.44%', '5060': '0.44%', '6790': '0.43%', '6220': '0.43%', '3600': '0.43%', '2880': '0.42%', '7340': '0.41%', '3630': '0.41%', '8790': '0.41%', '3700': '0.40%', '4400': '0.40%', '1050': '0.39%', '4630': '0.39%', '4680': '0.39%', '4430': '0.38%', '3300': '0.38%', '3500': '0.38%', '7080': '...  \n",
       "agecar                                                                                                                                                                                                                                                                                                                                                                                                                                                                                                                                                                                                                                                                                                                                                                                                                                                                                                                                                                      {'6-10': '41.03%', '2-5': '31.50%', '>10': '22.72%', '0-1': '4.75%'}  \n",
       "sexp                                                                                                                                                                                                                                                                                                                                                                                                                                                                                                                                                                                                                                                                                                                                                                                                                                                                                                                                                                                                      {'Male': '73.59%', 'Female': '26.41%'}  \n",
       "fuelc                                                                                                                                                                                                                                                                                                                                                                                                                                                                                                                                                                                                                                                                                                                                                                                                                                                                                                                                                                                                   {'Petrol': '69.18%', 'Gasoil': '30.82%'}  \n",
       "split                                                                                                                                                                                                                                                                                                                                                                                                                                                                                                                                                                                                                                                                                                                                                                                                                                                                                                                                                              {'Once': '49.79%', 'Twice': '28.08%', 'Monthly': '14.42%', 'Thrice': '7.71%'}  \n",
       "usec                                                                                                                                                                                                                                                                                                                                                                                                                                                                                                                                                                                                                                                                                                                                                                                                                                                                                                                                                                                              {'Private': '95.11%', 'Professional': '4.89%'}  \n",
       "fleetc                                                                                                                                                                                                                                                                                                                                                                                                                                                                                                                                                                                                                                                                                                                                                                                                                                                                                                                                                                                                          {'No': '96.80%', 'Yes': '3.20%'}  \n",
       "sportc                                                                                                                                                                                                                                                                                                                                                                                                                                                                                                                                                                                                                                                                                                                                                                                                                                                                                                                                                                                                          {'No': '99.08%', 'Yes': '0.92%'}  \n",
       "coverp                                                                                                                                                                                                                                                                                                                                                                                                                                                                                                                                                                                                                                                                                                                                                                                                                                                                                                                                                                                {'MTPL': '58.30%', 'MTPL+': '28.15%', 'MTPL+++': '13.55%'}  \n",
       "powerc                                                                                                                                                                                                                                                                                                                                                                                                                                                                                                                                                                                                                                                                                                                                                                                                                                                                                                                                                                                    {'<66': '73.21%', '66-110': '25.78%', '>110': '1.01%'}  "
      ]
     },
     "execution_count": 13,
     "metadata": {},
     "output_type": "execute_result"
    }
   ],
   "source": [
    "# check how many categories for categorical variables\n",
    "info_categories = get_distribution_info_for_categorical_variables(df)\n",
    "info_categories"
   ]
  },
  {
   "cell_type": "markdown",
   "id": "75306911",
   "metadata": {},
   "source": [
    "We notice that the CODPOSS displays a huge number of categories. Later on, we will proceed to mean-hot feature engineering to reduce the dimensionality of this variable."
   ]
  },
  {
   "cell_type": "markdown",
   "id": "2878432a",
   "metadata": {},
   "source": [
    "## 1.1 univariate analysis of numerical data <a name=\"one-one\"></a>"
   ]
  },
  {
   "cell_type": "code",
   "execution_count": 14,
   "id": "349697e9",
   "metadata": {},
   "outputs": [
    {
     "data": {
      "text/plain": [
       "['AGEPH', 'duree', 'lnexpo', 'nbrtotc', 'nbrtotan', 'chargtot']"
      ]
     },
     "execution_count": 14,
     "metadata": {},
     "output_type": "execute_result"
    }
   ],
   "source": [
    "numerical_variables = list(df.select_dtypes(exclude=['object']).columns)\n",
    "numerical_variables"
   ]
  },
  {
   "cell_type": "code",
   "execution_count": 15,
   "id": "bce24e0e",
   "metadata": {},
   "outputs": [
    {
     "data": {
      "text/plain": [
       "<AxesSubplot:xlabel='AGEPH', ylabel='Density'>"
      ]
     },
     "execution_count": 15,
     "metadata": {},
     "output_type": "execute_result"
    },
    {
     "data": {
      "image/png": "[encoded data removed]",
      "text/plain": [
       "<Figure size 432x288 with 1 Axes>"
      ]
     },
     "metadata": {
      "needs_background": "light"
     },
     "output_type": "display_data"
    }
   ],
   "source": [
    "sns.distplot(df['AGEPH'], bins=39)"
   ]
  },
  {
   "cell_type": "code",
   "execution_count": 16,
   "id": "de5c64e6",
   "metadata": {},
   "outputs": [
    {
     "data": {
      "image/png": "[encoded data removed]",
      "text/plain": [
       "<Figure size 432x288 with 1 Axes>"
      ]
     },
     "metadata": {
      "needs_background": "light"
     },
     "output_type": "display_data"
    },
    {
     "data": {
      "image/png": "[encoded data removed]",
      "text/plain": [
       "<Figure size 432x288 with 1 Axes>"
      ]
     },
     "metadata": {
      "needs_background": "light"
     },
     "output_type": "display_data"
    },
    {
     "data": {
      "image/png": "[encoded data removed]",
      "text/plain": [
       "<Figure size 432x288 with 1 Axes>"
      ]
     },
     "metadata": {
      "needs_background": "light"
     },
     "output_type": "display_data"
    },
    {
     "data": {
      "image/png": "[encoded data removed]",
      "text/plain": [
       "<Figure size 432x288 with 1 Axes>"
      ]
     },
     "metadata": {
      "needs_background": "light"
     },
     "output_type": "display_data"
    },
    {
     "data": {
      "image/png": "[encoded data removed]",
      "text/plain": [
       "<Figure size 432x288 with 1 Axes>"
      ]
     },
     "metadata": {
      "needs_background": "light"
     },
     "output_type": "display_data"
    }
   ],
   "source": [
    "plot_univariate_numerical_variables_distribution(df, numerical_variables, params)"
   ]
  },
  {
   "cell_type": "code",
   "execution_count": 17,
   "id": "cbce0cd1",
   "metadata": {},
   "outputs": [
    {
     "data": {
      "text/html": [
       "<style type=\"text/css\">\n",
       "#T_8d97e_row0_col0, #T_8d97e_row1_col1, #T_8d97e_row2_col2, #T_8d97e_row3_col3, #T_8d97e_row4_col4, #T_8d97e_row5_col5 {\n",
       "  background-color: #b40426;\n",
       "  color: #f1f1f1;\n",
       "}\n",
       "#T_8d97e_row0_col1, #T_8d97e_row1_col0 {\n",
       "  background-color: #6c8ff1;\n",
       "  color: #f1f1f1;\n",
       "}\n",
       "#T_8d97e_row0_col2 {\n",
       "  background-color: #688aef;\n",
       "  color: #f1f1f1;\n",
       "}\n",
       "#T_8d97e_row0_col3, #T_8d97e_row0_col5, #T_8d97e_row2_col4, #T_8d97e_row3_col0, #T_8d97e_row4_col1, #T_8d97e_row4_col2 {\n",
       "  background-color: #3b4cc0;\n",
       "  color: #f1f1f1;\n",
       "}\n",
       "#T_8d97e_row0_col4 {\n",
       "  background-color: #465ecf;\n",
       "  color: #f1f1f1;\n",
       "}\n",
       "#T_8d97e_row1_col2, #T_8d97e_row2_col1 {\n",
       "  background-color: #d0473d;\n",
       "  color: #f1f1f1;\n",
       "}\n",
       "#T_8d97e_row1_col3 {\n",
       "  background-color: #5e7de7;\n",
       "  color: #f1f1f1;\n",
       "}\n",
       "#T_8d97e_row1_col4 {\n",
       "  background-color: #3e51c5;\n",
       "  color: #f1f1f1;\n",
       "}\n",
       "#T_8d97e_row1_col5, #T_8d97e_row2_col5 {\n",
       "  background-color: #3f53c6;\n",
       "  color: #f1f1f1;\n",
       "}\n",
       "#T_8d97e_row2_col0 {\n",
       "  background-color: #6687ed;\n",
       "  color: #f1f1f1;\n",
       "}\n",
       "#T_8d97e_row2_col3 {\n",
       "  background-color: #5f7fe8;\n",
       "  color: #f1f1f1;\n",
       "}\n",
       "#T_8d97e_row3_col1, #T_8d97e_row4_col5 {\n",
       "  background-color: #5d7ce6;\n",
       "  color: #f1f1f1;\n",
       "}\n",
       "#T_8d97e_row3_col2 {\n",
       "  background-color: #6282ea;\n",
       "  color: #f1f1f1;\n",
       "}\n",
       "#T_8d97e_row3_col4 {\n",
       "  background-color: #dfdbd9;\n",
       "  color: #000000;\n",
       "}\n",
       "#T_8d97e_row3_col5 {\n",
       "  background-color: #7396f5;\n",
       "  color: #f1f1f1;\n",
       "}\n",
       "#T_8d97e_row4_col0 {\n",
       "  background-color: #4358cb;\n",
       "  color: #f1f1f1;\n",
       "}\n",
       "#T_8d97e_row4_col3 {\n",
       "  background-color: #dedcdb;\n",
       "  color: #000000;\n",
       "}\n",
       "#T_8d97e_row5_col0 {\n",
       "  background-color: #4961d2;\n",
       "  color: #f1f1f1;\n",
       "}\n",
       "#T_8d97e_row5_col1 {\n",
       "  background-color: #4e68d8;\n",
       "  color: #f1f1f1;\n",
       "}\n",
       "#T_8d97e_row5_col2 {\n",
       "  background-color: #516ddb;\n",
       "  color: #f1f1f1;\n",
       "}\n",
       "#T_8d97e_row5_col3 {\n",
       "  background-color: #81a4fb;\n",
       "  color: #f1f1f1;\n",
       "}\n",
       "#T_8d97e_row5_col4 {\n",
       "  background-color: #6f92f3;\n",
       "  color: #f1f1f1;\n",
       "}\n",
       "</style>\n",
       "<table id=\"T_8d97e_\">\n",
       "  <thead>\n",
       "    <tr>\n",
       "      <th class=\"blank level0\" >&nbsp;</th>\n",
       "      <th class=\"col_heading level0 col0\" >AGEPH</th>\n",
       "      <th class=\"col_heading level0 col1\" >duree</th>\n",
       "      <th class=\"col_heading level0 col2\" >lnexpo</th>\n",
       "      <th class=\"col_heading level0 col3\" >nbrtotc</th>\n",
       "      <th class=\"col_heading level0 col4\" >nbrtotan</th>\n",
       "      <th class=\"col_heading level0 col5\" >chargtot</th>\n",
       "    </tr>\n",
       "  </thead>\n",
       "  <tbody>\n",
       "    <tr>\n",
       "      <th id=\"T_8d97e_level0_row0\" class=\"row_heading level0 row0\" >AGEPH</th>\n",
       "      <td id=\"T_8d97e_row0_col0\" class=\"data row0 col0\" >1.000000</td>\n",
       "      <td id=\"T_8d97e_row0_col1\" class=\"data row0 col1\" >0.099901</td>\n",
       "      <td id=\"T_8d97e_row0_col2\" class=\"data row0 col2\" >0.078857</td>\n",
       "      <td id=\"T_8d97e_row0_col3\" class=\"data row0 col3\" >-0.069035</td>\n",
       "      <td id=\"T_8d97e_row0_col4\" class=\"data row0 col4\" >-0.038769</td>\n",
       "      <td id=\"T_8d97e_row0_col5\" class=\"data row0 col5\" >-0.016983</td>\n",
       "    </tr>\n",
       "    <tr>\n",
       "      <th id=\"T_8d97e_level0_row1\" class=\"row_heading level0 row1\" >duree</th>\n",
       "      <td id=\"T_8d97e_row1_col0\" class=\"data row1 col0\" >0.099901</td>\n",
       "      <td id=\"T_8d97e_row1_col1\" class=\"data row1 col1\" >1.000000</td>\n",
       "      <td id=\"T_8d97e_row1_col2\" class=\"data row1 col2\" >0.913371</td>\n",
       "      <td id=\"T_8d97e_row1_col3\" class=\"data row1 col3\" >0.052203</td>\n",
       "      <td id=\"T_8d97e_row1_col4\" class=\"data row1 col4\" >-0.068061</td>\n",
       "      <td id=\"T_8d97e_row1_col5\" class=\"data row1 col5\" >0.000247</td>\n",
       "    </tr>\n",
       "    <tr>\n",
       "      <th id=\"T_8d97e_level0_row2\" class=\"row_heading level0 row2\" >lnexpo</th>\n",
       "      <td id=\"T_8d97e_row2_col0\" class=\"data row2 col0\" >0.078857</td>\n",
       "      <td id=\"T_8d97e_row2_col1\" class=\"data row2 col1\" >0.913371</td>\n",
       "      <td id=\"T_8d97e_row2_col2\" class=\"data row2 col2\" >1.000000</td>\n",
       "      <td id=\"T_8d97e_row2_col3\" class=\"data row2 col3\" >0.056768</td>\n",
       "      <td id=\"T_8d97e_row2_col4\" class=\"data row2 col4\" >-0.081085</td>\n",
       "      <td id=\"T_8d97e_row2_col5\" class=\"data row2 col5\" >0.002479</td>\n",
       "    </tr>\n",
       "    <tr>\n",
       "      <th id=\"T_8d97e_level0_row3\" class=\"row_heading level0 row3\" >nbrtotc</th>\n",
       "      <td id=\"T_8d97e_row3_col0\" class=\"data row3 col0\" >-0.069035</td>\n",
       "      <td id=\"T_8d97e_row3_col1\" class=\"data row3 col1\" >0.052203</td>\n",
       "      <td id=\"T_8d97e_row3_col2\" class=\"data row3 col2\" >0.056768</td>\n",
       "      <td id=\"T_8d97e_row3_col3\" class=\"data row3 col3\" >1.000000</td>\n",
       "      <td id=\"T_8d97e_row3_col4\" class=\"data row3 col4\" >0.471175</td>\n",
       "      <td id=\"T_8d97e_row3_col5\" class=\"data row3 col5\" >0.164385</td>\n",
       "    </tr>\n",
       "    <tr>\n",
       "      <th id=\"T_8d97e_level0_row4\" class=\"row_heading level0 row4\" >nbrtotan</th>\n",
       "      <td id=\"T_8d97e_row4_col0\" class=\"data row4 col0\" >-0.038769</td>\n",
       "      <td id=\"T_8d97e_row4_col1\" class=\"data row4 col1\" >-0.068061</td>\n",
       "      <td id=\"T_8d97e_row4_col2\" class=\"data row4 col2\" >-0.081085</td>\n",
       "      <td id=\"T_8d97e_row4_col3\" class=\"data row4 col3\" >0.471175</td>\n",
       "      <td id=\"T_8d97e_row4_col4\" class=\"data row4 col4\" >1.000000</td>\n",
       "      <td id=\"T_8d97e_row4_col5\" class=\"data row4 col5\" >0.097633</td>\n",
       "    </tr>\n",
       "    <tr>\n",
       "      <th id=\"T_8d97e_level0_row5\" class=\"row_heading level0 row5\" >chargtot</th>\n",
       "      <td id=\"T_8d97e_row5_col0\" class=\"data row5 col0\" >-0.016983</td>\n",
       "      <td id=\"T_8d97e_row5_col1\" class=\"data row5 col1\" >0.000247</td>\n",
       "      <td id=\"T_8d97e_row5_col2\" class=\"data row5 col2\" >0.002479</td>\n",
       "      <td id=\"T_8d97e_row5_col3\" class=\"data row5 col3\" >0.164385</td>\n",
       "      <td id=\"T_8d97e_row5_col4\" class=\"data row5 col4\" >0.097633</td>\n",
       "      <td id=\"T_8d97e_row5_col5\" class=\"data row5 col5\" >1.000000</td>\n",
       "    </tr>\n",
       "  </tbody>\n",
       "</table>\n"
      ],
      "text/plain": [
       "<pandas.io.formats.style.Styler at 0x132266310>"
      ]
     },
     "execution_count": 17,
     "metadata": {},
     "output_type": "execute_result"
    }
   ],
   "source": [
    "corr = df.corr()\n",
    "corr.style.background_gradient(cmap='coolwarm')"
   ]
  },
  {
   "cell_type": "markdown",
   "id": "8083642c",
   "metadata": {},
   "source": [
    "We notice that `nbrtotc` and `nbrtotan` are highly correlated (the same goes for `duree` and `lnexpo`)"
   ]
  },
  {
   "cell_type": "markdown",
   "id": "7ec53432",
   "metadata": {},
   "source": [
    "## 1.2 univariate analysis of categorical data <a name=\"one-two\"></a>"
   ]
  },
  {
   "cell_type": "code",
   "execution_count": 18,
   "id": "5058b2a1",
   "metadata": {},
   "outputs": [
    {
     "data": {
      "text/plain": [
       "['CODPOSS',\n",
       " 'agecar',\n",
       " 'sexp',\n",
       " 'fuelc',\n",
       " 'split',\n",
       " 'usec',\n",
       " 'fleetc',\n",
       " 'sportc',\n",
       " 'coverp',\n",
       " 'powerc']"
      ]
     },
     "execution_count": 18,
     "metadata": {},
     "output_type": "execute_result"
    }
   ],
   "source": [
    "categorical_variables = list(df.select_dtypes(include=['object']).columns)\n",
    "categorical_variables"
   ]
  },
  {
   "cell_type": "code",
   "execution_count": 19,
   "id": "6407157e",
   "metadata": {},
   "outputs": [
    {
     "data": {
      "image/png": "[encoded data removed]",
      "text/plain": [
       "<Figure size 432x288 with 1 Axes>"
      ]
     },
     "metadata": {
      "needs_background": "light"
     },
     "output_type": "display_data"
    },
    {
     "data": {
      "image/png": "[encoded data removed]",
      "text/plain": [
       "<Figure size 432x288 with 1 Axes>"
      ]
     },
     "metadata": {
      "needs_background": "light"
     },
     "output_type": "display_data"
    },
    {
     "data": {
      "image/png": "[encoded data removed]",
      "text/plain": [
       "<Figure size 432x288 with 1 Axes>"
      ]
     },
     "metadata": {
      "needs_background": "light"
     },
     "output_type": "display_data"
    },
    {
     "data": {
      "image/png": "[encoded data removed]",
      "text/plain": [
       "<Figure size 432x288 with 1 Axes>"
      ]
     },
     "metadata": {
      "needs_background": "light"
     },
     "output_type": "display_data"
    },
    {
     "data": {
      "image/png": "[encoded data removed]",
      "text/plain": [
       "<Figure size 432x288 with 1 Axes>"
      ]
     },
     "metadata": {
      "needs_background": "light"
     },
     "output_type": "display_data"
    },
    {
     "data": {
      "image/png": "[encoded data removed]",
      "text/plain": [
       "<Figure size 432x288 with 1 Axes>"
      ]
     },
     "metadata": {
      "needs_background": "light"
     },
     "output_type": "display_data"
    },
    {
     "data": {
      "image/png": "[encoded data removed]",
      "text/plain": [
       "<Figure size 432x288 with 1 Axes>"
      ]
     },
     "metadata": {
      "needs_background": "light"
     },
     "output_type": "display_data"
    },
    {
     "data": {
      "image/png": "[encoded data removed]",
      "text/plain": [
       "<Figure size 432x288 with 1 Axes>"
      ]
     },
     "metadata": {
      "needs_background": "light"
     },
     "output_type": "display_data"
    },
    {
     "data": {
      "image/png": "[encoded data removed]",
      "text/plain": [
       "<Figure size 432x288 with 1 Axes>"
      ]
     },
     "metadata": {
      "needs_background": "light"
     },
     "output_type": "display_data"
    },
    {
     "data": {
      "image/png": "[encoded data removed]",
      "text/plain": [
       "<Figure size 432x288 with 1 Axes>"
      ]
     },
     "metadata": {
      "needs_background": "light"
     },
     "output_type": "display_data"
    }
   ],
   "source": [
    "plot_univariate_categorical_variables_distribution(df, categorical_variables, params)"
   ]
  },
  {
   "cell_type": "markdown",
   "id": "6592e370",
   "metadata": {},
   "source": [
    "## 1.3 bivariate analysis of numerical data <a name=\"one-three\"></a>"
   ]
  },
  {
   "cell_type": "code",
   "execution_count": 20,
   "id": "b84ffcfc",
   "metadata": {},
   "outputs": [],
   "source": [
    "df[claim_frequency_name] = df[nb_claims_name]/df[exposure_name]"
   ]
  },
  {
   "cell_type": "code",
   "execution_count": 21,
   "id": "38576f8d",
   "metadata": {},
   "outputs": [
    {
     "data": {
      "text/html": [
       "<div>\n",
       "<style scoped>\n",
       "    .dataframe tbody tr th:only-of-type {\n",
       "        vertical-align: middle;\n",
       "    }\n",
       "\n",
       "    .dataframe tbody tr th {\n",
       "        vertical-align: top;\n",
       "    }\n",
       "\n",
       "    .dataframe thead th {\n",
       "        text-align: right;\n",
       "    }\n",
       "</style>\n",
       "<table border=\"1\" class=\"dataframe\">\n",
       "  <thead>\n",
       "    <tr style=\"text-align: right;\">\n",
       "      <th></th>\n",
       "      <th>claim_frequency</th>\n",
       "      <th>duree</th>\n",
       "      <th>nbrtotc</th>\n",
       "      <th>chargtot</th>\n",
       "    </tr>\n",
       "  </thead>\n",
       "  <tbody>\n",
       "    <tr>\n",
       "      <th>count</th>\n",
       "      <td>163,657.00</td>\n",
       "      <td>163,657.00</td>\n",
       "      <td>163,657.00</td>\n",
       "      <td>163,657.00</td>\n",
       "    </tr>\n",
       "    <tr>\n",
       "      <th>mean</th>\n",
       "      <td>0.16</td>\n",
       "      <td>0.89</td>\n",
       "      <td>0.12</td>\n",
       "      <td>192.00</td>\n",
       "    </tr>\n",
       "    <tr>\n",
       "      <th>std</th>\n",
       "      <td>0.98</td>\n",
       "      <td>0.24</td>\n",
       "      <td>0.37</td>\n",
       "      <td>3,461.47</td>\n",
       "    </tr>\n",
       "    <tr>\n",
       "      <th>min</th>\n",
       "      <td>0.00</td>\n",
       "      <td>0.00</td>\n",
       "      <td>0.00</td>\n",
       "      <td>0.00</td>\n",
       "    </tr>\n",
       "    <tr>\n",
       "      <th>25%</th>\n",
       "      <td>0.00</td>\n",
       "      <td>1.00</td>\n",
       "      <td>0.00</td>\n",
       "      <td>0.00</td>\n",
       "    </tr>\n",
       "    <tr>\n",
       "      <th>50%</th>\n",
       "      <td>0.00</td>\n",
       "      <td>1.00</td>\n",
       "      <td>0.00</td>\n",
       "      <td>0.00</td>\n",
       "    </tr>\n",
       "    <tr>\n",
       "      <th>75%</th>\n",
       "      <td>0.00</td>\n",
       "      <td>1.00</td>\n",
       "      <td>0.00</td>\n",
       "      <td>0.00</td>\n",
       "    </tr>\n",
       "    <tr>\n",
       "      <th>max</th>\n",
       "      <td>182.50</td>\n",
       "      <td>1.01</td>\n",
       "      <td>5.00</td>\n",
       "      <td>500,000.00</td>\n",
       "    </tr>\n",
       "  </tbody>\n",
       "</table>\n",
       "</div>"
      ],
      "text/plain": [
       "       claim_frequency      duree    nbrtotc   chargtot\n",
       "count       163,657.00 163,657.00 163,657.00 163,657.00\n",
       "mean              0.16       0.89       0.12     192.00\n",
       "std               0.98       0.24       0.37   3,461.47\n",
       "min               0.00       0.00       0.00       0.00\n",
       "25%               0.00       1.00       0.00       0.00\n",
       "50%               0.00       1.00       0.00       0.00\n",
       "75%               0.00       1.00       0.00       0.00\n",
       "max             182.50       1.01       5.00 500,000.00"
      ]
     },
     "execution_count": 21,
     "metadata": {},
     "output_type": "execute_result"
    }
   ],
   "source": [
    "df[[claim_frequency_name, exposure_name, nb_claims_name, claim_amount_name]].describe()"
   ]
  },
  {
   "cell_type": "code",
   "execution_count": 22,
   "id": "bf1891d2",
   "metadata": {},
   "outputs": [
    {
     "data": {
      "text/html": [
       "<div>\n",
       "<style scoped>\n",
       "    .dataframe tbody tr th:only-of-type {\n",
       "        vertical-align: middle;\n",
       "    }\n",
       "\n",
       "    .dataframe tbody tr th {\n",
       "        vertical-align: top;\n",
       "    }\n",
       "\n",
       "    .dataframe thead th {\n",
       "        text-align: right;\n",
       "    }\n",
       "</style>\n",
       "<table border=\"1\" class=\"dataframe\">\n",
       "  <thead>\n",
       "    <tr style=\"text-align: right;\">\n",
       "      <th></th>\n",
       "      <th>nb_claims</th>\n",
       "      <th>exposure</th>\n",
       "      <th>frequency</th>\n",
       "    </tr>\n",
       "    <tr>\n",
       "      <th>nbrtotc</th>\n",
       "      <th></th>\n",
       "      <th></th>\n",
       "      <th></th>\n",
       "    </tr>\n",
       "  </thead>\n",
       "  <tbody>\n",
       "    <tr>\n",
       "      <th>0</th>\n",
       "      <td>145312</td>\n",
       "      <td>128,595.95</td>\n",
       "      <td>0.00</td>\n",
       "    </tr>\n",
       "    <tr>\n",
       "      <th>1</th>\n",
       "      <td>16602</td>\n",
       "      <td>15,410.32</td>\n",
       "      <td>1.29</td>\n",
       "    </tr>\n",
       "    <tr>\n",
       "      <th>2</th>\n",
       "      <td>1562</td>\n",
       "      <td>1,447.30</td>\n",
       "      <td>2.35</td>\n",
       "    </tr>\n",
       "    <tr>\n",
       "      <th>3</th>\n",
       "      <td>162</td>\n",
       "      <td>150.45</td>\n",
       "      <td>3.40</td>\n",
       "    </tr>\n",
       "    <tr>\n",
       "      <th>4</th>\n",
       "      <td>17</td>\n",
       "      <td>14.33</td>\n",
       "      <td>5.12</td>\n",
       "    </tr>\n",
       "    <tr>\n",
       "      <th>5</th>\n",
       "      <td>2</td>\n",
       "      <td>1.38</td>\n",
       "      <td>7.70</td>\n",
       "    </tr>\n",
       "  </tbody>\n",
       "</table>\n",
       "</div>"
      ],
      "text/plain": [
       "         nb_claims   exposure  frequency\n",
       "nbrtotc                                 \n",
       "0           145312 128,595.95       0.00\n",
       "1            16602  15,410.32       1.29\n",
       "2             1562   1,447.30       2.35\n",
       "3              162     150.45       3.40\n",
       "4               17      14.33       5.12\n",
       "5                2       1.38       7.70"
      ]
     },
     "execution_count": 22,
     "metadata": {},
     "output_type": "execute_result"
    }
   ],
   "source": [
    "df.groupby(nb_claims_name)[nb_claims_name, exposure_name, claim_frequency_name].agg(nb_claims=(nb_claims_name, 'count'),\\\n",
    "                                                                                    exposure=(exposure_name, 'sum'),\\\n",
    "                                                                                    frequency=(claim_frequency_name, 'mean'))"
   ]
  },
  {
   "cell_type": "code",
   "execution_count": 23,
   "id": "6d758cd1",
   "metadata": {},
   "outputs": [
    {
     "data": {
      "image/png": "[encoded data removed]",
      "text/plain": [
       "<Figure size 432x288 with 1 Axes>"
      ]
     },
     "metadata": {
      "needs_background": "light"
     },
     "output_type": "display_data"
    }
   ],
   "source": [
    "plot_avg_target_per_numerical_bin(df, ['AGEPH'], params, target=claim_frequency_name)"
   ]
  },
  {
   "cell_type": "markdown",
   "id": "1d345293",
   "metadata": {},
   "source": [
    "**Some observations:**\n",
    "\n",
    "- The variable `AGEPH` is almost monotonically decreasing, we observe a small bump between 41 and 55 yo."
   ]
  },
  {
   "cell_type": "code",
   "execution_count": 24,
   "id": "a9918126",
   "metadata": {},
   "outputs": [
    {
     "data": {
      "text/html": [
       "<div>\n",
       "<style scoped>\n",
       "    .dataframe tbody tr th:only-of-type {\n",
       "        vertical-align: middle;\n",
       "    }\n",
       "\n",
       "    .dataframe tbody tr th {\n",
       "        vertical-align: top;\n",
       "    }\n",
       "\n",
       "    .dataframe thead th {\n",
       "        text-align: right;\n",
       "    }\n",
       "</style>\n",
       "<table border=\"1\" class=\"dataframe\">\n",
       "  <thead>\n",
       "    <tr style=\"text-align: right;\">\n",
       "      <th></th>\n",
       "      <th>nbrtotc</th>\n",
       "      <th>chargtot</th>\n",
       "    </tr>\n",
       "    <tr>\n",
       "      <th>AGEPH_bin_quantile_based</th>\n",
       "      <th></th>\n",
       "      <th></th>\n",
       "    </tr>\n",
       "  </thead>\n",
       "  <tbody>\n",
       "    <tr>\n",
       "      <th>(16.0, 28.0]</th>\n",
       "      <td>0.19</td>\n",
       "      <td>364.28</td>\n",
       "    </tr>\n",
       "    <tr>\n",
       "      <th>(28.0, 33.0]</th>\n",
       "      <td>0.14</td>\n",
       "      <td>242.43</td>\n",
       "    </tr>\n",
       "    <tr>\n",
       "      <th>(33.0, 37.0]</th>\n",
       "      <td>0.13</td>\n",
       "      <td>159.98</td>\n",
       "    </tr>\n",
       "    <tr>\n",
       "      <th>(37.0, 41.0]</th>\n",
       "      <td>0.12</td>\n",
       "      <td>200.21</td>\n",
       "    </tr>\n",
       "    <tr>\n",
       "      <th>(41.0, 46.0]</th>\n",
       "      <td>0.12</td>\n",
       "      <td>222.06</td>\n",
       "    </tr>\n",
       "    <tr>\n",
       "      <th>(46.0, 50.0]</th>\n",
       "      <td>0.12</td>\n",
       "      <td>182.90</td>\n",
       "    </tr>\n",
       "    <tr>\n",
       "      <th>(50.0, 55.0]</th>\n",
       "      <td>0.11</td>\n",
       "      <td>148.41</td>\n",
       "    </tr>\n",
       "    <tr>\n",
       "      <th>(55.0, 61.0]</th>\n",
       "      <td>0.10</td>\n",
       "      <td>120.31</td>\n",
       "    </tr>\n",
       "    <tr>\n",
       "      <th>(61.0, 68.0]</th>\n",
       "      <td>0.09</td>\n",
       "      <td>112.86</td>\n",
       "    </tr>\n",
       "    <tr>\n",
       "      <th>(68.0, 95.0]</th>\n",
       "      <td>0.09</td>\n",
       "      <td>131.56</td>\n",
       "    </tr>\n",
       "  </tbody>\n",
       "</table>\n",
       "</div>"
      ],
      "text/plain": [
       "                          nbrtotc  chargtot\n",
       "AGEPH_bin_quantile_based                   \n",
       "(16.0, 28.0]                 0.19    364.28\n",
       "(28.0, 33.0]                 0.14    242.43\n",
       "(33.0, 37.0]                 0.13    159.98\n",
       "(37.0, 41.0]                 0.12    200.21\n",
       "(41.0, 46.0]                 0.12    222.06\n",
       "(46.0, 50.0]                 0.12    182.90\n",
       "(50.0, 55.0]                 0.11    148.41\n",
       "(55.0, 61.0]                 0.10    120.31\n",
       "(61.0, 68.0]                 0.09    112.86\n",
       "(68.0, 95.0]                 0.09    131.56"
      ]
     },
     "execution_count": 24,
     "metadata": {},
     "output_type": "execute_result"
    }
   ],
   "source": [
    "get_avg_target_per_numerical_bin(df, 'AGEPH', [nb_claims_name, claim_amount_name])"
   ]
  },
  {
   "cell_type": "markdown",
   "id": "59a9c837",
   "metadata": {},
   "source": [
    "## 1.4 bivariate analysis of categorical data <a name=\"one-four\"></a>"
   ]
  },
  {
   "cell_type": "code",
   "execution_count": 25,
   "id": "c207afcc",
   "metadata": {},
   "outputs": [
    {
     "data": {
      "image/png": "[encoded data removed]",
      "text/plain": [
       "<Figure size 432x288 with 1 Axes>"
      ]
     },
     "metadata": {
      "needs_background": "light"
     },
     "output_type": "display_data"
    },
    {
     "data": {
      "image/png": "[encoded data removed]",
      "text/plain": [
       "<Figure size 432x288 with 1 Axes>"
      ]
     },
     "metadata": {
      "needs_background": "light"
     },
     "output_type": "display_data"
    },
    {
     "data": {
      "image/png": "[encoded data removed]",
      "text/plain": [
       "<Figure size 432x288 with 1 Axes>"
      ]
     },
     "metadata": {
      "needs_background": "light"
     },
     "output_type": "display_data"
    },
    {
     "data": {
      "image/png": "[encoded data removed]",
      "text/plain": [
       "<Figure size 432x288 with 1 Axes>"
      ]
     },
     "metadata": {
      "needs_background": "light"
     },
     "output_type": "display_data"
    },
    {
     "data": {
      "image/png": "[encoded data removed]",
      "text/plain": [
       "<Figure size 432x288 with 1 Axes>"
      ]
     },
     "metadata": {
      "needs_background": "light"
     },
     "output_type": "display_data"
    },
    {
     "data": {
      "image/png": "[encoded data removed]",
      "text/plain": [
       "<Figure size 432x288 with 1 Axes>"
      ]
     },
     "metadata": {
      "needs_background": "light"
     },
     "output_type": "display_data"
    },
    {
     "data": {
      "image/png": "[encoded data removed]",
      "text/plain": [
       "<Figure size 432x288 with 1 Axes>"
      ]
     },
     "metadata": {
      "needs_background": "light"
     },
     "output_type": "display_data"
    },
    {
     "data": {
      "image/png": "[encoded data removed]",
      "text/plain": [
       "<Figure size 432x288 with 1 Axes>"
      ]
     },
     "metadata": {
      "needs_background": "light"
     },
     "output_type": "display_data"
    },
    {
     "data": {
      "image/png": "[encoded data removed]",
      "text/plain": [
       "<Figure size 432x288 with 1 Axes>"
      ]
     },
     "metadata": {
      "needs_background": "light"
     },
     "output_type": "display_data"
    },
    {
     "data": {
      "image/png": "[encoded data removed]",
      "text/plain": [
       "<Figure size 432x288 with 1 Axes>"
      ]
     },
     "metadata": {
      "needs_background": "light"
     },
     "output_type": "display_data"
    }
   ],
   "source": [
    "plt_avg_target_per_category(df, categorical_variables, params, target=claim_frequency_name)"
   ]
  },
  {
   "cell_type": "markdown",
   "id": "36be9af7",
   "metadata": {},
   "source": [
    "**Some observations:**\n",
    "\n",
    "- Difficult to interpret anything based on the `CODPOSS`, later on we will try to map this data to district information \n",
    "- `AGECAR`: it looks like it has a slight monotonic decreasing relationship between the claim frequency and `AGECAR`\n",
    "- `SEXP_female` is slightly riskier group than `SEXP_male` when took alone.\n",
    "- `FUELC_petrol` is slightly less risky group than `FUELC_gasoil` when took alone.\n",
    "- `SPLIT`: Policyholders who pay their coverage by Thrice are riskier tham the Once.\n",
    "- `USEC`: Professional and Private use do not seem to be significantly different.\n",
    "- `FLEETC`: The fleet group is less risky.\n",
    "- `SPORTC`: The sport group is riskier.\n",
    "- `COVERP`: difficult to draw any conclusions.\n",
    "- `POWERC`: It looks like the more power, the riskier although it is not absolutely clear."
   ]
  },
  {
   "cell_type": "code",
   "execution_count": 26,
   "id": "dc6729b1",
   "metadata": {},
   "outputs": [
    {
     "name": "stdout",
     "output_type": "stream",
     "text": [
      "         claim_frequency  nbrtotc  chargtot\n",
      "CODPOSS                                    \n",
      "6637                0.33     0.30     46.71\n",
      "1210                0.45     0.29    285.30\n",
      "1040                0.34     0.25    453.85\n",
      "3040                0.37     0.25    333.48\n",
      "3790                0.32     0.25    240.45\n",
      "...                  ...      ...       ...\n",
      "6887                0.00     0.00      0.00\n",
      "6890                0.00     0.00      0.00\n",
      "6970                0.00     0.00      0.00\n",
      "8920                0.00     0.00      0.00\n",
      "8957                0.00     0.00      0.00\n",
      "\n",
      "[583 rows x 3 columns]\n",
      "----------------------------------------------------------------------------------------------------\n",
      "        claim_frequency  nbrtotc  chargtot\n",
      "agecar                                    \n",
      "0-1                0.19     0.14    254.40\n",
      ">10                0.18     0.13    201.37\n",
      "6-10               0.16     0.13    197.88\n",
      "2-5                0.14     0.12    168.18\n",
      "----------------------------------------------------------------------------------------------------\n",
      "        claim_frequency  nbrtotc  chargtot\n",
      "sexp                                      \n",
      "Female             0.17     0.13    216.66\n",
      "Male               0.15     0.12    183.15\n",
      "----------------------------------------------------------------------------------------------------\n",
      "        claim_frequency  nbrtotc  chargtot\n",
      "fuelc                                     \n",
      "Gasoil             0.18     0.14    199.98\n",
      "Petrol             0.15     0.12    188.44\n",
      "----------------------------------------------------------------------------------------------------\n",
      "         claim_frequency  nbrtotc  chargtot\n",
      "split                                      \n",
      "Thrice              0.24     0.17    275.78\n",
      "Twice               0.16     0.13    176.21\n",
      "Monthly             0.20     0.13    216.16\n",
      "Once                0.13     0.11    180.93\n",
      "----------------------------------------------------------------------------------------------------\n",
      "              claim_frequency  nbrtotc  chargtot\n",
      "usec                                            \n",
      "Professional             0.16     0.12    180.63\n",
      "Private                  0.16     0.12    192.58\n",
      "----------------------------------------------------------------------------------------------------\n",
      "        claim_frequency  nbrtotc  chargtot\n",
      "fleetc                                    \n",
      "No                 0.16     0.12    193.89\n",
      "Yes                0.12     0.11    134.55\n",
      "----------------------------------------------------------------------------------------------------\n",
      "        claim_frequency  nbrtotc  chargtot\n",
      "sportc                                    \n",
      "Yes                0.21     0.15    236.33\n",
      "No                 0.16     0.12    191.59\n",
      "----------------------------------------------------------------------------------------------------\n",
      "         claim_frequency  nbrtotc  chargtot\n",
      "coverp                                     \n",
      "MTPL                0.17     0.13    205.67\n",
      "MTPL+++             0.14     0.12    222.38\n",
      "MTPL+               0.14     0.12    149.05\n",
      "----------------------------------------------------------------------------------------------------\n",
      "        claim_frequency  nbrtotc  chargtot\n",
      "powerc                                    \n",
      ">110               0.17     0.14    323.30\n",
      "66-110             0.16     0.13    214.53\n",
      "<66                0.16     0.12    182.24\n",
      "----------------------------------------------------------------------------------------------------\n"
     ]
    }
   ],
   "source": [
    "for cat_var in categorical_variables:\n",
    "    print(df.groupby(cat_var)[[claim_frequency_name,nb_claims_name, claim_amount_name]].mean().sort_values(by=[nb_claims_name, claim_amount_name], ascending=False))\n",
    "    print('-'*100)"
   ]
  },
  {
   "cell_type": "code",
   "execution_count": 27,
   "id": "18f33059",
   "metadata": {},
   "outputs": [
    {
     "data": {
      "text/html": [
       "<div>\n",
       "<style scoped>\n",
       "    .dataframe tbody tr th:only-of-type {\n",
       "        vertical-align: middle;\n",
       "    }\n",
       "\n",
       "    .dataframe tbody tr th {\n",
       "        vertical-align: top;\n",
       "    }\n",
       "\n",
       "    .dataframe thead th {\n",
       "        text-align: right;\n",
       "    }\n",
       "</style>\n",
       "<table border=\"1\" class=\"dataframe\">\n",
       "  <thead>\n",
       "    <tr style=\"text-align: right;\">\n",
       "      <th></th>\n",
       "      <th>Code</th>\n",
       "      <th>Localite</th>\n",
       "      <th>Longitude</th>\n",
       "      <th>Latitude</th>\n",
       "      <th>Coordonnees</th>\n",
       "      <th>Geom</th>\n",
       "    </tr>\n",
       "  </thead>\n",
       "  <tbody>\n",
       "    <tr>\n",
       "      <th>0</th>\n",
       "      <td>1050</td>\n",
       "      <td>Ixelles</td>\n",
       "      <td>4.38</td>\n",
       "      <td>50.82</td>\n",
       "      <td>50.8222854,4.3815707</td>\n",
       "      <td>NaN</td>\n",
       "    </tr>\n",
       "    <tr>\n",
       "      <th>1</th>\n",
       "      <td>1081</td>\n",
       "      <td>Koekelberg</td>\n",
       "      <td>4.33</td>\n",
       "      <td>50.86</td>\n",
       "      <td>50.8622633,4.3257084</td>\n",
       "      <td>NaN</td>\n",
       "    </tr>\n",
       "    <tr>\n",
       "      <th>2</th>\n",
       "      <td>1130</td>\n",
       "      <td>Haren</td>\n",
       "      <td>4.41</td>\n",
       "      <td>50.89</td>\n",
       "      <td>50.8919661,4.41257087324</td>\n",
       "      <td>NaN</td>\n",
       "    </tr>\n",
       "  </tbody>\n",
       "</table>\n",
       "</div>"
      ],
      "text/plain": [
       "   Code    Localite  Longitude  Latitude               Coordonnees  Geom\n",
       "0  1050     Ixelles       4.38     50.82      50.8222854,4.3815707   NaN\n",
       "1  1081  Koekelberg       4.33     50.86      50.8622633,4.3257084   NaN\n",
       "2  1130       Haren       4.41     50.89  50.8919661,4.41257087324   NaN"
      ]
     },
     "execution_count": 27,
     "metadata": {},
     "output_type": "execute_result"
    }
   ],
   "source": [
    "# processing postcode data\n",
    "postcode_mapping = pd.read_csv(params.get(Constants.LINK_TO_POSTAL_CODE_MAPPING), delimiter=';')\n",
    "postcode_mapping.head(3)"
   ]
  },
  {
   "cell_type": "code",
   "execution_count": 28,
   "id": "fb89f248",
   "metadata": {},
   "outputs": [],
   "source": [
    "postcode_mapping['Code'] = postcode_mapping['Code'].astype('str')"
   ]
  },
  {
   "cell_type": "code",
   "execution_count": 29,
   "id": "e83096e2",
   "metadata": {},
   "outputs": [],
   "source": [
    "postcode_mapping_dic = {}\n",
    "for code, district in zip(postcode_mapping.Code, postcode_mapping.Localite):\n",
    "    if code not in postcode_mapping:\n",
    "        postcode_mapping_dic[code]= district"
   ]
  },
  {
   "cell_type": "code",
   "execution_count": 30,
   "id": "032b4e7f",
   "metadata": {},
   "outputs": [],
   "source": [
    "df['district'] = df.CODPOSS.replace(postcode_mapping_dic)"
   ]
  },
  {
   "cell_type": "code",
   "execution_count": 31,
   "id": "30c8af14",
   "metadata": {},
   "outputs": [],
   "source": [
    "avg_claim_per_district = df.groupby('district')[[claim_frequency_name,nb_claims_name, claim_amount_name]].mean().sort_values(by=[claim_frequency_name, claim_amount_name], ascending=False)"
   ]
  },
  {
   "cell_type": "code",
   "execution_count": 32,
   "id": "7f9a6bf3",
   "metadata": {},
   "outputs": [
    {
     "data": {
      "text/plain": [
       "Text(0, 0.5, 'claim frequency')"
      ]
     },
     "execution_count": 32,
     "metadata": {},
     "output_type": "execute_result"
    },
    {
     "data": {
      "image/png": "[encoded data removed]",
      "text/plain": [
       "<Figure size 576x576 with 1 Axes>"
      ]
     },
     "metadata": {
      "needs_background": "light"
     },
     "output_type": "display_data"
    }
   ],
   "source": [
    "avg_claim_per_district.head(20)[[claim_frequency_name, nb_claims_name]].sort_values(by=claim_frequency_name).plot.barh(figsize=(8,8))\n",
    "plt.title('Top 20 highest frequency districts')\n",
    "plt.ylabel('claim frequency')"
   ]
  },
  {
   "cell_type": "markdown",
   "id": "8b17cf1f",
   "metadata": {},
   "source": [
    "A lot of riskier district are from **Bruxelles** (ex: Sint-Josse, Schaerbeek, Etterbeek, Saint-Gilles, Uccle, Molenbeek, Woluwe, Ixelles)"
   ]
  },
  {
   "cell_type": "code",
   "execution_count": 33,
   "id": "8c77e4aa",
   "metadata": {},
   "outputs": [
    {
     "data": {
      "text/plain": [
       "Text(0, 0.5, 'claim frequency')"
      ]
     },
     "execution_count": 33,
     "metadata": {},
     "output_type": "execute_result"
    },
    {
     "data": {
      "image/png": "[encoded data removed]",
      "text/plain": [
       "<Figure size 432x288 with 1 Axes>"
      ]
     },
     "metadata": {
      "needs_background": "light"
     },
     "output_type": "display_data"
    }
   ],
   "source": [
    "avg_claim_per_district.tail(20)[[claim_frequency_name, nb_claims_name]].plot.bar()\n",
    "plt.title('Top 20 lowest frequency districts')\n",
    "plt.ylabel('claim frequency')"
   ]
  },
  {
   "cell_type": "code",
   "execution_count": 34,
   "id": "00013038",
   "metadata": {},
   "outputs": [],
   "source": [
    "#TODO: check the interactions between variables (probably interaction between age and sex and other properties of the car)"
   ]
  },
  {
   "cell_type": "markdown",
   "id": "619cb815",
   "metadata": {},
   "source": [
    "# 2. Feature Engineering <a name=\"two\"></a>"
   ]
  },
  {
   "cell_type": "markdown",
   "id": "f95bd3b9",
   "metadata": {},
   "source": [
    "We decide to work only with categorical variables in order for faciliate the interpretation. "
   ]
  },
  {
   "cell_type": "code",
   "execution_count": 35,
   "id": "489de050",
   "metadata": {},
   "outputs": [],
   "source": [
    "for cat_var in categorical_variables:\n",
    "    df[cat_var] = pd.Categorical(df[cat_var])\n",
    "for num_var in numerical_variables:\n",
    "    df[num_var] = pd.to_numeric(df[num_var])"
   ]
  },
  {
   "cell_type": "code",
   "execution_count": 36,
   "id": "e4b2224e",
   "metadata": {},
   "outputs": [],
   "source": [
    "df, risk_group_mapping = apply_mean_hot_categorical_encoding(df, \n",
    "                                                             claim_frequency_name, \n",
    "                                                             'district', nb_bin=3) \n",
    "#, risk_groups = ['A', 'B', 'C', 'D', 'E'])"
   ]
  },
  {
   "cell_type": "markdown",
   "id": "9a89366f",
   "metadata": {},
   "source": [
    "In order to reduce the dimensionality, we proceed to a **mean-hot categorical encoding**. Based on the claim frequency, we want create three categories *high*, *medium* and *low* risk groups."
   ]
  },
  {
   "cell_type": "code",
   "execution_count": 37,
   "id": "2c46b1f2",
   "metadata": {},
   "outputs": [
    {
     "name": "stdout",
     "output_type": "stream",
     "text": [
      "'s Gravenwezel ---> high\n",
      "Aalst ---> high\n",
      "Aartselaar ---> medium\n",
      "Aiseau ---> medium\n",
      "Alken ---> medium\n",
      "Alveringem ---> high\n",
      "Anderlecht ---> high\n",
      "Anderlues ---> medium\n",
      "Anloy ---> low\n",
      "Ans ---> medium\n",
      "Anthisnes ---> low\n",
      "Anthée ---> low\n",
      "Antoing ---> low\n",
      "Antwerpen ---> high\n",
      "Anvaing ---> high\n",
      "Arbrefontaine ---> medium\n",
      "Ardooie ---> medium\n",
      "Arendonk ---> low\n",
      "As ---> high\n",
      "Assenede ---> low\n",
      "Assent ---> medium\n"
     ]
    }
   ],
   "source": [
    "for i,(district, risk_group) in enumerate(risk_group_mapping.items()):\n",
    "    if i >20:\n",
    "        break\n",
    "    print(f'{district} ---> {risk_group}')\n",
    "        "
   ]
  },
  {
   "cell_type": "markdown",
   "id": "1efdfb17",
   "metadata": {},
   "source": [
    "In order for our algorithm/model to correctly read the information we feed it, the data needs to be numerically encoded. To keep things simple, suppose we had a vector of the age of policyholder as follow with minimum and maximum age going from 0 to 100:\n",
    "\n",
    "age = (90, 20, 30, 60, 79)\n",
    "\n",
    "We apply quantile binning method such that such vector will be transformed in such a matrice:\n"
   ]
  },
  {
   "cell_type": "code",
   "execution_count": 38,
   "id": "e86f0e23",
   "metadata": {},
   "outputs": [],
   "source": [
    "age_transformed = pd.DataFrame.from_dict({'[0-20)':[0,0,0,0,0],\n",
    "                                          '[20-40)':[0, 1, 1, 0,0],\n",
    "                                        '[40-60)':[0,0,0,0,0],\n",
    "                                        '[60-80)':[0,0,0,1,1],\n",
    "                                        '[80-100]':[1,0,0,0,0]})"
   ]
  },
  {
   "cell_type": "code",
   "execution_count": 39,
   "id": "350d7029",
   "metadata": {},
   "outputs": [],
   "source": [
    "age_transformed.index = [90, 20, 30, 60, 79]"
   ]
  },
  {
   "cell_type": "code",
   "execution_count": 40,
   "id": "a24672e4",
   "metadata": {},
   "outputs": [
    {
     "data": {
      "text/html": [
       "<div>\n",
       "<style scoped>\n",
       "    .dataframe tbody tr th:only-of-type {\n",
       "        vertical-align: middle;\n",
       "    }\n",
       "\n",
       "    .dataframe tbody tr th {\n",
       "        vertical-align: top;\n",
       "    }\n",
       "\n",
       "    .dataframe thead th {\n",
       "        text-align: right;\n",
       "    }\n",
       "</style>\n",
       "<table border=\"1\" class=\"dataframe\">\n",
       "  <thead>\n",
       "    <tr style=\"text-align: right;\">\n",
       "      <th></th>\n",
       "      <th>[0-20)</th>\n",
       "      <th>[20-40)</th>\n",
       "      <th>[40-60)</th>\n",
       "      <th>[60-80)</th>\n",
       "      <th>[80-100]</th>\n",
       "    </tr>\n",
       "  </thead>\n",
       "  <tbody>\n",
       "    <tr>\n",
       "      <th>90</th>\n",
       "      <td>0</td>\n",
       "      <td>0</td>\n",
       "      <td>0</td>\n",
       "      <td>0</td>\n",
       "      <td>1</td>\n",
       "    </tr>\n",
       "    <tr>\n",
       "      <th>20</th>\n",
       "      <td>0</td>\n",
       "      <td>1</td>\n",
       "      <td>0</td>\n",
       "      <td>0</td>\n",
       "      <td>0</td>\n",
       "    </tr>\n",
       "    <tr>\n",
       "      <th>30</th>\n",
       "      <td>0</td>\n",
       "      <td>1</td>\n",
       "      <td>0</td>\n",
       "      <td>0</td>\n",
       "      <td>0</td>\n",
       "    </tr>\n",
       "    <tr>\n",
       "      <th>60</th>\n",
       "      <td>0</td>\n",
       "      <td>0</td>\n",
       "      <td>0</td>\n",
       "      <td>1</td>\n",
       "      <td>0</td>\n",
       "    </tr>\n",
       "    <tr>\n",
       "      <th>79</th>\n",
       "      <td>0</td>\n",
       "      <td>0</td>\n",
       "      <td>0</td>\n",
       "      <td>1</td>\n",
       "      <td>0</td>\n",
       "    </tr>\n",
       "  </tbody>\n",
       "</table>\n",
       "</div>"
      ],
      "text/plain": [
       "    [0-20)  [20-40)  [40-60)  [60-80)  [80-100]\n",
       "90       0        0        0        0         1\n",
       "20       0        1        0        0         0\n",
       "30       0        1        0        0         0\n",
       "60       0        0        0        1         0\n",
       "79       0        0        0        1         0"
      ]
     },
     "execution_count": 40,
     "metadata": {},
     "output_type": "execute_result"
    }
   ],
   "source": [
    "age_transformed"
   ]
  },
  {
   "cell_type": "code",
   "execution_count": 41,
   "id": "21dfa2ef",
   "metadata": {},
   "outputs": [],
   "source": [
    "df = bin_numerical_variables(df, 'AGEPH', nb_bin=5)"
   ]
  },
  {
   "cell_type": "markdown",
   "id": "4fd8b023",
   "metadata": {},
   "source": []
  },
  {
   "cell_type": "code",
   "execution_count": 42,
   "id": "a9a030c2",
   "metadata": {},
   "outputs": [
    {
     "data": {
      "text/html": [
       "<div>\n",
       "<style scoped>\n",
       "    .dataframe tbody tr th:only-of-type {\n",
       "        vertical-align: middle;\n",
       "    }\n",
       "\n",
       "    .dataframe tbody tr th {\n",
       "        vertical-align: top;\n",
       "    }\n",
       "\n",
       "    .dataframe thead th {\n",
       "        text-align: right;\n",
       "    }\n",
       "</style>\n",
       "<table border=\"1\" class=\"dataframe\">\n",
       "  <thead>\n",
       "    <tr style=\"text-align: right;\">\n",
       "      <th></th>\n",
       "      <th>AGEPH</th>\n",
       "      <th>CODPOSS</th>\n",
       "      <th>duree</th>\n",
       "      <th>lnexpo</th>\n",
       "      <th>nbrtotc</th>\n",
       "      <th>nbrtotan</th>\n",
       "      <th>chargtot</th>\n",
       "      <th>agecar</th>\n",
       "      <th>sexp</th>\n",
       "      <th>fuelc</th>\n",
       "      <th>split</th>\n",
       "      <th>usec</th>\n",
       "      <th>fleetc</th>\n",
       "      <th>sportc</th>\n",
       "      <th>coverp</th>\n",
       "      <th>powerc</th>\n",
       "      <th>claim_frequency</th>\n",
       "      <th>district</th>\n",
       "      <th>district_risk_group</th>\n",
       "      <th>AGEPH_bin</th>\n",
       "    </tr>\n",
       "  </thead>\n",
       "  <tbody>\n",
       "    <tr>\n",
       "      <th>0</th>\n",
       "      <td>64</td>\n",
       "      <td>1000</td>\n",
       "      <td>1.00</td>\n",
       "      <td>0.00</td>\n",
       "      <td>0</td>\n",
       "      <td>0.00</td>\n",
       "      <td>0.00</td>\n",
       "      <td>2-5</td>\n",
       "      <td>Female</td>\n",
       "      <td>Petrol</td>\n",
       "      <td>Once</td>\n",
       "      <td>Private</td>\n",
       "      <td>No</td>\n",
       "      <td>No</td>\n",
       "      <td>MTPL+</td>\n",
       "      <td>66-110</td>\n",
       "      <td>0.00</td>\n",
       "      <td>Bruxelles</td>\n",
       "      <td>high</td>\n",
       "      <td>(61.0, 95.0]</td>\n",
       "    </tr>\n",
       "    <tr>\n",
       "      <th>1</th>\n",
       "      <td>28</td>\n",
       "      <td>1000</td>\n",
       "      <td>0.05</td>\n",
       "      <td>-3.07</td>\n",
       "      <td>1</td>\n",
       "      <td>21.47</td>\n",
       "      <td>155.97</td>\n",
       "      <td>6-10</td>\n",
       "      <td>Female</td>\n",
       "      <td>Petrol</td>\n",
       "      <td>Twice</td>\n",
       "      <td>Private</td>\n",
       "      <td>No</td>\n",
       "      <td>No</td>\n",
       "      <td>MTPL</td>\n",
       "      <td>66-110</td>\n",
       "      <td>21.47</td>\n",
       "      <td>Bruxelles</td>\n",
       "      <td>high</td>\n",
       "      <td>(16.999, 33.0]</td>\n",
       "    </tr>\n",
       "    <tr>\n",
       "      <th>2</th>\n",
       "      <td>58</td>\n",
       "      <td>1000</td>\n",
       "      <td>0.40</td>\n",
       "      <td>-0.91</td>\n",
       "      <td>0</td>\n",
       "      <td>0.00</td>\n",
       "      <td>0.00</td>\n",
       "      <td>&gt;10</td>\n",
       "      <td>Female</td>\n",
       "      <td>Petrol</td>\n",
       "      <td>Thrice</td>\n",
       "      <td>Private</td>\n",
       "      <td>No</td>\n",
       "      <td>No</td>\n",
       "      <td>MTPL</td>\n",
       "      <td>&lt;66</td>\n",
       "      <td>0.00</td>\n",
       "      <td>Bruxelles</td>\n",
       "      <td>high</td>\n",
       "      <td>(50.0, 61.0]</td>\n",
       "    </tr>\n",
       "    <tr>\n",
       "      <th>3</th>\n",
       "      <td>37</td>\n",
       "      <td>1030</td>\n",
       "      <td>0.17</td>\n",
       "      <td>-1.77</td>\n",
       "      <td>0</td>\n",
       "      <td>0.00</td>\n",
       "      <td>0.00</td>\n",
       "      <td>2-5</td>\n",
       "      <td>Female</td>\n",
       "      <td>Petrol</td>\n",
       "      <td>Once</td>\n",
       "      <td>Professional</td>\n",
       "      <td>No</td>\n",
       "      <td>No</td>\n",
       "      <td>MTPL+++</td>\n",
       "      <td>66-110</td>\n",
       "      <td>0.00</td>\n",
       "      <td>Schaerbeek</td>\n",
       "      <td>high</td>\n",
       "      <td>(33.0, 41.0]</td>\n",
       "    </tr>\n",
       "    <tr>\n",
       "      <th>4</th>\n",
       "      <td>29</td>\n",
       "      <td>1030</td>\n",
       "      <td>1.00</td>\n",
       "      <td>0.00</td>\n",
       "      <td>0</td>\n",
       "      <td>0.00</td>\n",
       "      <td>0.00</td>\n",
       "      <td>6-10</td>\n",
       "      <td>Female</td>\n",
       "      <td>Petrol</td>\n",
       "      <td>Once</td>\n",
       "      <td>Private</td>\n",
       "      <td>No</td>\n",
       "      <td>No</td>\n",
       "      <td>MTPL+</td>\n",
       "      <td>&lt;66</td>\n",
       "      <td>0.00</td>\n",
       "      <td>Schaerbeek</td>\n",
       "      <td>high</td>\n",
       "      <td>(16.999, 33.0]</td>\n",
       "    </tr>\n",
       "  </tbody>\n",
       "</table>\n",
       "</div>"
      ],
      "text/plain": [
       "   AGEPH CODPOSS  duree  lnexpo  nbrtotc  nbrtotan  chargtot agecar    sexp  \\\n",
       "0     64    1000   1.00    0.00        0      0.00      0.00    2-5  Female   \n",
       "1     28    1000   0.05   -3.07        1     21.47    155.97   6-10  Female   \n",
       "2     58    1000   0.40   -0.91        0      0.00      0.00    >10  Female   \n",
       "3     37    1030   0.17   -1.77        0      0.00      0.00    2-5  Female   \n",
       "4     29    1030   1.00    0.00        0      0.00      0.00   6-10  Female   \n",
       "\n",
       "    fuelc   split          usec fleetc sportc   coverp  powerc  \\\n",
       "0  Petrol    Once       Private     No     No    MTPL+  66-110   \n",
       "1  Petrol   Twice       Private     No     No     MTPL  66-110   \n",
       "2  Petrol  Thrice       Private     No     No     MTPL     <66   \n",
       "3  Petrol    Once  Professional     No     No  MTPL+++  66-110   \n",
       "4  Petrol    Once       Private     No     No    MTPL+     <66   \n",
       "\n",
       "   claim_frequency    district district_risk_group       AGEPH_bin  \n",
       "0             0.00   Bruxelles                high    (61.0, 95.0]  \n",
       "1            21.47   Bruxelles                high  (16.999, 33.0]  \n",
       "2             0.00   Bruxelles                high    (50.0, 61.0]  \n",
       "3             0.00  Schaerbeek                high    (33.0, 41.0]  \n",
       "4             0.00  Schaerbeek                high  (16.999, 33.0]  "
      ]
     },
     "execution_count": 42,
     "metadata": {},
     "output_type": "execute_result"
    }
   ],
   "source": [
    "df.head()"
   ]
  },
  {
   "cell_type": "code",
   "execution_count": 43,
   "id": "f785bcde",
   "metadata": {},
   "outputs": [
    {
     "data": {
      "text/plain": [
       "AGEPH                     int64\n",
       "CODPOSS                category\n",
       "duree                   float64\n",
       "lnexpo                  float64\n",
       "nbrtotc                   int64\n",
       "nbrtotan                float64\n",
       "chargtot                float64\n",
       "agecar                 category\n",
       "sexp                   category\n",
       "fuelc                  category\n",
       "split                  category\n",
       "usec                   category\n",
       "fleetc                 category\n",
       "sportc                 category\n",
       "coverp                 category\n",
       "powerc                 category\n",
       "claim_frequency         float64\n",
       "district                 object\n",
       "district_risk_group    category\n",
       "AGEPH_bin              category\n",
       "dtype: object"
      ]
     },
     "execution_count": 43,
     "metadata": {},
     "output_type": "execute_result"
    }
   ],
   "source": [
    "df.dtypes"
   ]
  },
  {
   "cell_type": "markdown",
   "id": "583c73c6",
   "metadata": {},
   "source": [
    "## 2.1 Processing with Binning continuous variables <a name=\"two-one\"></a>"
   ]
  },
  {
   "cell_type": "code",
   "execution_count": 44,
   "id": "0ebed6ca",
   "metadata": {},
   "outputs": [],
   "source": [
    "test_size, random_state = params.get(Constants.TEST_SIZE), params.get(Constants.RANDOM_STATE)"
   ]
  },
  {
   "cell_type": "code",
   "execution_count": 45,
   "id": "04c5058e",
   "metadata": {},
   "outputs": [],
   "source": [
    "df_cp = df.copy()"
   ]
  },
  {
   "cell_type": "code",
   "execution_count": 46,
   "id": "9603ed10",
   "metadata": {},
   "outputs": [
    {
     "data": {
      "text/plain": [
       "Index(['AGEPH', 'CODPOSS', 'duree', 'lnexpo', 'nbrtotc', 'nbrtotan',\n",
       "       'chargtot', 'agecar', 'sexp', 'fuelc', 'split', 'usec', 'fleetc',\n",
       "       'sportc', 'coverp', 'powerc', 'claim_frequency', 'district',\n",
       "       'district_risk_group', 'AGEPH_bin'],\n",
       "      dtype='object')"
      ]
     },
     "execution_count": 46,
     "metadata": {},
     "output_type": "execute_result"
    }
   ],
   "source": [
    "df.columns"
   ]
  },
  {
   "cell_type": "code",
   "execution_count": 47,
   "id": "a4d1f4ed",
   "metadata": {},
   "outputs": [],
   "source": [
    "#nb_claims, claim_amount, claim_frequency = df[nb_claims_name], df[claim_amount_name], df[claim_frequency_name]\n",
    "#exposure = df[exposure_name]"
   ]
  },
  {
   "cell_type": "code",
   "execution_count": 48,
   "id": "a26b83b6",
   "metadata": {},
   "outputs": [],
   "source": [
    "non_predictor_variables = [\n",
    "                         #claim_amount_name, \\\n",
    "                         #  claim_frequency_name, \\\n",
    "                      #     nb_claims_name,\n",
    "                           'nbrtotan',\n",
    "                           'district',\n",
    "                           'CODPOSS',\n",
    "                            'AGEPH',\n",
    "                           *params.get(Constants.VARIABLES_TO_EXCLUDE)]"
   ]
  },
  {
   "cell_type": "code",
   "execution_count": 49,
   "id": "47630b6b",
   "metadata": {},
   "outputs": [],
   "source": [
    "df_step1 =df.drop(columns=non_predictor_variables)"
   ]
  },
  {
   "cell_type": "code",
   "execution_count": 50,
   "id": "a719b6a2",
   "metadata": {},
   "outputs": [
    {
     "data": {
      "text/plain": [
       "Index(['duree', 'nbrtotc', 'chargtot', 'agecar', 'sexp', 'fuelc', 'split',\n",
       "       'usec', 'fleetc', 'sportc', 'coverp', 'powerc', 'claim_frequency',\n",
       "       'district_risk_group', 'AGEPH_bin'],\n",
       "      dtype='object')"
      ]
     },
     "execution_count": 50,
     "metadata": {},
     "output_type": "execute_result"
    }
   ],
   "source": [
    "df_step1.columns"
   ]
  },
  {
   "cell_type": "code",
   "execution_count": 51,
   "id": "b9f84893",
   "metadata": {},
   "outputs": [
    {
     "data": {
      "text/plain": [
       "duree                   float64\n",
       "nbrtotc                   int64\n",
       "chargtot                float64\n",
       "agecar                 category\n",
       "sexp                   category\n",
       "fuelc                  category\n",
       "split                  category\n",
       "usec                   category\n",
       "fleetc                 category\n",
       "sportc                 category\n",
       "coverp                 category\n",
       "powerc                 category\n",
       "claim_frequency         float64\n",
       "district_risk_group    category\n",
       "AGEPH_bin              category\n",
       "dtype: object"
      ]
     },
     "execution_count": 51,
     "metadata": {},
     "output_type": "execute_result"
    }
   ],
   "source": [
    "df_step1.dtypes"
   ]
  },
  {
   "cell_type": "code",
   "execution_count": 52,
   "id": "f0c564fa",
   "metadata": {},
   "outputs": [
    {
     "data": {
      "text/html": [
       "<div>\n",
       "<style scoped>\n",
       "    .dataframe tbody tr th:only-of-type {\n",
       "        vertical-align: middle;\n",
       "    }\n",
       "\n",
       "    .dataframe tbody tr th {\n",
       "        vertical-align: top;\n",
       "    }\n",
       "\n",
       "    .dataframe thead th {\n",
       "        text-align: right;\n",
       "    }\n",
       "</style>\n",
       "<table border=\"1\" class=\"dataframe\">\n",
       "  <thead>\n",
       "    <tr style=\"text-align: right;\">\n",
       "      <th></th>\n",
       "      <th>nb_unique_categories</th>\n",
       "      <th>distribution</th>\n",
       "    </tr>\n",
       "  </thead>\n",
       "  <tbody>\n",
       "    <tr>\n",
       "      <th>agecar</th>\n",
       "      <td>4</td>\n",
       "      <td>{'6-10': '41.03%', '2-5': '31.50%', '&gt;10': '22.72%', '0-1': '4.75%'}</td>\n",
       "    </tr>\n",
       "    <tr>\n",
       "      <th>sexp</th>\n",
       "      <td>2</td>\n",
       "      <td>{'Male': '73.59%', 'Female': '26.41%'}</td>\n",
       "    </tr>\n",
       "    <tr>\n",
       "      <th>fuelc</th>\n",
       "      <td>2</td>\n",
       "      <td>{'Petrol': '69.18%', 'Gasoil': '30.82%'}</td>\n",
       "    </tr>\n",
       "    <tr>\n",
       "      <th>split</th>\n",
       "      <td>4</td>\n",
       "      <td>{'Once': '49.79%', 'Twice': '28.08%', 'Monthly': '14.42%', 'Thrice': '7.71%'}</td>\n",
       "    </tr>\n",
       "    <tr>\n",
       "      <th>usec</th>\n",
       "      <td>2</td>\n",
       "      <td>{'Private': '95.11%', 'Professional': '4.89%'}</td>\n",
       "    </tr>\n",
       "    <tr>\n",
       "      <th>fleetc</th>\n",
       "      <td>2</td>\n",
       "      <td>{'No': '96.80%', 'Yes': '3.20%'}</td>\n",
       "    </tr>\n",
       "    <tr>\n",
       "      <th>sportc</th>\n",
       "      <td>2</td>\n",
       "      <td>{'No': '99.08%', 'Yes': '0.92%'}</td>\n",
       "    </tr>\n",
       "    <tr>\n",
       "      <th>coverp</th>\n",
       "      <td>3</td>\n",
       "      <td>{'MTPL': '58.30%', 'MTPL+': '28.15%', 'MTPL+++': '13.55%'}</td>\n",
       "    </tr>\n",
       "    <tr>\n",
       "      <th>powerc</th>\n",
       "      <td>3</td>\n",
       "      <td>{'&lt;66': '73.21%', '66-110': '25.78%', '&gt;110': '1.01%'}</td>\n",
       "    </tr>\n",
       "    <tr>\n",
       "      <th>district_risk_group</th>\n",
       "      <td>3</td>\n",
       "      <td>{'high': '45.56%', 'medium': '35.31%', 'low': '19.13%'}</td>\n",
       "    </tr>\n",
       "    <tr>\n",
       "      <th>AGEPH_bin</th>\n",
       "      <td>5</td>\n",
       "      <td>{'(16.999, 33.0]': '21.56%', '(41.0, 50.0]': '21.29%', '(61.0, 95.0]': '19.62%', '(50.0, 61.0]': '18.80%', '(33.0, 41.0]': '18.73%'}</td>\n",
       "    </tr>\n",
       "  </tbody>\n",
       "</table>\n",
       "</div>"
      ],
      "text/plain": [
       "                     nb_unique_categories  \\\n",
       "agecar                                  4   \n",
       "sexp                                    2   \n",
       "fuelc                                   2   \n",
       "split                                   4   \n",
       "usec                                    2   \n",
       "fleetc                                  2   \n",
       "sportc                                  2   \n",
       "coverp                                  3   \n",
       "powerc                                  3   \n",
       "district_risk_group                     3   \n",
       "AGEPH_bin                               5   \n",
       "\n",
       "                                                                                                                                             distribution  \n",
       "agecar                                                                               {'6-10': '41.03%', '2-5': '31.50%', '>10': '22.72%', '0-1': '4.75%'}  \n",
       "sexp                                                                                                               {'Male': '73.59%', 'Female': '26.41%'}  \n",
       "fuelc                                                                                                            {'Petrol': '69.18%', 'Gasoil': '30.82%'}  \n",
       "split                                                                       {'Once': '49.79%', 'Twice': '28.08%', 'Monthly': '14.42%', 'Thrice': '7.71%'}  \n",
       "usec                                                                                                       {'Private': '95.11%', 'Professional': '4.89%'}  \n",
       "fleetc                                                                                                                   {'No': '96.80%', 'Yes': '3.20%'}  \n",
       "sportc                                                                                                                   {'No': '99.08%', 'Yes': '0.92%'}  \n",
       "coverp                                                                                         {'MTPL': '58.30%', 'MTPL+': '28.15%', 'MTPL+++': '13.55%'}  \n",
       "powerc                                                                                             {'<66': '73.21%', '66-110': '25.78%', '>110': '1.01%'}  \n",
       "district_risk_group                                                                               {'high': '45.56%', 'medium': '35.31%', 'low': '19.13%'}  \n",
       "AGEPH_bin            {'(16.999, 33.0]': '21.56%', '(41.0, 50.0]': '21.29%', '(61.0, 95.0]': '19.62%', '(50.0, 61.0]': '18.80%', '(33.0, 41.0]': '18.73%'}  "
      ]
     },
     "execution_count": 52,
     "metadata": {},
     "output_type": "execute_result"
    }
   ],
   "source": [
    "get_distribution_info_for_categorical_variables(df_step1)"
   ]
  },
  {
   "cell_type": "code",
   "execution_count": 53,
   "id": "3f7860a3",
   "metadata": {},
   "outputs": [
    {
     "data": {
      "text/html": [
       "<div>\n",
       "<style scoped>\n",
       "    .dataframe tbody tr th:only-of-type {\n",
       "        vertical-align: middle;\n",
       "    }\n",
       "\n",
       "    .dataframe tbody tr th {\n",
       "        vertical-align: top;\n",
       "    }\n",
       "\n",
       "    .dataframe thead th {\n",
       "        text-align: right;\n",
       "    }\n",
       "</style>\n",
       "<table border=\"1\" class=\"dataframe\">\n",
       "  <thead>\n",
       "    <tr style=\"text-align: right;\">\n",
       "      <th></th>\n",
       "      <th>duree</th>\n",
       "      <th>nbrtotc</th>\n",
       "      <th>chargtot</th>\n",
       "      <th>agecar</th>\n",
       "      <th>sexp</th>\n",
       "      <th>fuelc</th>\n",
       "      <th>split</th>\n",
       "      <th>usec</th>\n",
       "      <th>fleetc</th>\n",
       "      <th>sportc</th>\n",
       "      <th>coverp</th>\n",
       "      <th>powerc</th>\n",
       "      <th>claim_frequency</th>\n",
       "      <th>district_risk_group</th>\n",
       "      <th>AGEPH_bin</th>\n",
       "    </tr>\n",
       "  </thead>\n",
       "  <tbody>\n",
       "    <tr>\n",
       "      <th>0</th>\n",
       "      <td>1.00</td>\n",
       "      <td>0</td>\n",
       "      <td>0.00</td>\n",
       "      <td>2-5</td>\n",
       "      <td>Female</td>\n",
       "      <td>Petrol</td>\n",
       "      <td>Once</td>\n",
       "      <td>Private</td>\n",
       "      <td>No</td>\n",
       "      <td>No</td>\n",
       "      <td>MTPL+</td>\n",
       "      <td>66-110</td>\n",
       "      <td>0.00</td>\n",
       "      <td>high</td>\n",
       "      <td>(61.0, 95.0]</td>\n",
       "    </tr>\n",
       "    <tr>\n",
       "      <th>1</th>\n",
       "      <td>0.05</td>\n",
       "      <td>1</td>\n",
       "      <td>155.97</td>\n",
       "      <td>6-10</td>\n",
       "      <td>Female</td>\n",
       "      <td>Petrol</td>\n",
       "      <td>Twice</td>\n",
       "      <td>Private</td>\n",
       "      <td>No</td>\n",
       "      <td>No</td>\n",
       "      <td>MTPL</td>\n",
       "      <td>66-110</td>\n",
       "      <td>21.47</td>\n",
       "      <td>high</td>\n",
       "      <td>(16.999, 33.0]</td>\n",
       "    </tr>\n",
       "    <tr>\n",
       "      <th>2</th>\n",
       "      <td>0.40</td>\n",
       "      <td>0</td>\n",
       "      <td>0.00</td>\n",
       "      <td>&gt;10</td>\n",
       "      <td>Female</td>\n",
       "      <td>Petrol</td>\n",
       "      <td>Thrice</td>\n",
       "      <td>Private</td>\n",
       "      <td>No</td>\n",
       "      <td>No</td>\n",
       "      <td>MTPL</td>\n",
       "      <td>&lt;66</td>\n",
       "      <td>0.00</td>\n",
       "      <td>high</td>\n",
       "      <td>(50.0, 61.0]</td>\n",
       "    </tr>\n",
       "    <tr>\n",
       "      <th>3</th>\n",
       "      <td>0.17</td>\n",
       "      <td>0</td>\n",
       "      <td>0.00</td>\n",
       "      <td>2-5</td>\n",
       "      <td>Female</td>\n",
       "      <td>Petrol</td>\n",
       "      <td>Once</td>\n",
       "      <td>Professional</td>\n",
       "      <td>No</td>\n",
       "      <td>No</td>\n",
       "      <td>MTPL+++</td>\n",
       "      <td>66-110</td>\n",
       "      <td>0.00</td>\n",
       "      <td>high</td>\n",
       "      <td>(33.0, 41.0]</td>\n",
       "    </tr>\n",
       "    <tr>\n",
       "      <th>4</th>\n",
       "      <td>1.00</td>\n",
       "      <td>0</td>\n",
       "      <td>0.00</td>\n",
       "      <td>6-10</td>\n",
       "      <td>Female</td>\n",
       "      <td>Petrol</td>\n",
       "      <td>Once</td>\n",
       "      <td>Private</td>\n",
       "      <td>No</td>\n",
       "      <td>No</td>\n",
       "      <td>MTPL+</td>\n",
       "      <td>&lt;66</td>\n",
       "      <td>0.00</td>\n",
       "      <td>high</td>\n",
       "      <td>(16.999, 33.0]</td>\n",
       "    </tr>\n",
       "    <tr>\n",
       "      <th>...</th>\n",
       "      <td>...</td>\n",
       "      <td>...</td>\n",
       "      <td>...</td>\n",
       "      <td>...</td>\n",
       "      <td>...</td>\n",
       "      <td>...</td>\n",
       "      <td>...</td>\n",
       "      <td>...</td>\n",
       "      <td>...</td>\n",
       "      <td>...</td>\n",
       "      <td>...</td>\n",
       "      <td>...</td>\n",
       "      <td>...</td>\n",
       "      <td>...</td>\n",
       "      <td>...</td>\n",
       "    </tr>\n",
       "    <tr>\n",
       "      <th>163652</th>\n",
       "      <td>1.00</td>\n",
       "      <td>0</td>\n",
       "      <td>0.00</td>\n",
       "      <td>2-5</td>\n",
       "      <td>Male</td>\n",
       "      <td>Petrol</td>\n",
       "      <td>Once</td>\n",
       "      <td>Private</td>\n",
       "      <td>No</td>\n",
       "      <td>No</td>\n",
       "      <td>MTPL+</td>\n",
       "      <td>&lt;66</td>\n",
       "      <td>0.00</td>\n",
       "      <td>low</td>\n",
       "      <td>(41.0, 50.0]</td>\n",
       "    </tr>\n",
       "    <tr>\n",
       "      <th>163653</th>\n",
       "      <td>1.00</td>\n",
       "      <td>0</td>\n",
       "      <td>0.00</td>\n",
       "      <td>6-10</td>\n",
       "      <td>Male</td>\n",
       "      <td>Petrol</td>\n",
       "      <td>Once</td>\n",
       "      <td>Private</td>\n",
       "      <td>No</td>\n",
       "      <td>No</td>\n",
       "      <td>MTPL</td>\n",
       "      <td>&lt;66</td>\n",
       "      <td>0.00</td>\n",
       "      <td>low</td>\n",
       "      <td>(61.0, 95.0]</td>\n",
       "    </tr>\n",
       "    <tr>\n",
       "      <th>163654</th>\n",
       "      <td>1.00</td>\n",
       "      <td>0</td>\n",
       "      <td>0.00</td>\n",
       "      <td>2-5</td>\n",
       "      <td>Male</td>\n",
       "      <td>Petrol</td>\n",
       "      <td>Twice</td>\n",
       "      <td>Private</td>\n",
       "      <td>No</td>\n",
       "      <td>No</td>\n",
       "      <td>MTPL</td>\n",
       "      <td>&lt;66</td>\n",
       "      <td>0.00</td>\n",
       "      <td>low</td>\n",
       "      <td>(61.0, 95.0]</td>\n",
       "    </tr>\n",
       "    <tr>\n",
       "      <th>163655</th>\n",
       "      <td>1.00</td>\n",
       "      <td>1</td>\n",
       "      <td>3,177.99</td>\n",
       "      <td>&gt;10</td>\n",
       "      <td>Male</td>\n",
       "      <td>Petrol</td>\n",
       "      <td>Once</td>\n",
       "      <td>Private</td>\n",
       "      <td>Yes</td>\n",
       "      <td>No</td>\n",
       "      <td>MTPL</td>\n",
       "      <td>&lt;66</td>\n",
       "      <td>1.00</td>\n",
       "      <td>low</td>\n",
       "      <td>(50.0, 61.0]</td>\n",
       "    </tr>\n",
       "    <tr>\n",
       "      <th>163656</th>\n",
       "      <td>1.00</td>\n",
       "      <td>2</td>\n",
       "      <td>13,818.23</td>\n",
       "      <td>2-5</td>\n",
       "      <td>Male</td>\n",
       "      <td>Petrol</td>\n",
       "      <td>Once</td>\n",
       "      <td>Private</td>\n",
       "      <td>No</td>\n",
       "      <td>No</td>\n",
       "      <td>MTPL+++</td>\n",
       "      <td>&lt;66</td>\n",
       "      <td>2.00</td>\n",
       "      <td>high</td>\n",
       "      <td>(16.999, 33.0]</td>\n",
       "    </tr>\n",
       "  </tbody>\n",
       "</table>\n",
       "<p>163657 rows × 15 columns</p>\n",
       "</div>"
      ],
      "text/plain": [
       "        duree  nbrtotc  chargtot agecar    sexp   fuelc   split          usec  \\\n",
       "0        1.00        0      0.00    2-5  Female  Petrol    Once       Private   \n",
       "1        0.05        1    155.97   6-10  Female  Petrol   Twice       Private   \n",
       "2        0.40        0      0.00    >10  Female  Petrol  Thrice       Private   \n",
       "3        0.17        0      0.00    2-5  Female  Petrol    Once  Professional   \n",
       "4        1.00        0      0.00   6-10  Female  Petrol    Once       Private   \n",
       "...       ...      ...       ...    ...     ...     ...     ...           ...   \n",
       "163652   1.00        0      0.00    2-5    Male  Petrol    Once       Private   \n",
       "163653   1.00        0      0.00   6-10    Male  Petrol    Once       Private   \n",
       "163654   1.00        0      0.00    2-5    Male  Petrol   Twice       Private   \n",
       "163655   1.00        1  3,177.99    >10    Male  Petrol    Once       Private   \n",
       "163656   1.00        2 13,818.23    2-5    Male  Petrol    Once       Private   \n",
       "\n",
       "       fleetc sportc   coverp  powerc  claim_frequency district_risk_group  \\\n",
       "0          No     No    MTPL+  66-110             0.00                high   \n",
       "1          No     No     MTPL  66-110            21.47                high   \n",
       "2          No     No     MTPL     <66             0.00                high   \n",
       "3          No     No  MTPL+++  66-110             0.00                high   \n",
       "4          No     No    MTPL+     <66             0.00                high   \n",
       "...       ...    ...      ...     ...              ...                 ...   \n",
       "163652     No     No    MTPL+     <66             0.00                 low   \n",
       "163653     No     No     MTPL     <66             0.00                 low   \n",
       "163654     No     No     MTPL     <66             0.00                 low   \n",
       "163655    Yes     No     MTPL     <66             1.00                 low   \n",
       "163656     No     No  MTPL+++     <66             2.00                high   \n",
       "\n",
       "             AGEPH_bin  \n",
       "0         (61.0, 95.0]  \n",
       "1       (16.999, 33.0]  \n",
       "2         (50.0, 61.0]  \n",
       "3         (33.0, 41.0]  \n",
       "4       (16.999, 33.0]  \n",
       "...                ...  \n",
       "163652    (41.0, 50.0]  \n",
       "163653    (61.0, 95.0]  \n",
       "163654    (61.0, 95.0]  \n",
       "163655    (50.0, 61.0]  \n",
       "163656  (16.999, 33.0]  \n",
       "\n",
       "[163657 rows x 15 columns]"
      ]
     },
     "execution_count": 53,
     "metadata": {},
     "output_type": "execute_result"
    }
   ],
   "source": [
    "df_step1"
   ]
  },
  {
   "cell_type": "markdown",
   "id": "6250dbdd",
   "metadata": {},
   "source": [
    "### 2.1.1 Dummy Coding with reference class <a name=\"two-one-one\"></a>"
   ]
  },
  {
   "cell_type": "markdown",
   "id": "3db7f197",
   "metadata": {},
   "source": [
    "One-hot encoding works as follow suppose you have a vector of information as follow\n",
    "\n",
    "genders = (Male, Female, Female, Female, Male)\n",
    "\n",
    "Now, suppose the male group is less risky (like this is the case in this dataset, in terms of average claim frequency), we will decide to take out the gender_male variable from the dataset as it constitutes a reference class. \n",
    "\n",
    "We will end up with a transformation of our gender vector as follow:\n"
   ]
  },
  {
   "cell_type": "code",
   "execution_count": 54,
   "id": "a125701e",
   "metadata": {},
   "outputs": [],
   "source": [
    "genders_transformed = pd.DataFrame.from_dict({'gender_male':[1, 0,0,0,1],\n",
    "                                              'gender_female':[0,1,1,1,0],\n",
    "                                             })\n",
    "genders_transformed.index=['Male', 'Female', 'Female', 'Female', 'Male']"
   ]
  },
  {
   "cell_type": "code",
   "execution_count": 55,
   "id": "8f09c760",
   "metadata": {},
   "outputs": [
    {
     "data": {
      "text/html": [
       "<div>\n",
       "<style scoped>\n",
       "    .dataframe tbody tr th:only-of-type {\n",
       "        vertical-align: middle;\n",
       "    }\n",
       "\n",
       "    .dataframe tbody tr th {\n",
       "        vertical-align: top;\n",
       "    }\n",
       "\n",
       "    .dataframe thead th {\n",
       "        text-align: right;\n",
       "    }\n",
       "</style>\n",
       "<table border=\"1\" class=\"dataframe\">\n",
       "  <thead>\n",
       "    <tr style=\"text-align: right;\">\n",
       "      <th></th>\n",
       "      <th>gender_female</th>\n",
       "    </tr>\n",
       "  </thead>\n",
       "  <tbody>\n",
       "    <tr>\n",
       "      <th>Male</th>\n",
       "      <td>0</td>\n",
       "    </tr>\n",
       "    <tr>\n",
       "      <th>Female</th>\n",
       "      <td>1</td>\n",
       "    </tr>\n",
       "    <tr>\n",
       "      <th>Female</th>\n",
       "      <td>1</td>\n",
       "    </tr>\n",
       "    <tr>\n",
       "      <th>Female</th>\n",
       "      <td>1</td>\n",
       "    </tr>\n",
       "    <tr>\n",
       "      <th>Male</th>\n",
       "      <td>0</td>\n",
       "    </tr>\n",
       "  </tbody>\n",
       "</table>\n",
       "</div>"
      ],
      "text/plain": [
       "        gender_female\n",
       "Male                0\n",
       "Female              1\n",
       "Female              1\n",
       "Female              1\n",
       "Male                0"
      ]
     },
     "execution_count": 55,
     "metadata": {},
     "output_type": "execute_result"
    }
   ],
   "source": [
    "pd.DataFrame(genders_transformed.loc[:, 'gender_female'])"
   ]
  },
  {
   "cell_type": "code",
   "execution_count": 56,
   "id": "b64c3be1",
   "metadata": {},
   "outputs": [],
   "source": [
    "df_step1_dummy = pd.get_dummies(df_step1)"
   ]
  },
  {
   "cell_type": "code",
   "execution_count": 57,
   "id": "00045736",
   "metadata": {},
   "outputs": [
    {
     "data": {
      "text/plain": [
       "(163657, 36)"
      ]
     },
     "execution_count": 57,
     "metadata": {},
     "output_type": "execute_result"
    }
   ],
   "source": [
    "df_step1_dummy.shape"
   ]
  },
  {
   "cell_type": "code",
   "execution_count": 58,
   "id": "5ac9d29f",
   "metadata": {},
   "outputs": [
    {
     "name": "stdout",
     "output_type": "stream",
     "text": [
      "The reference class of agecar is 2-5\n",
      "The reference class of sexp is Male\n",
      "The reference class of fuelc is Petrol\n",
      "The reference class of split is Once\n",
      "The reference class of usec is Private\n",
      "The reference class of fleetc is Yes\n",
      "The reference class of sportc is No\n",
      "The reference class of coverp is MTPL+\n",
      "The reference class of powerc is <66\n",
      "The reference class of district_risk_group is low\n",
      "The reference class of AGEPH_bin is (61.0, 95.0]\n"
     ]
    }
   ],
   "source": [
    "reference_class_lst = get_reference_classes(df_step1, nb_claims_name, exposure_name)"
   ]
  },
  {
   "cell_type": "code",
   "execution_count": 59,
   "id": "e8d59c35",
   "metadata": {},
   "outputs": [
    {
     "name": "stdout",
     "output_type": "stream",
     "text": [
      "The reference class of agecar is 2-5\n",
      "The reference class of sexp is Male\n",
      "The reference class of fuelc is Petrol\n",
      "The reference class of split is Twice\n",
      "The reference class of usec is Professional\n",
      "The reference class of fleetc is Yes\n",
      "The reference class of sportc is No\n",
      "The reference class of coverp is MTPL+\n",
      "The reference class of powerc is <66\n",
      "The reference class of district_risk_group is low\n",
      "The reference class of AGEPH_bin is (61.0, 95.0]\n"
     ]
    }
   ],
   "source": [
    "reference_class_sev_lst = get_reference_classes(df_step1, claim_amount_name, valid_for_severity=True)"
   ]
  },
  {
   "cell_type": "markdown",
   "id": "04ea8164",
   "metadata": {},
   "source": [
    "The policyholder belonging to all those classes is the less risky"
   ]
  },
  {
   "cell_type": "markdown",
   "id": "1fb3c912",
   "metadata": {},
   "source": [
    "As we have been encoding our variables $x_{ij}s$ as binary variables.\n",
    "\n",
    "$\\beta_{0}$ is the risk related to the reference class.\n",
    "\n",
    "According to the Poisson regression model defined above, the annual claim frequency $\\lambda_{i}$ associated with $x_{i}$ is of multiplicative form:\n",
    "\n",
    "$\\lambda_{i} = exp(\\beta_{0}) \\prod_{j|x_{ij}=1}exp(\\beta_{j})$\n",
    "\n",
    "-  $exp(\\beta_{0})$ is the annual claim frequency associated with the reference class\n",
    "- $exp(\\beta_{j})$ models the impact of the jth variable"
   ]
  },
  {
   "cell_type": "code",
   "execution_count": 60,
   "id": "48545550",
   "metadata": {},
   "outputs": [
    {
     "data": {
      "text/plain": [
       "['agecar_2-5',\n",
       " 'sexp_Male',\n",
       " 'fuelc_Petrol',\n",
       " 'split_Once',\n",
       " 'usec_Private',\n",
       " 'fleetc_Yes',\n",
       " 'sportc_No',\n",
       " 'coverp_MTPL+',\n",
       " 'powerc_<66',\n",
       " 'district_risk_group_low',\n",
       " 'AGEPH_bin_(61.0, 95.0]']"
      ]
     },
     "execution_count": 60,
     "metadata": {},
     "output_type": "execute_result"
    }
   ],
   "source": [
    "reference_class_lst"
   ]
  },
  {
   "cell_type": "code",
   "execution_count": 61,
   "id": "1faa0806",
   "metadata": {},
   "outputs": [
    {
     "data": {
      "text/html": [
       "<div>\n",
       "<style scoped>\n",
       "    .dataframe tbody tr th:only-of-type {\n",
       "        vertical-align: middle;\n",
       "    }\n",
       "\n",
       "    .dataframe tbody tr th {\n",
       "        vertical-align: top;\n",
       "    }\n",
       "\n",
       "    .dataframe thead th {\n",
       "        text-align: right;\n",
       "    }\n",
       "</style>\n",
       "<table border=\"1\" class=\"dataframe\">\n",
       "  <thead>\n",
       "    <tr style=\"text-align: right;\">\n",
       "      <th></th>\n",
       "      <th>duree</th>\n",
       "      <th>nbrtotc</th>\n",
       "      <th>chargtot</th>\n",
       "      <th>claim_frequency</th>\n",
       "      <th>agecar_0-1</th>\n",
       "      <th>agecar_2-5</th>\n",
       "      <th>agecar_6-10</th>\n",
       "      <th>agecar_&gt;10</th>\n",
       "      <th>sexp_Female</th>\n",
       "      <th>sexp_Male</th>\n",
       "      <th>...</th>\n",
       "      <th>powerc_&lt;66</th>\n",
       "      <th>powerc_&gt;110</th>\n",
       "      <th>district_risk_group_high</th>\n",
       "      <th>district_risk_group_low</th>\n",
       "      <th>district_risk_group_medium</th>\n",
       "      <th>AGEPH_bin_(16.999, 33.0]</th>\n",
       "      <th>AGEPH_bin_(33.0, 41.0]</th>\n",
       "      <th>AGEPH_bin_(41.0, 50.0]</th>\n",
       "      <th>AGEPH_bin_(50.0, 61.0]</th>\n",
       "      <th>AGEPH_bin_(61.0, 95.0]</th>\n",
       "    </tr>\n",
       "  </thead>\n",
       "  <tbody>\n",
       "    <tr>\n",
       "      <th>0</th>\n",
       "      <td>1.00</td>\n",
       "      <td>0</td>\n",
       "      <td>0.00</td>\n",
       "      <td>0.00</td>\n",
       "      <td>0</td>\n",
       "      <td>1</td>\n",
       "      <td>0</td>\n",
       "      <td>0</td>\n",
       "      <td>1</td>\n",
       "      <td>0</td>\n",
       "      <td>...</td>\n",
       "      <td>0</td>\n",
       "      <td>0</td>\n",
       "      <td>1</td>\n",
       "      <td>0</td>\n",
       "      <td>0</td>\n",
       "      <td>0</td>\n",
       "      <td>0</td>\n",
       "      <td>0</td>\n",
       "      <td>0</td>\n",
       "      <td>1</td>\n",
       "    </tr>\n",
       "    <tr>\n",
       "      <th>1</th>\n",
       "      <td>0.05</td>\n",
       "      <td>1</td>\n",
       "      <td>155.97</td>\n",
       "      <td>21.47</td>\n",
       "      <td>0</td>\n",
       "      <td>0</td>\n",
       "      <td>1</td>\n",
       "      <td>0</td>\n",
       "      <td>1</td>\n",
       "      <td>0</td>\n",
       "      <td>...</td>\n",
       "      <td>0</td>\n",
       "      <td>0</td>\n",
       "      <td>1</td>\n",
       "      <td>0</td>\n",
       "      <td>0</td>\n",
       "      <td>1</td>\n",
       "      <td>0</td>\n",
       "      <td>0</td>\n",
       "      <td>0</td>\n",
       "      <td>0</td>\n",
       "    </tr>\n",
       "    <tr>\n",
       "      <th>2</th>\n",
       "      <td>0.40</td>\n",
       "      <td>0</td>\n",
       "      <td>0.00</td>\n",
       "      <td>0.00</td>\n",
       "      <td>0</td>\n",
       "      <td>0</td>\n",
       "      <td>0</td>\n",
       "      <td>1</td>\n",
       "      <td>1</td>\n",
       "      <td>0</td>\n",
       "      <td>...</td>\n",
       "      <td>1</td>\n",
       "      <td>0</td>\n",
       "      <td>1</td>\n",
       "      <td>0</td>\n",
       "      <td>0</td>\n",
       "      <td>0</td>\n",
       "      <td>0</td>\n",
       "      <td>0</td>\n",
       "      <td>1</td>\n",
       "      <td>0</td>\n",
       "    </tr>\n",
       "  </tbody>\n",
       "</table>\n",
       "<p>3 rows × 36 columns</p>\n",
       "</div>"
      ],
      "text/plain": [
       "   duree  nbrtotc  chargtot  claim_frequency  agecar_0-1  agecar_2-5  \\\n",
       "0   1.00        0      0.00             0.00           0           1   \n",
       "1   0.05        1    155.97            21.47           0           0   \n",
       "2   0.40        0      0.00             0.00           0           0   \n",
       "\n",
       "   agecar_6-10  agecar_>10  sexp_Female  sexp_Male  ...  powerc_<66  \\\n",
       "0            0           0            1          0  ...           0   \n",
       "1            1           0            1          0  ...           0   \n",
       "2            0           1            1          0  ...           1   \n",
       "\n",
       "   powerc_>110  district_risk_group_high  district_risk_group_low  \\\n",
       "0            0                         1                        0   \n",
       "1            0                         1                        0   \n",
       "2            0                         1                        0   \n",
       "\n",
       "   district_risk_group_medium  AGEPH_bin_(16.999, 33.0]  \\\n",
       "0                           0                         0   \n",
       "1                           0                         1   \n",
       "2                           0                         0   \n",
       "\n",
       "   AGEPH_bin_(33.0, 41.0]  AGEPH_bin_(41.0, 50.0]  AGEPH_bin_(50.0, 61.0]  \\\n",
       "0                       0                       0                       0   \n",
       "1                       0                       0                       0   \n",
       "2                       0                       0                       1   \n",
       "\n",
       "   AGEPH_bin_(61.0, 95.0]  \n",
       "0                       1  \n",
       "1                       0  \n",
       "2                       0  \n",
       "\n",
       "[3 rows x 36 columns]"
      ]
     },
     "execution_count": 61,
     "metadata": {},
     "output_type": "execute_result"
    }
   ],
   "source": [
    "df_step1_dummy.head(3)"
   ]
  },
  {
   "cell_type": "code",
   "execution_count": 62,
   "id": "6f8b32fd",
   "metadata": {},
   "outputs": [
    {
     "data": {
      "text/plain": [
       "['agecar_2-5',\n",
       " 'sexp_Male',\n",
       " 'fuelc_Petrol',\n",
       " 'split_Once',\n",
       " 'usec_Private',\n",
       " 'fleetc_Yes',\n",
       " 'sportc_No',\n",
       " 'coverp_MTPL+',\n",
       " 'powerc_<66',\n",
       " 'district_risk_group_low',\n",
       " 'AGEPH_bin_(61.0, 95.0]']"
      ]
     },
     "execution_count": 62,
     "metadata": {},
     "output_type": "execute_result"
    }
   ],
   "source": [
    "reference_class_lst"
   ]
  },
  {
   "cell_type": "code",
   "execution_count": 63,
   "id": "59d58a78",
   "metadata": {},
   "outputs": [],
   "source": [
    "DATASET = df_step1_dummy.drop(columns=reference_class_lst)\n",
    "DATASET_SEV = df_step1_dummy.drop(columns=reference_class_sev_lst)"
   ]
  },
  {
   "cell_type": "code",
   "execution_count": 64,
   "id": "b939edef",
   "metadata": {},
   "outputs": [
    {
     "data": {
      "text/plain": [
       "True"
      ]
     },
     "execution_count": 64,
     "metadata": {},
     "output_type": "execute_result"
    }
   ],
   "source": [
    "DATASET.shape == (df_step1_dummy.shape[0], df_step1_dummy.shape[1] -len(reference_class_lst))"
   ]
  },
  {
   "cell_type": "code",
   "execution_count": 65,
   "id": "09bbc076",
   "metadata": {},
   "outputs": [],
   "source": [
    "DATASET.rename(columns=params.get(Constants.RENAMING_DUMMY_CODING_MAPPING), inplace=True)\n",
    "DATASET_SEV.rename(columns=params.get(Constants.RENAMING_DUMMY_CODING_MAPPING), inplace=True)"
   ]
  },
  {
   "cell_type": "code",
   "execution_count": 66,
   "id": "803b1989",
   "metadata": {},
   "outputs": [
    {
     "data": {
      "text/html": [
       "<div>\n",
       "<style scoped>\n",
       "    .dataframe tbody tr th:only-of-type {\n",
       "        vertical-align: middle;\n",
       "    }\n",
       "\n",
       "    .dataframe tbody tr th {\n",
       "        vertical-align: top;\n",
       "    }\n",
       "\n",
       "    .dataframe thead th {\n",
       "        text-align: right;\n",
       "    }\n",
       "</style>\n",
       "<table border=\"1\" class=\"dataframe\">\n",
       "  <thead>\n",
       "    <tr style=\"text-align: right;\">\n",
       "      <th></th>\n",
       "      <th>duree</th>\n",
       "      <th>nbrtotc</th>\n",
       "      <th>chargtot</th>\n",
       "      <th>claim_frequency</th>\n",
       "      <th>agecar_zero_one</th>\n",
       "      <th>agecar_six_ten</th>\n",
       "      <th>agecar_higher_ten</th>\n",
       "      <th>sexp_Female</th>\n",
       "      <th>fuelc_Gasoil</th>\n",
       "      <th>split_Monthly</th>\n",
       "      <th>...</th>\n",
       "      <th>coverp_MTPL</th>\n",
       "      <th>coverp_MTPLplusplusplus</th>\n",
       "      <th>powerc_sixtysix_onehundredten</th>\n",
       "      <th>powerc_higher_onehundredten</th>\n",
       "      <th>district_risk_group_high</th>\n",
       "      <th>district_risk_group_medium</th>\n",
       "      <th>AGEPH_bin_seventeen_thirtythree</th>\n",
       "      <th>AGEPH_bin_thirtythree_forty_one</th>\n",
       "      <th>AGEPH_bin_forty_one_fifty</th>\n",
       "      <th>AGEPH_bin_fifty_sixty_one</th>\n",
       "    </tr>\n",
       "  </thead>\n",
       "  <tbody>\n",
       "    <tr>\n",
       "      <th>0</th>\n",
       "      <td>1.00</td>\n",
       "      <td>0</td>\n",
       "      <td>0.00</td>\n",
       "      <td>0.00</td>\n",
       "      <td>0</td>\n",
       "      <td>0</td>\n",
       "      <td>0</td>\n",
       "      <td>1</td>\n",
       "      <td>0</td>\n",
       "      <td>0</td>\n",
       "      <td>...</td>\n",
       "      <td>0</td>\n",
       "      <td>0</td>\n",
       "      <td>1</td>\n",
       "      <td>0</td>\n",
       "      <td>1</td>\n",
       "      <td>0</td>\n",
       "      <td>0</td>\n",
       "      <td>0</td>\n",
       "      <td>0</td>\n",
       "      <td>0</td>\n",
       "    </tr>\n",
       "    <tr>\n",
       "      <th>1</th>\n",
       "      <td>0.05</td>\n",
       "      <td>1</td>\n",
       "      <td>155.97</td>\n",
       "      <td>21.47</td>\n",
       "      <td>0</td>\n",
       "      <td>1</td>\n",
       "      <td>0</td>\n",
       "      <td>1</td>\n",
       "      <td>0</td>\n",
       "      <td>0</td>\n",
       "      <td>...</td>\n",
       "      <td>1</td>\n",
       "      <td>0</td>\n",
       "      <td>1</td>\n",
       "      <td>0</td>\n",
       "      <td>1</td>\n",
       "      <td>0</td>\n",
       "      <td>1</td>\n",
       "      <td>0</td>\n",
       "      <td>0</td>\n",
       "      <td>0</td>\n",
       "    </tr>\n",
       "    <tr>\n",
       "      <th>2</th>\n",
       "      <td>0.40</td>\n",
       "      <td>0</td>\n",
       "      <td>0.00</td>\n",
       "      <td>0.00</td>\n",
       "      <td>0</td>\n",
       "      <td>0</td>\n",
       "      <td>1</td>\n",
       "      <td>1</td>\n",
       "      <td>0</td>\n",
       "      <td>0</td>\n",
       "      <td>...</td>\n",
       "      <td>1</td>\n",
       "      <td>0</td>\n",
       "      <td>0</td>\n",
       "      <td>0</td>\n",
       "      <td>1</td>\n",
       "      <td>0</td>\n",
       "      <td>0</td>\n",
       "      <td>0</td>\n",
       "      <td>0</td>\n",
       "      <td>1</td>\n",
       "    </tr>\n",
       "  </tbody>\n",
       "</table>\n",
       "<p>3 rows × 25 columns</p>\n",
       "</div>"
      ],
      "text/plain": [
       "   duree  nbrtotc  chargtot  claim_frequency  agecar_zero_one  agecar_six_ten  \\\n",
       "0   1.00        0      0.00             0.00                0               0   \n",
       "1   0.05        1    155.97            21.47                0               1   \n",
       "2   0.40        0      0.00             0.00                0               0   \n",
       "\n",
       "   agecar_higher_ten  sexp_Female  fuelc_Gasoil  split_Monthly  ...  \\\n",
       "0                  0            1             0              0  ...   \n",
       "1                  0            1             0              0  ...   \n",
       "2                  1            1             0              0  ...   \n",
       "\n",
       "   coverp_MTPL  coverp_MTPLplusplusplus  powerc_sixtysix_onehundredten  \\\n",
       "0            0                        0                              1   \n",
       "1            1                        0                              1   \n",
       "2            1                        0                              0   \n",
       "\n",
       "   powerc_higher_onehundredten  district_risk_group_high  \\\n",
       "0                            0                         1   \n",
       "1                            0                         1   \n",
       "2                            0                         1   \n",
       "\n",
       "   district_risk_group_medium  AGEPH_bin_seventeen_thirtythree  \\\n",
       "0                           0                                0   \n",
       "1                           0                                1   \n",
       "2                           0                                0   \n",
       "\n",
       "   AGEPH_bin_thirtythree_forty_one  AGEPH_bin_forty_one_fifty  \\\n",
       "0                                0                          0   \n",
       "1                                0                          0   \n",
       "2                                0                          0   \n",
       "\n",
       "   AGEPH_bin_fifty_sixty_one  \n",
       "0                          0  \n",
       "1                          0  \n",
       "2                          1  \n",
       "\n",
       "[3 rows x 25 columns]"
      ]
     },
     "execution_count": 66,
     "metadata": {},
     "output_type": "execute_result"
    }
   ],
   "source": [
    "DATASET.head(3)"
   ]
  },
  {
   "cell_type": "code",
   "execution_count": 67,
   "id": "8bb6eff0",
   "metadata": {},
   "outputs": [],
   "source": [
    "claim_frequency, claim_amount = DATASET[claim_frequency_name], DATASET[claim_amount_name]\n",
    "X = DATASET.drop(columns=[claim_frequency_name, claim_amount_name])\n",
    "X_sev = DATASET_SEV.drop(columns=[claim_frequency_name, nb_claims_name])"
   ]
  },
  {
   "cell_type": "markdown",
   "id": "5fbb5db6",
   "metadata": {},
   "source": [
    "# 3. Modelling <a name=\"three\"></a>"
   ]
  },
  {
   "cell_type": "markdown",
   "id": "44085c39",
   "metadata": {},
   "source": [
    "For each policyholder $i$, we can identify the \n",
    "\n",
    "- $N_{i}$, the number of claims during the period/exposure $d_{i}$ (the duration over which the contract is force)\n",
    "- $L_{i}$, the aggregate loss related to $N_{i}$ claims\n",
    "\n",
    "The pure premium or risk premium is often denoted as $\\pi_{i}$ and broken down as follow:\n",
    "\n",
    "$\\pi_{i}$ = $\\mathbb{E}[\\frac{N_{i}}{d_{i}}]. \\mathbb{E}[\\frac{L_{i}}{N_{i}}|N_{i} > 0] = \\underbrace{\\mathbb{E}[F_{i}]}_\\text{frequency}.\\underbrace{\\mathbb{E}[Sev_{i}]}_\\text{severity}$\n",
    "***"
   ]
  },
  {
   "cell_type": "markdown",
   "id": "7f9222a9",
   "metadata": {},
   "source": [
    "Let set $\\mathbf{x_{i}} = (x_{i1}, \\cdots , x_{ip})'$\n",
    "\n",
    "$\\mathbb{E}[N_{i} | \\mathbf{x_{i}}] = d_{i} exp(\\beta_{0} + \\sum_{j=1}^{p}(\\beta_{j}x_{ij})) $\n",
    "\n",
    "$N_{i} \\sim Poi(d_{i} exp(\\beta_{0} + \\sum_{j=1}^{p}(\\beta_{j}x_{ij})) $\n",
    "\n",
    "***"
   ]
  },
  {
   "cell_type": "markdown",
   "id": "ac67ceb2",
   "metadata": {},
   "source": [
    "The score of the linear predictor is defined as follow:\n",
    "    \n",
    "$score_{i} = \\beta_{0} + \\sum_{j=1}^{p}(\\beta_{j}x_{ij})$\n",
    "\n",
    "The expected claim frequency for policyholder $i$ is: $d_{i}exp(score_{i})$\n",
    "\n",
    "$\\hat{\\beta_{0}}, \\hat{\\beta_{1}}, \\cdots, \\hat{\\beta_{p}}$  are the estimates of the regression coefficients $\\beta_{0}, \\beta_{1}, \\cdots, \\beta_{p} $\n",
    "\n",
    "$\\hat{\\lambda_{i}} = d_{i}exp(\\hat{score_{i}})$\n",
    "\n",
    "$\\hat{\\lambda_{i}} = d_{i}exp(\\hat{\\beta_{0}} + \\sum_{j=1}^{p}(\\hat{\\beta_{j}}x_{ij}))$\n",
    "\n",
    "is the predicted number of claims for policyholder $i$"
   ]
  },
  {
   "cell_type": "markdown",
   "id": "ad16617f",
   "metadata": {},
   "source": [
    "## 3.1 Regression Tree <a name=\"three-one\"></a>"
   ]
  },
  {
   "cell_type": "code",
   "execution_count": 68,
   "id": "23ae4746",
   "metadata": {},
   "outputs": [],
   "source": [
    "x_train, x_test, y_train, y_test = train_test_split(X, claim_frequency, \n",
    "                                                    test_size=test_size, \n",
    "                                                    random_state=random_state,\n",
    "                                                   stratify=X[nb_claims_name])\n",
    "exp_train, exp_test = x_train[exposure_name], x_test[exposure_name]\n"
   ]
  },
  {
   "cell_type": "code",
   "execution_count": 69,
   "id": "7f5bbf22",
   "metadata": {},
   "outputs": [],
   "source": [
    "x_train = x_train.drop(columns=[nb_claims_name, exposure_name])\n",
    "x_test = x_test.drop(columns=[nb_claims_name, exposure_name])"
   ]
  },
  {
   "cell_type": "code",
   "execution_count": 70,
   "id": "8e47cede",
   "metadata": {},
   "outputs": [
    {
     "data": {
      "text/plain": [
       "DecisionTreeRegressor(ccp_alpha=0, criterion='poisson', max_depth=3)"
      ]
     },
     "execution_count": 70,
     "metadata": {},
     "output_type": "execute_result"
    }
   ],
   "source": [
    "poisson_tree = DecisionTreeRegressor(criterion='poisson',max_depth=3, ccp_alpha=0)\n",
    "poisson_tree.fit(x_train, y_train, sample_weight=exp_train)"
   ]
  },
  {
   "cell_type": "code",
   "execution_count": 71,
   "id": "0a1cb8ef",
   "metadata": {},
   "outputs": [
    {
     "data": {
      "image/png": "[encoded data removed]",
      "text/plain": [
       "<Figure size 2880x2520 with 1 Axes>"
      ]
     },
     "metadata": {
      "needs_background": "light"
     },
     "output_type": "display_data"
    }
   ],
   "source": [
    "fig = plt.figure(figsize=(40,35))\n",
    "_=tree.plot_tree(poisson_tree, \n",
    "                   feature_names=x_train.columns,  \n",
    "                   filled=True,\n",
    "                precision=10)"
   ]
  },
  {
   "cell_type": "code",
   "execution_count": 72,
   "id": "de69ef4b",
   "metadata": {},
   "outputs": [],
   "source": [
    "#viz = dtreeviz(poisson_tree, x_train, y_train,\n",
    "#                target_name=claim_frequency_name,\n",
    " #               feature_names=list(x_train.columns))\n",
    "#viz.save(\"decision_tree.svg\")"
   ]
  },
  {
   "cell_type": "code",
   "execution_count": 73,
   "id": "3b2b907f",
   "metadata": {},
   "outputs": [
    {
     "data": {
      "text/plain": [
       "[(0, 'agecar_zero_one'),\n",
       " (1, 'agecar_six_ten'),\n",
       " (2, 'agecar_higher_ten'),\n",
       " (3, 'sexp_Female'),\n",
       " (4, 'fuelc_Gasoil'),\n",
       " (5, 'split_Monthly'),\n",
       " (6, 'split_Thrice'),\n",
       " (7, 'split_Twice'),\n",
       " (8, 'usec_Professional'),\n",
       " (9, 'fleetc_No'),\n",
       " (10, 'sportc_Yes'),\n",
       " (11, 'coverp_MTPL'),\n",
       " (12, 'coverp_MTPLplusplusplus'),\n",
       " (13, 'powerc_sixtysix_onehundredten'),\n",
       " (14, 'powerc_higher_onehundredten'),\n",
       " (15, 'district_risk_group_high'),\n",
       " (16, 'district_risk_group_medium'),\n",
       " (17, 'AGEPH_bin_seventeen_thirtythree'),\n",
       " (18, 'AGEPH_bin_thirtythree_forty_one'),\n",
       " (19, 'AGEPH_bin_forty_one_fifty'),\n",
       " (20, 'AGEPH_bin_fifty_sixty_one')]"
      ]
     },
     "execution_count": 73,
     "metadata": {},
     "output_type": "execute_result"
    }
   ],
   "source": [
    "list(enumerate(x_train.columns))"
   ]
  },
  {
   "cell_type": "code",
   "execution_count": 74,
   "id": "32a6dd65",
   "metadata": {},
   "outputs": [
    {
     "name": "stdout",
     "output_type": "stream",
     "text": [
      "|--- feature_9 <= 0.50\n",
      "|   |--- feature_7 <= 0.50\n",
      "|   |   |--- feature_12 <= 0.50\n",
      "|   |   |   |--- value: [0.13]\n",
      "|   |   |--- feature_12 >  0.50\n",
      "|   |   |   |--- value: [0.10]\n",
      "|   |--- feature_7 >  0.50\n",
      "|   |   |--- feature_8 <= 0.50\n",
      "|   |   |   |--- value: [0.10]\n",
      "|   |   |--- feature_8 >  0.50\n",
      "|   |   |   |--- value: [0.07]\n",
      "|--- feature_9 >  0.50\n",
      "|   |--- feature_20 <= 0.50\n",
      "|   |   |--- feature_19 <= 0.50\n",
      "|   |   |   |--- value: [0.15]\n",
      "|   |   |--- feature_19 >  0.50\n",
      "|   |   |   |--- value: [0.14]\n",
      "|   |--- feature_20 >  0.50\n",
      "|   |   |--- feature_16 <= 0.50\n",
      "|   |   |   |--- value: [0.12]\n",
      "|   |   |--- feature_16 >  0.50\n",
      "|   |   |   |--- value: [0.11]\n",
      "\n"
     ]
    }
   ],
   "source": [
    "print(tree.export_text(poisson_tree))"
   ]
  },
  {
   "cell_type": "code",
   "execution_count": 75,
   "id": "58f2e24b",
   "metadata": {},
   "outputs": [],
   "source": [
    "feature_importances = dict()\n",
    "for feature, importance in zip(x_train.columns, poisson_tree.feature_importances_):\n",
    "    feature_importances[feature] = importance"
   ]
  },
  {
   "cell_type": "code",
   "execution_count": 76,
   "id": "fdca6896",
   "metadata": {},
   "outputs": [],
   "source": [
    "feature_importances_df = pd.DataFrame.from_dict(feature_importances, orient='index')\n",
    "feature_importances_df.rename(columns={0:'importance'}, inplace=True)"
   ]
  },
  {
   "cell_type": "code",
   "execution_count": 77,
   "id": "48231c62",
   "metadata": {},
   "outputs": [
    {
     "data": {
      "text/plain": [
       "Text(0.5, 0, 'Sum of reduced deviance imduced by a feature splits')"
      ]
     },
     "execution_count": 77,
     "metadata": {},
     "output_type": "execute_result"
    },
    {
     "data": {
      "image/png": "[encoded data removed]",
      "text/plain": [
       "<Figure size 576x576 with 1 Axes>"
      ]
     },
     "metadata": {
      "needs_background": "light"
     },
     "output_type": "display_data"
    }
   ],
   "source": [
    "feature_importances_df.query('importance>0').sort_values(by='importance').plot.barh(figsize=(8,8))\n",
    "plt.title('Feature importances')\n",
    "plt.xlabel('Sum of reduced deviance imduced by a feature splits')"
   ]
  },
  {
   "cell_type": "code",
   "execution_count": 78,
   "id": "3ea46853",
   "metadata": {},
   "outputs": [],
   "source": [
    "#hyperopt on max_tree_depth and ccp_alpha"
   ]
  },
  {
   "cell_type": "code",
   "execution_count": 79,
   "id": "5041c1f6",
   "metadata": {},
   "outputs": [],
   "source": [
    "results = {}"
   ]
  },
  {
   "cell_type": "code",
   "execution_count": 80,
   "id": "3b154955",
   "metadata": {},
   "outputs": [],
   "source": [
    "dev_poiss_tree_train = mean_poisson_deviance(y_train, poisson_tree.predict(x_train),sample_weight=exp_train)\n",
    "dev_poiss_tree_test = mean_poisson_deviance(y_test, poisson_tree.predict(x_test),sample_weight=exp_test)\n",
    "results['dev_poiss_tree_train'] = dev_poiss_tree_train\n",
    "results['dev_poiss_tree_test'] = dev_poiss_tree_test"
   ]
  },
  {
   "cell_type": "code",
   "execution_count": 81,
   "id": "15fa72ff",
   "metadata": {},
   "outputs": [
    {
     "data": {
      "text/plain": [
       "{'dev_poiss_tree_train': 0.6181288519544759,\n",
       " 'dev_poiss_tree_test': 0.6183133528786787}"
      ]
     },
     "execution_count": 81,
     "metadata": {},
     "output_type": "execute_result"
    }
   ],
   "source": [
    "results"
   ]
  },
  {
   "cell_type": "code",
   "execution_count": 82,
   "id": "bd582d8c",
   "metadata": {},
   "outputs": [],
   "source": [
    "#info_input = np.flip(x_train.loc[0,:].values.reshape(1, x_train.shape[1]))\n",
    "#dec_path = poisson_tree.decision_path(info_input)"
   ]
  },
  {
   "cell_type": "code",
   "execution_count": 83,
   "id": "25438d07",
   "metadata": {},
   "outputs": [],
   "source": [
    "from sklearn.model_selection import GridSearchCV, RandomizedSearchCV"
   ]
  },
  {
   "cell_type": "code",
   "execution_count": 125,
   "id": "5511f969",
   "metadata": {},
   "outputs": [],
   "source": [
    "step = 0.05\n",
    "param_grid = {'max_depth': list(np.arange(3,8)),\n",
    "               'random_state':[random_state],\n",
    "              'criterion': ['poisson'],\n",
    "              'ccp_alpha': list(np.arange(0,1+step, step))}\n",
    "mean_poisson_dev_with_weights = partial(mean_poisson_deviance, sample_weight=exp_train)"
   ]
  },
  {
   "cell_type": "code",
   "execution_count": 126,
   "id": "53530c85",
   "metadata": {},
   "outputs": [],
   "source": [
    "from functools import partial"
   ]
  },
  {
   "cell_type": "code",
   "execution_count": 127,
   "id": "864ba101",
   "metadata": {},
   "outputs": [],
   "source": [
    "mean_poisson_dev_with_weights = partial(mean_poisson_deviance, sample_weight=exp_train)"
   ]
  },
  {
   "cell_type": "code",
   "execution_count": 128,
   "id": "8aa1cfdf",
   "metadata": {},
   "outputs": [],
   "source": [
    "tree_reg = RandomizedSearchCV(DecisionTreeRegressor(), \n",
    "                              param_distributions=param_grid, \n",
    "                              n_iter=100,\n",
    "                              scoring=mean_poisson_dev_with_weights)"
   ]
  },
  {
   "cell_type": "code",
   "execution_count": 129,
   "id": "44402acd",
   "metadata": {},
   "outputs": [
    {
     "data": {
      "text/plain": [
       "RandomizedSearchCV(estimator=DecisionTreeRegressor(), n_iter=100,\n",
       "                   param_distributions={'ccp_alpha': [0.0, 0.05, 0.1,\n",
       "                                                      0.15000000000000002, 0.2,\n",
       "                                                      0.25, 0.30000000000000004,\n",
       "                                                      0.35000000000000003, 0.4,\n",
       "                                                      0.45, 0.5, 0.55,\n",
       "                                                      0.6000000000000001, 0.65,\n",
       "                                                      0.7000000000000001, 0.75,\n",
       "                                                      0.8, 0.8500000000000001,\n",
       "                                                      0.9, 0.9500000000000001,\n",
       "                                                      1.0],\n",
       "                                        'criterion': ['poisson'],\n",
       "                                        'max_depth': [3, 4, 5, 6, 7],\n",
       "                                        'random_state': [42]},\n",
       "                   scoring=functools.partial(<function mean_poisson_deviance at 0x12e9a38b0>, sample_weight=464      1.00\n",
       "117265   1.00\n",
       "22022    0.01\n",
       "39909    0.76\n",
       "144601   1.00\n",
       "         ... \n",
       "116975   0.87\n",
       "160389   0.82\n",
       "32885    1.00\n",
       "158901   1.00\n",
       "34224    1.00\n",
       "Name: duree, Length: 130925, dtype: float64))"
      ]
     },
     "execution_count": 129,
     "metadata": {},
     "output_type": "execute_result"
    }
   ],
   "source": [
    "tree_reg.fit(x_train, y_train, sample_weight=exp_train)"
   ]
  },
  {
   "cell_type": "code",
   "execution_count": 131,
   "id": "10d74138",
   "metadata": {},
   "outputs": [
    {
     "data": {
      "text/plain": [
       "{'random_state': 42, 'max_depth': 7, 'criterion': 'poisson', 'ccp_alpha': 0.65}"
      ]
     },
     "execution_count": 131,
     "metadata": {},
     "output_type": "execute_result"
    }
   ],
   "source": [
    "tree_reg.best_params_"
   ]
  },
  {
   "cell_type": "code",
   "execution_count": 132,
   "id": "be647fca",
   "metadata": {},
   "outputs": [
    {
     "data": {
      "text/html": [
       "<div>\n",
       "<style scoped>\n",
       "    .dataframe tbody tr th:only-of-type {\n",
       "        vertical-align: middle;\n",
       "    }\n",
       "\n",
       "    .dataframe tbody tr th {\n",
       "        vertical-align: top;\n",
       "    }\n",
       "\n",
       "    .dataframe thead th {\n",
       "        text-align: right;\n",
       "    }\n",
       "</style>\n",
       "<table border=\"1\" class=\"dataframe\">\n",
       "  <thead>\n",
       "    <tr style=\"text-align: right;\">\n",
       "      <th></th>\n",
       "      <th>mean_fit_time</th>\n",
       "      <th>std_fit_time</th>\n",
       "      <th>mean_score_time</th>\n",
       "      <th>std_score_time</th>\n",
       "      <th>param_random_state</th>\n",
       "      <th>param_max_depth</th>\n",
       "      <th>param_criterion</th>\n",
       "      <th>param_ccp_alpha</th>\n",
       "      <th>params</th>\n",
       "      <th>split0_test_score</th>\n",
       "      <th>split1_test_score</th>\n",
       "      <th>split2_test_score</th>\n",
       "      <th>split3_test_score</th>\n",
       "      <th>split4_test_score</th>\n",
       "      <th>mean_test_score</th>\n",
       "      <th>std_test_score</th>\n",
       "      <th>rank_test_score</th>\n",
       "    </tr>\n",
       "  </thead>\n",
       "  <tbody>\n",
       "    <tr>\n",
       "      <th>0</th>\n",
       "      <td>0.12</td>\n",
       "      <td>0.01</td>\n",
       "      <td>0.00</td>\n",
       "      <td>0.00</td>\n",
       "      <td>42</td>\n",
       "      <td>7</td>\n",
       "      <td>poisson</td>\n",
       "      <td>0.65</td>\n",
       "      <td>{'random_state': 42, 'max_depth': 7, 'criterion': 'poisson', 'ccp_alpha': 0.65}</td>\n",
       "      <td>NaN</td>\n",
       "      <td>NaN</td>\n",
       "      <td>NaN</td>\n",
       "      <td>NaN</td>\n",
       "      <td>NaN</td>\n",
       "      <td>NaN</td>\n",
       "      <td>NaN</td>\n",
       "      <td>1</td>\n",
       "    </tr>\n",
       "    <tr>\n",
       "      <th>1</th>\n",
       "      <td>0.10</td>\n",
       "      <td>0.01</td>\n",
       "      <td>0.00</td>\n",
       "      <td>0.00</td>\n",
       "      <td>42</td>\n",
       "      <td>6</td>\n",
       "      <td>poisson</td>\n",
       "      <td>0.05</td>\n",
       "      <td>{'random_state': 42, 'max_depth': 6, 'criterion': 'poisson', 'ccp_alpha': 0.05}</td>\n",
       "      <td>NaN</td>\n",
       "      <td>NaN</td>\n",
       "      <td>NaN</td>\n",
       "      <td>NaN</td>\n",
       "      <td>NaN</td>\n",
       "      <td>NaN</td>\n",
       "      <td>NaN</td>\n",
       "      <td>72</td>\n",
       "    </tr>\n",
       "    <tr>\n",
       "      <th>2</th>\n",
       "      <td>0.08</td>\n",
       "      <td>0.00</td>\n",
       "      <td>0.00</td>\n",
       "      <td>0.00</td>\n",
       "      <td>42</td>\n",
       "      <td>4</td>\n",
       "      <td>poisson</td>\n",
       "      <td>0.15</td>\n",
       "      <td>{'random_state': 42, 'max_depth': 4, 'criterion': 'poisson', 'ccp_alpha': 0.15000000000000002}</td>\n",
       "      <td>NaN</td>\n",
       "      <td>NaN</td>\n",
       "      <td>NaN</td>\n",
       "      <td>NaN</td>\n",
       "      <td>NaN</td>\n",
       "      <td>NaN</td>\n",
       "      <td>NaN</td>\n",
       "      <td>71</td>\n",
       "    </tr>\n",
       "    <tr>\n",
       "      <th>3</th>\n",
       "      <td>0.07</td>\n",
       "      <td>0.00</td>\n",
       "      <td>0.00</td>\n",
       "      <td>0.00</td>\n",
       "      <td>42</td>\n",
       "      <td>4</td>\n",
       "      <td>poisson</td>\n",
       "      <td>0.20</td>\n",
       "      <td>{'random_state': 42, 'max_depth': 4, 'criterion': 'poisson', 'ccp_alpha': 0.2}</td>\n",
       "      <td>NaN</td>\n",
       "      <td>NaN</td>\n",
       "      <td>NaN</td>\n",
       "      <td>NaN</td>\n",
       "      <td>NaN</td>\n",
       "      <td>NaN</td>\n",
       "      <td>NaN</td>\n",
       "      <td>70</td>\n",
       "    </tr>\n",
       "    <tr>\n",
       "      <th>4</th>\n",
       "      <td>0.08</td>\n",
       "      <td>0.00</td>\n",
       "      <td>0.00</td>\n",
       "      <td>0.00</td>\n",
       "      <td>42</td>\n",
       "      <td>5</td>\n",
       "      <td>poisson</td>\n",
       "      <td>0.10</td>\n",
       "      <td>{'random_state': 42, 'max_depth': 5, 'criterion': 'poisson', 'ccp_alpha': 0.1}</td>\n",
       "      <td>NaN</td>\n",
       "      <td>NaN</td>\n",
       "      <td>NaN</td>\n",
       "      <td>NaN</td>\n",
       "      <td>NaN</td>\n",
       "      <td>NaN</td>\n",
       "      <td>NaN</td>\n",
       "      <td>69</td>\n",
       "    </tr>\n",
       "    <tr>\n",
       "      <th>...</th>\n",
       "      <td>...</td>\n",
       "      <td>...</td>\n",
       "      <td>...</td>\n",
       "      <td>...</td>\n",
       "      <td>...</td>\n",
       "      <td>...</td>\n",
       "      <td>...</td>\n",
       "      <td>...</td>\n",
       "      <td>...</td>\n",
       "      <td>...</td>\n",
       "      <td>...</td>\n",
       "      <td>...</td>\n",
       "      <td>...</td>\n",
       "      <td>...</td>\n",
       "      <td>...</td>\n",
       "      <td>...</td>\n",
       "      <td>...</td>\n",
       "    </tr>\n",
       "    <tr>\n",
       "      <th>95</th>\n",
       "      <td>0.10</td>\n",
       "      <td>0.01</td>\n",
       "      <td>0.00</td>\n",
       "      <td>0.00</td>\n",
       "      <td>42</td>\n",
       "      <td>4</td>\n",
       "      <td>poisson</td>\n",
       "      <td>0.50</td>\n",
       "      <td>{'random_state': 42, 'max_depth': 4, 'criterion': 'poisson', 'ccp_alpha': 0.5}</td>\n",
       "      <td>NaN</td>\n",
       "      <td>NaN</td>\n",
       "      <td>NaN</td>\n",
       "      <td>NaN</td>\n",
       "      <td>NaN</td>\n",
       "      <td>NaN</td>\n",
       "      <td>NaN</td>\n",
       "      <td>29</td>\n",
       "    </tr>\n",
       "    <tr>\n",
       "      <th>96</th>\n",
       "      <td>0.08</td>\n",
       "      <td>0.00</td>\n",
       "      <td>0.00</td>\n",
       "      <td>0.00</td>\n",
       "      <td>42</td>\n",
       "      <td>3</td>\n",
       "      <td>poisson</td>\n",
       "      <td>0.05</td>\n",
       "      <td>{'random_state': 42, 'max_depth': 3, 'criterion': 'poisson', 'ccp_alpha': 0.05}</td>\n",
       "      <td>NaN</td>\n",
       "      <td>NaN</td>\n",
       "      <td>NaN</td>\n",
       "      <td>NaN</td>\n",
       "      <td>NaN</td>\n",
       "      <td>NaN</td>\n",
       "      <td>NaN</td>\n",
       "      <td>28</td>\n",
       "    </tr>\n",
       "    <tr>\n",
       "      <th>97</th>\n",
       "      <td>0.08</td>\n",
       "      <td>0.00</td>\n",
       "      <td>0.00</td>\n",
       "      <td>0.00</td>\n",
       "      <td>42</td>\n",
       "      <td>3</td>\n",
       "      <td>poisson</td>\n",
       "      <td>0.30</td>\n",
       "      <td>{'random_state': 42, 'max_depth': 3, 'criterion': 'poisson', 'ccp_alpha': 0.30000000000000004}</td>\n",
       "      <td>NaN</td>\n",
       "      <td>NaN</td>\n",
       "      <td>NaN</td>\n",
       "      <td>NaN</td>\n",
       "      <td>NaN</td>\n",
       "      <td>NaN</td>\n",
       "      <td>NaN</td>\n",
       "      <td>27</td>\n",
       "    </tr>\n",
       "    <tr>\n",
       "      <th>98</th>\n",
       "      <td>0.14</td>\n",
       "      <td>0.01</td>\n",
       "      <td>0.00</td>\n",
       "      <td>0.00</td>\n",
       "      <td>42</td>\n",
       "      <td>7</td>\n",
       "      <td>poisson</td>\n",
       "      <td>0.00</td>\n",
       "      <td>{'random_state': 42, 'max_depth': 7, 'criterion': 'poisson', 'ccp_alpha': 0.0}</td>\n",
       "      <td>NaN</td>\n",
       "      <td>NaN</td>\n",
       "      <td>NaN</td>\n",
       "      <td>NaN</td>\n",
       "      <td>NaN</td>\n",
       "      <td>NaN</td>\n",
       "      <td>NaN</td>\n",
       "      <td>87</td>\n",
       "    </tr>\n",
       "    <tr>\n",
       "      <th>99</th>\n",
       "      <td>0.11</td>\n",
       "      <td>0.01</td>\n",
       "      <td>0.00</td>\n",
       "      <td>0.00</td>\n",
       "      <td>42</td>\n",
       "      <td>5</td>\n",
       "      <td>poisson</td>\n",
       "      <td>0.15</td>\n",
       "      <td>{'random_state': 42, 'max_depth': 5, 'criterion': 'poisson', 'ccp_alpha': 0.15000000000000002}</td>\n",
       "      <td>NaN</td>\n",
       "      <td>NaN</td>\n",
       "      <td>NaN</td>\n",
       "      <td>NaN</td>\n",
       "      <td>NaN</td>\n",
       "      <td>NaN</td>\n",
       "      <td>NaN</td>\n",
       "      <td>100</td>\n",
       "    </tr>\n",
       "  </tbody>\n",
       "</table>\n",
       "<p>100 rows × 17 columns</p>\n",
       "</div>"
      ],
      "text/plain": [
       "    mean_fit_time  std_fit_time  mean_score_time  std_score_time  \\\n",
       "0            0.12          0.01             0.00            0.00   \n",
       "1            0.10          0.01             0.00            0.00   \n",
       "2            0.08          0.00             0.00            0.00   \n",
       "3            0.07          0.00             0.00            0.00   \n",
       "4            0.08          0.00             0.00            0.00   \n",
       "..            ...           ...              ...             ...   \n",
       "95           0.10          0.01             0.00            0.00   \n",
       "96           0.08          0.00             0.00            0.00   \n",
       "97           0.08          0.00             0.00            0.00   \n",
       "98           0.14          0.01             0.00            0.00   \n",
       "99           0.11          0.01             0.00            0.00   \n",
       "\n",
       "   param_random_state param_max_depth param_criterion param_ccp_alpha  \\\n",
       "0                  42               7         poisson            0.65   \n",
       "1                  42               6         poisson            0.05   \n",
       "2                  42               4         poisson            0.15   \n",
       "3                  42               4         poisson            0.20   \n",
       "4                  42               5         poisson            0.10   \n",
       "..                ...             ...             ...             ...   \n",
       "95                 42               4         poisson            0.50   \n",
       "96                 42               3         poisson            0.05   \n",
       "97                 42               3         poisson            0.30   \n",
       "98                 42               7         poisson            0.00   \n",
       "99                 42               5         poisson            0.15   \n",
       "\n",
       "                                                                                            params  \\\n",
       "0                  {'random_state': 42, 'max_depth': 7, 'criterion': 'poisson', 'ccp_alpha': 0.65}   \n",
       "1                  {'random_state': 42, 'max_depth': 6, 'criterion': 'poisson', 'ccp_alpha': 0.05}   \n",
       "2   {'random_state': 42, 'max_depth': 4, 'criterion': 'poisson', 'ccp_alpha': 0.15000000000000002}   \n",
       "3                   {'random_state': 42, 'max_depth': 4, 'criterion': 'poisson', 'ccp_alpha': 0.2}   \n",
       "4                   {'random_state': 42, 'max_depth': 5, 'criterion': 'poisson', 'ccp_alpha': 0.1}   \n",
       "..                                                                                             ...   \n",
       "95                  {'random_state': 42, 'max_depth': 4, 'criterion': 'poisson', 'ccp_alpha': 0.5}   \n",
       "96                 {'random_state': 42, 'max_depth': 3, 'criterion': 'poisson', 'ccp_alpha': 0.05}   \n",
       "97  {'random_state': 42, 'max_depth': 3, 'criterion': 'poisson', 'ccp_alpha': 0.30000000000000004}   \n",
       "98                  {'random_state': 42, 'max_depth': 7, 'criterion': 'poisson', 'ccp_alpha': 0.0}   \n",
       "99  {'random_state': 42, 'max_depth': 5, 'criterion': 'poisson', 'ccp_alpha': 0.15000000000000002}   \n",
       "\n",
       "    split0_test_score  split1_test_score  split2_test_score  \\\n",
       "0                 NaN                NaN                NaN   \n",
       "1                 NaN                NaN                NaN   \n",
       "2                 NaN                NaN                NaN   \n",
       "3                 NaN                NaN                NaN   \n",
       "4                 NaN                NaN                NaN   \n",
       "..                ...                ...                ...   \n",
       "95                NaN                NaN                NaN   \n",
       "96                NaN                NaN                NaN   \n",
       "97                NaN                NaN                NaN   \n",
       "98                NaN                NaN                NaN   \n",
       "99                NaN                NaN                NaN   \n",
       "\n",
       "    split3_test_score  split4_test_score  mean_test_score  std_test_score  \\\n",
       "0                 NaN                NaN              NaN             NaN   \n",
       "1                 NaN                NaN              NaN             NaN   \n",
       "2                 NaN                NaN              NaN             NaN   \n",
       "3                 NaN                NaN              NaN             NaN   \n",
       "4                 NaN                NaN              NaN             NaN   \n",
       "..                ...                ...              ...             ...   \n",
       "95                NaN                NaN              NaN             NaN   \n",
       "96                NaN                NaN              NaN             NaN   \n",
       "97                NaN                NaN              NaN             NaN   \n",
       "98                NaN                NaN              NaN             NaN   \n",
       "99                NaN                NaN              NaN             NaN   \n",
       "\n",
       "    rank_test_score  \n",
       "0                 1  \n",
       "1                72  \n",
       "2                71  \n",
       "3                70  \n",
       "4                69  \n",
       "..              ...  \n",
       "95               29  \n",
       "96               28  \n",
       "97               27  \n",
       "98               87  \n",
       "99              100  \n",
       "\n",
       "[100 rows x 17 columns]"
      ]
     },
     "execution_count": 132,
     "metadata": {},
     "output_type": "execute_result"
    }
   ],
   "source": [
    "pd.DataFrame.from_dict(tree_reg.cv_results_)"
   ]
  },
  {
   "cell_type": "markdown",
   "id": "42d97935",
   "metadata": {},
   "source": [
    "It looks like the RandomGridSearch from scikit learn does not work when looking at the test scores"
   ]
  },
  {
   "cell_type": "code",
   "execution_count": 92,
   "id": "ae88355b",
   "metadata": {},
   "outputs": [
    {
     "data": {
      "text/html": [
       "<div>\n",
       "<style scoped>\n",
       "    .dataframe tbody tr th:only-of-type {\n",
       "        vertical-align: middle;\n",
       "    }\n",
       "\n",
       "    .dataframe tbody tr th {\n",
       "        vertical-align: top;\n",
       "    }\n",
       "\n",
       "    .dataframe thead th {\n",
       "        text-align: right;\n",
       "    }\n",
       "</style>\n",
       "<table border=\"1\" class=\"dataframe\">\n",
       "  <thead>\n",
       "    <tr style=\"text-align: right;\">\n",
       "      <th></th>\n",
       "      <th>agecar_zero_one</th>\n",
       "      <th>agecar_six_ten</th>\n",
       "      <th>agecar_higher_ten</th>\n",
       "      <th>sexp_Female</th>\n",
       "      <th>fuelc_Gasoil</th>\n",
       "      <th>split_Monthly</th>\n",
       "      <th>split_Thrice</th>\n",
       "      <th>split_Twice</th>\n",
       "      <th>usec_Professional</th>\n",
       "      <th>fleetc_No</th>\n",
       "      <th>...</th>\n",
       "      <th>coverp_MTPL</th>\n",
       "      <th>coverp_MTPLplusplusplus</th>\n",
       "      <th>powerc_sixtysix_onehundredten</th>\n",
       "      <th>powerc_higher_onehundredten</th>\n",
       "      <th>district_risk_group_high</th>\n",
       "      <th>district_risk_group_medium</th>\n",
       "      <th>AGEPH_bin_seventeen_thirtythree</th>\n",
       "      <th>AGEPH_bin_thirtythree_forty_one</th>\n",
       "      <th>AGEPH_bin_forty_one_fifty</th>\n",
       "      <th>AGEPH_bin_fifty_sixty_one</th>\n",
       "    </tr>\n",
       "  </thead>\n",
       "  <tbody>\n",
       "    <tr>\n",
       "      <th>464</th>\n",
       "      <td>0</td>\n",
       "      <td>0</td>\n",
       "      <td>1</td>\n",
       "      <td>1</td>\n",
       "      <td>0</td>\n",
       "      <td>0</td>\n",
       "      <td>0</td>\n",
       "      <td>0</td>\n",
       "      <td>0</td>\n",
       "      <td>1</td>\n",
       "      <td>...</td>\n",
       "      <td>1</td>\n",
       "      <td>0</td>\n",
       "      <td>1</td>\n",
       "      <td>0</td>\n",
       "      <td>0</td>\n",
       "      <td>0</td>\n",
       "      <td>0</td>\n",
       "      <td>0</td>\n",
       "      <td>1</td>\n",
       "      <td>0</td>\n",
       "    </tr>\n",
       "    <tr>\n",
       "      <th>117265</th>\n",
       "      <td>0</td>\n",
       "      <td>0</td>\n",
       "      <td>0</td>\n",
       "      <td>0</td>\n",
       "      <td>1</td>\n",
       "      <td>0</td>\n",
       "      <td>0</td>\n",
       "      <td>1</td>\n",
       "      <td>1</td>\n",
       "      <td>0</td>\n",
       "      <td>...</td>\n",
       "      <td>0</td>\n",
       "      <td>1</td>\n",
       "      <td>1</td>\n",
       "      <td>0</td>\n",
       "      <td>1</td>\n",
       "      <td>0</td>\n",
       "      <td>0</td>\n",
       "      <td>0</td>\n",
       "      <td>0</td>\n",
       "      <td>0</td>\n",
       "    </tr>\n",
       "    <tr>\n",
       "      <th>22022</th>\n",
       "      <td>0</td>\n",
       "      <td>0</td>\n",
       "      <td>0</td>\n",
       "      <td>1</td>\n",
       "      <td>1</td>\n",
       "      <td>0</td>\n",
       "      <td>0</td>\n",
       "      <td>1</td>\n",
       "      <td>0</td>\n",
       "      <td>1</td>\n",
       "      <td>...</td>\n",
       "      <td>1</td>\n",
       "      <td>0</td>\n",
       "      <td>0</td>\n",
       "      <td>0</td>\n",
       "      <td>1</td>\n",
       "      <td>0</td>\n",
       "      <td>0</td>\n",
       "      <td>0</td>\n",
       "      <td>0</td>\n",
       "      <td>1</td>\n",
       "    </tr>\n",
       "    <tr>\n",
       "      <th>39909</th>\n",
       "      <td>1</td>\n",
       "      <td>0</td>\n",
       "      <td>0</td>\n",
       "      <td>1</td>\n",
       "      <td>1</td>\n",
       "      <td>0</td>\n",
       "      <td>0</td>\n",
       "      <td>0</td>\n",
       "      <td>0</td>\n",
       "      <td>1</td>\n",
       "      <td>...</td>\n",
       "      <td>0</td>\n",
       "      <td>0</td>\n",
       "      <td>1</td>\n",
       "      <td>0</td>\n",
       "      <td>0</td>\n",
       "      <td>0</td>\n",
       "      <td>0</td>\n",
       "      <td>0</td>\n",
       "      <td>1</td>\n",
       "      <td>0</td>\n",
       "    </tr>\n",
       "    <tr>\n",
       "      <th>144601</th>\n",
       "      <td>0</td>\n",
       "      <td>1</td>\n",
       "      <td>0</td>\n",
       "      <td>0</td>\n",
       "      <td>0</td>\n",
       "      <td>0</td>\n",
       "      <td>0</td>\n",
       "      <td>0</td>\n",
       "      <td>0</td>\n",
       "      <td>1</td>\n",
       "      <td>...</td>\n",
       "      <td>1</td>\n",
       "      <td>0</td>\n",
       "      <td>0</td>\n",
       "      <td>0</td>\n",
       "      <td>0</td>\n",
       "      <td>1</td>\n",
       "      <td>0</td>\n",
       "      <td>0</td>\n",
       "      <td>0</td>\n",
       "      <td>1</td>\n",
       "    </tr>\n",
       "    <tr>\n",
       "      <th>...</th>\n",
       "      <td>...</td>\n",
       "      <td>...</td>\n",
       "      <td>...</td>\n",
       "      <td>...</td>\n",
       "      <td>...</td>\n",
       "      <td>...</td>\n",
       "      <td>...</td>\n",
       "      <td>...</td>\n",
       "      <td>...</td>\n",
       "      <td>...</td>\n",
       "      <td>...</td>\n",
       "      <td>...</td>\n",
       "      <td>...</td>\n",
       "      <td>...</td>\n",
       "      <td>...</td>\n",
       "      <td>...</td>\n",
       "      <td>...</td>\n",
       "      <td>...</td>\n",
       "      <td>...</td>\n",
       "      <td>...</td>\n",
       "      <td>...</td>\n",
       "    </tr>\n",
       "    <tr>\n",
       "      <th>116975</th>\n",
       "      <td>0</td>\n",
       "      <td>1</td>\n",
       "      <td>0</td>\n",
       "      <td>0</td>\n",
       "      <td>0</td>\n",
       "      <td>0</td>\n",
       "      <td>0</td>\n",
       "      <td>0</td>\n",
       "      <td>0</td>\n",
       "      <td>1</td>\n",
       "      <td>...</td>\n",
       "      <td>0</td>\n",
       "      <td>0</td>\n",
       "      <td>0</td>\n",
       "      <td>0</td>\n",
       "      <td>0</td>\n",
       "      <td>0</td>\n",
       "      <td>0</td>\n",
       "      <td>0</td>\n",
       "      <td>0</td>\n",
       "      <td>0</td>\n",
       "    </tr>\n",
       "    <tr>\n",
       "      <th>160389</th>\n",
       "      <td>0</td>\n",
       "      <td>1</td>\n",
       "      <td>0</td>\n",
       "      <td>0</td>\n",
       "      <td>1</td>\n",
       "      <td>0</td>\n",
       "      <td>0</td>\n",
       "      <td>0</td>\n",
       "      <td>0</td>\n",
       "      <td>1</td>\n",
       "      <td>...</td>\n",
       "      <td>0</td>\n",
       "      <td>0</td>\n",
       "      <td>0</td>\n",
       "      <td>0</td>\n",
       "      <td>0</td>\n",
       "      <td>0</td>\n",
       "      <td>0</td>\n",
       "      <td>0</td>\n",
       "      <td>0</td>\n",
       "      <td>1</td>\n",
       "    </tr>\n",
       "    <tr>\n",
       "      <th>32885</th>\n",
       "      <td>0</td>\n",
       "      <td>1</td>\n",
       "      <td>0</td>\n",
       "      <td>1</td>\n",
       "      <td>0</td>\n",
       "      <td>1</td>\n",
       "      <td>0</td>\n",
       "      <td>0</td>\n",
       "      <td>0</td>\n",
       "      <td>1</td>\n",
       "      <td>...</td>\n",
       "      <td>0</td>\n",
       "      <td>0</td>\n",
       "      <td>0</td>\n",
       "      <td>0</td>\n",
       "      <td>1</td>\n",
       "      <td>0</td>\n",
       "      <td>0</td>\n",
       "      <td>0</td>\n",
       "      <td>0</td>\n",
       "      <td>1</td>\n",
       "    </tr>\n",
       "    <tr>\n",
       "      <th>158901</th>\n",
       "      <td>0</td>\n",
       "      <td>1</td>\n",
       "      <td>0</td>\n",
       "      <td>0</td>\n",
       "      <td>1</td>\n",
       "      <td>0</td>\n",
       "      <td>0</td>\n",
       "      <td>1</td>\n",
       "      <td>0</td>\n",
       "      <td>1</td>\n",
       "      <td>...</td>\n",
       "      <td>0</td>\n",
       "      <td>0</td>\n",
       "      <td>0</td>\n",
       "      <td>0</td>\n",
       "      <td>1</td>\n",
       "      <td>0</td>\n",
       "      <td>1</td>\n",
       "      <td>0</td>\n",
       "      <td>0</td>\n",
       "      <td>0</td>\n",
       "    </tr>\n",
       "    <tr>\n",
       "      <th>34224</th>\n",
       "      <td>0</td>\n",
       "      <td>0</td>\n",
       "      <td>1</td>\n",
       "      <td>1</td>\n",
       "      <td>0</td>\n",
       "      <td>0</td>\n",
       "      <td>0</td>\n",
       "      <td>0</td>\n",
       "      <td>0</td>\n",
       "      <td>1</td>\n",
       "      <td>...</td>\n",
       "      <td>0</td>\n",
       "      <td>1</td>\n",
       "      <td>1</td>\n",
       "      <td>0</td>\n",
       "      <td>0</td>\n",
       "      <td>1</td>\n",
       "      <td>0</td>\n",
       "      <td>0</td>\n",
       "      <td>1</td>\n",
       "      <td>0</td>\n",
       "    </tr>\n",
       "  </tbody>\n",
       "</table>\n",
       "<p>130925 rows × 21 columns</p>\n",
       "</div>"
      ],
      "text/plain": [
       "        agecar_zero_one  agecar_six_ten  agecar_higher_ten  sexp_Female  \\\n",
       "464                   0               0                  1            1   \n",
       "117265                0               0                  0            0   \n",
       "22022                 0               0                  0            1   \n",
       "39909                 1               0                  0            1   \n",
       "144601                0               1                  0            0   \n",
       "...                 ...             ...                ...          ...   \n",
       "116975                0               1                  0            0   \n",
       "160389                0               1                  0            0   \n",
       "32885                 0               1                  0            1   \n",
       "158901                0               1                  0            0   \n",
       "34224                 0               0                  1            1   \n",
       "\n",
       "        fuelc_Gasoil  split_Monthly  split_Thrice  split_Twice  \\\n",
       "464                0              0             0            0   \n",
       "117265             1              0             0            1   \n",
       "22022              1              0             0            1   \n",
       "39909              1              0             0            0   \n",
       "144601             0              0             0            0   \n",
       "...              ...            ...           ...          ...   \n",
       "116975             0              0             0            0   \n",
       "160389             1              0             0            0   \n",
       "32885              0              1             0            0   \n",
       "158901             1              0             0            1   \n",
       "34224              0              0             0            0   \n",
       "\n",
       "        usec_Professional  fleetc_No  ...  coverp_MTPL  \\\n",
       "464                     0          1  ...            1   \n",
       "117265                  1          0  ...            0   \n",
       "22022                   0          1  ...            1   \n",
       "39909                   0          1  ...            0   \n",
       "144601                  0          1  ...            1   \n",
       "...                   ...        ...  ...          ...   \n",
       "116975                  0          1  ...            0   \n",
       "160389                  0          1  ...            0   \n",
       "32885                   0          1  ...            0   \n",
       "158901                  0          1  ...            0   \n",
       "34224                   0          1  ...            0   \n",
       "\n",
       "        coverp_MTPLplusplusplus  powerc_sixtysix_onehundredten  \\\n",
       "464                           0                              1   \n",
       "117265                        1                              1   \n",
       "22022                         0                              0   \n",
       "39909                         0                              1   \n",
       "144601                        0                              0   \n",
       "...                         ...                            ...   \n",
       "116975                        0                              0   \n",
       "160389                        0                              0   \n",
       "32885                         0                              0   \n",
       "158901                        0                              0   \n",
       "34224                         1                              1   \n",
       "\n",
       "        powerc_higher_onehundredten  district_risk_group_high  \\\n",
       "464                               0                         0   \n",
       "117265                            0                         1   \n",
       "22022                             0                         1   \n",
       "39909                             0                         0   \n",
       "144601                            0                         0   \n",
       "...                             ...                       ...   \n",
       "116975                            0                         0   \n",
       "160389                            0                         0   \n",
       "32885                             0                         1   \n",
       "158901                            0                         1   \n",
       "34224                             0                         0   \n",
       "\n",
       "        district_risk_group_medium  AGEPH_bin_seventeen_thirtythree  \\\n",
       "464                              0                                0   \n",
       "117265                           0                                0   \n",
       "22022                            0                                0   \n",
       "39909                            0                                0   \n",
       "144601                           1                                0   \n",
       "...                            ...                              ...   \n",
       "116975                           0                                0   \n",
       "160389                           0                                0   \n",
       "32885                            0                                0   \n",
       "158901                           0                                1   \n",
       "34224                            1                                0   \n",
       "\n",
       "        AGEPH_bin_thirtythree_forty_one  AGEPH_bin_forty_one_fifty  \\\n",
       "464                                   0                          1   \n",
       "117265                                0                          0   \n",
       "22022                                 0                          0   \n",
       "39909                                 0                          1   \n",
       "144601                                0                          0   \n",
       "...                                 ...                        ...   \n",
       "116975                                0                          0   \n",
       "160389                                0                          0   \n",
       "32885                                 0                          0   \n",
       "158901                                0                          0   \n",
       "34224                                 0                          1   \n",
       "\n",
       "        AGEPH_bin_fifty_sixty_one  \n",
       "464                             0  \n",
       "117265                          0  \n",
       "22022                           1  \n",
       "39909                           0  \n",
       "144601                          1  \n",
       "...                           ...  \n",
       "116975                          0  \n",
       "160389                          1  \n",
       "32885                           1  \n",
       "158901                          0  \n",
       "34224                           0  \n",
       "\n",
       "[130925 rows x 21 columns]"
      ]
     },
     "execution_count": 92,
     "metadata": {},
     "output_type": "execute_result"
    }
   ],
   "source": [
    "x_train"
   ]
  },
  {
   "cell_type": "code",
   "execution_count": 93,
   "id": "acf2a8d0",
   "metadata": {},
   "outputs": [
    {
     "data": {
      "text/plain": [
       "sklearn.tree._classes.DecisionTreeRegressor"
      ]
     },
     "execution_count": 93,
     "metadata": {},
     "output_type": "execute_result"
    }
   ],
   "source": [
    "type(poisson_tree)"
   ]
  },
  {
   "cell_type": "code",
   "execution_count": null,
   "id": "ba0245dd",
   "metadata": {},
   "outputs": [],
   "source": [
    "x_train, x_test, y_train, y_test = train_test_split(X, claim_frequency, \n",
    "                                                    test_size=test_size, \n",
    "                                                    random_state=random_state,\n",
    "                                                   stratify=X[nb_claims_name])\n",
    "exp_train, exp_test = x_train[exposure_name], x_test[exposure_name]\n",
    "\n",
    "x_train = x_train.drop(columns=[nb_claims_name, exposure_name])\n",
    "x_test = x_test.drop(columns=[nb_claims_name, exposure_name])\n",
    "\n",
    "poisson_tree = DecisionTreeRegressor(criterion='poisson',max_depth=3, ccp_alpha=0)\n",
    "poisson_tree.fit(x_train, y_train, sample_weight=exp_train)"
   ]
  },
  {
   "cell_type": "code",
   "execution_count": 123,
   "id": "40557b95",
   "metadata": {},
   "outputs": [],
   "source": [
    "df_train = pd.concat([x_train, y_train, exp_train], axis=1)"
   ]
  },
  {
   "cell_type": "code",
   "execution_count": 98,
   "id": "c17efad6",
   "metadata": {},
   "outputs": [],
   "source": [
    "from typing import *\n",
    "import sklearn"
   ]
  },
  {
   "cell_type": "code",
   "execution_count": null,
   "id": "c842275c",
   "metadata": {},
   "outputs": [],
   "source": [
    "step = 0.05\n",
    "param_grid = {'max_depth': list(np.arange(3,8)),\n",
    "               'random_state':[random_state],\n",
    "              'criterion': ['poisson'],\n",
    "              'ccp_alpha': list(np.arange(0,1+step, step))}\n",
    "mean_poisson_dev_with_weights = partial(mean_gamma_deviance, sample_weight=exp_train)"
   ]
  },
  {
   "cell_type": "code",
   "execution_count": 135,
   "id": "ae302016",
   "metadata": {},
   "outputs": [],
   "source": [
    "def fitting_regression_tree(params_model:Dict[str, Any], \n",
    "                            x_train:pd.DataFrame, \n",
    "                            y_train:Union[pd.Series, pd.DataFrame],\n",
    "                            exp_train:Union[pd.Series, pd.DataFrame]) -> sklearn.tree._classes.DecisionTreeRegressor:\n",
    "    \n",
    "    poisson_tree = DecisionTreeRegressor(**params_model)\n",
    "    poisson_tree.fit(x_train, y_train, sample_weight=exp_train)\n",
    "    return poisson_tree"
   ]
  },
  {
   "cell_type": "code",
   "execution_count": 151,
   "id": "7f8b1c37",
   "metadata": {},
   "outputs": [],
   "source": [
    "hyperparams_space = param_grid\n",
    "model_fit_func = fitting_regression_tree\n",
    "loss_function = mean_poisson_deviance\n",
    "params_to_record = None\n",
    "limit_time = 100\n",
    "max_iter = 100\n",
    "is_debug = False\n",
    "params_to_record = ['ccp_alpha', 'max_depth']"
   ]
  },
  {
   "cell_type": "code",
   "execution_count": null,
   "id": "b0fa8188",
   "metadata": {},
   "outputs": [
    {
     "name": "stdout",
     "output_type": "stream",
     "text": [
      "the number of the maximum iterations is 100\n",
      "--------------------------------\n",
      "1 iteration starting...\n",
      "1.1920928955078125e-06 time elapsed...\n",
      "--------------------------------\n",
      "2 iteration starting...\n",
      "0.5741581916809082 time elapsed...\n",
      "--------------------------------\n",
      "3 iteration starting...\n",
      "1.6595721244812012 time elapsed...\n",
      "--------------------------------\n",
      "4 iteration starting...\n",
      "2.3093600273132324 time elapsed...\n",
      "--------------------------------\n",
      "5 iteration starting...\n",
      "3.218569040298462 time elapsed...\n",
      "--------------------------------\n",
      "6 iteration starting...\n",
      "4.116995811462402 time elapsed...\n",
      "--------------------------------\n",
      "7 iteration starting...\n",
      "5.256842136383057 time elapsed...\n",
      "--------------------------------\n",
      "7 iteration starting...\n",
      "5.256842136383057 time elapsed...\n",
      "--------------------------------\n",
      "8 iteration starting...\n",
      "6.069386959075928 time elapsed...\n",
      "--------------------------------\n",
      "9 iteration starting...\n",
      "7.201642990112305 time elapsed...\n",
      "--------------------------------\n",
      "9 iteration starting...\n",
      "7.201642990112305 time elapsed...\n",
      "--------------------------------\n",
      "10 iteration starting...\n",
      "8.36291790008545 time elapsed...\n",
      "--------------------------------\n",
      "10 iteration starting...\n",
      "8.36291790008545 time elapsed...\n",
      "--------------------------------\n",
      "11 iteration starting...\n",
      "9.328881978988647 time elapsed...\n",
      "--------------------------------\n",
      "12 iteration starting...\n",
      "10.154841899871826 time elapsed...\n",
      "--------------------------------\n",
      "13 iteration starting...\n",
      "10.677951097488403 time elapsed...\n",
      "--------------------------------\n",
      "14 iteration starting...\n",
      "11.714385986328125 time elapsed...\n",
      "--------------------------------\n",
      "15 iteration starting...\n",
      "12.388401985168457 time elapsed...\n",
      "--------------------------------\n",
      "16 iteration starting...\n",
      "13.308478116989136 time elapsed...\n",
      "--------------------------------\n",
      "17 iteration starting...\n",
      "14.224001169204712 time elapsed...\n",
      "--------------------------------\n",
      "18 iteration starting...\n",
      "15.270807027816772 time elapsed...\n",
      "--------------------------------\n",
      "19 iteration starting...\n",
      "15.783185958862305 time elapsed...\n",
      "--------------------------------\n",
      "20 iteration starting...\n",
      "16.420917987823486 time elapsed...\n",
      "--------------------------------\n",
      "20 iteration starting...\n",
      "16.420917987823486 time elapsed...\n",
      "--------------------------------\n",
      "21 iteration starting...\n",
      "16.93726897239685 time elapsed...\n",
      "--------------------------------\n",
      "22 iteration starting...\n",
      "17.6062228679657 time elapsed...\n",
      "--------------------------------\n",
      "23 iteration starting...\n",
      "18.27343201637268 time elapsed...\n",
      "--------------------------------\n",
      "24 iteration starting...\n",
      "19.04325294494629 time elapsed...\n",
      "--------------------------------\n",
      "25 iteration starting...\n",
      "19.94008994102478 time elapsed...\n",
      "--------------------------------\n",
      "26 iteration starting...\n",
      "21.33984684944153 time elapsed...\n",
      "--------------------------------\n",
      "27 iteration starting...\n",
      "22.36627697944641 time elapsed...\n",
      "--------------------------------\n",
      "27 iteration starting...\n",
      "22.36627697944641 time elapsed...\n",
      "--------------------------------\n",
      "28 iteration starting...\n",
      "23.771319150924683 time elapsed...\n",
      "--------------------------------\n",
      "29 iteration starting...\n",
      "24.99960494041443 time elapsed...\n",
      "--------------------------------\n",
      "30 iteration starting...\n",
      "25.644885063171387 time elapsed...\n",
      "--------------------------------\n",
      "30 iteration starting...\n",
      "25.644885063171387 time elapsed...\n",
      "--------------------------------\n",
      "31 iteration starting...\n",
      "26.29578185081482 time elapsed...\n",
      "--------------------------------\n",
      "32 iteration starting...\n",
      "27.25693702697754 time elapsed...\n",
      "--------------------------------\n",
      "33 iteration starting...\n",
      "27.9023540019989 time elapsed...\n",
      "--------------------------------\n",
      "33 iteration starting...\n",
      "27.9023540019989 time elapsed...\n",
      "--------------------------------\n",
      "34 iteration starting...\n",
      "28.52420210838318 time elapsed...\n",
      "--------------------------------\n",
      "35 iteration starting...\n",
      "29.46879005432129 time elapsed...\n",
      "--------------------------------\n",
      "35 iteration starting...\n",
      "29.46879005432129 time elapsed...\n",
      "--------------------------------\n",
      "36 iteration starting...\n",
      "30.126503944396973 time elapsed...\n",
      "--------------------------------\n",
      "36 iteration starting...\n",
      "30.126503944396973 time elapsed...\n",
      "--------------------------------\n",
      "37 iteration starting...\n",
      "31.124185800552368 time elapsed...\n",
      "--------------------------------\n",
      "37 iteration starting...\n",
      "31.124185800552368 time elapsed...\n",
      "--------------------------------\n",
      "38 iteration starting...\n",
      "32.071391105651855 time elapsed...\n",
      "--------------------------------\n",
      "38 iteration starting...\n",
      "32.071391105651855 time elapsed...\n",
      "--------------------------------\n",
      "39 iteration starting...\n",
      "33.090867042541504 time elapsed...\n",
      "--------------------------------\n",
      "40 iteration starting...\n",
      "34.18849992752075 time elapsed...\n",
      "--------------------------------\n",
      "40 iteration starting...\n",
      "34.18849992752075 time elapsed...\n",
      "--------------------------------\n",
      "41 iteration starting...\n",
      "35.527764081954956 time elapsed...\n",
      "--------------------------------\n",
      "42 iteration starting...\n",
      "36.31302189826965 time elapsed...\n",
      "--------------------------------\n",
      "43 iteration starting...\n",
      "37.01134705543518 time elapsed...\n",
      "--------------------------------\n",
      "43 iteration starting...\n",
      "37.01134705543518 time elapsed...\n",
      "--------------------------------\n",
      "43 iteration starting...\n",
      "37.01134705543518 time elapsed...\n",
      "--------------------------------\n",
      "44 iteration starting...\n",
      "37.5955970287323 time elapsed...\n",
      "--------------------------------\n",
      "44 iteration starting...\n",
      "37.5955970287323 time elapsed...\n",
      "--------------------------------\n",
      "45 iteration starting...\n",
      "38.32595682144165 time elapsed...\n",
      "--------------------------------\n",
      "46 iteration starting...\n",
      "39.482967138290405 time elapsed...\n",
      "--------------------------------\n",
      "47 iteration starting...\n",
      "40.333582162857056 time elapsed...\n",
      "--------------------------------\n",
      "48 iteration starting...\n",
      "41.27498984336853 time elapsed...\n",
      "--------------------------------\n",
      "48 iteration starting...\n",
      "41.27498984336853 time elapsed...\n",
      "--------------------------------\n",
      "49 iteration starting...\n",
      "42.38218092918396 time elapsed...\n"
     ]
    }
   ],
   "source": [
    "run_hyperopt_for_tree_based_methods(df_train=df_train,\n",
    "                                   hyperparams_space=param_grid,\n",
    "                                   model_fit_func=model_fit_func,\n",
    "                                   loss_function=loss_function,\n",
    "                                   params_to_record=params_to_record,\n",
    "                                   limit_time=limit_time,\n",
    "                                   max_iter=max_iter,\n",
    "                                   is_debug=True)"
   ]
  },
  {
   "cell_type": "code",
   "execution_count": 103,
   "id": "b6af42d3",
   "metadata": {},
   "outputs": [],
   "source": [
    "import time"
   ]
  },
  {
   "cell_type": "code",
   "execution_count": 150,
   "id": "001a0a06",
   "metadata": {},
   "outputs": [],
   "source": [
    "def run_hyperopt_for_tree_based_methods(df_train:pd.DataFrame, \n",
    "                                        hyperparams_space:Dict[str, Iterable],\n",
    "                                        model_fit_func:FunctionType,\n",
    "                                        loss_function:Union[FunctionType],\n",
    "                                        params_to_record:List[str]=None,\n",
    "                                        exposure_name:str=exposure_name,\n",
    "                                        target_name:str=claim_frequency_name,\n",
    "                                        limit_time:int=100,\n",
    "                                        max_iter:int=100,\n",
    "                                        is_debug:bool=False) -> pd.DataFrame:\n",
    "    '''\n",
    "    :param df: Train Dataset on which the data fold will be build\n",
    "    :param hyperparams_space: dictionarry with the name (that the model_fit_func takes) of the hyperparam and an iterable containing all values to sample from\n",
    "    :param model_fit_func:  a custom/user-defined wrapper function fitting a model\n",
    "    :param loss_function:  a user-defined function or sklearn.metric to assess the performance on the k-fold\n",
    "    :param params_to_record: a list containing all the hyperparam name to record\n",
    "    :param limit_time: maximum time in seconds to run the hyperopt\n",
    "    :param max_iter: number of max iterations to run the hyperopt\n",
    "    :return:\n",
    "    '''\n",
    "    max_combinations = np.cumprod([len(v) for v in hyperparams_space.values()])[-1]\n",
    "    tried_hyperparam = set()\n",
    "    if not max_iter:\n",
    "        max_iter = max_combinations\n",
    "    else:\n",
    "        max_iter = min(max_iter, max_combinations)\n",
    "    if is_debug:\n",
    "        print(f'the number of the maximum iterations is {max_iter}')\n",
    "    nb_iter = 1\n",
    "    start = time.time()\n",
    "    duration = time.time() - start\n",
    "    cv_results = defaultdict(list)\n",
    "    while (nb_iter <= max_iter) and (duration < limit_time):\n",
    "        if is_debug:\n",
    "            print(f'--------------------------------')\n",
    "            print(f'{nb_iter} iteration starting...')\n",
    "            print(f'{duration} time elapsed...')\n",
    "        random_hyper_param = {hyperparam: random.choice(range_) for hyperparam, range_ in hyperparams_space.items()}\n",
    "        hyper_space_combi = '-'.join([str(f'{p}:{random_hyper_param.get(p)}') for p in params_to_record])\n",
    "        if hyper_space_combi in tried_hyperparam:  # do not try an aleady tested hyperparam combination\n",
    "            continue\n",
    "        cv_result = run_cross_validation_for_tree_based_methods(df_train=df_train,\n",
    "                                                                model_fit_func=model_fit_func,\n",
    "                                                                params_models=random_hyper_param,\n",
    "                                                                loss_function=loss_function,\n",
    "                                                                params_to_record=params_to_record,\n",
    "                                                                exposure_name=exposure_name,\n",
    "                                                                target_name=target_name)\n",
    "\n",
    "        cv_results['losses'].append(cv_result['loss'])\n",
    "        cv_results['cv_mean_loss'].append(np.mean(cv_result['loss']))\n",
    "        cv_results['cv_std_loss'].append(np.std(cv_result['loss']))\n",
    "        cv_results['hyperparams'].append(hyper_space_combi)\n",
    "        for param_to_record in params_to_record:\n",
    "            cv_results[param_to_record].append(random_hyper_param[param_to_record])\n",
    "\n",
    "        tried_hyperparam.add(hyper_space_combi)\n",
    "        nb_iter += 1\n",
    "        duration = time.time() - start\n",
    "\n",
    "    #TODO: return the best score based on the error quadratic lower mean loss and lower std deviation\n",
    "    return pd.DataFrame.from_dict(cv_results)\n"
   ]
  },
  {
   "cell_type": "code",
   "execution_count": 149,
   "id": "d698cd2a",
   "metadata": {},
   "outputs": [],
   "source": [
    "def run_cross_validation_for_tree_based_methods(\n",
    "                         df_train:pd.DataFrame, \n",
    "                         model_fit_func:FunctionType,\n",
    "                         params_models:Dict[str,Iterable],\n",
    "                         loss_function:Union[FunctionType],\n",
    "                         params_to_record:List[str]=None,\n",
    "                         exposure_name:str = exposure_name,\n",
    "                         target_name:str=claim_frequency_name) -> Dict[str, List]:\n",
    "    '''\n",
    "    :param df: Train Dataset on which the data fold will be build\n",
    "    :param model_fit_func: a custom/user-defined wrapper function fitting a model\n",
    "    :param params_models: a dictionary with the keys as parameter of the model_fit_func\n",
    "    :param loss_function: a user-defined function or sklearn.metric to assess the performance on the k-fold\n",
    "    :param params_to_record: a list containing all the hyperparam name to record\n",
    "    :return: a Dictionary with hyperparameters values, loss and models\n",
    "    '''\n",
    "\n",
    "    if not params_to_record:\n",
    "        params_to_record = list(params_models.keys())\n",
    "    validation_folds = get_validation_folds(df_train)\n",
    "    results = defaultdict(list)\n",
    "\n",
    "    for validation_fold in validation_folds:\n",
    "        x_train= validation_fold.train\n",
    "        exp_train, y_train = x_train[exposure_name], x_train[target_name]\n",
    "        x_train.drop(columns=[exposure_name, target_name], inplace=True)\n",
    "        \n",
    "        model = model_fit_func(params_models, x_train, y_train, exp_train)\n",
    "        \n",
    "        val_data = validation_fold.validation\n",
    "        val_x = val_data.drop(columns=[exposure_name, target_name])\n",
    "        y_pred_val, y_true_val, exp_val = model.predict(val_x), val_data[target_name], val_data[exposure_name]\n",
    "        \n",
    "        if exposure_name:\n",
    "            val_loss = loss_function(y_true_val, y_pred_val, sample_weight=exp_val)\n",
    "        else:\n",
    "            val_loss = loss_function(y_true_val, y_pred_val)\n",
    "        \n",
    "        results['val_loss'].append(val_loss)\n",
    "        results['model'].append(model)\n",
    "        \n",
    "        for param_name in params_to_record:\n",
    "            results[param_name].append(params_models.get(param_name))\n",
    "    return results"
   ]
  },
  {
   "cell_type": "code",
   "execution_count": 138,
   "id": "a9b79e07",
   "metadata": {},
   "outputs": [
    {
     "data": {
      "text/plain": [
       "0.6181288519544759"
      ]
     },
     "execution_count": 138,
     "metadata": {},
     "output_type": "execute_result"
    }
   ],
   "source": [
    "x_train, x_test, y_train, y_test = train_test_split(X, claim_frequency, \n",
    "                                                    test_size=test_size, \n",
    "                                                    random_state=random_state,\n",
    "                                                   stratify=X[nb_claims_name])\n",
    "exp_train, exp_test = x_train[exposure_name], x_test[exposure_name]\n",
    "\n",
    "x_train = x_train.drop(columns=[nb_claims_name, exposure_name])\n",
    "x_test = x_test.drop(columns=[nb_claims_name, exposure_name])\n",
    "\n",
    "poisson_tree = DecisionTreeRegressor(criterion='poisson',max_depth=3, ccp_alpha=0)\n",
    "poisson_tree.fit(x_train, y_train, sample_weight=exp_train)\n",
    "mean_poisson_deviance(y_train, poisson_tree.predict(x_train),sample_weight=exp_train)"
   ]
  },
  {
   "cell_type": "code",
   "execution_count": null,
   "id": "f96812db",
   "metadata": {},
   "outputs": [],
   "source": []
  }
 ],
 "metadata": {
  "kernelspec": {
   "display_name": "Python 3 (ipykernel)",
   "language": "python",
   "name": "python3"
  },
  "language_info": {
   "codemirror_mode": {
    "name": "ipython",
    "version": 3
   },
   "file_extension": ".py",
   "mimetype": "text/x-python",
   "name": "python",
   "nbconvert_exporter": "python",
   "pygments_lexer": "ipython3",
   "version": "3.9.12"
  }
 },
 "nbformat": 4,
 "nbformat_minor": 5
}
