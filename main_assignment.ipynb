{
 "cells": [
  {
   "cell_type": "code",
   "execution_count": 1,
   "id": "e6f1eedf",
   "metadata": {},
   "outputs": [],
   "source": [
    "import numpy as np\n",
    "import pandas as pd\n",
    "from src.constants import Constants, params\n",
    "from src.styling import *\n",
    "from src.utils import *\n",
    "from src.plots import *\n",
    "import seaborn as sns\n",
    "import matplotlib.pyplot as plt\n",
    "from IPython.core.interactiveshell import InteractiveShell\n",
    "import warnings"
   ]
  },
  {
   "cell_type": "code",
   "execution_count": 2,
   "id": "1b2cc1ad",
   "metadata": {},
   "outputs": [],
   "source": [
    "warnings.filterwarnings(\"ignore\")\n",
    "pd.set_option('display.max_colwidth', 1000)\n",
    "pd.set_option('display.float_format','{:,.2f}'.format)"
   ]
  },
  {
   "cell_type": "code",
   "execution_count": 3,
   "id": "27162118",
   "metadata": {},
   "outputs": [
    {
     "data": {
      "text/html": [
       "<div>\n",
       "<style scoped>\n",
       "    .dataframe tbody tr th:only-of-type {\n",
       "        vertical-align: middle;\n",
       "    }\n",
       "\n",
       "    .dataframe tbody tr th {\n",
       "        vertical-align: top;\n",
       "    }\n",
       "\n",
       "    .dataframe thead th {\n",
       "        text-align: right;\n",
       "    }\n",
       "</style>\n",
       "<table border=\"1\" class=\"dataframe\">\n",
       "  <thead>\n",
       "    <tr style=\"text-align: right;\">\n",
       "      <th></th>\n",
       "      <th>AGEPH</th>\n",
       "      <th>CODPOSS</th>\n",
       "      <th>duree</th>\n",
       "      <th>lnexpo</th>\n",
       "      <th>nbrtotc</th>\n",
       "      <th>nbrtotan</th>\n",
       "      <th>chargtot</th>\n",
       "      <th>agecar</th>\n",
       "      <th>sexp</th>\n",
       "      <th>fuelc</th>\n",
       "      <th>split</th>\n",
       "      <th>usec</th>\n",
       "      <th>fleetc</th>\n",
       "      <th>sportc</th>\n",
       "      <th>coverp</th>\n",
       "      <th>powerc</th>\n",
       "    </tr>\n",
       "  </thead>\n",
       "  <tbody>\n",
       "    <tr>\n",
       "      <th>0</th>\n",
       "      <td>64</td>\n",
       "      <td>1000</td>\n",
       "      <td>1.00</td>\n",
       "      <td>0.00</td>\n",
       "      <td>0</td>\n",
       "      <td>0.00</td>\n",
       "      <td>0.00</td>\n",
       "      <td>2-5</td>\n",
       "      <td>Female</td>\n",
       "      <td>Petrol</td>\n",
       "      <td>Once</td>\n",
       "      <td>Private</td>\n",
       "      <td>No</td>\n",
       "      <td>No</td>\n",
       "      <td>MTPL+</td>\n",
       "      <td>66-110</td>\n",
       "    </tr>\n",
       "    <tr>\n",
       "      <th>1</th>\n",
       "      <td>28</td>\n",
       "      <td>1000</td>\n",
       "      <td>0.05</td>\n",
       "      <td>-3.07</td>\n",
       "      <td>1</td>\n",
       "      <td>21.47</td>\n",
       "      <td>155.97</td>\n",
       "      <td>6-10</td>\n",
       "      <td>Female</td>\n",
       "      <td>Petrol</td>\n",
       "      <td>Twice</td>\n",
       "      <td>Private</td>\n",
       "      <td>No</td>\n",
       "      <td>No</td>\n",
       "      <td>MTPL</td>\n",
       "      <td>66-110</td>\n",
       "    </tr>\n",
       "    <tr>\n",
       "      <th>2</th>\n",
       "      <td>58</td>\n",
       "      <td>1000</td>\n",
       "      <td>0.40</td>\n",
       "      <td>-0.91</td>\n",
       "      <td>0</td>\n",
       "      <td>0.00</td>\n",
       "      <td>0.00</td>\n",
       "      <td>&gt;10</td>\n",
       "      <td>Female</td>\n",
       "      <td>Petrol</td>\n",
       "      <td>Thrice</td>\n",
       "      <td>Private</td>\n",
       "      <td>No</td>\n",
       "      <td>No</td>\n",
       "      <td>MTPL</td>\n",
       "      <td>&lt;66</td>\n",
       "    </tr>\n",
       "    <tr>\n",
       "      <th>3</th>\n",
       "      <td>37</td>\n",
       "      <td>1030</td>\n",
       "      <td>0.17</td>\n",
       "      <td>-1.77</td>\n",
       "      <td>0</td>\n",
       "      <td>0.00</td>\n",
       "      <td>0.00</td>\n",
       "      <td>2-5</td>\n",
       "      <td>Female</td>\n",
       "      <td>Petrol</td>\n",
       "      <td>Once</td>\n",
       "      <td>Professional</td>\n",
       "      <td>No</td>\n",
       "      <td>No</td>\n",
       "      <td>MTPL+++</td>\n",
       "      <td>66-110</td>\n",
       "    </tr>\n",
       "    <tr>\n",
       "      <th>4</th>\n",
       "      <td>29</td>\n",
       "      <td>1030</td>\n",
       "      <td>1.00</td>\n",
       "      <td>0.00</td>\n",
       "      <td>0</td>\n",
       "      <td>0.00</td>\n",
       "      <td>0.00</td>\n",
       "      <td>6-10</td>\n",
       "      <td>Female</td>\n",
       "      <td>Petrol</td>\n",
       "      <td>Once</td>\n",
       "      <td>Private</td>\n",
       "      <td>No</td>\n",
       "      <td>No</td>\n",
       "      <td>MTPL+</td>\n",
       "      <td>&lt;66</td>\n",
       "    </tr>\n",
       "  </tbody>\n",
       "</table>\n",
       "</div>"
      ],
      "text/plain": [
       "   AGEPH  CODPOSS  duree  lnexpo  nbrtotc  nbrtotan  chargtot agecar    sexp  \\\n",
       "0     64     1000   1.00    0.00        0      0.00      0.00    2-5  Female   \n",
       "1     28     1000   0.05   -3.07        1     21.47    155.97   6-10  Female   \n",
       "2     58     1000   0.40   -0.91        0      0.00      0.00    >10  Female   \n",
       "3     37     1030   0.17   -1.77        0      0.00      0.00    2-5  Female   \n",
       "4     29     1030   1.00    0.00        0      0.00      0.00   6-10  Female   \n",
       "\n",
       "    fuelc   split          usec fleetc sportc   coverp  powerc  \n",
       "0  Petrol    Once       Private     No     No    MTPL+  66-110  \n",
       "1  Petrol   Twice       Private     No     No     MTPL  66-110  \n",
       "2  Petrol  Thrice       Private     No     No     MTPL     <66  \n",
       "3  Petrol    Once  Professional     No     No  MTPL+++  66-110  \n",
       "4  Petrol    Once       Private     No     No    MTPL+     <66  "
      ]
     },
     "execution_count": 3,
     "metadata": {},
     "output_type": "execute_result"
    }
   ],
   "source": [
    "df = pd.read_csv(params.get(Constants.URL_LINK_TO_DATA), delimiter = \",\")\n",
    "df.head()"
   ]
  },
  {
   "cell_type": "markdown",
   "id": "8d3f942e",
   "metadata": {},
   "source": [
    "# 1. Data Exploration"
   ]
  },
  {
   "cell_type": "code",
   "execution_count": 4,
   "id": "7751580a",
   "metadata": {},
   "outputs": [
    {
     "name": "stdout",
     "output_type": "stream",
     "text": [
      "<class 'pandas.core.frame.DataFrame'>\n",
      "RangeIndex: 163657 entries, 0 to 163656\n",
      "Data columns (total 16 columns):\n",
      " #   Column    Non-Null Count   Dtype  \n",
      "---  ------    --------------   -----  \n",
      " 0   AGEPH     163657 non-null  int64  \n",
      " 1   CODPOSS   163657 non-null  int64  \n",
      " 2   duree     163657 non-null  float64\n",
      " 3   lnexpo    163657 non-null  float64\n",
      " 4   nbrtotc   163657 non-null  int64  \n",
      " 5   nbrtotan  163657 non-null  float64\n",
      " 6   chargtot  163657 non-null  float64\n",
      " 7   agecar    163657 non-null  object \n",
      " 8   sexp      163657 non-null  object \n",
      " 9   fuelc     163657 non-null  object \n",
      " 10  split     163657 non-null  object \n",
      " 11  usec      163657 non-null  object \n",
      " 12  fleetc    163657 non-null  object \n",
      " 13  sportc    163657 non-null  object \n",
      " 14  coverp    163657 non-null  object \n",
      " 15  powerc    163657 non-null  object \n",
      "dtypes: float64(4), int64(3), object(9)\n",
      "memory usage: 20.0+ MB\n"
     ]
    }
   ],
   "source": [
    "df.info()"
   ]
  },
  {
   "cell_type": "code",
   "execution_count": 5,
   "id": "e7109a53",
   "metadata": {},
   "outputs": [
    {
     "data": {
      "text/html": [
       "<div>\n",
       "<style scoped>\n",
       "    .dataframe tbody tr th:only-of-type {\n",
       "        vertical-align: middle;\n",
       "    }\n",
       "\n",
       "    .dataframe tbody tr th {\n",
       "        vertical-align: top;\n",
       "    }\n",
       "\n",
       "    .dataframe thead th {\n",
       "        text-align: right;\n",
       "    }\n",
       "</style>\n",
       "<table border=\"1\" class=\"dataframe\">\n",
       "  <thead>\n",
       "    <tr style=\"text-align: right;\">\n",
       "      <th></th>\n",
       "      <th>AGEPH</th>\n",
       "      <th>CODPOSS</th>\n",
       "      <th>duree</th>\n",
       "      <th>lnexpo</th>\n",
       "      <th>nbrtotc</th>\n",
       "      <th>nbrtotan</th>\n",
       "      <th>chargtot</th>\n",
       "    </tr>\n",
       "  </thead>\n",
       "  <tbody>\n",
       "    <tr>\n",
       "      <th>count</th>\n",
       "      <td>163,657.00</td>\n",
       "      <td>163,657.00</td>\n",
       "      <td>163,657.00</td>\n",
       "      <td>163,657.00</td>\n",
       "      <td>163,657.00</td>\n",
       "      <td>163,657.00</td>\n",
       "      <td>163,657.00</td>\n",
       "    </tr>\n",
       "    <tr>\n",
       "      <th>mean</th>\n",
       "      <td>47.00</td>\n",
       "      <td>5,270.91</td>\n",
       "      <td>0.89</td>\n",
       "      <td>-0.21</td>\n",
       "      <td>0.12</td>\n",
       "      <td>0.16</td>\n",
       "      <td>201.10</td>\n",
       "    </tr>\n",
       "    <tr>\n",
       "      <th>std</th>\n",
       "      <td>14.83</td>\n",
       "      <td>2,687.63</td>\n",
       "      <td>0.24</td>\n",
       "      <td>0.59</td>\n",
       "      <td>0.37</td>\n",
       "      <td>0.98</td>\n",
       "      <td>5,885.39</td>\n",
       "    </tr>\n",
       "    <tr>\n",
       "      <th>min</th>\n",
       "      <td>17.00</td>\n",
       "      <td>1,000.00</td>\n",
       "      <td>0.00</td>\n",
       "      <td>-5.90</td>\n",
       "      <td>0.00</td>\n",
       "      <td>0.00</td>\n",
       "      <td>0.00</td>\n",
       "    </tr>\n",
       "    <tr>\n",
       "      <th>25%</th>\n",
       "      <td>35.00</td>\n",
       "      <td>2,900.00</td>\n",
       "      <td>1.00</td>\n",
       "      <td>0.00</td>\n",
       "      <td>0.00</td>\n",
       "      <td>0.00</td>\n",
       "      <td>0.00</td>\n",
       "    </tr>\n",
       "    <tr>\n",
       "      <th>50%</th>\n",
       "      <td>46.00</td>\n",
       "      <td>5,030.00</td>\n",
       "      <td>1.00</td>\n",
       "      <td>0.00</td>\n",
       "      <td>0.00</td>\n",
       "      <td>0.00</td>\n",
       "      <td>0.00</td>\n",
       "    </tr>\n",
       "    <tr>\n",
       "      <th>75%</th>\n",
       "      <td>58.00</td>\n",
       "      <td>7,500.00</td>\n",
       "      <td>1.00</td>\n",
       "      <td>0.00</td>\n",
       "      <td>0.00</td>\n",
       "      <td>0.00</td>\n",
       "      <td>0.00</td>\n",
       "    </tr>\n",
       "    <tr>\n",
       "      <th>max</th>\n",
       "      <td>95.00</td>\n",
       "      <td>9,990.00</td>\n",
       "      <td>1.01</td>\n",
       "      <td>0.01</td>\n",
       "      <td>5.00</td>\n",
       "      <td>182.50</td>\n",
       "      <td>1,989,567.90</td>\n",
       "    </tr>\n",
       "  </tbody>\n",
       "</table>\n",
       "</div>"
      ],
      "text/plain": [
       "           AGEPH    CODPOSS      duree     lnexpo    nbrtotc   nbrtotan  \\\n",
       "count 163,657.00 163,657.00 163,657.00 163,657.00 163,657.00 163,657.00   \n",
       "mean       47.00   5,270.91       0.89      -0.21       0.12       0.16   \n",
       "std        14.83   2,687.63       0.24       0.59       0.37       0.98   \n",
       "min        17.00   1,000.00       0.00      -5.90       0.00       0.00   \n",
       "25%        35.00   2,900.00       1.00       0.00       0.00       0.00   \n",
       "50%        46.00   5,030.00       1.00       0.00       0.00       0.00   \n",
       "75%        58.00   7,500.00       1.00       0.00       0.00       0.00   \n",
       "max        95.00   9,990.00       1.01       0.01       5.00     182.50   \n",
       "\n",
       "          chargtot  \n",
       "count   163,657.00  \n",
       "mean        201.10  \n",
       "std       5,885.39  \n",
       "min           0.00  \n",
       "25%           0.00  \n",
       "50%           0.00  \n",
       "75%           0.00  \n",
       "max   1,989,567.90  "
      ]
     },
     "execution_count": 5,
     "metadata": {},
     "output_type": "execute_result"
    }
   ],
   "source": [
    "summary = df.describe()\n",
    "summary.style.applymap(highlight_col, subset=pd.IndexSlice[['mean', 'max'], [params.get(Constants.NB_CLAIMS)]])\n",
    "summary"
   ]
  },
  {
   "cell_type": "code",
   "execution_count": 6,
   "id": "e9400118",
   "metadata": {},
   "outputs": [],
   "source": [
    "# CODPOSS should be a categorical variable as it stands for the postal code in Belgium\n",
    "df['CODPOSS'] = df.CODPOSS.astype('str')"
   ]
  },
  {
   "cell_type": "code",
   "execution_count": 7,
   "id": "9155da2d",
   "metadata": {},
   "outputs": [],
   "source": [
    "# we want to cap the maximum number of years a policyholder has with an insurer \n",
    "max_nb_anciennete = params.get(Constants.MAX_NB_ANCIENNETE)\n",
    "df['nbrtotan'] = np.select([df.nbrtotan > max_nb_anciennete, df.nbrtotan <= max_nb_anciennete], [max_nb_anciennete, df.nbrtotan ])"
   ]
  },
  {
   "cell_type": "code",
   "execution_count": 8,
   "id": "51bdac0e",
   "metadata": {},
   "outputs": [
    {
     "data": {
      "text/plain": [
       "15011   82.00\n",
       "28398   82.00\n",
       "46731   82.00\n",
       "90348   82.00\n",
       "Name: nbrtotan, dtype: float64"
      ]
     },
     "execution_count": 8,
     "metadata": {},
     "output_type": "execute_result"
    }
   ],
   "source": [
    "df.nbrtotan[df.nbrtotan==max_nb_anciennete]"
   ]
  },
  {
   "cell_type": "code",
   "execution_count": 9,
   "id": "70436623",
   "metadata": {},
   "outputs": [],
   "source": [
    "# we want to cap the maximum claim amount\n",
    "max_claim_amount = params.get(Constants.MAX_CLAIM_AMOUNT)\n",
    "df['chargtot'] = np.select([df.chargtot > max_claim_amount, df.chargtot <= max_claim_amount], [max_claim_amount, df.chargtot])"
   ]
  },
  {
   "cell_type": "code",
   "execution_count": 10,
   "id": "c5c4f9ed",
   "metadata": {},
   "outputs": [
    {
     "data": {
      "text/plain": [
       "11748   500,000.00\n",
       "Name: chargtot, dtype: float64"
      ]
     },
     "execution_count": 10,
     "metadata": {},
     "output_type": "execute_result"
    }
   ],
   "source": [
    "df.chargtot[df.chargtot==max_claim_amount]"
   ]
  },
  {
   "cell_type": "code",
   "execution_count": 11,
   "id": "3763edd0",
   "metadata": {},
   "outputs": [
    {
     "data": {
      "text/html": [
       "<div>\n",
       "<style scoped>\n",
       "    .dataframe tbody tr th:only-of-type {\n",
       "        vertical-align: middle;\n",
       "    }\n",
       "\n",
       "    .dataframe tbody tr th {\n",
       "        vertical-align: top;\n",
       "    }\n",
       "\n",
       "    .dataframe thead th {\n",
       "        text-align: right;\n",
       "    }\n",
       "</style>\n",
       "<table border=\"1\" class=\"dataframe\">\n",
       "  <thead>\n",
       "    <tr style=\"text-align: right;\">\n",
       "      <th></th>\n",
       "      <th>nb_unique_categories</th>\n",
       "      <th>distribution</th>\n",
       "    </tr>\n",
       "  </thead>\n",
       "  <tbody>\n",
       "    <tr>\n",
       "      <th>CODPOSS</th>\n",
       "      <td>583</td>\n",
       "      <td>{'6000': '3.08%', '2000': '2.86%', '9000': '2.14%', '4000': '1.61%', '7100': '1.39%', '7000': '1.25%', '7500': '0.97%', '5000': '0.94%', '3000': '0.89%', '8000': '0.88%', '4100': '0.85%', '2800': '0.82%', '8400': '0.77%', '1000': '0.72%', '8500': '0.72%', '6200': '0.71%', '9300': '0.71%', '7060': '0.70%', '6180': '0.69%', '4040': '0.65%', '7800': '0.65%', '9100': '0.64%', '1070': '0.64%', '7330': '0.63%', '7130': '0.63%', '1030': '0.57%', '9600': '0.57%', '1800': '0.56%', '1480': '0.56%', '8800': '0.55%', '8930': '0.55%', '4800': '0.53%', '7700': '0.52%', '1180': '0.51%', '7370': '0.51%', '5300': '0.50%', '8940': '0.50%', '7300': '0.48%', '7860': '0.47%', '1420': '0.46%', '1080': '0.45%', '2830': '0.44%', '5060': '0.44%', '6790': '0.43%', '6220': '0.43%', '3600': '0.43%', '2880': '0.42%', '7340': '0.41%', '3630': '0.41%', '8790': '0.41%', '3700': '0.40%', '4400': '0.40%', '1050': '0.39%', '4630': '0.39%', '4680': '0.39%', '4430': '0.38%', '3300': '0.38%', '3500': '0.38%', '7080': '...</td>\n",
       "    </tr>\n",
       "    <tr>\n",
       "      <th>agecar</th>\n",
       "      <td>4</td>\n",
       "      <td>{'6-10': '41.03%', '2-5': '31.50%', '&gt;10': '22.72%', '0-1': '4.75%'}</td>\n",
       "    </tr>\n",
       "    <tr>\n",
       "      <th>sexp</th>\n",
       "      <td>2</td>\n",
       "      <td>{'Male': '73.59%', 'Female': '26.41%'}</td>\n",
       "    </tr>\n",
       "    <tr>\n",
       "      <th>fuelc</th>\n",
       "      <td>2</td>\n",
       "      <td>{'Petrol': '69.18%', 'Gasoil': '30.82%'}</td>\n",
       "    </tr>\n",
       "    <tr>\n",
       "      <th>split</th>\n",
       "      <td>4</td>\n",
       "      <td>{'Once': '49.79%', 'Twice': '28.08%', 'Monthly': '14.42%', 'Thrice': '7.71%'}</td>\n",
       "    </tr>\n",
       "    <tr>\n",
       "      <th>usec</th>\n",
       "      <td>2</td>\n",
       "      <td>{'Private': '95.11%', 'Professional': '4.89%'}</td>\n",
       "    </tr>\n",
       "    <tr>\n",
       "      <th>fleetc</th>\n",
       "      <td>2</td>\n",
       "      <td>{'No': '96.80%', 'Yes': '3.20%'}</td>\n",
       "    </tr>\n",
       "    <tr>\n",
       "      <th>sportc</th>\n",
       "      <td>2</td>\n",
       "      <td>{'No': '99.08%', 'Yes': '0.92%'}</td>\n",
       "    </tr>\n",
       "    <tr>\n",
       "      <th>coverp</th>\n",
       "      <td>3</td>\n",
       "      <td>{'MTPL': '58.30%', 'MTPL+': '28.15%', 'MTPL+++': '13.55%'}</td>\n",
       "    </tr>\n",
       "    <tr>\n",
       "      <th>powerc</th>\n",
       "      <td>3</td>\n",
       "      <td>{'&lt;66': '73.21%', '66-110': '25.78%', '&gt;110': '1.01%'}</td>\n",
       "    </tr>\n",
       "  </tbody>\n",
       "</table>\n",
       "</div>"
      ],
      "text/plain": [
       "         nb_unique_categories  \\\n",
       "CODPOSS                   583   \n",
       "agecar                      4   \n",
       "sexp                        2   \n",
       "fuelc                       2   \n",
       "split                       4   \n",
       "usec                        2   \n",
       "fleetc                      2   \n",
       "sportc                      2   \n",
       "coverp                      3   \n",
       "powerc                      3   \n",
       "\n",
       "                                                                                                                                                                                                                                                                                                                                                                                                                                                                                                                                                                                                                                                                                                                                                                                                                                                                                                                                                                                                                                    distribution  \n",
       "CODPOSS  {'6000': '3.08%', '2000': '2.86%', '9000': '2.14%', '4000': '1.61%', '7100': '1.39%', '7000': '1.25%', '7500': '0.97%', '5000': '0.94%', '3000': '0.89%', '8000': '0.88%', '4100': '0.85%', '2800': '0.82%', '8400': '0.77%', '1000': '0.72%', '8500': '0.72%', '6200': '0.71%', '9300': '0.71%', '7060': '0.70%', '6180': '0.69%', '4040': '0.65%', '7800': '0.65%', '9100': '0.64%', '1070': '0.64%', '7330': '0.63%', '7130': '0.63%', '1030': '0.57%', '9600': '0.57%', '1800': '0.56%', '1480': '0.56%', '8800': '0.55%', '8930': '0.55%', '4800': '0.53%', '7700': '0.52%', '1180': '0.51%', '7370': '0.51%', '5300': '0.50%', '8940': '0.50%', '7300': '0.48%', '7860': '0.47%', '1420': '0.46%', '1080': '0.45%', '2830': '0.44%', '5060': '0.44%', '6790': '0.43%', '6220': '0.43%', '3600': '0.43%', '2880': '0.42%', '7340': '0.41%', '3630': '0.41%', '8790': '0.41%', '3700': '0.40%', '4400': '0.40%', '1050': '0.39%', '4630': '0.39%', '4680': '0.39%', '4430': '0.38%', '3300': '0.38%', '3500': '0.38%', '7080': '...  \n",
       "agecar                                                                                                                                                                                                                                                                                                                                                                                                                                                                                                                                                                                                                                                                                                                                                                                                                                                                                                                                                                      {'6-10': '41.03%', '2-5': '31.50%', '>10': '22.72%', '0-1': '4.75%'}  \n",
       "sexp                                                                                                                                                                                                                                                                                                                                                                                                                                                                                                                                                                                                                                                                                                                                                                                                                                                                                                                                                                                                      {'Male': '73.59%', 'Female': '26.41%'}  \n",
       "fuelc                                                                                                                                                                                                                                                                                                                                                                                                                                                                                                                                                                                                                                                                                                                                                                                                                                                                                                                                                                                                   {'Petrol': '69.18%', 'Gasoil': '30.82%'}  \n",
       "split                                                                                                                                                                                                                                                                                                                                                                                                                                                                                                                                                                                                                                                                                                                                                                                                                                                                                                                                                              {'Once': '49.79%', 'Twice': '28.08%', 'Monthly': '14.42%', 'Thrice': '7.71%'}  \n",
       "usec                                                                                                                                                                                                                                                                                                                                                                                                                                                                                                                                                                                                                                                                                                                                                                                                                                                                                                                                                                                              {'Private': '95.11%', 'Professional': '4.89%'}  \n",
       "fleetc                                                                                                                                                                                                                                                                                                                                                                                                                                                                                                                                                                                                                                                                                                                                                                                                                                                                                                                                                                                                          {'No': '96.80%', 'Yes': '3.20%'}  \n",
       "sportc                                                                                                                                                                                                                                                                                                                                                                                                                                                                                                                                                                                                                                                                                                                                                                                                                                                                                                                                                                                                          {'No': '99.08%', 'Yes': '0.92%'}  \n",
       "coverp                                                                                                                                                                                                                                                                                                                                                                                                                                                                                                                                                                                                                                                                                                                                                                                                                                                                                                                                                                                {'MTPL': '58.30%', 'MTPL+': '28.15%', 'MTPL+++': '13.55%'}  \n",
       "powerc                                                                                                                                                                                                                                                                                                                                                                                                                                                                                                                                                                                                                                                                                                                                                                                                                                                                                                                                                                                    {'<66': '73.21%', '66-110': '25.78%', '>110': '1.01%'}  "
      ]
     },
     "execution_count": 11,
     "metadata": {},
     "output_type": "execute_result"
    }
   ],
   "source": [
    "# check how many categories for categorical variables\n",
    "info_categories = get_distribution_info_for_categorical_variables(df)\n",
    "info_categories"
   ]
  },
  {
   "cell_type": "markdown",
   "id": "e048b7d3",
   "metadata": {},
   "source": [
    "#### reduce the lower number of categories "
   ]
  },
  {
   "cell_type": "markdown",
   "id": "2878432a",
   "metadata": {},
   "source": [
    "## 1.1 univariate analysis of numerical data"
   ]
  },
  {
   "cell_type": "code",
   "execution_count": 12,
   "id": "349697e9",
   "metadata": {},
   "outputs": [
    {
     "data": {
      "text/plain": [
       "['AGEPH', 'duree', 'lnexpo', 'nbrtotc', 'nbrtotan', 'chargtot']"
      ]
     },
     "execution_count": 12,
     "metadata": {},
     "output_type": "execute_result"
    }
   ],
   "source": [
    "numerical_variables = list(df.select_dtypes(exclude=['object']).columns)\n",
    "numerical_variables"
   ]
  },
  {
   "cell_type": "code",
   "execution_count": null,
   "id": "de5c64e6",
   "metadata": {},
   "outputs": [
    {
     "data": {
      "image/png": "[encoded data removed]",
      "text/plain": [
       "<Figure size 432x288 with 1 Axes>"
      ]
     },
     "metadata": {
      "needs_background": "light"
     },
     "output_type": "display_data"
    },
    {
     "data": {
      "image/png": "[encoded data removed]",
      "text/plain": [
       "<Figure size 432x288 with 1 Axes>"
      ]
     },
     "metadata": {
      "needs_background": "light"
     },
     "output_type": "display_data"
    },
    {
     "data": {
      "image/png": "[encoded data removed]",
      "text/plain": [
       "<Figure size 432x288 with 1 Axes>"
      ]
     },
     "metadata": {
      "needs_background": "light"
     },
     "output_type": "display_data"
    }
   ],
   "source": [
    "plot_univariate_numerical_variables_distribution(df, numerical_variables, params)"
   ]
  },
  {
   "cell_type": "markdown",
   "id": "7ec53432",
   "metadata": {},
   "source": [
    "## 1.2 univariate analysis of categorical data"
   ]
  },
  {
   "cell_type": "code",
   "execution_count": null,
   "id": "5058b2a1",
   "metadata": {},
   "outputs": [],
   "source": [
    "categorical_variables = list(df.select_dtypes(include=['object']).columns)\n",
    "categorical_variables"
   ]
  },
  {
   "cell_type": "code",
   "execution_count": null,
   "id": "6407157e",
   "metadata": {},
   "outputs": [],
   "source": [
    "plot_univariate_categorical_variables_distribution(df, categorical_variables, params)"
   ]
  },
  {
   "cell_type": "markdown",
   "id": "6592e370",
   "metadata": {},
   "source": [
    "## 1.3 bivariate analysis of numerical data"
   ]
  },
  {
   "cell_type": "code",
   "execution_count": null,
   "id": "b926049f",
   "metadata": {},
   "outputs": [],
   "source": [
    "nb_claims, claim_amount = params.get(Constants.NB_CLAIMS), params.get(Constants.CLAIM_AMOUNT)"
   ]
  },
  {
   "cell_type": "code",
   "execution_count": null,
   "id": "6d758cd1",
   "metadata": {},
   "outputs": [],
   "source": [
    "plot_avg_target_per_numerical_bin(df, numerical_variables, params)"
   ]
  },
  {
   "cell_type": "code",
   "execution_count": null,
   "id": "a9918126",
   "metadata": {},
   "outputs": [],
   "source": [
    "get_avg_target_per_numerical_bin(df, 'AGEPH', [nb_claims, claim_amount])"
   ]
  },
  {
   "cell_type": "code",
   "execution_count": null,
   "id": "f592cf14",
   "metadata": {},
   "outputs": [],
   "source": [
    "get_avg_target_per_numerical_bin(df, 'nbrtotan', [nb_claims, claim_amount])"
   ]
  },
  {
   "cell_type": "markdown",
   "id": "59a9c837",
   "metadata": {},
   "source": [
    "## 1.4 bivariate analysis of categorical data"
   ]
  },
  {
   "cell_type": "code",
   "execution_count": null,
   "id": "c207afcc",
   "metadata": {},
   "outputs": [],
   "source": [
    "plt_avg_target_per_category(df, categorical_variables, params)"
   ]
  },
  {
   "cell_type": "code",
   "execution_count": null,
   "id": "dc6729b1",
   "metadata": {},
   "outputs": [],
   "source": [
    "for cat_var in categorical_variables:\n",
    "    print(df.groupby(cat_var)[[nb_claims, claim_amount]].mean().sort_values(by=[nb_claims, claim_amount], ascending=False))\n",
    "    print('-'*100)"
   ]
  },
  {
   "cell_type": "markdown",
   "id": "619cb815",
   "metadata": {},
   "source": [
    "# 2. Feature Engineering"
   ]
  },
  {
   "cell_type": "markdown",
   "id": "5fbb5db6",
   "metadata": {},
   "source": [
    "# 3. Modelling"
   ]
  },
  {
   "cell_type": "code",
   "execution_count": null,
   "id": "3577bc64",
   "metadata": {},
   "outputs": [],
   "source": []
  },
  {
   "cell_type": "code",
   "execution_count": null,
   "id": "752f5445",
   "metadata": {},
   "outputs": [],
   "source": []
  },
  {
   "cell_type": "code",
   "execution_count": null,
   "id": "f489c0b4",
   "metadata": {},
   "outputs": [],
   "source": []
  },
  {
   "cell_type": "code",
   "execution_count": null,
   "id": "686c59f0",
   "metadata": {},
   "outputs": [],
   "source": []
  }
 ],
 "metadata": {
  "kernelspec": {
   "display_name": "Python 3 (ipykernel)",
   "language": "python",
   "name": "python3"
  },
  "language_info": {
   "codemirror_mode": {
    "name": "ipython",
    "version": 3
   },
   "file_extension": ".py",
   "mimetype": "text/x-python",
   "name": "python",
   "nbconvert_exporter": "python",
   "pygments_lexer": "ipython3",
   "version": "3.9.7"
  }
 },
 "nbformat": 4,
 "nbformat_minor": 5
}
